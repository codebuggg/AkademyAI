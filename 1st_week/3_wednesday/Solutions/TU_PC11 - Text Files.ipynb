{
 "cells": [
  {
   "cell_type": "markdown",
   "metadata": {},
   "source": [
    "# Chapter 11 - Text Files"
   ]
  },
  {
   "cell_type": "markdown",
   "metadata": {},
   "source": [
    "---"
   ]
  },
  {
   "cell_type": "markdown",
   "metadata": {},
   "source": [
    "One of the most important uses of Python for data processing is the reading, changing, and writing of text files. Data is often stored in text files, because text files can be easily transferred between different programs. There are multiple standardized formats for text files, such as \"comma-separated values\" (CSV) files. Python supports particular text file formats through modules, some of which will be discussed later. This chapter focusses on opening, reading, writing, and closing of any text file, regardless of format. "
   ]
  },
  {
   "cell_type": "markdown",
   "metadata": {},
   "source": [
    "---"
   ]
  },
  {
   "cell_type": "markdown",
   "metadata": {},
   "source": [
    "## Flat text files"
   ]
  },
  {
   "cell_type": "markdown",
   "metadata": {},
   "source": [
    "When programmers refer to \"text files\" or \"flat text files\", they mean files in which all characters are meant to be read as regular characters, like you would type on a keyboard. For instance, Python program files are flat text files, as are HTML files. Word processor documents, however, are not flat text files, and neither are images. If you want to know whether a file is a text file or not, you can try to open it in a text editor (such as the editor for the IDLE environment, which comes with Python). If you see only readable text, the file is likely to be a text file. Otherwise, it is a so-called \"binary file\".\n",
    "\n",
    "Text files consist of lines of text. At the end of a line, there is a \"newline\" symbol, which in Python is the character \"`\\n`\". Different operating systems use slightly different ways of storing this character in a text file: some Windows programs store it as \"carriage return\", as well as \"line feed\" (\"`\\r\\n`\", sometimes thought as a leftover from old typewriters), while on Linux it is always stored as a single \"`\\n`\". As long as you access a file from Python as a regular text file, Python will convert the characters that it reads to the standard \"`\\n`\", and vice versa when it writes. So you do not usually need to worry about such differences (except when you need to transfer text files between operating systems).\n",
    "\n",
    "However; if you open a file in other editors, such as notepad, sometimes it does not properly understand the end-of-line characters, and shows everything on one line."
   ]
  },
  {
   "cell_type": "markdown",
   "metadata": {},
   "source": [
    "### File handles and pointers"
   ]
  },
  {
   "cell_type": "markdown",
   "metadata": {},
   "source": [
    "When you work with a file in a program, you have to open the file. Opening a file provides a so-called \"file handle\". A file handle can be seen as an access point to the file. It contains a \"pointer\" that indicates a particular place in the file. That pointer is used when you read from or write to the file. For instance, when you read from the file, it starts reading at the pointer, and moves the pointer forward in the file.\n",
    "\n",
    "When you open a file, the pointer is placed at a particular spot in the file, depending on how you opened the file. If you opened the file for reading only, the pointer is placed at the start of the file. The same is true when you open the file for both reading and writing. If you open the file for \"appending\" (i.e., to place new data at the file's end), the file pointer is positioned at the end of the file. Lastly, if you open a file for writing only, actually the file is completely emptied and the file pointer is placed at the start of the, now empty, file. To create a new file (i.e., a file with a name that does not exist yet), you open it for \"writing only\".\n",
    "\n",
    "After opening the file, the file handle is the only access point for the file. All actions you perform on the file, you perform as methods for the file handle.\n",
    "\n",
    "Note that any operating system only allows a limited number of files to be open simultaneously. Therefore you should close files that you no longer need to work with."
   ]
  },
  {
   "cell_type": "markdown",
   "metadata": {},
   "source": [
    "### Moving the file pointer"
   ]
  },
  {
   "cell_type": "markdown",
   "metadata": {},
   "source": [
    "The file pointer, that indicates where in a file you are working, is moved automatically. For instance, when you read 10 characters from a file, the file pointer indicates which is the first of those 10 characters, and, while reading, moves up 10 characters, so that its new position is 10 characters further in the file than before. When you deal with text files, the automatic movements of the file pointer are exactly what you want. You *can* position the file pointer manually using specific methods, but such methods are, in general, only used when dealing with binary files. "
   ]
  },
  {
   "cell_type": "markdown",
   "metadata": {},
   "source": [
    "### Buffering"
   ]
  },
  {
   "cell_type": "markdown",
   "metadata": {},
   "source": [
    "When you make changes to files, these often are not stored in the files immediately. Instead, the operating system \"buffers\" the changes in memory, and \"flushes\" the buffers to the actual files when it sees a need for that. You can force the flushing of the buffers by closing a file. Buffers are also flushed when your program ends normally.\n",
    "\n",
    "However, when your program crashes (for instance because of a runtime error), buffers might not be flushed, and your files will not be updated to the point where the crash took place. So you cannot take the file contents into account when trying to debug a program."
   ]
  },
  {
   "cell_type": "markdown",
   "metadata": {},
   "source": [
    "### File processing programs"
   ]
  },
  {
   "cell_type": "markdown",
   "metadata": {},
   "source": [
    "Most programs that deal with text files follow a process that, in a loop, reads contents of a file, processes those contents in some way, then writes the contents to another file. For instance, a program might read lines from a text file, and for each line sort the words, then write the sorted words to another text file. This is hardly any different from a program that asks the user the provide, in a loop, a line of text, then sorts the words in the line, and displays them using the `print()` function. \n",
    "\n",
    "However, it tends to be experienced as more complicated.\n",
    "\n",
    "When you provide input to a program manually, and see it displaying outputs, you always know more or less what lines of your code Python is processing, and you can make up tests on the fly. If you work with files, you have to prepare your files beforehand, then run the program and wait until it finishes before you can examine the contents of the output files. \n",
    "\n",
    "While working with files might give a sense of lack of control, during development of the program you can always include `print()` statements to get an insight in what the program is doing. For instance, when it reads a line, you can print that line, and when it writes a line, you can also print that line. That way, your insight in the inner workings of the program is no different regardless whether you use manual inputs and screen outputs, or file inputs and outputs."
   ]
  },
  {
   "cell_type": "markdown",
   "metadata": {},
   "source": [
    "---"
   ]
  },
  {
   "cell_type": "markdown",
   "metadata": {},
   "source": [
    "## Reading text files"
   ]
  },
  {
   "cell_type": "markdown",
   "metadata": {},
   "source": [
    "To read the contents of a file, you must first open it, then read the contents, then close it."
   ]
  },
  {
   "cell_type": "markdown",
   "metadata": {},
   "source": [
    "### Opening a file using `open()`"
   ]
  },
  {
   "cell_type": "markdown",
   "metadata": {},
   "source": [
    "To open a file, you use the `open()` function. \n",
    "\n",
    "The `open()` function gets two arguments, of which the second one is optional. The first argument is the name of the file. If the file is not in the current directory, you have to include the complete path to the file so that Python can find it. The second argument is the \"mode\". The mode indicates how you want to treat the file. The default mode (which is picked when you do not supply the second argument) is opening the file as a text file for reading only. How you set other modes is discussed later.\n",
    "\n",
    "The `open()` function returns a file handle, which you use for all the remaining functionalities.\n",
    "\n",
    "Rather than writing \"`<handle> = open( <filename> )`\", you will often see Python programs that write this as \"`open( <filename> ) as <handle>`\". These two ways of writing code are equivalent. I myself prefer the first, as that is the way it is done in most programming languages. However, the second method has an advantage that I discuss below, when talking about closing a file."
   ]
  },
  {
   "cell_type": "markdown",
   "metadata": {},
   "source": [
    "### Reading a file using `read()`"
   ]
  },
  {
   "cell_type": "markdown",
   "metadata": {},
   "source": [
    "The simplest way to read the contents of a file is using the `read()` method, without arguments, on the file handle. This returns a string that contains the complete contents of the file. `read()` can get an argument, but that's only used for binary files.\n",
    "\n",
    "Reading from a file moves the file pointer to right after the part of the file that was read. This means that if you use the `read()` method without arguments, the file pointer is moved to the end of the file. This entails that if you would try to `read()` from it a second time, nothing would be read, as there is nothing to be read after the spot where the file pointer is."
   ]
  },
  {
   "cell_type": "markdown",
   "metadata": {},
   "source": [
    "### Closing a file using `close()`"
   ]
  },
  {
   "cell_type": "markdown",
   "metadata": {},
   "source": [
    "To close a file, you use the `close()` method on the file handle. Every file that you open, you should close at some point in your program. This is especially true in these notebooks, as each notebook page is considered to be one complete program; this means that if you do not close a file, it remains open even after the bit of code that you executed ends.\n",
    "\n",
    "If everything that you need to do with a file is done in a single block, you can write this block as follows:\n",
    "\n",
    "    with open( <filename> ) as <handle>:\n",
    "        <statements>\n",
    "        \n",
    "This syntactic construction has the advantage that the file will be closed automatically after the block `<statements>` ends, so you do not need to include an explicit `close()` call. This construction is typically Python; you do not see it in many other programming languages."
   ]
  },
  {
   "cell_type": "markdown",
   "metadata": {},
   "source": [
    "### Displaying the contents of a file"
   ]
  },
  {
   "cell_type": "markdown",
   "metadata": {},
   "source": [
    "Now the first few functions and methods for dealing with text files have been introduced, I can show some code that reads the contents of a file."
   ]
  },
  {
   "cell_type": "code",
   "execution_count": 54,
   "metadata": {},
   "outputs": [
    {
     "name": "stdout",
     "output_type": "stream",
     "text": [
      "THE CASK OF AMONTILLADO.\n",
      "\n",
      "THE thousand injuries of Fortunato I had borne as I best could; but\n",
      "when he ventured upon insult, I vowed revenge. You, who so well know the\n",
      "nature of my soul, will not suppose, however, that I gave utterance to\n",
      "a threat. _At length_ I would be avenged; this was a point definitively\n",
      "settled--but the very definitiveness with which it was resolved,\n",
      "precluded the idea of risk. I must not only punish, but punish with\n",
      "impunity. A wrong is unredressed when retribution overtakes its\n",
      "redresser. It is equally unredressed when the avenger fails to make\n",
      "himself felt as such to him who has done the wrong.\n",
      "\n",
      "It must be understood, that neither by word nor deed had I given\n",
      "Fortunato cause to doubt my good will. I continued, as was my wont, to\n",
      "smile in his face, and he did not perceive that my smile _now_ was at\n",
      "the thought of his immolation.\n",
      "\n",
      "He had a weak point--this Fortunato--although in other regards he was\n",
      "a man to be respected and even feared. He prided himself on his\n",
      "connoisseurship in wine. Few Italians have the true virtuoso spirit.\n",
      "For the most part their enthusiasm is adopted to suit the time and\n",
      "opportunity--to practise imposture upon the British and Austrian\n",
      "_millionaires_. In painting and gemmary, Fortunato, like his countrymen,\n",
      "was a quack--but in the matter of old wines he was sincere. In this\n",
      "respect I did not differ from him materially: I was skilful in the\n",
      "Italian vintages myself, and bought largely whenever I could.\n",
      "\n",
      "It was about dusk, one evening during the supreme madness of the\n",
      "carnival season, that I encountered my friend. He accosted me with\n",
      "excessive warmth, for he had been drinking much. The man wore motley. He\n",
      "had on a tight-fitting parti-striped dress, and his head was surmounted\n",
      "by the conical cap and bells. I was so pleased to see him, that I\n",
      "thought I should never have done wringing his hand.\n",
      "\n",
      "I said to him--\"My dear Fortunato, you are luckily met. How remarkably\n",
      "well you are looking to-day! But I have received a pipe of what passes\n",
      "for Amontillado, and I have my doubts.\"\n",
      "\n",
      "\"How?\" said he. \"Amontillado? A pipe? Impossible! And in the middle of\n",
      "the carnival!\"\n",
      "\n",
      "\"I have my doubts,\" I replied; \"and I was silly enough to pay the full\n",
      "Amontillado price without consulting you in the matter. You were not to\n",
      "be found, and I was fearful of losing a bargain.\"\n",
      "\n",
      "\"Amontillado!\"\n",
      "\n",
      "\"I have my doubts.\"\n",
      "\n",
      "\"Amontillado!\"\n",
      "\n",
      "\"And I must satisfy them.\"\n",
      "\n",
      "\"Amontillado!\"\n",
      "\n",
      "\"As you are engaged, I am on my way to Luchesi. If any one has a\n",
      "critical turn, it is he. He will tell me--\"\n",
      "\n",
      "\"Luchesi cannot tell Amontillado from Sherry.\"\n",
      "\n",
      "\"And yet some fools will have it that his taste is a match for your\n",
      "own.\"\n",
      "\n",
      "\"Come, let us go.\"\n",
      "\n",
      "\"Whither?\"\n",
      "\n",
      "\"To your vaults.\"\n",
      "\n",
      "\"My friend, no; I will not impose upon your good nature. I perceive you\n",
      "have an engagement. Luchesi--\"\n",
      "\n",
      "\"I have no engagement;--come.\"\n",
      "\n",
      "\"My friend, no. It is not the engagement, but the severe cold with which\n",
      "I perceive you are afflicted. The vaults are insufferably damp. They are\n",
      "encrusted with nitre.\"\n",
      "\n",
      "\"Let us go, nevertheless. The cold is merely nothing. Amontillado! You\n",
      "have been imposed upon. And as for Luchesi, he cannot distinguish Sherry\n",
      "from Amontillado.\"\n",
      "\n",
      "Thus speaking, Fortunato possessed himself of my arm. Putting on a mask\n",
      "of black silk, and drawing a _roquelaire_ closely about my person, I\n",
      "suffered him to hurry me to my palazzo.\n",
      "\n",
      "There were no attendants at home; they had absconded to make merry in\n",
      "honor of the time. I had told them that I should not return until the\n",
      "morning, and had given them explicit orders not to stir from the house.\n",
      "These orders were sufficient, I well knew, to insure their immediate\n",
      "disappearance, one and all, as soon as my back was turned.\n",
      "\n",
      "I took from their sconces two flambeaux, and giving one to Fortunato,\n",
      "bowed him through several suites of rooms to the archway that led into\n",
      "the vaults. I passed down a long and winding staircase, requesting him\n",
      "to be cautious as he followed. We came at length to the foot of the\n",
      "descent, and stood together on the damp ground of the catacombs of the\n",
      "Montresors.\n",
      "\n",
      "The gait of my friend was unsteady, and the bells upon his cap jingled\n",
      "as he strode.\n",
      "\n",
      "\"The pipe,\" said he.\n",
      "\n",
      "\"It is farther on,\" said I; \"but observe the white web-work which gleams\n",
      "from these cavern walls.\"\n",
      "\n",
      "He turned towards me, and looked into my eyes with two filmy orbs that\n",
      "distilled the rheum of intoxication.\n",
      "\n",
      "\"Nitre?\" he asked, at length.\n",
      "\n",
      "\"Nitre,\" I replied. \"How long have you had that cough?\"\n",
      "\n",
      "\"Ugh! ugh! ugh!--ugh! ugh! ugh!--ugh! ugh! ugh!--ugh! ugh! ugh!--ugh!\n",
      "ugh! ugh!\"\n",
      "\n",
      "My poor friend found it impossible to reply for many minutes.\n",
      "\n",
      "\"It is nothing,\" he said, at last.\n",
      "\n",
      "\"Come,\" I said, with decision, \"we will go back; your health is\n",
      "precious. You are rich, respected, admired, beloved; you are happy, as\n",
      "once I was. You are a man to be missed. For me it is no matter. We will\n",
      "go back; you will be ill, and I cannot be responsible. Besides, there is\n",
      "Luchesi--\"\n",
      "\n",
      "\"Enough,\" he said; \"the cough is a mere nothing; it will not kill me. I\n",
      "shall not die of a cough.\"\n",
      "\n",
      "\"True--true,\" I replied; \"and, indeed, I had no intention of alarming\n",
      "you unnecessarily--but you should use all proper caution. A draught of\n",
      "this Medoc will defend us from the damps.\"\n",
      "\n",
      "Here I knocked off the neck of a bottle which I drew from a long row of\n",
      "its fellows that lay upon the mould.\n",
      "\n",
      "\"Drink,\" I said, presenting him the wine.\n",
      "\n",
      "He raised it to his lips with a leer. He paused and nodded to me\n",
      "familiarly, while his bells jingled.\n",
      "\n",
      "\"I drink,\" he said, \"to the buried that repose around us.\"\n",
      "\n",
      "\"And I to your long life.\"\n",
      "\n",
      "He again took my arm, and we proceeded.\n",
      "\n",
      "\"These vaults,\" he said, \"are extensive.\"\n",
      "\n",
      "\"The Montresors,\" I replied, \"were a great and numerous family.\"\n",
      "\n",
      "\"I forget your arms.\"\n",
      "\n",
      "\"A huge human foot d'or, in a field azure; the foot crushes a serpent\n",
      "rampant whose fangs are imbedded in the heel.\"\n",
      "\n",
      "\"And the motto?\"\n",
      "\n",
      "\"_Nemo me impune lacessit_.\"\n",
      "\n",
      "\"Good!\" he said.\n",
      "\n",
      "The wine sparkled in his eyes and the bells jingled. My own fancy grew\n",
      "warm with the Medoc. We had passed through walls of piled bones, with\n",
      "casks and puncheons intermingling, into the inmost recesses of the\n",
      "catacombs. I paused again, and this time I made bold to seize Fortunato\n",
      "by an arm above the elbow.\n",
      "\n",
      "\"The nitre!\" I said: \"see, it increases. It hangs like moss upon the\n",
      "vaults. We are below the river's bed. The drops of moisture trickle\n",
      "among the bones. Come, we will go back ere it is too late. Your cough--\"\n",
      "\n",
      "\"It is nothing,\" he said; \"let us go on. But first, another draught of\n",
      "the Medoc.\"\n",
      "\n",
      "I broke and reached him a flagon of De Grave. He emptied it at a breath.\n",
      "His eyes flashed with a fierce light. He laughed and threw the bottle\n",
      "upwards with a gesticulation I did not understand.\n",
      "\n",
      "I looked at him in surprise. He repeated the movement--a grotesque one.\n",
      "\n",
      "\"You do not comprehend?\" he said.\n",
      "\n",
      "\"Not I,\" I replied.\n",
      "\n",
      "\"Then you are not of the brotherhood.\"\n",
      "\n",
      "\"How?\"\n",
      "\n",
      "\"You are not of the masons.\"\n",
      "\n",
      "\"Yes, yes,\" I said, \"yes, yes.\"\n",
      "\n",
      "\"You? Impossible! A mason?\"\n",
      "\n",
      "\"A mason,\" I replied.\n",
      "\n",
      "\"A sign,\" he said.\n",
      "\n",
      "\"It is this,\" I answered, producing a trowel from beneath the folds of\n",
      "my _roquelaire_.\n",
      "\n",
      "\"You jest,\" he exclaimed, recoiling a few paces. \"But let us proceed to\n",
      "the Amontillado.\"\n",
      "\n",
      "\"Be it so,\" I said, replacing the tool beneath the cloak, and again\n",
      "offering him my arm. He leaned upon it heavily. We continued our route\n",
      "in search of the Amontillado. We passed through a range of low arches,\n",
      "descended, passed on, and descending again, arrived at a deep crypt, in\n",
      "which the foulness of the air caused our flambeaux rather to glow than\n",
      "flame.\n",
      "\n",
      "At the most remote end of the crypt there appeared another less\n",
      "spacious. Its walls had been lined with human remains, piled to the\n",
      "vault overhead, in the fashion of the great catacombs of Paris. Three\n",
      "sides of this interior crypt were still ornamented in this manner. From\n",
      "the fourth the bones had been thrown down, and lay promiscuously upon\n",
      "the earth, forming at one point a mound of some size. Within the wall\n",
      "thus exposed by the displacing of the bones, we perceived a still\n",
      "interior recess, in depth about four feet, in width three, in height\n",
      "six or seven. It seemed to have been constructed for no especial use\n",
      "in itself, but formed merely the interval between two of the colossal\n",
      "supports of the roof of the catacombs, and was backed by one of their\n",
      "circumscribing walls of solid granite.\n",
      "\n",
      "It was in vain that Fortunato, uplifting his dull torch, endeavored to\n",
      "pry into the depths of the recess. Its termination the feeble light did\n",
      "not enable us to see.\n",
      "\n",
      "\"Proceed,\" I said; \"herein is the Amontillado. As for Luchesi--\"\n",
      "\n",
      "\"He is an ignoramus,\" interrupted my friend, as he stepped unsteadily\n",
      "forward, while I followed immediately at his heels. In an instant he had\n",
      "reached the extremity of the niche, and finding his progress arrested\n",
      "by the rock, stood stupidly bewildered. A moment more and I had fettered\n",
      "him to the granite. In its surface were two iron staples, distant from\n",
      "each other about two feet, horizontally. From one of these depended\n",
      "a short chain, from the other a padlock. Throwing the links about his\n",
      "waist, it was but the work of a few seconds to secure it. He was too\n",
      "much astounded to resist. Withdrawing the key I stepped back from the\n",
      "recess.\n",
      "\n",
      "\"Pass your hand,\" I said, \"over the wall; you cannot help feeling the\n",
      "nitre. Indeed it is _very_ damp. Once more let me _implore_ you to\n",
      "return. No? Then I must positively leave you. But I must first render\n",
      "you all the little attentions in my power.\"\n",
      "\n",
      "\"The Amontillado!\" ejaculated my friend, not yet recovered from his\n",
      "astonishment.\n",
      "\n",
      "\"True,\" I replied; \"the Amontillado.\"\n",
      "\n",
      "As I said these words I busied myself among the pile of bones of which I\n",
      "have before spoken. Throwing them aside, I soon uncovered a quantity of\n",
      "building stone and mortar. With these materials and with the aid of my\n",
      "trowel, I began vigorously to wall up the entrance of the niche.\n",
      "\n",
      "I had scarcely laid the first tier of my masonry when I discovered\n",
      "that the intoxication of Fortunato had in a great measure worn off. The\n",
      "earliest indication I had of this was a low moaning cry from the depth\n",
      "of the recess. It was _not_ the cry of a drunken man. There was then a\n",
      "long and obstinate silence. I laid the second tier, and the third, and\n",
      "the fourth; and then I heard the furious vibrations of the chain. The\n",
      "noise lasted for several minutes, during which, that I might hearken to\n",
      "it with the more satisfaction, I ceased my labors and sat down upon the\n",
      "bones. When at last the clanking subsided, I resumed the trowel, and\n",
      "finished without interruption the fifth, the sixth, and the seventh\n",
      "tier. The wall was now nearly upon a level with my breast. I again\n",
      "paused, and holding the flambeaux over the mason-work, threw a few\n",
      "feeble rays upon the figure within.\n",
      "\n",
      "A succession of loud and shrill screams, bursting suddenly from the\n",
      "throat of the chained form, seemed to thrust me violently back. For a\n",
      "brief moment I hesitated--I trembled. Unsheathing my rapier, I began to\n",
      "grope with it about the recess: but the thought of an instant reassured\n",
      "me. I placed my hand upon the solid fabric of the catacombs, and felt\n",
      "satisfied. I reapproached the wall. I replied to the yells of him\n",
      "who clamored. I re-echoed--I aided--I surpassed them in volume and in\n",
      "strength. I did this, and the clamorer grew still.\n",
      "\n",
      "It was now midnight, and my task was drawing to a close. I had completed\n",
      "the eighth, the ninth, and the tenth tier. I had finished a portion\n",
      "of the last and the eleventh; there remained but a single stone to\n",
      "be fitted and plastered in. I struggled with its weight; I placed it\n",
      "partially in its destined position. But now there came from out the\n",
      "niche a low laugh that erected the hairs upon my head. It was succeeded\n",
      "by a sad voice, which I had difficulty in recognising as that of the\n",
      "noble Fortunato. The voice said--\n",
      "\n",
      "\"Ha! ha! ha!--he! he!--a very good joke indeed--an excellent jest. We\n",
      "will have many a rich laugh about it at the palazzo--he! he! he!--over\n",
      "our wine--he! he! he!\"\n",
      "\n",
      "\"The Amontillado!\" I said.\n",
      "\n",
      "\"He! he! he!--he! he! he!--yes, the Amontillado. But is it not getting\n",
      "late? Will not they be awaiting us at the palazzo, the Lady Fortunato\n",
      "and the rest? Let us be gone.\"\n",
      "\n",
      "\"Yes,\" I said, \"let us be gone.\"\n",
      "\n",
      "\"_For the love of God, Montressor!_\"\n",
      "\n",
      "\"Yes,\" I said, \"for the love of God!\"\n",
      "\n",
      "But to these words I hearkened in vain for a reply. I grew impatient. I\n",
      "called aloud--\n",
      "\n",
      "\"Fortunato!\"\n",
      "\n",
      "No answer. I called again--\n",
      "\n",
      "\"Fortunato!\"\n",
      "\n",
      "No answer still. I thrust a torch through the remaining aperture and let\n",
      "it fall within. There came forth in return only a jingling of the bells.\n",
      "My heart grew sick--on account of the dampness of the catacombs. I\n",
      "hastened to make an end of my labor. I forced the last stone into its\n",
      "position; I plastered it up. Against the new masonry I re-erected the\n",
      "old rampart of bones. For the half of a century no mortal has disturbed\n",
      "them. _In pace requiescat!_\n",
      "\n"
     ]
    }
   ],
   "source": [
    "\n",
    "def display_contents_file(file_name):\n",
    "    #fp = open(file_name, \"r\")\n",
    "    with open( file_name ) as fp:\n",
    "        buffer = fp.read()\n",
    "    print( buffer )\n",
    "    \n",
    "display_contents_file(\"pc_amontillado.txt\")"
   ]
  },
  {
   "cell_type": "code",
   "execution_count": 4,
   "metadata": {},
   "outputs": [
    {
     "name": "stdout",
     "output_type": "stream",
     "text": [
      "THE CASK OF AMONTILLADO.\n",
      "\n",
      "THE thousand injuries of Fortunato I had borne as I best could; but\n",
      "when he ventured upon insult, I vowed revenge. You, who so well know the\n",
      "nature of my soul, will not suppose, however, that I gave utterance to\n",
      "a threat. _At length_ I would be avenged; this was a point definitively\n",
      "settled--but the very definitiveness with which it was resolved,\n",
      "precluded the idea of risk. I must not only punish, but punish with\n",
      "impunity. A wrong is unredressed when retribution overtakes its\n",
      "redresser. It is equally unredressed when the avenger fails to make\n",
      "himself felt as such to him who has done the wrong.\n",
      "\n",
      "It must be understood, that neither by word nor deed had I given\n",
      "Fortunato cause to doubt my good will. I continued, as was my wont, to\n",
      "smile in his face, and he did not perceive that my smile _now_ was at\n",
      "the thought of his immolation.\n",
      "\n",
      "He had a weak point--this Fortunato--although in other regards he was\n",
      "a man to be respected and even feared. He prided himself on his\n",
      "connoisseurship in wine. Few Italians have the true virtuoso spirit.\n",
      "For the most part their enthusiasm is adopted to suit the time and\n",
      "opportunity--to practise imposture upon the British and Austrian\n",
      "_millionaires_. In painting and gemmary, Fortunato, like his countrymen,\n",
      "was a quack--but in the matter of old wines he was sincere. In this\n",
      "respect I did not differ from him materially: I was skilful in the\n",
      "Italian vintages myself, and bought largely whenever I could.\n",
      "\n",
      "It was about dusk, one evening during the supreme madness of the\n",
      "carnival season, that I encountered my friend. He accosted me with\n",
      "excessive warmth, for he had been drinking much. The man wore motley. He\n",
      "had on a tight-fitting parti-striped dress, and his head was surmounted\n",
      "by the conical cap and bells. I was so pleased to see him, that I\n",
      "thought I should never have done wringing his hand.\n",
      "\n",
      "I said to him--\"My dear Fortunato, you are luckily met. How remarkably\n",
      "well you are looking to-day! But I have received a pipe of what passes\n",
      "for Amontillado, and I have my doubts.\"\n",
      "\n",
      "\"How?\" said he. \"Amontillado? A pipe? Impossible! And in the middle of\n",
      "the carnival!\"\n",
      "\n",
      "\"I have my doubts,\" I replied; \"and I was silly enough to pay the full\n",
      "Amontillado price without consulting you in the matter. You were not to\n",
      "be found, and I was fearful of losing a bargain.\"\n",
      "\n",
      "\"Amontillado!\"\n",
      "\n",
      "\"I have my doubts.\"\n",
      "\n",
      "\"Amontillado!\"\n",
      "\n",
      "\"And I must satisfy them.\"\n",
      "\n",
      "\"Amontillado!\"\n",
      "\n",
      "\"As you are engaged, I am on my way to Luchesi. If any one has a\n",
      "critical turn, it is he. He will tell me--\"\n",
      "\n",
      "\"Luchesi cannot tell Amontillado from Sherry.\"\n",
      "\n",
      "\"And yet some fools will have it that his taste is a match for your\n",
      "own.\"\n",
      "\n",
      "\"Come, let us go.\"\n",
      "\n",
      "\"Whither?\"\n",
      "\n",
      "\"To your vaults.\"\n",
      "\n",
      "\"My friend, no; I will not impose upon your good nature. I perceive you\n",
      "have an engagement. Luchesi--\"\n",
      "\n",
      "\"I have no engagement;--come.\"\n",
      "\n",
      "\"My friend, no. It is not the engagement, but the severe cold with which\n",
      "I perceive you are afflicted. The vaults are insufferably damp. They are\n",
      "encrusted with nitre.\"\n",
      "\n",
      "\"Let us go, nevertheless. The cold is merely nothing. Amontillado! You\n",
      "have been imposed upon. And as for Luchesi, he cannot distinguish Sherry\n",
      "from Amontillado.\"\n",
      "\n",
      "Thus speaking, Fortunato possessed himself of my arm. Putting on a mask\n",
      "of black silk, and drawing a _roquelaire_ closely about my person, I\n",
      "suffered him to hurry me to my palazzo.\n",
      "\n",
      "There were no attendants at home; they had absconded to make merry in\n",
      "honor of the time. I had told them that I should not return until the\n",
      "morning, and had given them explicit orders not to stir from the house.\n",
      "These orders were sufficient, I well knew, to insure their immediate\n",
      "disappearance, one and all, as soon as my back was turned.\n",
      "\n",
      "I took from their sconces two flambeaux, and giving one to Fortunato,\n",
      "bowed him through several suites of rooms to the archway that led into\n",
      "the vaults. I passed down a long and winding staircase, requesting him\n",
      "to be cautious as he followed. We came at length to the foot of the\n",
      "descent, and stood together on the damp ground of the catacombs of the\n",
      "Montresors.\n",
      "\n",
      "The gait of my friend was unsteady, and the bells upon his cap jingled\n",
      "as he strode.\n",
      "\n",
      "\"The pipe,\" said he.\n",
      "\n",
      "\"It is farther on,\" said I; \"but observe the white web-work which gleams\n",
      "from these cavern walls.\"\n",
      "\n",
      "He turned towards me, and looked into my eyes with two filmy orbs that\n",
      "distilled the rheum of intoxication.\n",
      "\n",
      "\"Nitre?\" he asked, at length.\n",
      "\n",
      "\"Nitre,\" I replied. \"How long have you had that cough?\"\n",
      "\n",
      "\"Ugh! ugh! ugh!--ugh! ugh! ugh!--ugh! ugh! ugh!--ugh! ugh! ugh!--ugh!\n",
      "ugh! ugh!\"\n",
      "\n",
      "My poor friend found it impossible to reply for many minutes.\n",
      "\n",
      "\"It is nothing,\" he said, at last.\n",
      "\n",
      "\"Come,\" I said, with decision, \"we will go back; your health is\n",
      "precious. You are rich, respected, admired, beloved; you are happy, as\n",
      "once I was. You are a man to be missed. For me it is no matter. We will\n",
      "go back; you will be ill, and I cannot be responsible. Besides, there is\n",
      "Luchesi--\"\n",
      "\n",
      "\"Enough,\" he said; \"the cough is a mere nothing; it will not kill me. I\n",
      "shall not die of a cough.\"\n",
      "\n",
      "\"True--true,\" I replied; \"and, indeed, I had no intention of alarming\n",
      "you unnecessarily--but you should use all proper caution. A draught of\n",
      "this Medoc will defend us from the damps.\"\n",
      "\n",
      "Here I knocked off the neck of a bottle which I drew from a long row of\n",
      "its fellows that lay upon the mould.\n",
      "\n",
      "\"Drink,\" I said, presenting him the wine.\n",
      "\n",
      "He raised it to his lips with a leer. He paused and nodded to me\n",
      "familiarly, while his bells jingled.\n",
      "\n",
      "\"I drink,\" he said, \"to the buried that repose around us.\"\n",
      "\n",
      "\"And I to your long life.\"\n",
      "\n",
      "He again took my arm, and we proceeded.\n",
      "\n",
      "\"These vaults,\" he said, \"are extensive.\"\n",
      "\n",
      "\"The Montresors,\" I replied, \"were a great and numerous family.\"\n",
      "\n",
      "\"I forget your arms.\"\n",
      "\n",
      "\"A huge human foot d'or, in a field azure; the foot crushes a serpent\n",
      "rampant whose fangs are imbedded in the heel.\"\n",
      "\n",
      "\"And the motto?\"\n",
      "\n",
      "\"_Nemo me impune lacessit_.\"\n",
      "\n",
      "\"Good!\" he said.\n",
      "\n",
      "The wine sparkled in his eyes and the bells jingled. My own fancy grew\n",
      "warm with the Medoc. We had passed through walls of piled bones, with\n",
      "casks and puncheons intermingling, into the inmost recesses of the\n",
      "catacombs. I paused again, and this time I made bold to seize Fortunato\n",
      "by an arm above the elbow.\n",
      "\n",
      "\"The nitre!\" I said: \"see, it increases. It hangs like moss upon the\n",
      "vaults. We are below the river's bed. The drops of moisture trickle\n",
      "among the bones. Come, we will go back ere it is too late. Your cough--\"\n",
      "\n",
      "\"It is nothing,\" he said; \"let us go on. But first, another draught of\n",
      "the Medoc.\"\n",
      "\n",
      "I broke and reached him a flagon of De Grave. He emptied it at a breath.\n",
      "His eyes flashed with a fierce light. He laughed and threw the bottle\n",
      "upwards with a gesticulation I did not understand.\n",
      "\n",
      "I looked at him in surprise. He repeated the movement--a grotesque one.\n",
      "\n",
      "\"You do not comprehend?\" he said.\n",
      "\n",
      "\"Not I,\" I replied.\n",
      "\n",
      "\"Then you are not of the brotherhood.\"\n",
      "\n",
      "\"How?\"\n",
      "\n",
      "\"You are not of the masons.\"\n",
      "\n",
      "\"Yes, yes,\" I said, \"yes, yes.\"\n",
      "\n",
      "\"You? Impossible! A mason?\"\n",
      "\n",
      "\"A mason,\" I replied.\n",
      "\n",
      "\"A sign,\" he said.\n",
      "\n",
      "\"It is this,\" I answered, producing a trowel from beneath the folds of\n",
      "my _roquelaire_.\n",
      "\n",
      "\"You jest,\" he exclaimed, recoiling a few paces. \"But let us proceed to\n",
      "the Amontillado.\"\n",
      "\n",
      "\"Be it so,\" I said, replacing the tool beneath the cloak, and again\n",
      "offering him my arm. He leaned upon it heavily. We continued our route\n",
      "in search of the Amontillado. We passed through a range of low arches,\n",
      "descended, passed on, and descending again, arrived at a deep crypt, in\n",
      "which the foulness of the air caused our flambeaux rather to glow than\n",
      "flame.\n",
      "\n",
      "At the most remote end of the crypt there appeared another less\n",
      "spacious. Its walls had been lined with human remains, piled to the\n",
      "vault overhead, in the fashion of the great catacombs of Paris. Three\n",
      "sides of this interior crypt were still ornamented in this manner. From\n",
      "the fourth the bones had been thrown down, and lay promiscuously upon\n",
      "the earth, forming at one point a mound of some size. Within the wall\n",
      "thus exposed by the displacing of the bones, we perceived a still\n",
      "interior recess, in depth about four feet, in width three, in height\n",
      "six or seven. It seemed to have been constructed for no especial use\n",
      "in itself, but formed merely the interval between two of the colossal\n",
      "supports of the roof of the catacombs, and was backed by one of their\n",
      "circumscribing walls of solid granite.\n",
      "\n",
      "It was in vain that Fortunato, uplifting his dull torch, endeavored to\n",
      "pry into the depths of the recess. Its termination the feeble light did\n",
      "not enable us to see.\n",
      "\n",
      "\"Proceed,\" I said; \"herein is the Amontillado. As for Luchesi--\"\n",
      "\n",
      "\"He is an ignoramus,\" interrupted my friend, as he stepped unsteadily\n",
      "forward, while I followed immediately at his heels. In an instant he had\n",
      "reached the extremity of the niche, and finding his progress arrested\n",
      "by the rock, stood stupidly bewildered. A moment more and I had fettered\n",
      "him to the granite. In its surface were two iron staples, distant from\n",
      "each other about two feet, horizontally. From one of these depended\n",
      "a short chain, from the other a padlock. Throwing the links about his\n",
      "waist, it was but the work of a few seconds to secure it. He was too\n",
      "much astounded to resist. Withdrawing the key I stepped back from the\n",
      "recess.\n",
      "\n",
      "\"Pass your hand,\" I said, \"over the wall; you cannot help feeling the\n",
      "nitre. Indeed it is _very_ damp. Once more let me _implore_ you to\n",
      "return. No? Then I must positively leave you. But I must first render\n",
      "you all the little attentions in my power.\"\n",
      "\n",
      "\"The Amontillado!\" ejaculated my friend, not yet recovered from his\n",
      "astonishment.\n",
      "\n",
      "\"True,\" I replied; \"the Amontillado.\"\n",
      "\n",
      "As I said these words I busied myself among the pile of bones of which I\n",
      "have before spoken. Throwing them aside, I soon uncovered a quantity of\n",
      "building stone and mortar. With these materials and with the aid of my\n",
      "trowel, I began vigorously to wall up the entrance of the niche.\n",
      "\n",
      "I had scarcely laid the first tier of my masonry when I discovered\n",
      "that the intoxication of Fortunato had in a great measure worn off. The\n",
      "earliest indication I had of this was a low moaning cry from the depth\n",
      "of the recess. It was _not_ the cry of a drunken man. There was then a\n",
      "long and obstinate silence. I laid the second tier, and the third, and\n",
      "the fourth; and then I heard the furious vibrations of the chain. The\n",
      "noise lasted for several minutes, during which, that I might hearken to\n",
      "it with the more satisfaction, I ceased my labors and sat down upon the\n",
      "bones. When at last the clanking subsided, I resumed the trowel, and\n",
      "finished without interruption the fifth, the sixth, and the seventh\n",
      "tier. The wall was now nearly upon a level with my breast. I again\n",
      "paused, and holding the flambeaux over the mason-work, threw a few\n",
      "feeble rays upon the figure within.\n",
      "\n",
      "A succession of loud and shrill screams, bursting suddenly from the\n",
      "throat of the chained form, seemed to thrust me violently back. For a\n",
      "brief moment I hesitated--I trembled. Unsheathing my rapier, I began to\n",
      "grope with it about the recess: but the thought of an instant reassured\n",
      "me. I placed my hand upon the solid fabric of the catacombs, and felt\n",
      "satisfied. I reapproached the wall. I replied to the yells of him\n",
      "who clamored. I re-echoed--I aided--I surpassed them in volume and in\n",
      "strength. I did this, and the clamorer grew still.\n",
      "\n",
      "It was now midnight, and my task was drawing to a close. I had completed\n",
      "the eighth, the ninth, and the tenth tier. I had finished a portion\n",
      "of the last and the eleventh; there remained but a single stone to\n",
      "be fitted and plastered in. I struggled with its weight; I placed it\n",
      "partially in its destined position. But now there came from out the\n",
      "niche a low laugh that erected the hairs upon my head. It was succeeded\n",
      "by a sad voice, which I had difficulty in recognising as that of the\n",
      "noble Fortunato. The voice said--\n",
      "\n",
      "\"Ha! ha! ha!--he! he!--a very good joke indeed--an excellent jest. We\n",
      "will have many a rich laugh about it at the palazzo--he! he! he!--over\n",
      "our wine--he! he! he!\"\n",
      "\n",
      "\"The Amontillado!\" I said.\n",
      "\n",
      "\"He! he! he!--he! he! he!--yes, the Amontillado. But is it not getting\n",
      "late? Will not they be awaiting us at the palazzo, the Lady Fortunato\n",
      "and the rest? Let us be gone.\"\n",
      "\n",
      "\"Yes,\" I said, \"let us be gone.\"\n",
      "\n",
      "\"_For the love of God, Montressor!_\"\n",
      "\n",
      "\"Yes,\" I said, \"for the love of God!\"\n",
      "\n",
      "But to these words I hearkened in vain for a reply. I grew impatient. I\n",
      "called aloud--\n",
      "\n",
      "\"Fortunato!\"\n",
      "\n",
      "No answer. I called again--\n",
      "\n",
      "\"Fortunato!\"\n",
      "\n",
      "No answer still. I thrust a torch through the remaining aperture and let\n",
      "it fall within. There came forth in return only a jingling of the bells.\n",
      "My heart grew sick--on account of the dampness of the catacombs. I\n",
      "hastened to make an end of my labor. I forced the last stone into its\n",
      "position; I plastered it up. Against the new masonry I re-erected the\n",
      "old rampart of bones. For the half of a century no mortal has disturbed\n",
      "them. _In pace requiescat!_\n",
      "\n"
     ]
    }
   ],
   "source": [
    "\n",
    "def display_contents_file(file_name):\n",
    "    fp = open(file_name, \"r\")\n",
    "    #with open( file_name ) as fp:\n",
    "    buffer = fp.read()\n",
    "    print( buffer )\n",
    "    fp.close()\n",
    "display_contents_file(\"pc_amontillado.txt\")"
   ]
  },
  {
   "cell_type": "code",
   "execution_count": 6,
   "metadata": {},
   "outputs": [
    {
     "name": "stdout",
     "output_type": "stream",
     "text": [
      "'Tis but thy name that is my enemy.\n",
      "\n",
      "Thou art thyself, though not a Montague.\n",
      "\n",
      "What's Montague? it is nor hand, nor foot,\n",
      "\n",
      "Nor arm, nor face, nor any other part\n",
      "\n",
      "Belonging to a man. O, be some other name!\n",
      "\n",
      "What's in a name? That which we call a rose\n",
      "\n",
      "By any other name would smell as sweet.\n",
      "\n",
      "So Romeo would, were he not Romeo call'd,\n",
      "\n",
      "Retain that dear perfection which he owes\n",
      "\n",
      "Without that title. Romeo, doff thy name;\n",
      "\n",
      "And for that name, which is no part of thee,\n",
      "\n",
      "Take all myself.\n",
      "\n",
      "[\"'Tis but thy name that is my enemy.\\n\", 'Thou art thyself, though not a Montague.\\n', \"What's Montague? it is nor hand, nor foot,\\n\", 'Nor arm, nor face, nor any other part\\n', 'Belonging to a man. O, be some other name!\\n', \"What's in a name? That which we call a rose\\n\", 'By any other name would smell as sweet.\\n', \"So Romeo would, were he not Romeo call'd,\\n\", 'Retain that dear perfection which he owes\\n', 'Without that title. Romeo, doff thy name;\\n', 'And for that name, which is no part of thee,\\n', 'Take all myself.\\n']\n"
     ]
    }
   ],
   "source": [
    "def display_contents_file(file_name):\n",
    "    #with open( file_name ) as fp:\n",
    "    fp = open(file_name, \"r\")\n",
    "    buffer = fp.readlines()\n",
    "    for line in buffer:\n",
    "        print(line)\n",
    "    print(buffer)\n",
    "    fp.close()\n",
    "    \n",
    "display_contents_file(\"pc_rose.txt\")"
   ]
  },
  {
   "cell_type": "markdown",
   "metadata": {},
   "source": [
    "This code assumes that a file is available with the name \"`pc_rose.txt`\". Such a file should be included with these notebooks, so it should work. If it is not, you get a runtime error. How to deal with such errors will be explained in the next chapter.\n",
    "\n",
    "**Exercise**: In the code above, change the file name \"`pc_rose.txt`\" to something that does not exist. Run the program and observe the error that you get.\n",
    "\n",
    "**Exercise**: In the code above, change the file name to \"`pc_woodchuck.txt`\". Run the program and observe the output. Note: several more files with names \"`pc_<something>.txt`\" are included, but some of these contain lots of text (in particular the ones in the subfolder `pcdata`). Best not try to read the other ones (for now)."
   ]
  },
  {
   "cell_type": "markdown",
   "metadata": {},
   "source": [
    "### Reading lines using `readline()`"
   ]
  },
  {
   "cell_type": "markdown",
   "metadata": {},
   "source": [
    "To read a text file line by line, you can use the `readline()` method. The `readline()` method reads characters starting at the file pointer up to and including the next newline character, and returns them as a string. You can recognize that you have reached the end of the file by the fact that no characters are read anymore, i.e., the string that is returned is empty."
   ]
  },
  {
   "cell_type": "code",
   "execution_count": null,
   "metadata": {},
   "outputs": [],
   "source": [
    "def display_contents_file2(file_name):\n",
    "    fp = open( file_name , \"r\")\n",
    "    buffer = fp.readlines()\n",
    "    print(buffer)\n",
    "   # for line in buffer:\n",
    "    #    print (line)\n",
    "    #fp.close()\n",
    "    \n",
    "display_contents_file2(\"pc_rose.txt\")"
   ]
  },
  {
   "cell_type": "code",
   "execution_count": 7,
   "metadata": {},
   "outputs": [
    {
     "name": "stdout",
     "output_type": "stream",
     "text": [
      "'Tis but thy name that is my enemy.\n",
      "\n",
      "Thou art thyself, though not a Montague.\n",
      "\n",
      "What's Montague? it is nor hand, nor foot,\n",
      "\n",
      "Nor arm, nor face, nor any other part\n",
      "\n",
      "Belonging to a man. O, be some other name!\n",
      "\n",
      "What's in a name? That which we call a rose\n",
      "\n",
      "By any other name would smell as sweet.\n",
      "\n",
      "So Romeo would, were he not Romeo call'd,\n",
      "\n",
      "Retain that dear perfection which he owes\n",
      "\n",
      "Without that title. Romeo, doff thy name;\n",
      "\n",
      "And for that name, which is no part of thee,\n",
      "\n",
      "Take all myself.\n",
      "\n"
     ]
    }
   ],
   "source": [
    "def display_contents_file2(file_name):\n",
    "    fp = open( file_name )\n",
    "    while True:\n",
    "        buffer = fp.readline()             ###?¿?¿ why break?\n",
    "        if buffer == \"\":\n",
    "            break     \n",
    "        print( buffer )\n",
    "    fp.close()\n",
    "display_contents_file2(\"pc_rose.txt\")"
   ]
  },
  {
   "cell_type": "code",
   "execution_count": null,
   "metadata": {},
   "outputs": [],
   "source": [
    "fp = open(\"pc_rose.txt\", \"r\")                                       ###### DONT GET THIS!!!\n",
    "list_ = fp.readline()\n",
    "print (list_)\n",
    "#for line in linea:\n",
    " #   print(line)\n",
    "\n",
    "#print(fp.readline())\n",
    "fp.close ()"
   ]
  },
  {
   "cell_type": "markdown",
   "metadata": {},
   "source": [
    "Notice that the output of the code above has an empty line between each of the lines displayed. Where is that extra line coming from? Think about it.\n",
    "\n",
    "The extra line is there because the `readline()` method returns a string of the characters read, up to and *including* the newline character. So when the `buffer` is printed, it prints a newline character too. And since the `print()` function *also* moves to a new line after it is executed, there is an empty line printed after each line of text.\n",
    "\n",
    "**Exercise**: In the code block below, write code that reads the lines from \"`pc_rose.txt`\", and displays only those lines that contain the word \"name\"."
   ]
  },
  {
   "cell_type": "code",
   "execution_count": 11,
   "metadata": {},
   "outputs": [
    {
     "name": "stdout",
     "output_type": "stream",
     "text": [
      "[\"'Tis but thy name that is my enemy.\\n\", 'Thou art thyself, though not a Montague.\\n', \"What's Montague? it is nor hand, nor foot,\\n\", 'Nor arm, nor face, nor any other part\\n', 'Belonging to a man. O, be some other name!\\n', \"What's in a name? That which we call a rose\\n\", 'By any other name would smell as sweet.\\n', \"So Romeo would, were he not Romeo call'd,\\n\", 'Retain that dear perfection which he owes\\n', 'Without that title. Romeo, doff thy name;\\n', 'And for that name, which is no part of thee,\\n', 'Take all myself.\\n']\n"
     ]
    }
   ],
   "source": [
    "# Printing lines with \"name\".\n",
    "\n",
    "def only_name (file_name):\n",
    "    fp = open(file_name)\n",
    "    buffer = fp.readlines()\n",
    "    print(buffer)\n",
    "#     for line in buffer:\n",
    "#         if \"name\" in line:\n",
    "#             print(line)\n",
    "        \n",
    "    fp.close()\n",
    "       \n",
    "only_name(\"pc_rose.txt\")\n"
   ]
  },
  {
   "cell_type": "markdown",
   "metadata": {},
   "source": [
    "### Reading lines using `readlines()`"
   ]
  },
  {
   "cell_type": "markdown",
   "metadata": {},
   "source": [
    "A collary to the `readline()` method is the `readlines()` method. `readlines()` reads all the lines in the file, and returns them as a list of strings. The strings include the newline characters."
   ]
  },
  {
   "cell_type": "code",
   "execution_count": 8,
   "metadata": {},
   "outputs": [
    {
     "name": "stdout",
     "output_type": "stream",
     "text": [
      "[\"'Tis but thy name that is my enemy.\\n\", 'Thou art thyself, though not a Montague.\\n', \"What's Montague? it is nor hand, nor foot,\\n\", 'Nor arm, nor face, nor any other part\\n', 'Belonging to a man. O, be some other name!\\n', \"What's in a name? That which we call a rose\\n\", 'By any other name would smell as sweet.\\n', \"So Romeo would, were he not Romeo call'd,\\n\", 'Retain that dear perfection which he owes\\n', 'Without that title. Romeo, doff thy name;\\n', 'And for that name, which is no part of thee,\\n', 'Take all myself.\\n']\n"
     ]
    }
   ],
   "source": [
    "def display_contents_file3(file_name):\n",
    "    fp = open( file_name)\n",
    "    buffer = fp.readlines()\n",
    "    print(buffer)\n",
    "  \n",
    "#     for line in buffer:\n",
    "#         print( line, end=\"\")\n",
    "#     fp.close()\n",
    "    \n",
    "display_contents_file3(\"pc_rose.txt\")"
   ]
  },
  {
   "cell_type": "markdown",
   "metadata": {},
   "source": [
    "Note that the output of the code above does not have the empty lines between the lines of text, as the `print()` function includes the \"`end=\"\"`\" argument, which entails that `print()` itself does not go to the next line after printing."
   ]
  },
  {
   "cell_type": "markdown",
   "metadata": {},
   "source": [
    "### When to use which file-reading method"
   ]
  },
  {
   "cell_type": "markdown",
   "metadata": {},
   "source": [
    "Both the `read()` and `readlines()` method read a whole file at once. Obviously, for small files this is acceptable, but for long files you might not have enough memory to store the file contents efficiently. In such circumstances (or when you do not know the file size), you should read a file line by line with the `readline()` method.\n",
    "\n",
    "It is often a good idea, during code development, to process only the first few lines of a file. That way you limit the amount of time that the program needs to process a file, and limit its output, which makes debugging easier. For instance, the code below process the first 10 lines of one of the longer files."
   ]
  },
  {
   "cell_type": "code",
   "execution_count": 8,
   "metadata": {},
   "outputs": [
    {
     "name": "stdout",
     "output_type": "stream",
     "text": [
      "THE CASK OF AMONTILLADO.\n",
      "\n",
      "THE thousand injuries of Fortunato I had borne as I best could; but\n",
      "when he ventured upon insult, I vowed revenge. You, who so well know the\n",
      "nature of my soul, will not suppose, however, that I gave utterance to\n",
      "a threat. _At length_ I would be avenged; this was a point definitively\n",
      "settled--but the very definitiveness with which it was resolved,\n",
      "precluded the idea of risk. I must not only punish, but punish with\n",
      "impunity. A wrong is unredressed when retribution overtakes its\n",
      "redresser. It is equally unredressed when the avenger fails to make\n"
     ]
    }
   ],
   "source": [
    "def display_contents_file4(file_name):\n",
    "    fp = open(file_name)\n",
    "    count = 0\n",
    "    while count < 10:\n",
    "        buffer = fp.readline()\n",
    "        if buffer == \"\":\n",
    "            break\n",
    "        print( buffer, end=\"\" )\n",
    "        count += 1\n",
    "    fp.close()\n",
    "    \n",
    "display_contents_file4( \"pc_amontillado.txt\")"
   ]
  },
  {
   "cell_type": "markdown",
   "metadata": {},
   "source": [
    "Once the program is finished and debugged, I can remove the references to `count` and change the loop to `while True`, to process the whole file.\n",
    "\n",
    "**Exercise**: Start by copying the code above in the code block below. Then adapt it to count how often the word \"fortunato\" (with any capitalization) occurs in the text as a whole. Print only the number of occurrences of that word. If you do it correctly, you find the answer is 14 (it occurs 3 times in the first 20 lines)."
   ]
  },
  {
   "cell_type": "code",
   "execution_count": 9,
   "metadata": {},
   "outputs": [
    {
     "name": "stdout",
     "output_type": "stream",
     "text": [
      "14\n"
     ]
    }
   ],
   "source": [
    "def display_contents_file4(file_name):\n",
    "    fp = open(file_name)\n",
    "    count = 0\n",
    "    while True:\n",
    "        buffer = fp.readline()\n",
    "        if \"Fortunato\" in buffer:\n",
    "            count+= 1\n",
    "        if buffer == \"\":\n",
    "            break\n",
    "        \n",
    "    print(count)\n",
    "        \n",
    "    fp.close()\n",
    "    \n",
    "display_contents_file4( \"pc_amontillado.txt\")"
   ]
  },
  {
   "cell_type": "code",
   "execution_count": 10,
   "metadata": {},
   "outputs": [
    {
     "data": {
      "text/plain": [
       "14"
      ]
     },
     "execution_count": 10,
     "metadata": {},
     "output_type": "execute_result"
    }
   ],
   "source": [
    "def display_cont(file_name):\n",
    "    fp = open(file_name)\n",
    "    buffer = fp.readlines()\n",
    "\n",
    "    count=0\n",
    "    for line in buffer:\n",
    "        if \"Fortunato\" in line:\n",
    "            count+= 1\n",
    "    return count\n",
    "\n",
    "display_cont(\"pc_amontillado.txt\")\n",
    "    "
   ]
  },
  {
   "cell_type": "markdown",
   "metadata": {},
   "source": []
  },
  {
   "cell_type": "markdown",
   "metadata": {},
   "source": [
    "## Writing text files"
   ]
  },
  {
   "cell_type": "markdown",
   "metadata": {},
   "source": [
    "Writing a text file is similar to reading. You open the file, write to it, and close it."
   ]
  },
  {
   "cell_type": "markdown",
   "metadata": {},
   "source": [
    "### Opening a file for writing"
   ]
  },
  {
   "cell_type": "markdown",
   "metadata": {},
   "source": [
    "To open a file for writing, and writing only, you give the value \"`w`\" as the second argument to the `open()` function. If the file does not exist yet, it will create it. If it does exist, it will delete its contents.\n",
    "\n",
    "Let me repeat that: **when you open a file for writing and it already exists, its contents are deleted**! There is no warning message saying \"are you sure?\" The file is simply emptied. So you have to be very, very careful when opening a file for writing. Usually I ask students to write their programs in such a way that they first check if a file exists before opening it for writing, and give an error message when it already exists. Functions for checking if a file exists are discussed later in this chapter."
   ]
  },
  {
   "cell_type": "markdown",
   "metadata": {},
   "source": [
    "### Writing using `write()`"
   ]
  },
  {
   "cell_type": "markdown",
   "metadata": {},
   "source": [
    "To write something to a text file, you use the `write()` method with as argument a string that you want to write to the file. The example code below asks you to enter some strings, and writes them to a file. It stops asking for inputs when you enter an empty line. It then opens the file, reads the contents, and displays them. Run the code, enter at least two lines of text, and see what happens."
   ]
  },
  {
   "cell_type": "code",
   "execution_count": 11,
   "metadata": {},
   "outputs": [
    {
     "name": "stdout",
     "output_type": "stream",
     "text": [
      "Please enter a line of text: \n"
     ]
    }
   ],
   "source": [
    "fp = open( \"pc_writetestirene.txt\", \"w\" )\n",
    "fp.write( \"Please enter a line of text: \" )\n",
    "fp.close()\n",
    "\n",
    "fp = open( \"pc_writetestirene.txt\" )\n",
    "buffer = fp.read()\n",
    "fp.close()\n",
    "print( buffer )"
   ]
  },
  {
   "cell_type": "code",
   "execution_count": null,
   "metadata": {},
   "outputs": [],
   "source": []
  },
  {
   "cell_type": "markdown",
   "metadata": {},
   "source": [
    "If you did what I asked, you have noticed that all the text that you entered is in the file, but it all is on one line. There are no newlines in between. The reason is that you have to explicitly write newline characters when you want newlines in your file. When you get input from the keyboard using `input()`, while you stop entering input using the *Enter* key, that does not result in a newline character in the string that `input()` returns. So you have to add that to the string that you write manually.\n",
    "\n",
    "**Exercise**: Change the code above so that every line of text that you enter, is a separate line in the file that you write."
   ]
  },
  {
   "cell_type": "markdown",
   "metadata": {},
   "source": [
    "### Writing using `writelines()`"
   ]
  },
  {
   "cell_type": "markdown",
   "metadata": {},
   "source": [
    "You can write a list of strings at once, by using the `writelines()` method that gets the list as argument. Each of the strings in the list must end in a newline character if you want those newline characters in the output file. `writelines()` is the opposite of `readlines()`; if you use the list that `readlines()` returns as argument for `writelines()`, the contents of the output file will be exactly the same as the contents of the input file.\n",
    "\n",
    "Note that there is no `writeline()` method. `writeline()` would be exactly the same method as `write()`, so it is not needed."
   ]
  },
  {
   "cell_type": "markdown",
   "metadata": {},
   "source": [
    "### Practice"
   ]
  },
  {
   "cell_type": "markdown",
   "metadata": {},
   "source": [
    "**Exercise**: In the code block below, write a program that reads the contents of \"`pc_rose.txt`\", and writes exactly the same contents to the file \"`pc_writetest.tmp`\". Then open the file \"`pc_writetest.tmp`\" and display the contents. You can easily construct this program by cobbling together some of the code given above. "
   ]
  },
  {
   "cell_type": "code",
   "execution_count": 21,
   "metadata": {},
   "outputs": [],
   "source": [
    "# Copying pc_rose.txt\n",
    "\n",
    "fp = open(\"pc_rose.txt\")\n",
    "fw = open( \"pc_writetestirene.txt\", \"w\" )\n",
    "buffer = fp.readlines()\n",
    "for line in buffer:\n",
    "    fw.write(line)\n",
    "    \n",
    "\n",
    "fp.close()\n",
    "fw.close()"
   ]
  },
  {
   "cell_type": "markdown",
   "metadata": {},
   "source": [
    "**Exercise**: In the code block below, write a program that reads the contents of \"`pc_rose.txt`\", reverses each of the lines, and writes the reversed lines to the file \"`pc_writetest.tmp`\". Then open the file \"`pc_writetest.tmp`\" and display the contents. "
   ]
  },
  {
   "cell_type": "code",
   "execution_count": 38,
   "metadata": {},
   "outputs": [],
   "source": [
    "# Mirroring pc_rose.txt.\n",
    "\n",
    "def reverse_lines(input_name, output_name):\n",
    "    fi=open(input_name, \"r\")\n",
    "    fo=open(output_name, \"a\")\n",
    "    \n",
    "    buffer = fi.readlines()\n",
    "    for line in buffer:\n",
    "        clean_line = line.strip(\".,!?\\::;''n\")\n",
    "        doubstrip = clean_line.strip(\".,\")\n",
    "        towrite = doubstrip\n",
    "        fo.write(doubstrip[::-1])\n",
    "\n",
    "            \n",
    "\n",
    "    fi.close()\n",
    "    fo.close()\n",
    "\n",
    "reverse_lines(\"pc_rose.txt\", \"pc_writetestirene.txt\")"
   ]
  },
  {
   "cell_type": "markdown",
   "metadata": {},
   "source": [
    "---"
   ]
  },
  {
   "cell_type": "markdown",
   "metadata": {},
   "source": [
    "## Appending to text files"
   ]
  },
  {
   "cell_type": "markdown",
   "metadata": {},
   "source": [
    "\"Appending\" refers to writing at the end of an existing file. When you open a file for appending, the contents are not erased, but the file pointer is placed at the end of the file, where you can then write new data. You open a file in \"append\" mode by using \"`a`\" as the mode argument when opening the file.\n",
    "\n",
    "The code below first displays the contents of \"`pc_writetest.tmp`\". It then asks the user for lines which are appended to the file. Finally, it displays the contents of the new file. I took the liberty of creating this little program in a slightly-better structured manner than before, using a constant for the filename that is repeated three times in the program, and using a function to display the file contents as this functionality is needed twice."
   ]
  },
  {
   "cell_type": "code",
   "execution_count": null,
   "metadata": {},
   "outputs": [],
   "source": [
    "FILENAME = \"pc_writetest.tmp\"\n",
    "\n",
    "def displaycontents( filename ):\n",
    "    fp = open( filename )\n",
    "    print( fp.read() )\n",
    "    fp.close()\n",
    "\n",
    "displaycontents( FILENAME )\n",
    "\n",
    "def write_and_append(filename):\n",
    "    fp = open( FILENAME, \"a\" )\n",
    "    while True:\n",
    "        text = input( \"Please enter a line of text: \" )\n",
    "        if text == \"\":\n",
    "            break\n",
    "        fp.write( text+\"\\n\" )\n",
    "    fp.close()\n",
    "\n",
    "    displaycontents( FILENAME )\n",
    "    \n",
    "write_and_append(FILENAME)"
   ]
  },
  {
   "cell_type": "markdown",
   "metadata": {},
   "source": [
    "---"
   ]
  },
  {
   "cell_type": "markdown",
   "metadata": {},
   "source": [
    "## `os.path` methods"
   ]
  },
  {
   "cell_type": "markdown",
   "metadata": {},
   "source": [
    "At this point you know everything you need to handle text files in Python. However, there are several handy functions that make your life easier when dealing with files. These are collected in the `os.path` module. As per usual, I am not going to list all of them, but I will list the ones that you will use the most.\n",
    "\n",
    "In these functions, the term \"path\" refers to a filename or a directory name, complete with parent directories (and drive letter). The parent directories (and drive letter) do not *need* to be there explicitly, but even if they are not, implicitly they still are as each file and each directory is located in a particular place in the file system."
   ]
  },
  {
   "cell_type": "markdown",
   "metadata": {},
   "source": [
    "### `exists()`"
   ]
  },
  {
   "cell_type": "markdown",
   "metadata": {},
   "source": [
    "The function `exists()` gets a path as argument, and returns `True` if that path exists, and `False` if it does not."
   ]
  },
  {
   "cell_type": "code",
   "execution_count": 41,
   "metadata": {},
   "outputs": [
    {
     "name": "stdout",
     "output_type": "stream",
     "text": [
      "pc_rose.txt exists\n",
      "pc_tulip.txt does not exist\n"
     ]
    },
    {
     "data": {
      "text/plain": [
       "True"
      ]
     },
     "execution_count": 41,
     "metadata": {},
     "output_type": "execute_result"
    }
   ],
   "source": [
    "from os.path import exists\n",
    "\n",
    "def check_if_path_exists(file_name):\n",
    "    if exists(file_name ):\n",
    "        return( file_name + \" exists\" )\n",
    "    else:\n",
    "        return( file_name + \" does not exist\" )\n",
    "\n",
    "print(check_if_path_exists(\"pc_rose.txt\"))\n",
    "print(check_if_path_exists(\"pc_tulip.txt\"))\n",
    "\n",
    "exists(\"pc_rose.txt\")"
   ]
  },
  {
   "cell_type": "markdown",
   "metadata": {},
   "source": [
    "### `isfile()`"
   ]
  },
  {
   "cell_type": "markdown",
   "metadata": {},
   "source": [
    "`isfile()` tests if the path that is supplied as argument is a file. If it is, it returns `True`. If it is not, it returns `False`. If the path does not exist, the function also returns `False`."
   ]
  },
  {
   "cell_type": "code",
   "execution_count": 42,
   "metadata": {},
   "outputs": [
    {
     "name": "stdout",
     "output_type": "stream",
     "text": [
      "pc_rose.txt is a file\n"
     ]
    }
   ],
   "source": [
    "from os.path import isfile\n",
    "\n",
    "def check_if_file_exists(file_name):\n",
    "    if isfile( file_name ):\n",
    "        return( file_name + \" is a file\" )\n",
    "    else:\n",
    "        return( file_name + \" is not a file\" )\n",
    "    \n",
    "print(check_if_file_exists(\"pc_rose.txt\"))"
   ]
  },
  {
   "cell_type": "markdown",
   "metadata": {},
   "source": [
    "### `isdir()`"
   ]
  },
  {
   "cell_type": "markdown",
   "metadata": {},
   "source": [
    "`isdir()` tests if the path that is supplied as argument is a directory. If it is, it returns `True`. If it is not, it returns `False`. If the path does not exist, the function also returns `False`."
   ]
  },
  {
   "cell_type": "code",
   "execution_count": 43,
   "metadata": {},
   "outputs": [
    {
     "name": "stdout",
     "output_type": "stream",
     "text": [
      "pc_rose.txt is not a directory\n"
     ]
    }
   ],
   "source": [
    "from os.path import isdir\n",
    "\n",
    "def check_if_path_is_dir(file_name):\n",
    "    if isdir( file_name):\n",
    "        print( file_name + \" Rose is a directory\" )\n",
    "    else:\n",
    "        print(file_name + \" is not a directory\" )\n",
    "check_if_path_is_dir(\"pc_rose.txt\")"
   ]
  },
  {
   "cell_type": "markdown",
   "metadata": {},
   "source": [
    "### `join()`"
   ]
  },
  {
   "cell_type": "markdown",
   "metadata": {},
   "source": [
    "`join()` takes one or more parts of a path as argument, and concatenates them reasonably intelligently to a legal name for a path. This means that it will add and remove slashes as needed. `join()` is particularly handy in combination with `listdir()`. \n",
    "\n",
    "The reason that `join()` is handy with `listdir()`, is that `listdir()` results in a list of file names that do not include the directory names. Usually, when you ask for a list of file names, you intend to open them at some point. But to open a file that is not in the current directory, you need to know the complete path name that leads to the file. When you apply `listdir()`, you know where you are looking for files, so you know the elements of the path name. To construct the complete path name for each file, you need to concatenate the elements of the path name to the file name. Rather than trying to decide where you need to add slashes, and which kind of slashes they need to be, you can leave all of that to the `join()` function.\n",
    "\n",
    "The code below looks for all the files in the `pcdata` directory, and lists them including their complete path name. See how `join()` is used to construct that path name from the current directory, the `pcdata` directory, and the file name."
   ]
  },
  {
   "cell_type": "code",
   "execution_count": 44,
   "metadata": {},
   "outputs": [
    {
     "name": "stdout",
     "output_type": "stream",
     "text": [
      "/home/u169795/DataProcessing2018-Fall/pcdata/pc_bohemia.txt\n",
      "/home/u169795/DataProcessing2018-Fall/pcdata/pc_jeeves.txt\n",
      "/home/u169795/DataProcessing2018-Fall/pcdata/pc_woodchuck.txt\n"
     ]
    }
   ],
   "source": [
    "from os import listdir, getcwd\n",
    "from os.path import join\n",
    "\n",
    "def display_contents_dir(directory):\n",
    "    filelist = listdir( directory )\n",
    "    for name in filelist:\n",
    "        pathname = join( getcwd(), directory, name )\n",
    "        print( pathname )\n",
    "        \n",
    "display_contents_dir(\"pcdata\")"
   ]
  },
  {
   "cell_type": "markdown",
   "metadata": {},
   "source": [
    "### `basename()`"
   ]
  },
  {
   "cell_type": "markdown",
   "metadata": {},
   "source": [
    "`basename()` extracts the filename from a path, and returns it. "
   ]
  },
  {
   "cell_type": "code",
   "execution_count": 45,
   "metadata": {},
   "outputs": [
    {
     "name": "stdout",
     "output_type": "stream",
     "text": [
      "readme.txt\n"
     ]
    }
   ],
   "source": [
    "from os.path import basename\n",
    "\n",
    "print( basename( \"/System/Home/readme.txt\" ) )"
   ]
  },
  {
   "cell_type": "markdown",
   "metadata": {},
   "source": [
    "### `dirname()`"
   ]
  },
  {
   "cell_type": "markdown",
   "metadata": {},
   "source": [
    "`dirname()` extracts the directory name from a path, and returns it."
   ]
  },
  {
   "cell_type": "code",
   "execution_count": 46,
   "metadata": {},
   "outputs": [
    {
     "name": "stdout",
     "output_type": "stream",
     "text": [
      "/System/Home\n"
     ]
    }
   ],
   "source": [
    "from os.path import dirname\n",
    "\n",
    "print( dirname( \"/System/Home/readme.txt\" ) )"
   ]
  },
  {
   "cell_type": "markdown",
   "metadata": {},
   "source": [
    "### `getsize()`"
   ]
  },
  {
   "cell_type": "markdown",
   "metadata": {},
   "source": [
    "`getsize()` gets the size of the file that is supplied as argument, and returns it as an integer. The file must exist, otherwise you get a runtime error."
   ]
  },
  {
   "cell_type": "code",
   "execution_count": 47,
   "metadata": {},
   "outputs": [
    {
     "name": "stdout",
     "output_type": "stream",
     "text": [
      "485\n"
     ]
    }
   ],
   "source": [
    "from os.path import getsize\n",
    "\n",
    "numbytes = getsize( \"pc_rose.txt\" )\n",
    "print( numbytes )"
   ]
  },
  {
   "cell_type": "markdown",
   "metadata": {},
   "source": [
    "**Exercise**: In the code block below, write some code that adds up the sizes of all the files in the `pcdata` directory, and prints the result."
   ]
  },
  {
   "cell_type": "code",
   "execution_count": null,
   "metadata": {},
   "outputs": [],
   "source": [
    "# Add up file size.\n"
   ]
  },
  {
   "cell_type": "markdown",
   "metadata": {},
   "source": [
    "---"
   ]
  },
  {
   "cell_type": "markdown",
   "metadata": {},
   "source": [
    "## File encoding"
   ]
  },
  {
   "cell_type": "markdown",
   "metadata": {},
   "source": [
    "Text files use an \"encoding\", i.e., a system that prescribes how characters in the files are supposed to be interpreted. This encoding may differ between operating systems. You can see the preferred encoding that your system uses with a call to `sys.getfilesystemencoding()`."
   ]
  },
  {
   "cell_type": "code",
   "execution_count": 48,
   "metadata": {},
   "outputs": [
    {
     "name": "stdout",
     "output_type": "stream",
     "text": [
      "ascii\n"
     ]
    }
   ],
   "source": [
    "from sys import getfilesystemencoding\n",
    "\n",
    "print( getfilesystemencoding() )"
   ]
  },
  {
   "cell_type": "markdown",
   "metadata": {},
   "source": [
    "If you read a text file which uses a different encoding than your file system prefers, you may get a `UnicodeDecodeError`. Whether or not you get this error for a particular file, is related to your operating system. An annoying consequence of that is that when you port Python code that reads a file to another system, a file that could be read by your code previously may cause your code to crash after the port.\n",
    "\n",
    "An easy way to get around this problem is by adding an extra parameter when opening a file, which indicates the encoding mechanism that you want to use when reading the file. You do this by adding a parameter \"`encoding=<encodingname>`\", where `<encodingname>` is a string that can have a variety of values, for which some typical ones are:\n",
    "\n",
    "    ascii       7-bits encoding, supports characters with values in the range 00-7F\n",
    "    latin-1     8-bits encoding, supports characters with values in the range 00-FF\n",
    "    mbcs        2-byte encoding, that is currently getting replaced by UTF-8\n",
    "    utf-8       variable bytes encoding\n",
    "\n",
    "Typically, text files are created with `ascii` or `latin-1` encoding. Since `ascii` is incorporated in `latin-1`, you can safely open any text file by specifying `latin-1` as encoding. It is possible that for the characters beyond the `ascii` range, you get different characters than the person who created the file wanted you to see -- that depends on the encoding mechanism that your file system uses. But at least the `UnicodeDecodeError` is avoided.\n",
    "\n",
    "Note that while `utf-8` supports a much wider range of characters than `latin-1`, you may still get the `UnicodeDecodeError` when you read a text file that uses `latin-1` encoding on a system that uses `utf-8` encoding, as `utf-8` has no corresponding characters with values in the range 80-FF.\n",
    "\n",
    "For example, the following code opens a file that has been created with `latin-1` encoding. This will give an exception on a system that uses `utf-8` as default encoding:"
   ]
  },
  {
   "cell_type": "code",
   "execution_count": 49,
   "metadata": {},
   "outputs": [
    {
     "name": "stdout",
     "output_type": "stream",
     "text": [
      "A UnicodeDecodeError occurred\n",
      "None\n"
     ]
    }
   ],
   "source": [
    "def exemption_handling(file_name):\n",
    "    fp = open( file_name )\n",
    "    try:\n",
    "        buffer = fp.readlines()\n",
    "        output = \"\"\n",
    "        for i in range(7):\n",
    "            output += buffer[i]\n",
    "        return(output)\n",
    "    except UnicodeDecodeError:\n",
    "        print( \"A UnicodeDecodeError occurred\" )\n",
    "    finally:\n",
    "        fp.close()\n",
    "        \n",
    "print(exemption_handling(\"pc_erlkonig.txt\"))"
   ]
  },
  {
   "cell_type": "markdown",
   "metadata": {},
   "source": [
    "You can resolve this by simply specifying `latin-1` as encoding mechanism:"
   ]
  },
  {
   "cell_type": "code",
   "execution_count": 50,
   "metadata": {},
   "outputs": [
    {
     "name": "stdout",
     "output_type": "stream",
     "text": [
      "Erlkönig\n",
      "J.W. Goethe\n",
      "\n",
      "Wer reitet so spät durch Nacht und Wind?\n",
      "Es ist der Vater mit seinem Kind;\n",
      "Er hat den Knaben wohl in dem Arm,\n",
      "Er faßt ihn sicher, er hält ihn warm.\n",
      "\n"
     ]
    }
   ],
   "source": [
    "def exemption_handling(file_name):\n",
    " \n",
    "    fp = open( file_name, encoding=\"latin-1\" )\n",
    "    try:\n",
    "        output = \"\"\n",
    "        buffer = fp.readlines()\n",
    "        for i in range(7):\n",
    "            output += buffer[i]\n",
    "        return output\n",
    "    except UnicodeDecodeError:\n",
    "        print( \"A UnicodeDecodeError occurred\" )\n",
    "    finally:\n",
    "        fp.close()\n",
    "        \n",
    "print(exemption_handling(\"pc_erlkonig.txt\"))"
   ]
  },
  {
   "cell_type": "markdown",
   "metadata": {},
   "source": [
    "**Exercise**: If you change the encoding mechanism for this file to `utf-8`, it will enforce the `UnicodeDecodeError` as it contains characters with numbers in the range 80-FF. Try this.\n",
    "\n",
    "If you want to see which special characters are supported with values in the range 80-FF on your system, run the code below. The numerical value of a character in the table can be derived by calculating `16*row+col`, whereby `row` and `col` are the hexadecimal row and column number, respectively. I do not display the characters in the range 80-9F, as these are normally not filled in."
   ]
  },
  {
   "cell_type": "code",
   "execution_count": 51,
   "metadata": {},
   "outputs": [
    {
     "name": "stdout",
     "output_type": "stream",
     "text": [
      " 0 1 2 3 4 5 6 7 8 9 A B C D E F\n",
      "A   ¡ ¢ £ ¤ ¥ ¦ § ¨ © ª « ¬ ­ ® ¯\n",
      "B ° ± ² ³ ´ µ ¶ · ¸ ¹ º » ¼ ½ ¾ ¿\n",
      "C À Á Â Ã Ä Å Æ Ç È É Ê Ë Ì Í Î Ï\n",
      "D Ð Ñ Ò Ó Ô Õ Ö × Ø Ù Ú Û Ü Ý Þ ß\n",
      "E à á â ã ä å æ ç è é ê ë ì í î ï\n",
      "F ð ñ ò ó ô õ ö ÷ ø ù ú û ü ý þ ÿ\n"
     ]
    }
   ],
   "source": [
    "for i in range(16):\n",
    "    if i < 10:\n",
    "        print( ' '+chr( ord( '0' )+i ), end='' )\n",
    "    else:\n",
    "        print( ' '+chr( ord( 'A' )+i-10 ), end='' )\n",
    "print()\n",
    "for i in range( 10, 16 ):\n",
    "    print( chr( ord( 'A' )+i-10 ), end='' )\n",
    "    for j in range( 16 ):\n",
    "        c = i*16+j\n",
    "        print( ' '+chr( c ), end='' )\n",
    "    print()"
   ]
  },
  {
   "cell_type": "markdown",
   "metadata": {},
   "source": [
    "---"
   ]
  },
  {
   "cell_type": "markdown",
   "metadata": {},
   "source": [
    "## What you learned"
   ]
  },
  {
   "cell_type": "markdown",
   "metadata": {},
   "source": [
    "In this chapter, you learned about:\n",
    "\n",
    "- Text files\n",
    "- File pointers\n",
    "- Opening and closing files with `open()` and `close()`\n",
    "- Reading files with `read()`, `readline()`, and `readlines()`\n",
    "- Writing files with `write()` and `writelines()`\n",
    "- Appending to files\n",
    "- `os.path` methods `exists()`, `isfile()`, `isdir()`, `join()`, `basename()`, `dirname()`, and `getsize()`\n",
    "- Dealing with text files with different encoding mechanisms"
   ]
  },
  {
   "cell_type": "markdown",
   "metadata": {},
   "source": [
    "---"
   ]
  },
  {
   "cell_type": "markdown",
   "metadata": {},
   "source": [
    "## Exercises"
   ]
  },
  {
   "cell_type": "markdown",
   "metadata": {},
   "source": [
    "### Exercise 11.1"
   ]
  },
  {
   "cell_type": "markdown",
   "metadata": {},
   "source": [
    "Write a program that reads the contents of the file \"`pc_woodchuck.txt`\", splits it into words (where everything that is not a letter is considered a word boundary), and case-insensitively builds a dictionary that stores for every word how often it occurs in the text. Then print all the words with their quantities in alphabetical order."
   ]
  },
  {
   "cell_type": "code",
   "execution_count": 2,
   "metadata": {},
   "outputs": [
    {
     "name": "stdout",
     "output_type": "stream",
     "text": [
      "{'not': 2, 'call': 1, 'nor': 5, 'name;': 1, 'romeo': 3, 'smell': 1, 'thy': 2, 'is': 3, 'foot': 1, 'to': 1, 'man': 1, 'thee': 1, 'any': 2, 'doff': 1, 'owes': 1, 'it': 1, 'rose': 1, 'montague': 2, 'enemy': 1, 'belonging': 1, 'other': 3, 'myself': 1, 'for': 1, 'and': 1, \"what's\": 2, 'hand': 1, 'but': 1, 'so': 1, 'face': 1, 'dear': 1, \"'tis\": 1, 'thyself': 1, 'of': 1, 'be': 1, 'thou': 1, \"call'd\": 1, 'retain': 1, 'part': 2, 'in': 1, 'all': 1, 'arm': 1, 'no': 1, 'we': 1, 'by': 1, 'he': 2, 'though': 1, 'o': 1, 'art': 1, 'without': 1, 'would': 2, 'take': 1, 'name': 5, 'some': 1, 'title': 1, 'perfection': 1, 'which': 3, 'were': 1, 'my': 1, 'as': 1, 'that': 5, 'sweet': 1, 'a': 4}\n"
     ]
    }
   ],
   "source": [
    "# Counting words in pc_woodchuck.txt.\n",
    "fp = open( \"pc_rose.txt\")\n",
    "text = fp.readlines()\n",
    "word_list = []\n",
    "for lines in text:\n",
    "    words = lines.split()\n",
    "    for word in words:\n",
    "        word_list.append(word.lower().strip('.,:!?)()\\n'))\n",
    "        \n",
    "dic = {}\n",
    "for word in word_list:\n",
    "    if word not in dic:\n",
    "        dic[word] = 0\n",
    "    if word in dic:\n",
    "        dic[word] += 1 \n",
    "\n",
    "print(dic)\n",
    "fp.close()\n"
   ]
  },
  {
   "cell_type": "markdown",
   "metadata": {},
   "source": [
    "### Exercise 11.2"
   ]
  },
  {
   "cell_type": "markdown",
   "metadata": {},
   "source": [
    "Do the same thing as you did for the previous exercise, but now process the text line by line. This is something that you would have to do if you had to process a very long text."
   ]
  },
  {
   "cell_type": "code",
   "execution_count": null,
   "metadata": {},
   "outputs": [],
   "source": [
    "# Counting words line by line.\n"
   ]
  },
  {
   "cell_type": "markdown",
   "metadata": {},
   "source": [
    "### Exercise 11.3"
   ]
  },
  {
   "cell_type": "markdown",
   "metadata": {},
   "source": [
    "In this directory you find a file `pc_bohemia.txt`. Write a program that processes the contents of this file, line by line. It creates an output file in the current working directory called `pc_bohemia.tmp`, which has the same contents as `pc_bohemia.txt`, except that all the vowels are removed (case-insensitively). At the end, display how many characters you read, and how many characters you wrote. If you want to check the contents of `pc_bohemia.tmp`, you can either open it in a text editor, or display the first 10 lines or so at the end of your program."
   ]
  },
  {
   "cell_type": "code",
   "execution_count": null,
   "metadata": {},
   "outputs": [],
   "source": [
    "# Removing vowels.\n"
   ]
  },
  {
   "cell_type": "markdown",
   "metadata": {},
   "source": [
    "---"
   ]
  },
  {
   "cell_type": "markdown",
   "metadata": {},
   "source": [
    "End of Chapter 11. Version 1.1. "
   ]
  }
 ],
 "metadata": {
  "kernelspec": {
   "display_name": "Python 3",
   "language": "python",
   "name": "python3"
  },
  "language_info": {
   "codemirror_mode": {
    "name": "ipython",
    "version": 3
   },
   "file_extension": ".py",
   "mimetype": "text/x-python",
   "name": "python",
   "nbconvert_exporter": "python",
   "pygments_lexer": "ipython3",
   "version": "3.5.3"
  }
 },
 "nbformat": 4,
 "nbformat_minor": 1
}
