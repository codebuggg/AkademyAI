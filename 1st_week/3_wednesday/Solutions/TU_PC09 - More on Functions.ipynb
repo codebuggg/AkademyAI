{
 "cells": [
  {
   "cell_type": "markdown",
   "metadata": {},
   "source": [
    "# Chapter 9 - More on Functions"
   ]
  },
  {
   "cell_type": "markdown",
   "metadata": {},
   "source": [
    "-----------"
   ]
  },
  {
   "cell_type": "markdown",
   "metadata": {},
   "source": [
    "In Chapter 6 we described how to create and use functions. This chapter gives more information about how functions work in more detail, and introduces more of the functions and modules built in Python."
   ]
  },
  {
   "cell_type": "markdown",
   "metadata": {},
   "source": [
    "---"
   ]
  },
  {
   "cell_type": "markdown",
   "metadata": {},
   "source": [
    "## Why create functions?"
   ]
  },
  {
   "cell_type": "markdown",
   "metadata": {},
   "source": [
    "Why would you want to create a function? There are several different reasons why you want to have a function:\n",
    "\n",
    "- You may need a particular functionality for your code that you want to develop independently of the rest of the code. If you put such a functionality in a function, that means that after developing and testing the functionality you can use it without thinking about it anymore.\n",
    "- You may need a particular functionality that returns in different places in your code, and rather than copy it to all these places, you write a function for it which you call in all these places.\n",
    "- You may need a particular functionality in your code that you need to control using parameters. If you put it in a function, the parameters become clearer and the code becomes more readable and easy to maintain.\n",
    "- Your program may just be getting too long to keep a solid grasp on its contents, and you feel you can improve readability and maintainability by splitting off inherently connected blocks into functions.\n",
    "- You may have problems solving a big problem in one go, and decide to divide it into sub-problems (which is usually a good idea). You can now create a function for each of these sub-problems, and by connecting them together, solve the big problem.\n",
    "- Your program may contain deeply nested conditions or loops, and would benefit enormously as far as readability is concerned by moving some of the deeper nestings into functions.\n",
    "- You may want to re-use code in different programs, and functions are a good way to transfer code between programs.\n",
    "- You may want to release some of your code to other programmers, and functions are, again, a good way to do that.\n",
    "\n",
    "In general, the advantage of functions is that they provide a means to effectuate:\n",
    "\n",
    "- *Encapsulation*: Wrapping up a piece of useful code in such a way that it can be used without knowledge of the specifics\n",
    "- *Generalization*: Making a piece of code useful for a variety of circumstances by controlling it via parameters\n",
    "- *Manageability*: Dividing a complex program into easy-to-manage chunks\n",
    "- *Maintainability*: Using meaningful names and logical wrappings to make a program better readable and understandable  \n",
    "- *Reusability*: Facilitating the transfer of functionalities between programs\n"
   ]
  },
  {
   "cell_type": "markdown",
   "metadata": {},
   "source": [
    "---"
   ]
  },
  {
   "cell_type": "markdown",
   "metadata": {},
   "source": [
    "### Welcome to the machine"
   ]
  },
  {
   "cell_type": "markdown",
   "metadata": {},
   "source": [
    "If you still have troubles imagining how functions work, think of them like this:\n",
    "\n",
    "A function is like a big machine, for instance, a machine that makes pancakes. It has some input hoppers at the top, which are labeled \"milk\", \"eggs\", and \"flour\". Those are the input parameters. You can decide what pancakes you want by putting the right stuff in the hoppers; for instance, if you want whole-grain pancakes, you put whole-grain flour into the \"flour\" hopper. Of course, you can be certain that things will go dramatically wrong if you put eggs into the \"milk\" hopper -- or you try to put a cat into the \"flour\" hopper.\n",
    "\n",
    "Anyway, once the hoppers are loaded the machine starts huffing and puffing. You patiently wait next to the output hopper which, surprise surprise, is labeled \"return\". And after a short while, a pancake slides out. The pancake is the return value that the machine produced.\n",
    "\n",
    "The machine also has a display. Maybe after you put something inappropriate into the \"flour\" hopper, the display says: \"Cat stuck in the machine, please reset\". The display is where everything that you \"print\" in the machine appears.\n",
    "\n",
    "Now, you understand that it is useless if, after loading the right ingredients into the input hopper, the machine just displays \"Pancake is ready!\" You want the actual pancake. That's why the machine must \"return\" it via its output hopper, from which you can take it and \"assign\" it to your lunch plate. Just printing that the pancake exists is not sufficient.\n",
    "\n",
    "By the way, one of the nice things about the pancake making machine is that even if you do not know how pancakes are made, you can still get pancakes as long as you manage to supply the right ingredients. That's also what is so nice about functions: they may do complex things for you without you needing to know how they accomplish them."
   ]
  },
  {
   "cell_type": "markdown",
   "metadata": {},
   "source": [
    "### Multiple return values"
   ]
  },
  {
   "cell_type": "markdown",
   "metadata": {},
   "source": [
    "In your functions, you are not limited to returning just one value. You can return multiple values by putting commas in between. If you want to use these values in the program after the call to the function, you have to assign them to multiple variables. You put them to the left of the assignment, also with commas in between. This is easiest to illustrate with and example:"
   ]
  },
  {
   "cell_type": "code",
   "execution_count": 23,
   "metadata": {},
   "outputs": [
    {
     "name": "stdout",
     "output_type": "stream",
     "text": [
      "2016/1/7\n"
     ]
    }
   ],
   "source": [
    "import datetime\n",
    "\n",
    "def addDays( year, month, day, dayincrement ):\n",
    "    startdate = datetime.datetime( year, month, day )\n",
    "    enddate = startdate + datetime.timedelta( days=dayincrement )\n",
    "    return enddate.year, enddate.month, enddate.day\n",
    "    \n",
    "y, m, d = addDays( 2015, 11, 13, 55 )\n",
    "print( \"{}/{}/{}\".format( y, m, d ) )"
   ]
  },
  {
   "cell_type": "markdown",
   "metadata": {},
   "source": [
    "The function `addDays()` gets four arguments, namely integers indicating a year, a month, and a day, and a number of days that you want to add to that date. It returns three values, namely a new year, month, and day. These are in this code captured in the main program in three variables, namely `y`, `m`, and `d`.\n",
    "\n",
    "When you look at the code above, you might be mystified how exactly `addDays()` is doing its job. As I said, it is nice that as long as the function works and you know what arguments it wants and what it returns, you can use the function without any knowledge of its internal process. So you can just ignore the code for `addDays()` (note: the contents of `addDays()` use the `datetime` module, which is discussed much later in the course)."
   ]
  },
  {
   "cell_type": "markdown",
   "metadata": {},
   "source": [
    "### Naming functions"
   ]
  },
  {
   "cell_type": "markdown",
   "metadata": {},
   "source": [
    "Convention prescribes that you should not start a function name with an underscore (such function names are reserved for the developers of Python itself), and that you try to use only lower case letters. If the function name consists of multiple words, you can either put underscores between the words, or start every word except the first with a capital (different programmers prefer different conventions in this respect, but it does not matter much as you can always recognize a function by the fact that it has parentheses after the name).\n",
    "\n",
    "Certain function names are typical for particular functionalities.\n",
    "\n",
    "A function that tests if a certain item has a certain property, which then returns either `True` or `False` depending on whether the property holds, commonly has a name that starts with the word `is`, which is then followed by the name of the property, starting with a capital. For instance, a function that tests if a number is even, would be called `isEven()`.\n",
    "\n",
    "**Exercise**: Write the function `isEven()`."
   ]
  },
  {
   "cell_type": "code",
   "execution_count": 25,
   "metadata": {},
   "outputs": [
    {
     "data": {
      "text/plain": [
       "False"
      ]
     },
     "execution_count": 25,
     "metadata": {},
     "output_type": "execute_result"
    }
   ],
   "source": [
    "def isEven(number):\n",
    "    if number%2 == 0:\n",
    "        return True\n",
    "    else:\n",
    "        return False\n",
    "\n",
    "isEven(3)"
   ]
  },
  {
   "cell_type": "markdown",
   "metadata": {},
   "source": [
    "Note: if you want to use a function like `isEven()` in a conditional statement, for instance, you want to execute an action only for numbers that are even, you do not need to write `if isEven( num ) == True:`. You can simply write `if isEven( num ):`, because the function already returns `True` or `False`. Using an `is`-function in such a way makes a program more readable.\n",
    "\n",
    "A function that gets the value of a certain property and returns it, commonly starts with the word `get`, which is then followed by the name of the property, starting with a capital. For instance, a function that gets the fractional part of a float (i.e., the decimals) would be called `getFraction()`.\n",
    "\n",
    "**Exercise**: Write the function `getFraction()`."
   ]
  },
  {
   "cell_type": "code",
   "execution_count": 44,
   "metadata": {},
   "outputs": [
    {
     "data": {
      "text/plain": [
       "0.4531999999999998"
      ]
     },
     "execution_count": 44,
     "metadata": {},
     "output_type": "execute_result"
    }
   ],
   "source": [
    "# getFraction. \n",
    "def getFraction (n):\n",
    "    decimals = n -(int(n))\n",
    "    return decimals\n",
    "\n",
    "getFraction(3.4532) "
   ]
  },
  {
   "cell_type": "code",
   "execution_count": 38,
   "metadata": {},
   "outputs": [
    {
     "name": "stdout",
     "output_type": "stream",
     "text": [
      "0.667\n"
     ]
    }
   ],
   "source": [
    "print(round(2/3,3))"
   ]
  },
  {
   "cell_type": "markdown",
   "metadata": {},
   "source": [
    "The opposite of a `get` function is a function that gives a property a certain value. Such a function commonly starts with `set`, and for the rest is similar to a `get` function. I cannot give an example as at this point I have not yet explained how you can use a function to give something a value, as functions cannot change the values of their parameters (at least, for the data types that we have used until now). This will follow in a later chapter.\n",
    "\n",
    "If you stick to such naming conventions, it will make your code more readable."
   ]
  },
  {
   "cell_type": "markdown",
   "metadata": {},
   "source": [
    "### Commenting functions"
   ]
  },
  {
   "cell_type": "markdown",
   "metadata": {},
   "source": [
    "In all the chapters until now, you have seen very little commenting of code. While programming courses often encourage students to write comments in code, I myself am of the opinion that code should be \"self-documenting\", i.e., that you can easily derive from code what it does simply by reading it. You can accomplish that often by choosing strong names for variables and functions, judiciously using whitespaces and empty lines, good indenting (which Python enforces), and not using any convoluted trickery just because it makes the code a little bit faster or to show off how smart you are.\n",
    "\n",
    "(Little anecdote on the side here: I once heard someone extol the intellect of a certain programmer by saying \"when I see his code, I don't understand any of it!\" When someone would say that about my code, I would feel deeply ashamed.)\n",
    "\n",
    "So while I see comments as an extra that you should use when you feel you need to explain something particular about your code, my opinion on comments for functions is different. The idea behind a function is that the user of the function does not need to look at the function's code to use it. Therefore, what the function does and how it works, should be explained in comments at the top of the function, above the function name.\n",
    "\n",
    "In the comments for a function, you explain three things:\n",
    "- What the function does\n",
    "- What arguments the function needs/accepts, including data types\n",
    "- What the function returns, including data types\n",
    "\n",
    "If a function has any side effects, i.e., things it affects in the main program, then this should be carefully documented in the comments too. I do not put that in the list above, because a function *should not have any side effects*."
   ]
  },
  {
   "cell_type": "markdown",
   "metadata": {},
   "source": [
    "---"
   ]
  },
  {
   "cell_type": "markdown",
   "metadata": {},
   "source": [
    "## Scope and lifetime"
   ]
  },
  {
   "cell_type": "markdown",
   "metadata": {},
   "source": [
    "Scope refers to visibility. In particular, when discussing the scope of a variable, it refers to the places in a program where a variable is visible and can be changed. Lifetime refers to how long a variable exists in memory. Lifetime is closely related to scope, which is why I discuss them in one section."
   ]
  },
  {
   "cell_type": "markdown",
   "metadata": {},
   "source": [
    "### Scope of variables"
   ]
  },
  {
   "cell_type": "markdown",
   "metadata": {},
   "source": [
    "The scope of a variable is the code block in which it is created, and all the code blocks that are nested within that code block at a deeper indent level. For instance:"
   ]
  },
  {
   "cell_type": "code",
   "execution_count": 51,
   "metadata": {},
   "outputs": [
    {
     "name": "stdout",
     "output_type": "stream",
     "text": [
      "Goodbye!\n",
      "Goodbye!\n",
      "1\n",
      "Hi!\n",
      "Good afternoon\n",
      "Goodbye!\n",
      "Goodbye!\n",
      "1\n",
      "Hi!\n",
      "Good afternoon\n",
      "Goodbye!\n",
      "Goodbye!\n",
      "1\n",
      "Hi!\n",
      "Good afternoon\n",
      " \n",
      "2\n",
      "1\n",
      "Good afternoon\n"
     ]
    }
   ],
   "source": [
    "hello = \"Hi!\"\n",
    "bye = \"Goodbye!\"\n",
    "for i in range( 3 ):\n",
    "    for j in range( 2 ):\n",
    "        afternoon = \"Good afternoon\"\n",
    "        print( bye )\n",
    "    print( j )\n",
    "    print( hello )\n",
    "    print( afternoon )\n",
    "\n",
    "print(\" \")    \n",
    "print( i )\n",
    "print( j )\n",
    "print( afternoon )"
   ]
  },
  {
   "cell_type": "markdown",
   "metadata": {},
   "source": [
    "The variables `hello` and `bye` are defined at the top level of the program, which means their scope is the whole program. The variables `i`, `j`, and `afternoon` are defined in code blocks which are at a deeper indent level. In most programming languages, that would mean that their scope would be restricted to those deeper levels, but Python is friendly in this respect and makes their scope extend beyond the loop that they are in. So all these variables are visible in the program after they have been defined. How does this work with functions?"
   ]
  },
  {
   "cell_type": "code",
   "execution_count": 54,
   "metadata": {},
   "outputs": [
    {
     "name": "stdout",
     "output_type": "stream",
     "text": [
      "There are 1.2 dimes in a dozen\n",
      "dime = 10 and dozen = 12\n"
     ]
    }
   ],
   "source": [
    "dozen = 12\n",
    "\n",
    "def dimeAdozen():\n",
    "    print( \"There are\", dozen/dime, \"dimes in a dozen\" )\n",
    "    \n",
    "dime = 10\n",
    "dimeAdozen()\n",
    "print( \"dime =\", dime, \"and dozen =\", dozen )"
   ]
  },
  {
   "cell_type": "markdown",
   "metadata": {},
   "source": [
    "Again, we see that both `dozen` and `dime` are visible within the function `dimeAdozen()`. They can be seen by the function because they have been defined before the function is called, and since the code block of the function is at a deeper indent level, it can see these variables.\n",
    "\n",
    "However, now look at the following code, which contains a small change from the code above:"
   ]
  },
  {
   "cell_type": "code",
   "execution_count": 55,
   "metadata": {},
   "outputs": [
    {
     "name": "stdout",
     "output_type": "stream",
     "text": [
      "There are 1.3 dimes in a dozen\n",
      "dime = 10 and dozen = 12\n"
     ]
    }
   ],
   "source": [
    "dozen = 12\n",
    "\n",
    "def dimeAdozen():\n",
    "    dozen = 13\n",
    "    print( \"There are\", dozen/dime, \"dimes in a dozen\" )\n",
    "    \n",
    "dime = 10\n",
    "dimeAdozen()\n",
    "print( \"dime =\", dime, \"and dozen =\", dozen )"
   ]
  },
  {
   "cell_type": "markdown",
   "metadata": {},
   "source": [
    "Examine this code and its output closely, and compare it with the code and the output of the code block above it. The variable `dozen` seems to get a new value in the function `dimeAdozen()`, which leads to the function claiming that there are now 1.3 dimes in a dozen. However, when the value of `dozen` is printed in the main program, its value is shown to be still 12, and not 13.\n",
    "\n",
    "The reason is that the variable `dozen` in the function is a different one than the variable `dozen` in the main program. By assigning a value to a variable in a function, a new, \"local\" variable is created. And this variable is used for the remainder of the function. The original variable `dozen` still exists, but is invisible to the function once it has created its own `dozen`.\n",
    "\n",
    "The lifetime of the variable `dozen` in the function is the period for which the code block of the function is executed. As soon as the function ends (either because of a `return`, or because the last line was executed), the local variables of the function are destroyed. They are no longer in the computer's memory, and can no longer be accessed."
   ]
  },
  {
   "cell_type": "code",
   "execution_count": 56,
   "metadata": {},
   "outputs": [
    {
     "name": "stdout",
     "output_type": "stream",
     "text": [
      "apple banana\n",
      "cherry cherry\n",
      "cherry mango\n",
      "apple = apple\n",
      "banana = banana\n",
      "cherry = cherry\n",
      "durian = durian\n"
     ]
    }
   ],
   "source": [
    "apple = \"apple\"\n",
    "banana = \"banana\"\n",
    "cherry = \"cherry\"\n",
    "durian = \"durian\"\n",
    "\n",
    "def printfruits_1():\n",
    "    print( apple, banana )\n",
    "\n",
    "def printfruits_2( apple ):\n",
    "    banana = cherry\n",
    "    print( apple, banana )\n",
    "    \n",
    "def printfruits_3( apple, banana ):\n",
    "    cherry = \"mango\"\n",
    "    banana = cherry\n",
    "    print( apple, banana )\n",
    "    \n",
    "printfruits_1()\n",
    "printfruits_2( cherry )\n",
    "printfruits_3( cherry, durian )\n",
    "\n",
    "print( \"apple =\", apple )\n",
    "print( \"banana =\", banana )\n",
    "print( \"cherry =\", cherry )\n",
    "print( \"durian =\", durian )"
   ]
  },
  {
   "cell_type": "markdown",
   "metadata": {},
   "source": [
    "Study this code closely.\n",
    "\n",
    "The three functions `printfruits_1()`, `printfruits_2()`, and `printfruits_3()` print the variables `apple` and `banana`. \n",
    "\n",
    "In `printfruits_1()` these are the two variables `apple` and `banana` that are defined outside the function, as the function itself does not try to define these variables. \n",
    "\n",
    "In `printfruits_2()`, `apple` is the parameter of the function, which means it is a variable local to the function that gets its value from outside the function. The value it gets is the value of the variable `cherry` (because `cherry` is provided as the argument when the function is called), which is the word \"cherry\". `banana` is a variable that gets its value in the function. This is a new, local variable `banana`, which has nothing to do with the variable `banana` in the main program. It gets the value of `cherry`, which is not locally known to the function, so it uses the variable `cherry` from the main program for that. Therefore, the local variable `banana` gets the value \"cherry\", and this is the value that is printed. \n",
    "\n",
    "In `printfruits_3()`, `apple` and `banana` are both parameters, so they are both variables that are local to the function and that get their initial value from the call to the function. The function then creates a local variable `cherry`, which is independent from the variable `cherry` from the main program. It then assigns the value of `cherry`, which is \"mango\", to the local variable `banana`. All these changes are therefore made to local variables, and have no influence on the values of variables from the main program.\n",
    "\n",
    "When after the function calls the values of the variables from the main program are printed, you see that they still have the values that were originally assigned to them, regardless of whether they were used as arguments to the function calls, or whether variables in the functions with the same names got different values assigned. As soon as a variable in a function gets assigned a value, if that variable was not yet created in the function and was not a parameter of the function, a new, local variable is created and used in the function. Such a new, local variable is completely independent from any variable which exists outside the function. Its lifetime is the period for which the function is executed. Parameters can also be considered local variables of a function. \n",
    "\n",
    "This is a very powerful feature of functions: they do not have to take into account variables that exist outside the function, as any variable that they create is local to the function."
   ]
  },
  {
   "cell_type": "markdown",
   "metadata": {},
   "source": [
    "### Global variables"
   ]
  },
  {
   "cell_type": "markdown",
   "metadata": {},
   "source": [
    "Variables that are created outside a function are visible in the function, unless a new variable with the same name is created in the function. Variables from the main program are called \"global\" variables, as they are visible anywhere in the program, as opposed to \"local\" variables that are only visible in a function. \n",
    "\n",
    "It is good practice to make functions independent from the main program, i.e., to not let them access any of the global variables. If you do need to communicate values from outside a function to the function, then do so by means of parameters. An exception can be made for variables that are used as constants (see Chapter 5). If you do let a function access a constant, then make sure it is clear to anyone who inspects the function that you are referring to a constant, i.e., that the name of the constant is written in all capitals.\n",
    "\n",
    "You might wonder if it isn't possible to change the values of global variables in a function. This is, in fact, possible, but in the function you have to make clear that you explicitly want the global variable to be affected by using the keyword `global`. With the statement `global <variable>` you indicate that the particular variable mentioned is actually referring to the global variable of this name. For example:"
   ]
  },
  {
   "cell_type": "code",
   "execution_count": 59,
   "metadata": {},
   "outputs": [
    {
     "name": "stdout",
     "output_type": "stream",
     "text": [
      "apple\n",
      "apple\n",
      "banana\n",
      "banana\n"
     ]
    }
   ],
   "source": [
    "fruit = \"apple\"\n",
    "\n",
    "def changeFruit():\n",
    "    global fruit\n",
    "    fruit = \"banana\"\n",
    "print( fruit )    \n",
    "print( fruit )\n",
    "changeFruit()\n",
    "print( fruit )\n",
    "print( fruit )"
   ]
  },
  {
   "cell_type": "markdown",
   "metadata": {},
   "source": [
    "While it is possible to affect global variables in functions, this is not recommended as it makes the function dependent on the main program (and thus no longer a \"pure\" function). Basically, it makes the function have side effects, and (all together now:) *a function should not have any side effects*.\n",
    "\n",
    "It is also never necessary to include `global` variables in a function. If you want to allow a function to affect a global variable, then let the function return a value that can be assigned to the global variable. Leave it to the main program to decide whether or not to overwrite the value of one of its own variables. The only reason I mention it here is that I sometimes see students reverting to the keyword `global` because they have insufficient understanding of `return` statements. Denying the existence of `global` is not effective, I rather admit that it exists and warn students against using it."
   ]
  },
  {
   "cell_type": "code",
   "execution_count": null,
   "metadata": {},
   "outputs": [],
   "source": []
  },
  {
   "cell_type": "markdown",
   "metadata": {},
   "source": [
    "---"
   ]
  },
  {
   "cell_type": "markdown",
   "metadata": {},
   "source": [
    "## Managing program complexity"
   ]
  },
  {
   "cell_type": "markdown",
   "metadata": {},
   "source": [
    "Suppose that Python would not have built-in `max()` and `min()` function, and neither do you have knowledge of (or are allowed to) use anything of the chapters after this one. You get the following assignment:\n",
    "\n",
    "Write a program that processes two groups of three numbers (you can write the program for fixed numbers, but later on you will add that the user enters these numbers). It adds up the lowest numbers of each of the groups, the middle numbers of each of the groups, and the highest numbers of each of the groups. It then prints these three results.\n",
    "\n",
    "How do you do this? You can start with something like:"
   ]
  },
  {
   "cell_type": "code",
   "execution_count": 60,
   "metadata": {},
   "outputs": [
    {
     "name": "stdout",
     "output_type": "stream",
     "text": [
      "436\n",
      "178\n"
     ]
    }
   ],
   "source": [
    "num11, num12, num13 = 436, 178, 992\n",
    "num21, num22, num23 = 880, 543, 101\n",
    "\n",
    "smallest1 = 0\n",
    "smallest2 = 0\n",
    "medium1 = 0\n",
    "medium2 = 0\n",
    "largest1 = 0\n",
    "largest2 = 0\n",
    "\n",
    "if num11 < num12:\n",
    "    if num11 < num13:\n",
    "        smallest1 = num11\n",
    "    else:\n",
    "        smallest1 = num13\n",
    "elif num12 < num13:\n",
    "    smallest1 = num12\n",
    "else:\n",
    "    smallest1 = num13\n",
    "\n",
    "# Test:\n",
    "print( smallest1 )\n",
    "\n",
    "# This works to get the smallest from group 1.\n",
    "# Now do the same for the smallest from group 2.\n",
    "# Then do something like this for the largest of group 1 and group 2.\n",
    "# Then invent something for taking the middle one.\n",
    "# Finally, do all the additions and print the results..."
   ]
  },
  {
   "cell_type": "markdown",
   "metadata": {},
   "source": [
    "You can imagine that with this approach, with nested `if` statements that get repeated six times with different assignments in the branches, this becomes a huge, unreadable, unmanageable program of which it is hard to see whether it is correct or not. You have to approach the problem in a smarter way. \n",
    "\n",
    "Suppose that you have a function that determines the smallest of three numbers, a function that determines the middle one of three numbers, and a function that determines the largest one of three numbers. Then the program is pretty simple to write! It will be something like:"
   ]
  },
  {
   "cell_type": "code",
   "execution_count": 61,
   "metadata": {},
   "outputs": [
    {
     "name": "stdout",
     "output_type": "stream",
     "text": [
      "sum of smallest = 1316\n",
      "sum of middle = 1316\n",
      "sum of largest = 1316\n"
     ]
    }
   ],
   "source": [
    "num11, num12, num13 = 436, 178, 992\n",
    "num21, num22, num23 = 880, 543, 101\n",
    "\n",
    "def smallest( n1, n2, n3 ):\n",
    "    return n1 # just return something for now\n",
    "\n",
    "def middle( n1, n2, n3 ):\n",
    "    return n1 # just return something for now\n",
    "\n",
    "def largest( n1, n2, n3 ):\n",
    "    return n1 # just return something for now\n",
    "\n",
    "print( \"sum of smallest =\", smallest( num11, num12, num13 ) + smallest( num21, num22, num23 ) )\n",
    "print( \"sum of middle =\", middle( num11, num12, num13 ) + middle( num21, num22, num23 ) )\n",
    "print( \"sum of largest =\", largest( num11, num12, num13 ) + largest( num21, num22, num23 ) )"
   ]
  },
  {
   "cell_type": "markdown",
   "metadata": {},
   "source": [
    "This program readable, understandable, and can already be tested. True, the functions `smallest()`, `middle()`, and `largest()` do not return the correct values yet. While writing the program above, you might not even have an idea on how to write them. But you probably feel that they could be written, and you know that you can produce code for them later, and step by step. \n",
    "\n",
    "So how do you do `smallest()`? Well, as I showed above, doing this with nested `if` statements becomes a bit convoluted and unreadable (really, don't look at how I did it and try to write this yourself; it is pretty hard to keep the three variables in your head while writing such a nested `if`). Can this be approached in a more readable way?\n",
    "\n",
    "Is it hard to determine the smallest of *two* numbers? No, that is really easy. You can do it like this:"
   ]
  },
  {
   "cell_type": "code",
   "execution_count": 62,
   "metadata": {},
   "outputs": [
    {
     "name": "stdout",
     "output_type": "stream",
     "text": [
      "122\n"
     ]
    }
   ],
   "source": [
    "def smallest_of_two( n1, n2 ):\n",
    "    if n1 < n2:\n",
    "        return n1\n",
    "    return n2\n",
    "\n",
    "print( smallest_of_two( 341, 122 ) )"
   ]
  },
  {
   "cell_type": "markdown",
   "metadata": {},
   "source": [
    "By nesting such a function, it is easy to make a `smallest()` function that determines the smallest of three numbers. The same can be done for `largest()`. So the program now becomes:"
   ]
  },
  {
   "cell_type": "code",
   "execution_count": 63,
   "metadata": {},
   "outputs": [
    {
     "name": "stdout",
     "output_type": "stream",
     "text": [
      "sum of smallest = 279\n",
      "sum of middle = 1316\n",
      "sum of largest = 1872\n"
     ]
    }
   ],
   "source": [
    "num11, num12, num13 = 436, 178, 992\n",
    "num21, num22, num23 = 880, 543, 101\n",
    "\n",
    "def smallest_of_two( n1, n2 ):\n",
    "    if n1 < n2:\n",
    "        return n1\n",
    "    return n2\n",
    "\n",
    "def largest_of_two( n1, n2 ):\n",
    "    if n1 > n2:\n",
    "        return n1\n",
    "    return n2\n",
    "\n",
    "def smallest( n1, n2, n3 ):\n",
    "    return smallest_of_two( smallest_of_two( n1, n2 ), n3 )\n",
    "\n",
    "def middle( n1, n2, n3 ):\n",
    "    return n1 # just return something for now\n",
    "\n",
    "def largest( n1, n2, n3 ):\n",
    "    return largest_of_two( largest_of_two( n1, n2 ), n3 )\n",
    "\n",
    "print( \"sum of smallest =\", smallest( num11, num12, num13 ) + smallest( num21, num22, num23 ) )\n",
    "print( \"sum of middle =\", middle( num11, num12, num13 ) + middle( num21, num22, num23 ) )\n",
    "print( \"sum of largest =\", largest( num11, num12, num13 ) + largest( num21, num22, num23 ) )"
   ]
  },
  {
   "cell_type": "markdown",
   "metadata": {},
   "source": [
    "The program now works as far as smallest numbers and largest numbers are concerned. To complete the code, a solution must be found for the middle. What is the middle of three numbers? It is the number that remains if the smallest and largest are taken out. Can this be programmed? Here I propose a `remove_two_of_three()` function. The function first removes the smallest from three numbers, then removes the largest of the remaining two, which is the same as the largest of the original three. So, for an easy implementation of `remove_two_of_three()`, I also implement functions `remove_one_of_three()` and `remove_one_of_two()`. "
   ]
  },
  {
   "cell_type": "code",
   "execution_count": 64,
   "metadata": {},
   "outputs": [
    {
     "name": "stdout",
     "output_type": "stream",
     "text": [
      "sum of smallest = 279\n",
      "sum of middle = 979\n",
      "sum of largest = 1872\n"
     ]
    }
   ],
   "source": [
    "num11, num12, num13 = 436, 178, 992\n",
    "num21, num22, num23 = 880, 543, 101\n",
    "\n",
    "def smallest_of_two( n1, n2 ):\n",
    "    if n1 < n2:\n",
    "        return n1\n",
    "    return n2\n",
    "\n",
    "def largest_of_two( n1, n2 ):\n",
    "    if n1 > n2:\n",
    "        return n1\n",
    "    return n2\n",
    "\n",
    "def remove_one_of_three( n1, n2, n3, remove ):\n",
    "    if n1 == remove:\n",
    "        return n2, n3\n",
    "    elif n2 == remove:\n",
    "        return n1, n3\n",
    "    return n1, n2\n",
    "    \n",
    "def remove_one_of_two( n1, n2, remove ):\n",
    "    if n1 == remove:\n",
    "        return n2\n",
    "    return n1\n",
    "\n",
    "def remove_two_of_three( n1, n2, n3, remove1, remove2 ):\n",
    "    num1, num2 = remove_one_of_three( n1, n2, n3, smallest( n1, n2, n3 ) )\n",
    "    return remove_one_of_two( num1, num2, largest( n1, n2, n3 ) )\n",
    "\n",
    "def smallest( n1, n2, n3 ):\n",
    "    return smallest_of_two( smallest_of_two( n1, n2 ), n3 )\n",
    "\n",
    "def middle( n1, n2, n3 ):\n",
    "    return remove_two_of_three( n1, n2, n3, smallest( n1, n2, n3 ), largest( n1, n2, n3 ) )\n",
    "\n",
    "def largest( n1, n2, n3 ):\n",
    "    return largest_of_two( largest_of_two( n1, n2 ), n3 )\n",
    "\n",
    "print( \"sum of smallest =\", smallest( num11, num12, num13 ) + smallest( num21, num22, num23 ) )\n",
    "print( \"sum of middle =\", middle( num11, num12, num13 ) + middle( num21, num22, num23 ) )\n",
    "print( \"sum of largest =\", largest( num11, num12, num13 ) + largest( num21, num22, num23 ) )"
   ]
  },
  {
   "cell_type": "markdown",
   "metadata": {},
   "source": [
    "The program is now finished and it works. It is fairly long, but all the functions are easy to understand, and it is also easy to understand why the program works. It is *still* shorter than the original attempt, with at least six nested `if` statements, would have been, and it is a *lot* more readable.\n",
    "\n",
    "It might be that there are different approaches for this program. With some inventiveness, you might come up with smarter ways to determine smallest, middle, and largest (I am not completely satisfied with my approach for the middle). But the program works, and is understandable, and that is the most important.\n",
    "\n",
    "You can criticize the approach that I take in this program. For instance, calculation of the smallest of the same three numbers takes place twice: once to determine the smallest, and once to determine the middle. The same holds for the largest. Can this be optimized, so that such a determination takes place only once? Of course it can, for instance by the introduction of two extra variables that keep track of the smallest and largest numbers. But why would I? That would not make the program more readable, and while it would make the program a bit faster, I am talking nanoseconds here. For a program like this, speed is unimportant and completely subject to readability. Let me stress again that while learning programming, solving a problem correctly comes first, immediately followed by solving a problem in a readable and maintainable way. Efficiency comes much later. \n",
    "\n",
    "What you should learn from this, is that when a program consists of a series of problems that you find hard to solve, you should try to split it into sub-problems or sub-goals, and solve these independently. You can often already introduce functions for sub-problems when you set up the program, and then for the time being fill these function templates with something simple, like returning a constant. You can then at least test the program. Later on, you can start filling in all the function templates that you created."
   ]
  },
  {
   "cell_type": "markdown",
   "metadata": {},
   "source": [
    "---"
   ]
  },
  {
   "cell_type": "markdown",
   "metadata": {},
   "source": [
    "## Some basic functions"
   ]
  },
  {
   "cell_type": "markdown",
   "metadata": {},
   "source": [
    "At this point, I introduce some basic functions that you can use in your Python programs."
   ]
  },
  {
   "cell_type": "markdown",
   "metadata": {},
   "source": [
    "### `input()`"
   ]
  },
  {
   "cell_type": "markdown",
   "metadata": {},
   "source": [
    "Although we don't use this feature in the current course, you might want the user of a program to supply some data. You can ask the user to supply a string value by using the `input()` function. The function has one parameter, which is a string. This string is the so-called \"prompt\". When `input()` is called, the prompt is displayed on the screen and the user gets to enter something. The user may type anything they want, including nothing, and then press <i>Enter</i> to stop entering input. The return value of the function is a string which contains what the user entered, excluding that final press of the <i>Enter</i> key.\n",
    "\n",
    "It depends on the environment in which you use Python how exactly the user gets asked to enter input. In the notebooks, a box is displayed in which you can type something. If you run Python from the command prompt, it is done as a command line. In different editors, it is done differently; for instance, there are editors that show a pop-up box. \n",
    "\n",
    "Here is an example:"
   ]
  },
  {
   "cell_type": "code",
   "execution_count": 65,
   "metadata": {},
   "outputs": [
    {
     "name": "stdout",
     "output_type": "stream",
     "text": [
      "Please enter some text: hello\n",
      "You entered: hello\n"
     ]
    }
   ],
   "source": [
    "text = input( \"Please enter some text: \" )\n",
    "print( \"You entered:\", text )"
   ]
  },
  {
   "cell_type": "markdown",
   "metadata": {},
   "source": [
    "Be aware that `input()` always returns a string. Check the following code:"
   ]
  },
  {
   "cell_type": "code",
   "execution_count": 66,
   "metadata": {},
   "outputs": [
    {
     "name": "stdout",
     "output_type": "stream",
     "text": [
      "Please enter a number: 3\n"
     ]
    },
    {
     "ename": "TypeError",
     "evalue": "can't multiply sequence by non-int of type 'str'",
     "output_type": "error",
     "traceback": [
      "\u001b[0;31m---------------------------------------------------------------------------\u001b[0m",
      "\u001b[0;31mTypeError\u001b[0m                                 Traceback (most recent call last)",
      "\u001b[0;32m<ipython-input-66-de5f80f595f3>\u001b[0m in \u001b[0;36m<module>\u001b[0;34m()\u001b[0m\n\u001b[1;32m      1\u001b[0m \u001b[0mnumber\u001b[0m \u001b[0;34m=\u001b[0m \u001b[0minput\u001b[0m\u001b[0;34m(\u001b[0m \u001b[0;34m\"Please enter a number: \"\u001b[0m \u001b[0;34m)\u001b[0m\u001b[0;34m\u001b[0m\u001b[0m\n\u001b[0;32m----> 2\u001b[0;31m \u001b[0mprint\u001b[0m\u001b[0;34m(\u001b[0m \u001b[0;34m\"Your number squared is\"\u001b[0m\u001b[0;34m,\u001b[0m \u001b[0mnumber\u001b[0m \u001b[0;34m*\u001b[0m \u001b[0mnumber\u001b[0m \u001b[0;34m)\u001b[0m\u001b[0;34m\u001b[0m\u001b[0m\n\u001b[0m",
      "\u001b[0;31mTypeError\u001b[0m: can't multiply sequence by non-int of type 'str'"
     ]
    }
   ],
   "source": [
    "number = input( \"Please enter a number: \" )\n",
    "print( \"Your number squared is\", number * number )"
   ]
  },
  {
   "cell_type": "markdown",
   "metadata": {},
   "source": [
    "Regardless of what you entered, this code gives a runtime error, because since the `input()` function returns a string, `number` is a string, and you are not allowed to multiply two strings. You may resolve this by using a type casting function to turn the string result of `input()` into a numerical value, for instance:"
   ]
  },
  {
   "cell_type": "code",
   "execution_count": 67,
   "metadata": {},
   "outputs": [
    {
     "name": "stdout",
     "output_type": "stream",
     "text": [
      "Please enter a number: 3\n",
      "Your number squared is 9.0\n"
     ]
    }
   ],
   "source": [
    "number = input( \"Please enter a number: \" )\n",
    "number = float( number )\n",
    "print( \"Your number squared is\", number * number )"
   ]
  },
  {
   "cell_type": "markdown",
   "metadata": {},
   "source": [
    "As long as the user enters a value that can be turned into a number, this code runs as intended. However, if the user enters something that cannot be turned into a number, you again get a runtime error. There are ways to resolve this issue, but I have not discussed the means to do that yet, and it will take a while before I do that. However, below I will introduce a way for you to ask the user for numbers without the code crashing if the user is trying to be a wise-ass and enters something else.\n",
    "\n",
    "Note: In the chapter \"Using Notebooks\" I explained that if you allow the user to enter inputs, you may get into problems if the user ignores the input box and tries to run different code. If you do not remember that, please read that chapter again.\n",
    "\n",
    "**Exercise**: Write some code that asks the user for two numbers, then shows the result when you add them, and when you multiply them."
   ]
  },
  {
   "cell_type": "code",
   "execution_count": null,
   "metadata": {},
   "outputs": [],
   "source": [
    "# Addition and multiplication code\n"
   ]
  },
  {
   "cell_type": "markdown",
   "metadata": {},
   "source": [
    "### `print()`"
   ]
  },
  {
   "cell_type": "markdown",
   "metadata": {},
   "source": [
    "The function `print()` takes zero or more parameters, displays them (if there are multiple, with a separating space in between each pair of them), and then \"goes to the next line\" (i.e., if you use two `print()` statements, the second one will display its parameters below what the first one displays).\n",
    "\n",
    "If `print()` is called without parameters, the function simply will \"go to the next line\". This way, you can display empty lines.\n",
    "\n",
    "You can supply `print()` with anything as a parameter, and it will do its best to print it. For now, you will only print the basic data types.\n",
    "\n",
    "`print()` can get two special parameters, called \"sep\" and \"end\". \n",
    "\n",
    "`sep` indicates what should be printed between each of the parameters, and by default is a space. You can use `sep` to turn the separating space into anything else, including an empty string. \n",
    "\n",
    "`end` indicates what `print()` should put after all the parameters have been displayed, and by default is a \"new line\". You can use `end` to change what `print()` does after displaying the parameters, for instance, you can ensure that `print()` does <i>not</i> \"go to the next line\".\n",
    "\n",
    "To use `sep` and `end`, you include special parameters `sep=<string>` and/or `end=<string>` (note: when in a code description you see something between `<` and `>`, that usually means that you are not supposed to type that literally, but that you have to replace it with something of the type listed, e.g., `<string>` means that you have to type a string in that place). For example:"
   ]
  },
  {
   "cell_type": "code",
   "execution_count": 70,
   "metadata": {},
   "outputs": [
    {
     "name": "stdout",
     "output_type": "stream",
     "text": [
      "XxXxX\n",
      "X\n",
      "Y and Z\n"
     ]
    }
   ],
   "source": [
    "print( \"X\", \"X\", \"X\", sep=\"x\" )\n",
    "print( \"X\", end=\"\\n\" )\n",
    "print( \"Y\", end=\" and \" )\n",
    "print( \"Z\" )"
   ]
  },
  {
   "cell_type": "markdown",
   "metadata": {},
   "source": [
    "### `format()`"
   ]
  },
  {
   "cell_type": "markdown",
   "metadata": {},
   "source": [
    "`format()` represents a rather complex functionality that is employed in a particular way. It allows you to create a formatted string, i.e., a string in which certain values appear in a specific format. To give an example, suppose I want to display a calculated float:"
   ]
  },
  {
   "cell_type": "code",
   "execution_count": 1,
   "metadata": {},
   "outputs": [
    {
     "name": "stdout",
     "output_type": "stream",
     "text": [
      "0.6363636363636364\n"
     ]
    }
   ],
   "source": [
    "print( 7/11 )"
   ]
  },
  {
   "cell_type": "markdown",
   "metadata": {},
   "source": [
    "Now I ask you to display that float with only three decimals. Until now, you would use the `round()` function (introduced above), or something like:"
   ]
  },
  {
   "cell_type": "code",
   "execution_count": 3,
   "metadata": {},
   "outputs": [
    {
     "name": "stdout",
     "output_type": "stream",
     "text": [
      "0.636\n"
     ]
    }
   ],
   "source": [
    "print (round(7/11,3))"
   ]
  },
  {
   "cell_type": "markdown",
   "metadata": {},
   "source": [
    "This works. However, when I put more requirements on it (for instance, \"also reserve 10 positions for it, and left align the outcome in that reserved space\"), it may become convoluted. Using the `format()` function, you can display the requested value in a much easier and more readable way:"
   ]
  },
  {
   "cell_type": "code",
   "execution_count": 20,
   "metadata": {},
   "outputs": [
    {
     "name": "stdout",
     "output_type": "stream",
     "text": [
      "0.636\n"
     ]
    }
   ],
   "source": [
    "print (\"{:.3f}\".format( 7/11 ) )"
   ]
  },
  {
   "cell_type": "markdown",
   "metadata": {},
   "source": [
    "`format()` is a function that \"works\" on a string. Up until this point, I have only used functions that get parameters. However, there are functions that work only on a particular data type, and are defined in such a way that a variable of that data type has to be placed in front of the function call, with a period in between. The reason why this is, has to do with something called \"object orientation\", which I will discuss much later in this course. For now, just know that such functions are called \"methods\", and to call them, you have to place the variable of the right data type in front of them, with a period in between. The variable that is used in this way is also accessible to the method, just like its parameters are.\n",
    "\n",
    "So, the `format()` method (let's refer to it by its correct name, it is not a function but a method) is called as follows: `<string>.format()`. It will return a new string, which is a formatted version of the string for which it is called. It can take any number of parameters, and in the process of formatting, will insert these parameter values in particular places in the resulting string.\n",
    "\n",
    "The places where `format()` inserts the parameter values in the string are indicated in the string by opening and closing curly brackets (`{` and `}`). If you only use `{}` to refer to the parameters, it will process the string from left to right, and process the parameters from left to right, inserting them in the order that they are given. For example:"
   ]
  },
  {
   "cell_type": "code",
   "execution_count": 7,
   "metadata": {},
   "outputs": [
    {
     "name": "stdout",
     "output_type": "stream",
     "text": [
      "The first three numbers are one, two and three.\n"
     ]
    }
   ],
   "source": [
    "print( \"The first three numbers are {}, {} and {}.\".format( \"one\", \"two\", \"three\" ) )"
   ]
  },
  {
   "cell_type": "markdown",
   "metadata": {},
   "source": [
    "If you want to process them in a different order, you can indicate the order by putting a number between the curly brackets. The first parameter has number `0`, the second has number `1`, the third has number `2`, etcetera (if you find numbering starting with zero strange, then know that this is very common in programming languages and you will see this many more times). For example:"
   ]
  },
  {
   "cell_type": "code",
   "execution_count": 2,
   "metadata": {},
   "outputs": [
    {
     "name": "stdout",
     "output_type": "stream",
     "text": [
      "The first three numbers are (in backwards order) three, two and one.\n"
     ]
    }
   ],
   "source": [
    "print( \"The first three numbers are (in backwards order) {2}, {1} and {0}.\".format( \"one\", \"two\", \"three\" ) )"
   ]
  },
  {
   "cell_type": "markdown",
   "metadata": {},
   "source": [
    "`format()` can deal with parameters of any type, as long as they have a suitable string representation. For instance, it can deal with integers and floats, and you can mix those up with strings as you like:"
   ]
  },
  {
   "cell_type": "code",
   "execution_count": 5,
   "metadata": {},
   "outputs": [
    {
     "name": "stdout",
     "output_type": "stream",
     "text": [
      "The first three numbers are one, 2 and [2, 3, 4].\n"
     ]
    }
   ],
   "source": [
    "print( \"The first three numbers are {}, {} and {}.\".format( \"one\", 2, [2,3,4] ) )"
   ]
  },
  {
   "cell_type": "markdown",
   "metadata": {},
   "source": [
    "If you want to format the parameters in a more specific way, there are possibilities to do that, if you put a colon (`:`) in between the curly brackets, after the order number if you have one, and place some formatting instructions to the right of the colon. There are many possibilities for formatting instructions, and I will introduce only a few.\n",
    "\n",
    "First I discuss some formatting instructions for string parameters. If you want to reserve a certain number of places for a string parameter, then you can indicate that with an integer to the right side of the colon. This is called the \"precision\". The following code uses a precision of 7."
   ]
  },
  {
   "cell_type": "code",
   "execution_count": 11,
   "metadata": {},
   "outputs": [
    {
     "name": "stdout",
     "output_type": "stream",
     "text": [
      "The first three numbers are one    , two     and three  .\n"
     ]
    }
   ],
   "source": [
    "print( \"The first three numbers are {:7}, {:7} and {:7}.\".format( \"one\", \"two\", \"three\" ) )"
   ]
  },
  {
   "cell_type": "markdown",
   "metadata": {},
   "source": [
    "If you do not reserve sufficient space for a parameter with the precision, `format()` will take as much space as it needs. So you cannot use the precision to, for instance, break off a string prematurely. "
   ]
  },
  {
   "cell_type": "code",
   "execution_count": 9,
   "metadata": {},
   "outputs": [
    {
     "name": "stdout",
     "output_type": "stream",
     "text": [
      "The first three numbers are one , two  and three.\n"
     ]
    }
   ],
   "source": [
    "print( \"The first three numbers are {:4}, {:4} and {:4}.\".format( \"one\", \"two\", \"three\" ) )"
   ]
  },
  {
   "cell_type": "markdown",
   "metadata": {},
   "source": [
    "If you use precision, you can align the parameter to the left, center, or right. You do that by placing an alignment character between the colon and the precision. Alignment characters are \"`<`\" for align left, \"`^`\" for align center, and \"`>`\" for align right."
   ]
  },
  {
   "cell_type": "code",
   "execution_count": 12,
   "metadata": {},
   "outputs": [
    {
     "name": "stdout",
     "output_type": "stream",
     "text": [
      "The first three numbers are     one,   two   and three  .\n"
     ]
    }
   ],
   "source": [
    "print( \"The first three numbers are {:>7}, {:^7} and {:<7}.\".format( \"one\", \"two\", \"three\" ) )"
   ]
  },
  {
   "cell_type": "markdown",
   "metadata": {},
   "source": [
    "Now I will discuss some number formatting instructions. If you want a number to be interpreted as an integer, you place a \"`d`\" to the right side of the colon. If instead you want it to be interpreted as a float, you place an \"`f`\". If you want to display an integer as a float, `format()` will do the necessary conversions for you. If you want to display a float as an integer, `format()` will cause a runtime error."
   ]
  },
  {
   "cell_type": "code",
   "execution_count": 16,
   "metadata": {},
   "outputs": [
    {
     "name": "stdout",
     "output_type": "stream",
     "text": [
      "1 divided by 2 is 0.5\n",
      "1 divided by 2.000000 is 0.500000\n",
      "1.000000 divided by 2.000000 is 0.500000\n"
     ]
    }
   ],
   "source": [
    "print( \"{} divided by {} is {}\".format( 1, 2, 1/2 ) )\n",
    "print( \"{:d} divided by {:f} is {:f}\".format( 1, 2, 1/2 ) )\n",
    "print( \"{:f} divided by {:f} is {:f}\".format( 1, 2, 1/2 ) )"
   ]
  },
  {
   "cell_type": "markdown",
   "metadata": {},
   "source": [
    "Just as with strings, you can use precision and alignment with numbers. You use the same instruction characters, and place them between the colon and the `d` or `f`. And just as with strings, if the precision does not provide enough places, `format()` will take extra places as needed. Note that a preceding minus-sign and the decimal period each also take a place."
   ]
  },
  {
   "cell_type": "code",
   "execution_count": 17,
   "metadata": {},
   "outputs": [
    {
     "name": "stdout",
     "output_type": "stream",
     "text": [
      "    1 divided by     2 is 0.500000\n",
      "1.000000 divided by 2.000000 is 0.500000\n"
     ]
    }
   ],
   "source": [
    "print( \"{:5d} divided by {:5d} is {:5f}\".format( 1, 2, 1/2 ) )\n",
    "print( \"{:<5f} divided by {:^5f} is {:>5f}\".format( 1, 2, 1/2 ) )"
   ]
  },
  {
   "cell_type": "markdown",
   "metadata": {},
   "source": [
    "Finally, and perhaps most useful, you can indicate how many decimals you want a floating point number to be displayed with, by placing a period and an integer to the left of the `f`. `format()` will round the parameter to the requested number of decimals. Note that you <i>can</i> indicate zero decimals using `.0`, which will display floats as integers."
   ]
  },
  {
   "cell_type": "code",
   "execution_count": 18,
   "metadata": {},
   "outputs": [
    {
     "name": "stdout",
     "output_type": "stream",
     "text": [
      "1.00 divided by 2.00 is 0.50\n"
     ]
    }
   ],
   "source": [
    "print( \"{:.2f} divided by {:.2f} is {:.2f}\".format( 1, 2, 1/2 ) )"
   ]
  },
  {
   "cell_type": "markdown",
   "metadata": {},
   "source": [
    "The combination of precision, alignment, and decimals, allows you to create nice, table-like displays."
   ]
  },
  {
   "cell_type": "code",
   "execution_count": 21,
   "metadata": {
    "scrolled": true
   },
   "outputs": [
    {
     "name": "stdout",
     "output_type": "stream",
     "text": [
      "    1 times  3.75 is  3.75\n",
      "    2 times  3.75 is  7.50\n",
      "    3 times  3.75 is 11.25\n",
      "    4 times  3.75 is 15.00\n",
      "    5 times  3.75 is 18.75\n"
     ]
    }
   ],
   "source": [
    "s = \"{:>5d} times {:>5.2f} is {:>5.2f}\"\n",
    "print( s.format( 1, 3.75, 1 * 3.75 ) )\n",
    "print( s.format( 2, 3.75, 2 * 3.75 ) )\n",
    "print( s.format( 3, 3.75, 3 * 3.75 ) )\n",
    "print( s.format( 4, 3.75, 4 * 3.75 ) )\n",
    "print( s.format( 5, 3.75, 5 * 3.75 ) )"
   ]
  },
  {
   "cell_type": "markdown",
   "metadata": {},
   "source": [
    "---"
   ]
  },
  {
   "cell_type": "markdown",
   "metadata": {},
   "source": [
    "## What you learned"
   ]
  },
  {
   "cell_type": "markdown",
   "metadata": {},
   "source": [
    "In the previous simple-function chapter, you learned about:\n",
    "\n",
    "- What functions are\n",
    "- Function names\n",
    "- Function parameters\n",
    "- Function return values\n",
    "- Details of type casting with `float()`, `int()`, and `str()`\n",
    "- Basic calculation functions `abs()`, `max()`, `min()`, `pow()`, and `round()`\n",
    "- `len()`\n",
    "- `input()`\n",
    "- Details of the `print()` function\n",
    "- String formatting using `format()`\n",
    "- What modules are\n",
    "- The `math` module functions `exp()`, `log()`, `log10()`, and `sqrt()`\n",
    "- The `random` module functions `random()`, `randint()`, and `seed()`\n"
   ]
  },
  {
   "cell_type": "markdown",
   "metadata": {},
   "source": [
    "In this chapter, you learned about:\n",
    "\n",
    "- The purpose of functions\n",
    "- Creating functions\n",
    "- Parameters and arguments\n",
    "- Returning values from functions with `return`\n",
    "- Naming conventions for functions\n",
    "- Commenting functions\n",
    "- Variable scope and lifetime\n",
    "- Local and global variables\n",
    "- Using functions to manage program complexity"
   ]
  },
  {
   "cell_type": "markdown",
   "metadata": {},
   "source": [
    "---"
   ]
  },
  {
   "cell_type": "markdown",
   "metadata": {},
   "source": [
    "# Exercises"
   ]
  },
  {
   "cell_type": "markdown",
   "metadata": {},
   "source": [
    "In these exercises you write functions. Of course, you should not only write the functions, you should also write code to test them. For practice, you should also comment your functions as explained above."
   ]
  },
  {
   "cell_type": "markdown",
   "metadata": {},
   "source": [
    "### Exercise 9.1"
   ]
  },
  {
   "cell_type": "markdown",
   "metadata": {},
   "source": [
    "Create a function that gets a number as parameter, and then prints the multiplication table for that number from 1 to 10. E.g., when the parameter is `12`, the first line printed is \"`1 * 12 = 12`\" and the last line printed is \"`10 * 12 = 120`\"."
   ]
  },
  {
   "cell_type": "code",
   "execution_count": 74,
   "metadata": {},
   "outputs": [
    {
     "name": "stdout",
     "output_type": "stream",
     "text": [
      "1 * 12  =  12\n",
      "2 * 12  =  24\n",
      "3 * 12  =  36\n",
      "4 * 12  =  48\n",
      "5 * 12  =  60\n",
      "6 * 12  =  72\n",
      "7 * 12  =  84\n",
      "8 * 12  =  96\n",
      "9 * 12  =  108\n",
      "10 * 12  =  120\n"
     ]
    }
   ],
   "source": [
    "# Multiplication table function.\n",
    "def multiplication (n):\n",
    "    for i in range(1,11):\n",
    "        result = i*n\n",
    "        print (i, \"*\", n, \" = \", result)\n",
    "        \n",
    "multiplication (12)"
   ]
  },
  {
   "cell_type": "markdown",
   "metadata": {},
   "source": [
    "### Exercise 9.2"
   ]
  },
  {
   "cell_type": "markdown",
   "metadata": {},
   "source": [
    "Write a function that gets as parameters two strings. The function returns the number of characters that the strings have in common. Each character counts only once, e.g., the strings \"bee\" and \"peer\" only have one character in common (the letter \"e\"). You can consider capitals different from lower case letters.\n",
    "\n",
    "Note: the function should *return* the number of characters that the strings have in common, and not *print* it. To test the function, you can print the result of the function in your main program."
   ]
  },
  {
   "cell_type": "code",
   "execution_count": 89,
   "metadata": {},
   "outputs": [
    {
     "data": {
      "text/plain": [
       "3"
      ]
     },
     "execution_count": 89,
     "metadata": {},
     "output_type": "execute_result"
    }
   ],
   "source": [
    "# Common characters.\n",
    "def common_char (text1, text2):\n",
    "    list_char = []\n",
    "    for i in text1:\n",
    "        if i in text2:\n",
    "            if i not in list_char:\n",
    "                list_char.append(i)\n",
    "    return len(list_char)\n",
    "            \n",
    "common_char(\"beeaes\",\"peersea\")"
   ]
  },
  {
   "cell_type": "markdown",
   "metadata": {},
   "source": [
    "### Exercise 9.3 - NO ESTA FET!"
   ]
  },
  {
   "cell_type": "markdown",
   "metadata": {},
   "source": [
    "The Grerory-Leibnitz series approximates pi as `4 * (1/1 - 1/3 + 1/5 - 1/7 + 1/9 ...)`. Write a function that returns the approximation of pi according to this series. The function gets one parameter, namely an integer that indicates how many of the terms between the parentheses must be calculated. "
   ]
  },
  {
   "cell_type": "code",
   "execution_count": 99,
   "metadata": {},
   "outputs": [
    {
     "name": "stdout",
     "output_type": "stream",
     "text": [
      "[1, 2, 3]\n"
     ]
    }
   ],
   "source": [
    "# Gregory-Leibnitz.\n",
    "\n",
    "listchart = []\n",
    "def gregory (n):\n",
    "    for i in range (1,n+1):\n",
    "        listchart.append(i)\n",
    "    #return 4 * (1/listchart[0] - 1/listchart[1] + 1/listchart[2])\n",
    "    \n",
    "    print(listchart)\n",
    "\n",
    "gregory(3)\n"
   ]
  },
  {
   "cell_type": "markdown",
   "metadata": {},
   "source": [
    "### Exercise 9.4"
   ]
  },
  {
   "cell_type": "markdown",
   "metadata": {},
   "source": [
    "In statistics, the binomial coefficient indexed by `n` and `k` (often expressed as \"n over k\", whereby `n` must be bigger than or equal to `k`) is calculated as `n!/(k!*(n-k)!)`, whereby `n!` indicates the factorial of `n`. As I explained in the previous chapter: the factorial of a positive integer is that integer, multiplied by all positive integers that are lower (excluding zero). You write the factorial as the number with an exclamation mark after it. E.g., the factorial of 5 is `5! = 5 * 4 * 3 * 2 * 1 = 120`. If you diligently did the last chapter, you wrote some code for this. Write a function that calculates the binomial coefficient for its two parameters, and returns the value. "
   ]
  },
  {
   "cell_type": "code",
   "execution_count": 106,
   "metadata": {},
   "outputs": [
    {
     "name": "stdout",
     "output_type": "stream",
     "text": [
      "120\n",
      "45.0\n"
     ]
    }
   ],
   "source": [
    "# Binomial coefficient.\n",
    "def factorial (n):\n",
    "    result = n\n",
    "    for i in range(1,n):\n",
    "        result *= i\n",
    "    return result\n",
    "        \n",
    "\n",
    "def binomial_coef (n,k):\n",
    "    i = n-k\n",
    "    return factorial(n)/(factorial(k)*(factorial(i)))\n",
    "    \n",
    "    \n",
    "    \n",
    "print(factorial (5))\n",
    "print (binomial_coef(10,2))"
   ]
  },
  {
   "cell_type": "markdown",
   "metadata": {},
   "source": [
    "### Exercise 9.5"
   ]
  },
  {
   "cell_type": "markdown",
   "metadata": {},
   "source": [
    "What is wrong with the following code? Fix it!"
   ]
  },
  {
   "cell_type": "code",
   "execution_count": 120,
   "metadata": {},
   "outputs": [
    {
     "ename": "SyntaxError",
     "evalue": "invalid syntax (<ipython-input-120-aa6c9a9f89a0>, line 4)",
     "output_type": "error",
     "traceback": [
      "\u001b[0;36m  File \u001b[0;32m\"<ipython-input-120-aa6c9a9f89a0>\"\u001b[0;36m, line \u001b[0;32m4\u001b[0m\n\u001b[0;31m    result = \"The area of a triangle with a bottom of\" + str(bottom) + \"and a height of\" str(height) + \"is\" + str(area)\u001b[0m\n\u001b[0m                                                                                           ^\u001b[0m\n\u001b[0;31mSyntaxError\u001b[0m\u001b[0;31m:\u001b[0m invalid syntax\n"
     ]
    }
   ],
   "source": [
    "# What is wrong?\n",
    "def area_of_triangle( bottom, height ):\n",
    "    area = 0.5 * bottom * height\n",
    "    result = \"The area of a triangle with a bottom of\" + str(bottom) + \"and a height of\" str(height) + \"is\" + str(area)\n",
    "    return result\n",
    "    \n",
    "print(area_of_triangle( 4.5, 1.0 ) )"
   ]
  },
  {
   "cell_type": "markdown",
   "metadata": {},
   "source": [
    "Note: Code like this is typically written by students who have not yet grasped the intricacies of using functions."
   ]
  },
  {
   "cell_type": "markdown",
   "metadata": {},
   "source": [
    "### Exercise 9.6"
   ]
  },
  {
   "cell_type": "markdown",
   "metadata": {},
   "source": [
    "Ask the user to enter three numbers. Then print the largest, the smallest, and their average, rounded to 2 decimals."
   ]
  },
  {
   "cell_type": "code",
   "execution_count": 126,
   "metadata": {},
   "outputs": [
    {
     "name": "stdout",
     "output_type": "stream",
     "text": [
      "4\n",
      "2\n",
      "3.0\n"
     ]
    }
   ],
   "source": [
    "# Processing three numbers.\n",
    "\n",
    "def minmax (n1,n2,n3):\n",
    "    maxnum = max(n1,n2,n3)\n",
    "    minnum = min(n1,n2,n3)\n",
    "    aver = (maxnum + minnum) / 2\n",
    "    print(maxnum)\n",
    "    print(minnum)\n",
    "    print(round(aver,2))\n",
    "    \n",
    "\n",
    "minmax(2, 3,4)"
   ]
  },
  {
   "cell_type": "markdown",
   "metadata": {},
   "source": [
    "### Exercise 9.7"
   ]
  },
  {
   "cell_type": "markdown",
   "metadata": {},
   "source": [
    "Calculate the value of `e` to the power of `-1`, `0`, `1`, `2`, and `3`, and display the results, with 5 decimals, in a nicely formatted manner."
   ]
  },
  {
   "cell_type": "code",
   "execution_count": 127,
   "metadata": {},
   "outputs": [
    {
     "ename": "NameError",
     "evalue": "name 'e' is not defined",
     "output_type": "error",
     "traceback": [
      "\u001b[0;31m---------------------------------------------------------------------------\u001b[0m",
      "\u001b[0;31mNameError\u001b[0m                                 Traceback (most recent call last)",
      "\u001b[0;32m<ipython-input-127-85280d1c0a95>\u001b[0m in \u001b[0;36m<module>\u001b[0;34m()\u001b[0m\n\u001b[0;32m----> 1\u001b[0;31m \u001b[0me\u001b[0m\u001b[0;34m**\u001b[0m\u001b[0;36m0\u001b[0m\u001b[0;34m\u001b[0m\u001b[0m\n\u001b[0m",
      "\u001b[0;31mNameError\u001b[0m: name 'e' is not defined"
     ]
    }
   ],
   "source": [
    "e**0\n"
   ]
  },
  {
   "cell_type": "markdown",
   "metadata": {},
   "source": [
    "### Exercise 9.8"
   ]
  },
  {
   "cell_type": "markdown",
   "metadata": {},
   "source": [
    "Suppose you want to generate a random integer between 1 and 10 (1 and 10 both included), but from the `random` module you only have the `random()` function available. How do you do that?"
   ]
  },
  {
   "cell_type": "code",
   "execution_count": 133,
   "metadata": {},
   "outputs": [
    {
     "name": "stdout",
     "output_type": "stream",
     "text": [
      "2.2853774359365433 8.961231290119255\n"
     ]
    }
   ],
   "source": [
    "# Generate a random integer using only random()\n",
    "from random import random\n",
    "\n",
    "print((random()*10),(random()*10))\n"
   ]
  },
  {
   "cell_type": "markdown",
   "metadata": {},
   "source": [
    "---"
   ]
  },
  {
   "cell_type": "markdown",
   "metadata": {},
   "source": [
    "## Python 2"
   ]
  },
  {
   "cell_type": "markdown",
   "metadata": {},
   "source": [
    "For a while, formatting strings worked completely different in Python 2. The `format()` method was introduced at some point in Python 2, but most Python 2 program use a C++-like approach to string formatting, using the `print()` function. These older Python 2 approaches are no longer supported in Python 3."
   ]
  },
  {
   "cell_type": "markdown",
   "metadata": {},
   "source": [
    "---"
   ]
  },
  {
   "cell_type": "markdown",
   "metadata": {},
   "source": [
    "End of Chapter 9. Version 1.0."
   ]
  },
  {
   "cell_type": "code",
   "execution_count": null,
   "metadata": {},
   "outputs": [],
   "source": []
  }
 ],
 "metadata": {
  "kernelspec": {
   "display_name": "Python 3",
   "language": "python",
   "name": "python3"
  },
  "language_info": {
   "codemirror_mode": {
    "name": "ipython",
    "version": 3
   },
   "file_extension": ".py",
   "mimetype": "text/x-python",
   "name": "python",
   "nbconvert_exporter": "python",
   "pygments_lexer": "ipython3",
   "version": "3.5.3"
  }
 },
 "nbformat": 4,
 "nbformat_minor": 1
}
