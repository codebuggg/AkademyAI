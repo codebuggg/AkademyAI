{
 "cells": [
  {
   "cell_type": "markdown",
   "metadata": {},
   "source": [
    "# Chapter 6 - Functions"
   ]
  },
  {
   "cell_type": "markdown",
   "metadata": {},
   "source": [
    "-------------------------------"
   ]
  },
  {
   "cell_type": "markdown",
   "metadata": {},
   "source": [
    "Up to this point, we have already introduced some basic \"functions\", such as `print()` and `int()`. In this chapter  functions will be discussed a bit more in-depth, and we will teach you how to create your own functions."
   ]
  },
  {
   "cell_type": "code",
   "execution_count": null,
   "metadata": {},
   "outputs": [],
   "source": [
    "x = 3"
   ]
  },
  {
   "cell_type": "code",
   "execution_count": null,
   "metadata": {},
   "outputs": [],
   "source": [
    "int(x)"
   ]
  },
  {
   "cell_type": "code",
   "execution_count": null,
   "metadata": {},
   "outputs": [],
   "source": [
    "str(x)"
   ]
  },
  {
   "cell_type": "markdown",
   "metadata": {},
   "source": [
    "-------------------------------"
   ]
  },
  {
   "cell_type": "markdown",
   "metadata": {},
   "source": [
    "## Functions"
   ]
  },
  {
   "cell_type": "markdown",
   "metadata": {},
   "source": [
    "A function is a block of reusable code that performs some action. To get a function to do its job, you \"call\" it, with some appropriate parameters if the function requires them. The idea is that you do not need to have knowledge about <i>how</i> a function performs its action. You only need to know three things:\n",
    "\n",
    "- The name of the function\n",
    "- The parameters it needs (if any)\n",
    "- The value it returns (if any)\n",
    "\n",
    "These will now be discussed in turn."
   ]
  },
  {
   "cell_type": "markdown",
   "metadata": {},
   "source": [
    "-------------------------------"
   ]
  },
  {
   "cell_type": "markdown",
   "metadata": {},
   "source": [
    "### Function name"
   ]
  },
  {
   "cell_type": "markdown",
   "metadata": {},
   "source": [
    "Each function has a name. Like a variable name, a function name may consist of letters, digits, and underscores, and cannot start with a digit. Almost all standard Python functions consist only of lower case letters. Usually a function name expresses concisely what the function does.\n",
    "\n",
    "When referring to a function, it is convention to use the name, and put an opening and closing parenthesis after the name (for example `print()`), as functions are always called in code with such parentheses."
   ]
  },
  {
   "cell_type": "markdown",
   "metadata": {},
   "source": [
    "### Parameters\n"
   ]
  },
  {
   "cell_type": "markdown",
   "metadata": {},
   "source": [
    "Some functions are called with parameters (\"arguments\"), which may or may not be mandatory. The parameters are placed between the parentheses that follow the function name. If there are multiple parameters, you place commas between them.\n",
    "\n",
    "The parameters are the values that the user supplies to the function to work with. For instance, the `int()` function must be called with one parameter, which is the value that the function will try to make into an integer. The `print()` function may be called with any number of parameters (even zero), which it will display, after which it will go to a new line:"
   ]
  },
  {
   "cell_type": "code",
   "execution_count": null,
   "metadata": {},
   "outputs": [],
   "source": [
    "print(5)\n",
    "print(5*2)\n",
    "print(\"parameter\")"
   ]
  },
  {
   "cell_type": "markdown",
   "metadata": {},
   "source": [
    "In general, a function cannot change parameters. For instance, look at the following code:"
   ]
  },
  {
   "cell_type": "code",
   "execution_count": 1,
   "metadata": {},
   "outputs": [
    {
     "name": "stdout",
     "output_type": "stream",
     "text": [
      "1\n",
      "1.56\n"
     ]
    }
   ],
   "source": [
    "x = 1.56\n",
    "print( int( x ) )\n",
    "print( x )"
   ]
  },
  {
   "cell_type": "markdown",
   "metadata": {},
   "source": [
    "As you can see when you run this code, the `int()` function has not changed the actual value of `x`; it only told the `print()` function what the integer value of `x` is. The reason is that, in general, parameters are \"passed by value\". This means that the function does not get access to the actual parameters, but it gets copies of the values of the parameters. I say \"in general\" because not all data types are \"passed by value\", but the ones we have discussed until now are. It will be a while before you get to a chapter that introduces data types that can be changed by functions when they are passed as parameters, and we will make it clear how that works when it comes up.\n",
    "\n",
    "If a function gets multiple parameters, their order matters. For instance, the function `pow()` gets two parameters, and raises the first to the power of the second."
   ]
  },
  {
   "cell_type": "code",
   "execution_count": 2,
   "metadata": {},
   "outputs": [
    {
     "name": "stdout",
     "output_type": "stream",
     "text": [
      "8\n"
     ]
    }
   ],
   "source": [
    "base = 2\n",
    "exponent = 3\n",
    "print( pow( base, exponent ) )"
   ]
  },
  {
   "cell_type": "markdown",
   "metadata": {},
   "source": [
    "The names of the variables that are used as parameters do not matter, the first is raised to the power of the second. So the following example will give a different outcome than the first, as the same variables are given to the function in a different (rather confusing) order."
   ]
  },
  {
   "cell_type": "code",
   "execution_count": null,
   "metadata": {},
   "outputs": [],
   "source": [
    "base = 2\n",
    "exponent = 3\n",
    "print( pow( exponent, base ) ) # confusing use of variables "
   ]
  },
  {
   "cell_type": "markdown",
   "metadata": {},
   "source": [
    "What happens if you try to call a function with parameters that it cannot work with? For instance, what happens if we call the `int()` function with a string that does not contain an integer value, or the `pow()` function with strings instead of numbers? In general, this will lead to runtime errors in your code. For instance, both lines of the code below give a runtime error."
   ]
  },
  {
   "cell_type": "code",
   "execution_count": 3,
   "metadata": {},
   "outputs": [
    {
     "name": "stdout",
     "output_type": "stream",
     "text": [
      "9\n",
      "2\n"
     ]
    }
   ],
   "source": [
    "x = pow( 3, 2 )\n",
    "print(x)\n",
    "y = int( 2.5 )\n",
    "print(y)"
   ]
  },
  {
   "cell_type": "markdown",
   "metadata": {},
   "source": [
    "### Returning a value\n"
   ]
  },
  {
   "cell_type": "markdown",
   "metadata": {},
   "source": [
    "A function may or may not \"return\" a value. If a function returns a value, that value can be used in your code. For instance, the function `int()` returns an integer representation of the parameter it gets. You can place this return value in a variable, using an assignment, or use it in a different manner, for instance immediately print it. You can even do nothing with it, though there is little reason to call the function in that case."
   ]
  },
  {
   "cell_type": "code",
   "execution_count": 4,
   "metadata": {},
   "outputs": [
    {
     "name": "stdout",
     "output_type": "stream",
     "text": [
      "2\n",
      "3\n"
     ]
    }
   ],
   "source": [
    "x = 2.1\n",
    "y = '3'\n",
    "z = int( x )\n",
    "print( z )\n",
    "print( int( y ) )"
   ]
  },
  {
   "cell_type": "markdown",
   "metadata": {},
   "source": [
    "As you can see from the example above, you can even use function calls as parameters for a function; e.g., the second call to the `print()` function in the example gets as parameter a call to the function `int()`. In this example, the call to the `int()` function is executed before the `print()` function is called, as Python first calculates the values for all the parameters before it makes a function call. \n",
    "\n",
    "Not all functions return a value. For instance, the `print()` function does not. If you are not careful, this may lead to strange behavior of your program. For instance, examine and run the following code:"
   ]
  },
  {
   "cell_type": "code",
   "execution_count": 5,
   "metadata": {},
   "outputs": [
    {
     "name": "stdout",
     "output_type": "stream",
     "text": [
      "Hello, world!\n",
      "None\n"
     ]
    }
   ],
   "source": [
    "print( print( \"Hello, world!\" ) )"
   ]
  },
  {
   "cell_type": "code",
   "execution_count": null,
   "metadata": {},
   "outputs": [],
   "source": [
    " \n"
   ]
  },
  {
   "cell_type": "markdown",
   "metadata": {},
   "source": [
    "You can see that this code prints two lines, the first containing the text \"Hello, world!\", and the second containing the word \"None\". What is that \"None\" doing there? To find that out, let's examine how Python evaluates this statement.\n",
    "\n",
    "When Python first encounters this statement, it sees `print( <something> )`. Since `<something>` is an argument, it starts by evaluating that. `<something>` is actually `print( <something_else> )`. Since `<something_else>` is an argument, it now evaluates that. `<something_else>` is the string `\"Hello, world!\"`. This is not something that needs to be evaluated, so it calls `print()` with this string as argument, and \"captures\" the return value of `print()` because it needs it as the evaluation of `<something>`.\n",
    "\n",
    "Here is the crux: `print()` has *no* return value, so there is nothing that Python can use for `<something>`. For situations such as this, Python has a special value called `None`. So the first `print()` gets called with `None` as argument, and this leads to Python displaying the word \"None\". \n",
    "\n",
    "`None` is a special value that indicates \"no value at all\". If you try to print such a value, Python prints the word `None`, but is not actually printing a string that is \"None\". It only indicates that there was nothing to print. `None` is different from, for instance, an empty string (`\"\"`). An empty string is still a value, namely a string of length zero. `None` is no string at all, no integer, no float, nothing. So be careful when trying to use a function call as a parameter; if the function does not actually return a value, weird things may happen."
   ]
  },
  {
   "cell_type": "markdown",
   "metadata": {},
   "source": [
    "### A function is a black box"
   ]
  },
  {
   "cell_type": "markdown",
   "metadata": {},
   "source": [
    "Let us stress once more that you may consider a function as a \"black box\": you do not need to know <i>how</i> the function works or <i>how</i> it is implemented. The name, parameters, and return value are all you need to know. The function might, internally, create variables and do calculations, but they do not have an effect on the rest of your code... at least if the function is implemented well. A function that has no effect on your code is called a \"pure function\", and the functions that we discuss here are all \"pure functions\". However, sometimes functions are designed that actually do have an effect outside the function (e.g. the user may provide parameters that undergo a change). That may be fine, if it is intentional and well-documented. Such functions are called \"modifiers\". Modifiers will come up in later chapters.\n",
    "\n",
    "For now, you can just assume that any function that you use, has no effect on the rest of your code. So calling a function is safe."
   ]
  },
  {
   "cell_type": "markdown",
   "metadata": {},
   "source": [
    "-------------------------------"
   ]
  },
  {
   "cell_type": "markdown",
   "metadata": {},
   "source": [
    "## Creating functions"
   ]
  },
  {
   "cell_type": "markdown",
   "metadata": {},
   "source": [
    "When you create your own functions, you need to define the name of the function, its parameters, and the value it returns. To create a function, you use the following syntax:\n",
    "\n",
    "    def <function_name>( <parameter_list> ):\n",
    "        <statements>\n",
    "\n",
    "The function name must meet the same requirements as variable names, i.e., only letters, digits, and underscores, and it cannot start with a digit. \n",
    "\n",
    "The parameter list consists of zero or more variable names, with commas in between.\n",
    "\n",
    "The code block below the function definition must be indented.\n",
    "\n",
    "Finally, be aware that Python must have \"seen\" your function definition before it sees the call to it in your code. Therefore it is convention to place all function definitions at the top of a program."
   ]
  },
  {
   "cell_type": "markdown",
   "metadata": {},
   "source": [
    "### How Python deals with functions"
   ]
  },
  {
   "cell_type": "markdown",
   "metadata": {},
   "source": [
    "To be able to create functions, you have to know how Python deals with functions.\n",
    "\n",
    "Look at the small Python program below. It defines one function, called `goodbyeWorld()`. That function has no parameters. The code block for the function prints the line \"Goodbye, world!\"\n",
    "\n",
    "The rest of the program is not part of a function. We often call the parts of a program that are not inside a function the \"main\" program. The main program prints the line \"Hello, world!\", and then calls the function `goodbyeWorld()`."
   ]
  },
  {
   "cell_type": "code",
   "execution_count": 9,
   "metadata": {},
   "outputs": [
    {
     "name": "stdout",
     "output_type": "stream",
     "text": [
      "Hello, world!\n",
      "Goodbye, world!\n"
     ]
    }
   ],
   "source": [
    "def goodbyeWorld():\n",
    "    print( \"Goodbye, world!\" )\n",
    "\n",
    "print( \"Hello, world!\" )\n",
    "goodbyeWorld()"
   ]
  },
  {
   "cell_type": "markdown",
   "metadata": {},
   "source": [
    "When you run this program, you see that it first prints \"Hello, world!\", and then \"Goodbye, world!\". This happens *even* though Python processes code top-down, so that it sees the line `print( \"Goodbye, world!\" )` before it sees the line `print( \"Hello, world!\" )`. This is because Python does not actually run the code inside functions, at least, not until the moment that the function gets called. Python does not even look at the code in functions. It just notices the function name, registers that that function is defined so that it can be used, and then continues, searching for the main program to run. "
   ]
  },
  {
   "cell_type": "markdown",
   "metadata": {},
   "source": [
    "### Parameters and arguments"
   ]
  },
  {
   "cell_type": "markdown",
   "metadata": {},
   "source": [
    "Examine the code below. It defines a function `hello()` with one parameter, which is called `name`. The function uses the variable `name` in the code block. There is no explicit assignment of the variable name, it exists because it is a parameter of the function.\n",
    "\n",
    "When a function is called, you must provide a value for every (mandatory) parameter that is defined for the function. Such a value is called an \"argument\". Therefore, to call the function `hello()`, you must provide an argument for the parameter `name`. You place this argument between the parentheses of the function call. Note that in your main program you do not need to know that this parameter is called `name`. What it is called is unimportant. The only thing you need to know is that there is a parameter that needs a value, and preferably what kind of value the function is expecting (i.e., what the author of the function expects you to provide)."
   ]
  },
  {
   "cell_type": "code",
   "execution_count": 10,
   "metadata": {},
   "outputs": [
    {
     "name": "stdout",
     "output_type": "stream",
     "text": [
      "Hello, Adrian\n",
      "Hello, Binky\n",
      "Hello, Caroline\n",
      "Hello, Dante\n"
     ]
    }
   ],
   "source": [
    "def hello( name ):\n",
    "    print( \"Hello, \"+ name ) \n",
    "    \n",
    "hello( \"Adrian\" )\n",
    "hello( \"Binky\" )\n",
    "hello( \"Caroline\" )\n",
    "hello( \"Dante\" )"
   ]
  },
  {
   "cell_type": "markdown",
   "metadata": {},
   "source": [
    "The parameters of a function are no more and no less than variables that you can use in the function, and  get their value from outside the function (namely by a function call). The parameters are \"local\" to the function, i.e., they are not accessible outside the code block of the function, nor do they influence any variable values outside the function. More on that in Chapter 7.\n",
    "\n",
    "Functions can have multiple parameters. For example, the following function multiplies two parameters and prints the result:"
   ]
  },
  {
   "cell_type": "code",
   "execution_count": 11,
   "metadata": {},
   "outputs": [
    {
     "name": "stdout",
     "output_type": "stream",
     "text": [
      "10662040760\n",
      "6\n"
     ]
    }
   ],
   "source": [
    "def multiply( x, y ):\n",
    "    result = x * y\n",
    "    print( result )\n",
    "       \n",
    "multiply( 2020, 5278238 )\n",
    "multiply( 2, 3 )"
   ]
  },
  {
   "cell_type": "markdown",
   "metadata": {},
   "source": [
    "### `return`"
   ]
  },
  {
   "cell_type": "markdown",
   "metadata": {},
   "source": [
    "Parameters can be used to communicate information from outside a function to the code block of the function. Often, you also want function to communicate information to the program that is outside the function. The keyword `return` accomplishes this.\n",
    "\n",
    "When you use the command `return` in a function, that ends the processing of the function, and Python will continue with the code that needs to be executed after the call to the function. You can put one or more values or variables after the `return` statement. These values, and values of variables, are communicated to the program outside the function. If you want to use them outside the function, you can put them into a variable when you assign the call to the function to that variable.\n",
    "\n",
    "If this sounds a bit convoluted, it will probably become clear after studying the following example:"
   ]
  },
  {
   "cell_type": "code",
   "execution_count": 12,
   "metadata": {},
   "outputs": [
    {
     "name": "stdout",
     "output_type": "stream",
     "text": [
      "9\n"
     ]
    }
   ],
   "source": [
    "def square( a ):\n",
    "    return a*a \n",
    "\n",
    "c = square( 3 )\n",
    "print( c )"
   ]
  },
  {
   "cell_type": "markdown",
   "metadata": {},
   "source": [
    "The function `square()` calculates the square of its only parameter. Then it returns that value, using the `return` statement. The main program \"captures\" the value by assigning it to variable `c`, then prints the contents of `c`.\n",
    "\n",
    "Note that the `return` statement in the example above has a complete calculation with it. That calculation is done in the function, which leads to a value. It is the result of the calculation, i.e., the value, which is returned to the main program.\n",
    "\n",
    "Note that every line of code in the function that occurs immediately after a `return` at the same level of indentation will always be ignored. E.g., in the function:"
   ]
  },
  {
   "cell_type": "code",
   "execution_count": 13,
   "metadata": {},
   "outputs": [
    {
     "name": "stdout",
     "output_type": "stream",
     "text": [
      "9\n"
     ]
    }
   ],
   "source": [
    "def square( a ):\n",
    "    return a*a \n",
    "    print( \"This line will never be printed\" )\n",
    "\n",
    "c = square( 3 )\n",
    "print( c )\n"
   ]
  },
  {
   "cell_type": "markdown",
   "metadata": {},
   "source": [
    "the line below `return a*a` clearly states how useless it is."
   ]
  },
  {
   "cell_type": "markdown",
   "metadata": {},
   "source": [
    "### Difference between `return` and `print`"
   ]
  },
  {
   "cell_type": "markdown",
   "metadata": {},
   "source": [
    "Many students struggle with the difference between a function returning a value and a function printing a value. Compare the following two pieces of code:"
   ]
  },
  {
   "cell_type": "code",
   "execution_count": 14,
   "metadata": {},
   "outputs": [
    {
     "name": "stdout",
     "output_type": "stream",
     "text": [
      "3\n"
     ]
    }
   ],
   "source": [
    "def print3():\n",
    "    print( 3 )\n",
    "print3()"
   ]
  },
  {
   "cell_type": "markdown",
   "metadata": {},
   "source": [
    "and:"
   ]
  },
  {
   "cell_type": "code",
   "execution_count": 15,
   "metadata": {},
   "outputs": [
    {
     "name": "stdout",
     "output_type": "stream",
     "text": [
      "3\n"
     ]
    }
   ],
   "source": [
    "def return3():\n",
    "    return 3\n",
    "print( return3() )\n"
   ]
  },
  {
   "cell_type": "markdown",
   "metadata": {},
   "source": [
    "Both the function `print3()` and `return3()` are called in their respective codes, and result in the printing of the value 3. The difference is that the printing of this value in the case of `print3()` happens in the function, while the function returns nothing, while in the case of `return3()` the function only returns the value 3, which is then printed in the main program. For the user the result of these codes looks the same: both display the number 3. But for the programmer the two functions involved are quite different.\n",
    "\n",
    "The function `print3()` can only be used for one purpose, namely to display the number 3. The function `return3()`, however, can be used wherever we need the number 3, regardless whether we need to display it, use it in a calculation, or assign it to a variable. For instance, the following code raises `2` to the power of `3` and prints the result:"
   ]
  },
  {
   "cell_type": "code",
   "execution_count": 16,
   "metadata": {},
   "outputs": [
    {
     "name": "stdout",
     "output_type": "stream",
     "text": [
      "8\n"
     ]
    }
   ],
   "source": [
    "def return3():\n",
    "    return 3\n",
    "\n",
    "x = 2 ** return3()\n",
    "print( x )"
   ]
  },
  {
   "cell_type": "markdown",
   "metadata": {},
   "source": [
    "On the other hand, the following code leads to a runtime error when executed:"
   ]
  },
  {
   "cell_type": "code",
   "execution_count": 17,
   "metadata": {},
   "outputs": [
    {
     "name": "stdout",
     "output_type": "stream",
     "text": [
      "3\n"
     ]
    },
    {
     "ename": "TypeError",
     "evalue": "unsupported operand type(s) for ** or pow(): 'int' and 'NoneType'",
     "output_type": "error",
     "traceback": [
      "\u001b[0;31m---------------------------------------------------------------------------\u001b[0m",
      "\u001b[0;31mTypeError\u001b[0m                                 Traceback (most recent call last)",
      "\u001b[0;32m<ipython-input-17-4a764867e50c>\u001b[0m in \u001b[0;36m<module>\u001b[0;34m()\u001b[0m\n\u001b[1;32m      1\u001b[0m \u001b[0;32mdef\u001b[0m \u001b[0mprint3\u001b[0m\u001b[0;34m(\u001b[0m\u001b[0;34m)\u001b[0m\u001b[0;34m:\u001b[0m\u001b[0;34m\u001b[0m\u001b[0m\n\u001b[1;32m      2\u001b[0m     \u001b[0mprint\u001b[0m\u001b[0;34m(\u001b[0m \u001b[0;36m3\u001b[0m \u001b[0;34m)\u001b[0m\u001b[0;34m\u001b[0m\u001b[0m\n\u001b[0;32m----> 3\u001b[0;31m \u001b[0mx\u001b[0m \u001b[0;34m=\u001b[0m \u001b[0;36m2\u001b[0m \u001b[0;34m**\u001b[0m \u001b[0mprint3\u001b[0m\u001b[0;34m(\u001b[0m\u001b[0;34m)\u001b[0m\u001b[0;34m\u001b[0m\u001b[0m\n\u001b[0m\u001b[1;32m      4\u001b[0m \u001b[0mprint\u001b[0m\u001b[0;34m(\u001b[0m \u001b[0mx\u001b[0m \u001b[0;34m)\u001b[0m\u001b[0;34m\u001b[0m\u001b[0m\n",
      "\u001b[0;31mTypeError\u001b[0m: unsupported operand type(s) for ** or pow(): 'int' and 'NoneType'"
     ]
    }
   ],
   "source": [
    "def print3():\n",
    "    print( 3 )\n",
    "    \n",
    "x = 2 ** print3()\n",
    "print( x )"
   ]
  },
  {
   "cell_type": "markdown",
   "metadata": {},
   "source": [
    "The reason is that while `print3()` displays the value of 3 on the screen (you even see it above the runtime error), it does not produce the actual value 3 in such a way that the calculation can use it. The function `print3()` actually returns the special value `None`, which cannot be used in a calculation.\n",
    "\n",
    "So, if you want to create a function that produces a value that can be used in other parts of the program, then the function must `return` that value. If you want to create a function that just displays something on the screen, you can use a `print` statement in the function to do that, but the function does not need to `return` anything."
   ]
  },
  {
   "cell_type": "markdown",
   "metadata": {},
   "source": [
    "### Calling functions from functions"
   ]
  },
  {
   "cell_type": "markdown",
   "metadata": {},
   "source": [
    "Functions are allowed to call other functions, as long as those other functions are known to the calling function. For instance, the following code shows how the function `euclideanDistance()` uses the function `pythagoras()` to calculate the distance between two points in 2-dimensional space."
   ]
  },
  {
   "cell_type": "code",
   "execution_count": 18,
   "metadata": {},
   "outputs": [
    {
     "name": "stdout",
     "output_type": "stream",
     "text": [
      "5.0\n"
     ]
    }
   ],
   "source": [
    "from math import sqrt\n",
    "\n",
    "def pythagoras( a, b ):\n",
    "    if a <= 0 or b <= 0:\n",
    "        return -1\n",
    "    return sqrt( a*a + b*b )\n",
    "\n",
    "def euclideanDistance( x1, y1, x2, y2 ):\n",
    "    return pythagoras( abs( x1 - x2 ), abs( y1 - y2 ) )\n",
    "\n",
    "print( euclideanDistance( 1, 1, 4, 5 ) )"
   ]
  },
  {
   "cell_type": "markdown",
   "metadata": {},
   "source": [
    "`euclideanDistance()` knows `pythagoras()`, because `pythagoras()` was defined before `euclideanDistance()`. \n",
    "\n",
    "If you want, you can put functions inside other functions, i.e., you can \"nest\" functions. For instance, you can place `pythagoras()` in `euclideanDistance()`. That means that `pythagoras()` can be called inside `euclideanDistance()`, but not elsewhere in the program."
   ]
  },
  {
   "cell_type": "code",
   "execution_count": null,
   "metadata": {},
   "outputs": [],
   "source": [
    "from math import sqrt\n",
    "\n",
    "def euclideanDistance( x1, y1, x2, y2 ):\n",
    "    \n",
    "    def pythagoras_inside( a, b ):\n",
    "        if a <= 0 or b <= 0:\n",
    "            return -1\n",
    "        return sqrt( a*a + b*b )\n",
    "    \n",
    "    return pythagoras_inside( abs( x1 - x2 ), abs( y1 - y2 ) )\n",
    "\n",
    "print( euclideanDistance( 1, 1, 4, 5 ) )\n",
    "# print( pythagoras_inside( 3, 4 ) )"
   ]
  },
  {
   "cell_type": "markdown",
   "metadata": {},
   "source": [
    "It is not very common that nested functions are used, but it is possible.\n",
    "\n",
    "Note: if you remove the hash mark before the last line of the code above, it adds a call to `pythagoras_inside()`. This will cause a runtime error, as `pythagoras_inside()` is only visible inside `euclideanDistance()`.\n",
    "\n",
    "**Exercise**: Write a function called `printx()` that just prints the letter \"x\". Then write a function called `multiplex()` which takes as argument an integer and prints as many times the letter \"x\" as the integer indicates by calling the function `printx()` that many times."
   ]
  },
  {
   "cell_type": "code",
   "execution_count": 33,
   "metadata": {},
   "outputs": [
    {
     "data": {
      "text/plain": [
       "'xxx'"
      ]
     },
     "execution_count": 33,
     "metadata": {},
     "output_type": "execute_result"
    }
   ],
   "source": [
    "def printx():\n",
    "    return \"x\"\n",
    "\n",
    "\n",
    "def multiplex(n):\n",
    "    return (printx()) * n\n",
    "\n",
    "multiplex (3)"
   ]
  },
  {
   "cell_type": "code",
   "execution_count": 31,
   "metadata": {},
   "outputs": [
    {
     "ename": "NameError",
     "evalue": "name 'casa' is not defined",
     "output_type": "error",
     "traceback": [
      "\u001b[0;31m---------------------------------------------------------------------------\u001b[0m",
      "\u001b[0;31mNameError\u001b[0m                                 Traceback (most recent call last)",
      "\u001b[0;32m<ipython-input-31-14968c7735a2>\u001b[0m in \u001b[0;36m<module>\u001b[0;34m()\u001b[0m\n\u001b[0;32m----> 1\u001b[0;31m \u001b[0mcasa\u001b[0m \u001b[0;34m*\u001b[0m \u001b[0;36m3\u001b[0m\u001b[0;34m\u001b[0m\u001b[0m\n\u001b[0m",
      "\u001b[0;31mNameError\u001b[0m: name 'casa' is not defined"
     ]
    }
   ],
   "source": [
    "casa * 3"
   ]
  },
  {
   "cell_type": "code",
   "execution_count": 19,
   "metadata": {},
   "outputs": [
    {
     "name": "stdout",
     "output_type": "stream",
     "text": [
      "x\n",
      "xxx\n"
     ]
    }
   ],
   "source": [
    "# Printing x's\n",
    "def printx():\n",
    "    return \"x\"\n",
    "\n",
    "print (printx())\n",
    "\n",
    "\n",
    "___\n",
    "\n",
    "def multiplex(x):\n",
    "    answer = x * \"x\"\n",
    "    return answer\n",
    "\n",
    "print(multiplex(3))\n"
   ]
  },
  {
   "cell_type": "markdown",
   "metadata": {},
   "source": [
    "## Some basic functions"
   ]
  },
  {
   "cell_type": "markdown",
   "metadata": {},
   "source": [
    "At this point, we introduce some basic functions that you can use in your Python programs."
   ]
  },
  {
   "cell_type": "markdown",
   "metadata": {},
   "source": [
    "### Type casting"
   ]
  },
  {
   "cell_type": "markdown",
   "metadata": {},
   "source": [
    "we already introduced the type casting functions in Chapter 4. Here you can see a complete description of them:\n",
    "\n",
    "- `float()` has one parameter and returns a floating-point representation of the value of that parameter. If the parameter holds an integer, it returns the same value as a float (if you print it, you will see `.0` added). If the parameter holds a float, it returns the same value. If the parameter holds a string which can be interpreted as an integer or a float, it returns that interpretation as a float; otherwise it will give a runtime error.\n",
    "- `int()` has one parameter and returns an integer representation of the value of that parameter. If the parameter holds an integer, it returns the same integer. If the parameter holds a float, it returns the integer part of the float, i.e., the float value rounded down. If the parameter holds a string, and the string contains only digits, optionally with a preceding minus-sign, it returns the integer represented by those digits; otherwise it will give a runtime error.\n",
    "- `str()` has  one parameter and returns a string representation of the value of that parameter.\n",
    "\n",
    "**Exercise**: What will happen if you run the following code? If you do not know, try it and find out."
   ]
  },
  {
   "cell_type": "code",
   "execution_count": 16,
   "metadata": {},
   "outputs": [
    {
     "name": "stdout",
     "output_type": "stream",
     "text": [
      "1000000000\n"
     ]
    }
   ],
   "source": [
    "print( 10 * int( \"100000000\" ) )"
   ]
  },
  {
   "cell_type": "markdown",
   "metadata": {},
   "source": [
    "### Calculations"
   ]
  },
  {
   "cell_type": "markdown",
   "metadata": {},
   "source": [
    "Basic Python functions also have limited support for calculations.\n",
    "\n",
    "- `abs()` has one numerical parameter (an integer or a float). If the value is positive, it will return the value. If the value is negative, it will return the value multiplied by `-1`.\n",
    "- `max()` has two or more numerical parameters, and returns the largest.\n",
    "- `min()` has two or more numerical parameters, and returns the smallest.\n",
    "- `pow()` has two numerical parameters, and returns the first to the power of the second. Optionally, it has a third numerical parameter. If that third parameter is supplied, it will return the value modulo that third parameter.\n",
    "- `round()` has a numerical parameter and rounds it, mathematically, to a whole number. It has an optional second parameter. The second parameter must be an integer, and if it is provided, the function will round the first parameter to the number of decimals specified by the second parameter.\n",
    "\n",
    "**Exercise**: Examine the code below and try to determine what it displays. Then run the code and see if you are correct."
   ]
  },
  {
   "cell_type": "code",
   "execution_count": 19,
   "metadata": {},
   "outputs": [
    {
     "name": "stdout",
     "output_type": "stream",
     "text": [
      "2\n",
      "3\n",
      "-2\n",
      "-8\n",
      "1.3\n"
     ]
    }
   ],
   "source": [
    "x = -2\n",
    "y = 3\n",
    "z = 1.27\n",
    "\n",
    "print( abs( x ) )\n",
    "print( max( x, y, z ) )\n",
    "print( min( x, y, z ) )\n",
    "print( pow( x, y ) )\n",
    "print( round( z, 1) )"
   ]
  },
  {
   "cell_type": "markdown",
   "metadata": {},
   "source": [
    "### `len()`"
   ]
  },
  {
   "cell_type": "markdown",
   "metadata": {},
   "source": [
    "`len()` is a basic function that gets one parameter, and it returns the length of that parameter. For now, the only data type which you will use `len()` for is the string. `len()` returns the length of the string, i.e., its number of characters.\n",
    "\n",
    "**Exercise**: What does the code below print? Run it and check if you are correct."
   ]
  },
  {
   "cell_type": "code",
   "execution_count": 35,
   "metadata": {},
   "outputs": [
    {
     "name": "stdout",
     "output_type": "stream",
     "text": [
      "3\n",
      "8\n",
      "1\n"
     ]
    }
   ],
   "source": [
    "print( len( 'can' ) )\n",
    "print( len( 'can not ' ) )\n",
    "print( len( ' ' ) )          # '' is an empty string, i.e., a string with no characters in it."
   ]
  },
  {
   "cell_type": "markdown",
   "metadata": {},
   "source": [
    "**Exercise**: And what about the code below? Think carefully, then check the result."
   ]
  },
  {
   "cell_type": "code",
   "execution_count": 39,
   "metadata": {},
   "outputs": [
    {
     "name": "stdout",
     "output_type": "stream",
     "text": [
      "5\n",
      "can't\n"
     ]
    }
   ],
   "source": [
    "print( len( 'can\\'t' ) )\n",
    "print ('can\\'t')"
   ]
  },
  {
   "cell_type": "markdown",
   "metadata": {},
   "source": [
    "-------"
   ]
  },
  {
   "cell_type": "markdown",
   "metadata": {},
   "source": [
    "## Modules"
   ]
  },
  {
   "cell_type": "markdown",
   "metadata": {},
   "source": [
    "Python offers some basic functions, some of which are introduced above. Besides those, Python offers a large assortment of so-called \"modules\", which contain many more useful functions. To use functions from a module in your program, you have to `import` the module, by write a line `import <modulename>` at the top of your code. You can then use all the functions in the module, though you have to precede the function calls with the name of the module and a period, e.g., to call the `sqrt()` function from the `math` module (which calculates the square root of a number), you call `math.sqrt()` after importing `math`.\n",
    "\n",
    "Alternatively, you can import only specific functions from a module, by stating `from <modulename> import <functioname1>, <functionname2>, <functionname3>, ...`. The main advantage of importing specific functions from a module in this way is that in your code, you no longer need to precede the call to a function with the module name.\n",
    "\n",
    "For example:"
   ]
  },
  {
   "cell_type": "code",
   "execution_count": 22,
   "metadata": {},
   "outputs": [
    {
     "name": "stdout",
     "output_type": "stream",
     "text": [
      "2.0\n"
     ]
    }
   ],
   "source": [
    "import math\n",
    "\n",
    "print( math.sqrt( 4 ) )"
   ]
  },
  {
   "cell_type": "markdown",
   "metadata": {},
   "source": [
    "is equivalent to:"
   ]
  },
  {
   "cell_type": "code",
   "execution_count": 23,
   "metadata": {},
   "outputs": [
    {
     "name": "stdout",
     "output_type": "stream",
     "text": [
      "2.0\n"
     ]
    }
   ],
   "source": [
    "from math import sqrt\n",
    "\n",
    "print( sqrt( 4 ) )"
   ]
  },
  {
   "cell_type": "markdown",
   "metadata": {},
   "source": [
    "If you want to rename something that you import from a module, you can do so with the keyword `as`. This might be useful when you use multiple modules that contain things with equal names."
   ]
  },
  {
   "cell_type": "code",
   "execution_count": 24,
   "metadata": {},
   "outputs": [
    {
     "name": "stdout",
     "output_type": "stream",
     "text": [
      "2.0\n"
     ]
    }
   ],
   "source": [
    "from math import sqrt as squareroot\n",
    "\n",
    "print( squareroot( 4 ) )"
   ]
  },
  {
   "cell_type": "markdown",
   "metadata": {},
   "source": [
    "I will now introduce some functions from two standard modules that are often used, and some functions from a module which was developed for this course (you will learn to develop your own modules later). There are many more modules besides the ones introduced here, some of which will come up later in the course, and others which you will have to look up by yourself by the time you need them in practice. However, you may assume that for any more-or-less general problem that you want to solve, someone has made a module that makes solving that problem simple or even trivial. So, in practice, do not start coding immediately, but first investigate whether you can exploit someone else's efforts."
   ]
  },
  {
   "cell_type": "markdown",
   "metadata": {},
   "source": [
    "### `math`"
   ]
  },
  {
   "cell_type": "markdown",
   "metadata": {},
   "source": [
    "The `math` module contains some useful mathematical functions. These functions have usually been implemented in a very efficient way, and in general they return a float. I will introduce only a few of these functions here (if you want to learn more of them, look up the `math` module in the Python reference):\n",
    "\n",
    "- `exp()` gets one numerical parameter and returns `e` to the power of that parameter. If you do not remember `e` from math class: `e` is a special value that has many interesting properties, which have applications in physics, maths, and statistics.\n",
    "- `log()` gets one numerical parameter and returns the natural logarithm of that parameter. The natural logarithm is the value which, when `e` is raised to the power of that value, gives the requested parameter. Just like `e`, the natural logarithm has many applications in physics, maths, and statistics.\n",
    "- `log10()` gets one numerical parameter and returns the base-10 logarithm of that parameter.\n",
    "- `sqrt()` gets one numerical parameter and returns the square root of that parameter.\n",
    "\n",
    "For example:"
   ]
  },
  {
   "cell_type": "code",
   "execution_count": 25,
   "metadata": {},
   "outputs": [
    {
     "name": "stdout",
     "output_type": "stream",
     "text": [
      "The value of e is approximately 2.718281828459045\n",
      "e squared is 7.38905609893065\n",
      "which means that log( 7.38905609893065 ) is 2.0\n"
     ]
    }
   ],
   "source": [
    "from math import exp, log\n",
    "\n",
    "print( \"The value of e is approximately\", exp( 1 ) )\n",
    "e_sqr = exp( 2 )\n",
    "print( \"e squared is\", e_sqr )\n",
    "print( \"which means that log(\", e_sqr, \") is\", log( e_sqr ) )"
   ]
  },
  {
   "cell_type": "markdown",
   "metadata": {},
   "source": [
    "### `random`"
   ]
  },
  {
   "cell_type": "markdown",
   "metadata": {},
   "source": [
    "The `random` module contains functions that return pseudo-random numbers. I say \"pseudo-random\" and not \"random\", because it is impossible for digital computers to generate actual random numbers. However, for all intents and purposes you may assume that the functions in the `random` module cough up random values.\n",
    "\n",
    "- `random()` gets no parameters, and returns a random float in the range `[0,1)`, i.e., a range that includes `0.0`, but excludes `1.0`.\n",
    "- `randint()` gets two parameters, both integers, and the first should be smaller than or equal to the second. It returns a random integer in the range for which the two parameters are boundaries, e.g., `randint(2,5)` returns 2, 3, 4, or 5, with an equal chance for each of them.\n",
    "- `seed()` initializes the random number generator of Python. If you want a sequence of random numbers that are always the same for your program, start by calling `seed` with a fixed value as parameter, for instance, `0`. This can be useful for testing purposes. If you want to re-initialize the random number generator so that it starts behaving completely randomly again, call `seed()` without parameter.\n",
    "\n",
    "For example:"
   ]
  },
  {
   "cell_type": "code",
   "execution_count": 45,
   "metadata": {},
   "outputs": [
    {
     "name": "stdout",
     "output_type": "stream",
     "text": [
      "A random number between 1 and 10 is 4\n",
      "Another random number between 1 and 10 is 4\n",
      " \n",
      "Three random numbers are: 0.8444218515250481 0.7579544029403025 0.420571580830845\n",
      "The same three numbers are: 0.8444218515250481 0.7579544029403025 0.420571580830845\n",
      " \n",
      "Three random numbers are: 0.13436424411240122 0.8474337369372327 0.763774618976614\n",
      "The same three numbers are: 0.13436424411240122 0.8474337369372327 0.763774618976614\n"
     ]
    }
   ],
   "source": [
    "from random import random, randint, seed\n",
    "\n",
    "seed()\n",
    "print( \"A random number between 1 and 10 is\", randint( 1, 10 ) )\n",
    "print( \"Another random number between 1 and 10 is\", randint( 1, 10 ) )\n",
    "print ( \" \")\n",
    "seed( 0 )\n",
    "print( \"Three random numbers are:\", random(), random(), random() )\n",
    "seed( 0 )\n",
    "print( \"The same three numbers are:\", random(), random(), random() )\n",
    "\n",
    "print ( \" \")\n",
    "\n",
    "\n",
    "seed( 1 )\n",
    "print( \"Three random numbers are:\", random(), random(), random() )\n",
    "seed( 1 )\n",
    "print( \"The same three numbers are:\", random(), random(), random() )"
   ]
  },
  {
   "cell_type": "markdown",
   "metadata": {},
   "source": [
    "-------"
   ]
  },
  {
   "cell_type": "markdown",
   "metadata": {},
   "source": [
    "## Exercises"
   ]
  },
  {
   "cell_type": "markdown",
   "metadata": {},
   "source": [
    "### Exercise 6.1"
   ]
  },
  {
   "cell_type": "raw",
   "metadata": {},
   "source": [
    "Write a function that receives a string as parameter, and returns the length of that string. "
   ]
  },
  {
   "cell_type": "code",
   "execution_count": 46,
   "metadata": {},
   "outputs": [
    {
     "data": {
      "text/plain": [
       "5"
      ]
     },
     "execution_count": 46,
     "metadata": {},
     "output_type": "execute_result"
    }
   ],
   "source": [
    "def length (text):\n",
    "    return len(text)\n",
    "\n",
    "length(\"maria\")"
   ]
  },
  {
   "cell_type": "code",
   "execution_count": 34,
   "metadata": {},
   "outputs": [
    {
     "name": "stdout",
     "output_type": "stream",
     "text": [
      "4\n"
     ]
    }
   ],
   "source": [
    "# String length test.\n",
    "\n",
    "def length(parameter):\n",
    "    parameter_length = len(parameter)\n",
    "    return parameter_length\n",
    "\n",
    "print(length(\"name\"))"
   ]
  },
  {
   "cell_type": "markdown",
   "metadata": {},
   "source": [
    "### Exercise 6.2"
   ]
  },
  {
   "cell_type": "markdown",
   "metadata": {},
   "source": [
    "Write a function called `seconds_in_day` that receives a positive integer `days` as a parameter, and returns the number of seconds in `days`. For example, `seconds_in_day(5)` should return 432000."
   ]
  },
  {
   "cell_type": "code",
   "execution_count": 49,
   "metadata": {},
   "outputs": [
    {
     "data": {
      "text/plain": [
       "432000"
      ]
     },
     "execution_count": 49,
     "metadata": {},
     "output_type": "execute_result"
    }
   ],
   "source": [
    "def seconds_in_day (days):\n",
    "    return days * 24 * 60 * 60\n",
    "seconds_in_day(5)\n",
    "    \n",
    "    "
   ]
  },
  {
   "cell_type": "code",
   "execution_count": 37,
   "metadata": {},
   "outputs": [
    {
     "name": "stdout",
     "output_type": "stream",
     "text": [
      "432000\n"
     ]
    }
   ],
   "source": [
    "def seconds_in_day(days):\n",
    "    seconds_in_day = days * 60 * 60 * 24\n",
    "    return seconds_in_day\n",
    "\n",
    "print (seconds_in_day(5))\n",
    "\n"
   ]
  },
  {
   "cell_type": "markdown",
   "metadata": {},
   "source": [
    "### Exercise 6.3"
   ]
  },
  {
   "cell_type": "markdown",
   "metadata": {},
   "source": [
    "The Pythagorean theorem states that the of a right triangle, the square of the length of the diagonal side is equal to the sum of the squares of the lengths of the other two sides (or `a**2 + b**2` equals `c**2`). \n",
    "\n",
    "Write a function `pythagorean` that takes two parameters `a` and `b` that correspond to lengths of the two sides that meet at a right angle, and returns the length of the third side as a float value. You can assume that the parameters are positive, non-zero values."
   ]
  },
  {
   "cell_type": "code",
   "execution_count": 51,
   "metadata": {},
   "outputs": [
    {
     "data": {
      "text/plain": [
       "5.0"
      ]
     },
     "execution_count": 51,
     "metadata": {},
     "output_type": "execute_result"
    }
   ],
   "source": [
    "def pythagorean (a,b):\n",
    "    return sqrt (a**2 + b ** 2)\n",
    "\n",
    "pythagorean (3, 4)"
   ]
  },
  {
   "cell_type": "code",
   "execution_count": 38,
   "metadata": {},
   "outputs": [
    {
     "name": "stdout",
     "output_type": "stream",
     "text": [
      "5.0\n"
     ]
    }
   ],
   "source": [
    "from math import sqrt\n",
    "\n",
    "def pythagorean(a,b):\n",
    "    hypotenusa = sqrt (a**2 + b**2)\n",
    "    return hypotenusa\n",
    "\n",
    "print (pythagorean (3,4))"
   ]
  },
  {
   "cell_type": "code",
   "execution_count": null,
   "metadata": {},
   "outputs": [],
   "source": []
  }
 ],
 "metadata": {
  "kernelspec": {
   "display_name": "Python 3",
   "language": "python",
   "name": "python3"
  },
  "language_info": {
   "codemirror_mode": {
    "name": "ipython",
    "version": 3
   },
   "file_extension": ".py",
   "mimetype": "text/x-python",
   "name": "python",
   "nbconvert_exporter": "python",
   "pygments_lexer": "ipython3",
   "version": "3.5.3"
  }
 },
 "nbformat": 4,
 "nbformat_minor": 2
}
