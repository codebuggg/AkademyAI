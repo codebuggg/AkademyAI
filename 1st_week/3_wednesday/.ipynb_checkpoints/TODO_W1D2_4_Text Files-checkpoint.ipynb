{
 "cells": [
  {
   "cell_type": "markdown",
   "metadata": {},
   "source": [
    "# Chapter 11 - Text Files"
   ]
  },
  {
   "cell_type": "markdown",
   "metadata": {},
   "source": [
    "---"
   ]
  },
  {
   "cell_type": "markdown",
   "metadata": {},
   "source": [
    "One of the most important uses of Python for data processing is the reading, changing, and writing of text files. Data is often stored in text files, because text files can be easily transferred between different programs. There are multiple standardized formats for text files, such as \"comma-separated values\" (CSV) files. Python supports particular text file formats through modules, some of which will be discussed later. This chapter focusses on opening, reading, writing, and closing of any text file, regardless of format. "
   ]
  },
  {
   "cell_type": "markdown",
   "metadata": {},
   "source": [
    "---"
   ]
  },
  {
   "cell_type": "markdown",
   "metadata": {},
   "source": [
    "## Flat text files"
   ]
  },
  {
   "cell_type": "markdown",
   "metadata": {},
   "source": [
    "When programmers refer to \"text files\" or \"flat text files\", they mean files in which all characters are meant to be read as regular characters, like you would type on a keyboard. For instance, Python program files are flat text files, as are HTML files. Word processor documents, however, are not flat text files, and neither are images. If you want to know whether a file is a text file or not, you can try to open it in a text editor (such as the editor for the IDLE environment, which comes with Python). If you see only readable text, the file is likely to be a text file. Otherwise, it is a so-called \"binary file\".\n",
    "\n",
    "Text files consist of lines of text. At the end of a line, there is a \"newline\" symbol, which in Python is the character \"`\\n`\". Different operating systems use slightly different ways of storing this character in a text file: some Windows programs store it as \"carriage return\", as well as \"line feed\" (\"`\\r\\n`\", sometimes thought as a leftover from old typewriters), while on Linux it is always stored as a single \"`\\n`\". As long as you access a file from Python as a regular text file, Python will convert the characters that it reads to the standard \"`\\n`\", and vice versa when it writes. So you do not usually need to worry about such differences (except when you need to transfer text files between operating systems).\n",
    "\n",
    "However; if you open a file in other editors, such as notepad, sometimes it does not properly understand the end-of-line characters, and shows everything on one line."
   ]
  },
  {
   "cell_type": "markdown",
   "metadata": {},
   "source": [
    "### File handles and pointers"
   ]
  },
  {
   "cell_type": "markdown",
   "metadata": {},
   "source": [
    "When you work with a file in a program, you have to open the file. Opening a file provides a so-called \"file handle\". A file handle can be seen as an access point to the file. It contains a \"pointer\" that indicates a particular place in the file. That pointer is used when you read from or write to the file. For instance, when you read from the file, it starts reading at the pointer, and moves the pointer forward in the file.\n",
    "\n",
    "When you open a file, the pointer is placed at a particular spot in the file, depending on how you opened the file. If you opened the file for reading only, the pointer is placed at the start of the file. The same is true when you open the file for both reading and writing. If you open the file for \"appending\" (i.e., to place new data at the file's end), the file pointer is positioned at the end of the file. Lastly, if you open a file for writing only, actually the file is completely emptied and the file pointer is placed at the start of the, now empty, file. To create a new file (i.e., a file with a name that does not exist yet), you open it for \"writing only\".\n",
    "\n",
    "After opening the file, the file handle is the only access point for the file. All actions you perform on the file, you perform as methods for the file handle.\n",
    "\n",
    "Note that any operating system only allows a limited number of files to be open simultaneously. Therefore you should close files that you no longer need to work with."
   ]
  },
  {
   "cell_type": "markdown",
   "metadata": {},
   "source": [
    "### Moving the file pointer"
   ]
  },
  {
   "cell_type": "markdown",
   "metadata": {},
   "source": [
    "The file pointer, that indicates where in a file you are working, is moved automatically. For instance, when you read 10 characters from a file, the file pointer indicates which is the first of those 10 characters, and, while reading, moves up 10 characters, so that its new position is 10 characters further in the file than before. When you deal with text files, the automatic movements of the file pointer are exactly what you want. You *can* position the file pointer manually using specific methods, but such methods are, in general, only used when dealing with binary files. "
   ]
  },
  {
   "cell_type": "markdown",
   "metadata": {},
   "source": [
    "### Buffering"
   ]
  },
  {
   "cell_type": "markdown",
   "metadata": {},
   "source": [
    "When you make changes to files, these often are not stored in the files immediately. Instead, the operating system \"buffers\" the changes in memory, and \"flushes\" the buffers to the actual files when it sees a need for that. You can force the flushing of the buffers by closing a file. Buffers are also flushed when your program ends normally.\n",
    "\n",
    "However, when your program crashes (for instance because of a runtime error), buffers might not be flushed, and your files will not be updated to the point where the crash took place. So you cannot take the file contents into account when trying to debug a program."
   ]
  },
  {
   "cell_type": "markdown",
   "metadata": {},
   "source": [
    "### File processing programs"
   ]
  },
  {
   "cell_type": "markdown",
   "metadata": {},
   "source": [
    "Most programs that deal with text files follow a process that, in a loop, reads contents of a file, processes those contents in some way, then writes the contents to another file. For instance, a program might read lines from a text file, and for each line sort the words, then write the sorted words to another text file. This is hardly any different from a program that asks the user the provide, in a loop, a line of text, then sorts the words in the line, and displays them using the `print()` function. \n",
    "\n",
    "However, it tends to be experienced as more complicated.\n",
    "\n",
    "When you provide input to a program manually, and see it displaying outputs, you always know more or less what lines of your code Python is processing, and you can make up tests on the fly. If you work with files, you have to prepare your files beforehand, then run the program and wait until it finishes before you can examine the contents of the output files. \n",
    "\n",
    "While working with files might give a sense of lack of control, during development of the program you can always include `print()` statements to get an insight in what the program is doing. For instance, when it reads a line, you can print that line, and when it writes a line, you can also print that line. That way, your insight in the inner workings of the program is no different regardless whether you use manual inputs and screen outputs, or file inputs and outputs."
   ]
  },
  {
   "cell_type": "markdown",
   "metadata": {},
   "source": [
    "---"
   ]
  },
  {
   "cell_type": "markdown",
   "metadata": {},
   "source": [
    "## Reading text files"
   ]
  },
  {
   "cell_type": "markdown",
   "metadata": {},
   "source": [
    "To read the contents of a file, you must first open it, then read the contents, then close it."
   ]
  },
  {
   "cell_type": "markdown",
   "metadata": {},
   "source": [
    "### Opening a file using `open()`"
   ]
  },
  {
   "cell_type": "markdown",
   "metadata": {},
   "source": [
    "To open a file, you use the `open()` function. \n",
    "\n",
    "The `open()` function gets two arguments, of which the second one is optional. The first argument is the name of the file. If the file is not in the current directory, you have to include the complete path to the file so that Python can find it. The second argument is the \"mode\". The mode indicates how you want to treat the file. The default mode (which is picked when you do not supply the second argument) is opening the file as a text file for reading only. How you set other modes is discussed later.\n",
    "\n",
    "The `open()` function returns a file handle, which you use for all the remaining functionalities.\n",
    "\n",
    "Rather than writing \"`<handle> = open( <filename> )`\", you will often see Python programs that write this as \"`open( <filename> ) as <handle>`\". These two ways of writing code are equivalent. I myself prefer the first, as that is the way it is done in most programming languages. However, the second method has an advantage that I discuss below, when talking about closing a file."
   ]
  },
  {
   "cell_type": "markdown",
   "metadata": {},
   "source": [
    "### Reading a file using `read()`"
   ]
  },
  {
   "cell_type": "markdown",
   "metadata": {},
   "source": [
    "The simplest way to read the contents of a file is using the `read()` method, without arguments, on the file handle. This returns a string that contains the complete contents of the file. `read()` can get an argument, but that's only used for binary files.\n",
    "\n",
    "Reading from a file moves the file pointer to right after the part of the file that was read. This means that if you use the `read()` method without arguments, the file pointer is moved to the end of the file. This entails that if you would try to `read()` from it a second time, nothing would be read, as there is nothing to be read after the spot where the file pointer is."
   ]
  },
  {
   "cell_type": "markdown",
   "metadata": {},
   "source": [
    "### Closing a file using `close()`"
   ]
  },
  {
   "cell_type": "markdown",
   "metadata": {},
   "source": [
    "To close a file, you use the `close()` method on the file handle. Every file that you open, you should close at some point in your program. This is especially true in these notebooks, as each notebook page is considered to be one complete program; this means that if you do not close a file, it remains open even after the bit of code that you executed ends.\n",
    "\n",
    "If everything that you need to do with a file is done in a single block, you can write this block as follows:\n",
    "\n",
    "    with open( <filename> ) as <handle>:\n",
    "        <statements>\n",
    "        \n",
    "This syntactic construction has the advantage that the file will be closed automatically after the block `<statements>` ends, so you do not need to include an explicit `close()` call. This construction is typically Python; you do not see it in many other programming languages."
   ]
  },
  {
   "cell_type": "markdown",
   "metadata": {},
   "source": [
    "### Displaying the contents of a file"
   ]
  },
  {
   "cell_type": "markdown",
   "metadata": {},
   "source": [
    "Now the first few functions and methods for dealing with text files have been introduced, I can show some code that reads the contents of a file."
   ]
  },
  {
   "cell_type": "code",
   "execution_count": 1,
   "metadata": {},
   "outputs": [
    {
     "name": "stdout",
     "output_type": "stream",
     "text": [
      "1609\n",
      "\n",
      "THE SONNETS\n",
      "\n",
      "by William Shakespeare\n",
      "\n",
      "\n",
      "\n",
      "                     1\n",
      "  From fairest creatures we desire increase,\n",
      "  That thereby beauty's rose might never die,\n",
      "  But as the riper should by time decease,\n",
      "  His tender heir might bear his memory:\n",
      "  But thou contracted to thine own bright eyes,\n",
      "  Feed'st thy light's flame with self-substantial fuel,\n",
      "  Making a famine where abundance lies,\n",
      "  Thy self thy foe, to thy sweet self too cruel:\n",
      "  Thou that art now the world's fresh ornament,\n",
      "  And only herald to the gaudy spring,\n",
      "  Within thine own bud buriest thy content,\n",
      "  And tender churl mak'st waste in niggarding:\n",
      "    Pity the world, or else this glutton be,\n",
      "    To eat the world's due, by the grave and thee.\n",
      "\n",
      "\n",
      "                     2\n",
      "  When forty winters shall besiege thy brow,\n",
      "  And dig deep trenches in thy beauty's field,\n",
      "  Thy youth's proud livery so gazed on now,\n",
      "  Will be a tattered weed of small worth held:\n",
      "  Then being asked, where all thy beauty lies,\n",
      "  Where all the treasure of thy lusty days;\n",
      "  To say within thine own deep sunken eyes,\n",
      "  Were an all-eating shame, and thriftless praise.\n",
      "  How much more praise deserved thy beauty's use,\n",
      "  If thou couldst answer 'This fair child of mine\n",
      "  Shall sum my count, and make my old excuse'\n",
      "  Proving his beauty by succession thine.\n",
      "    This were to be new made when thou art old,\n",
      "    And see thy blood warm when thou feel'st it cold.\n",
      "\n",
      "\n",
      "                     3\n",
      "  Look in thy glass and tell the face thou viewest,\n",
      "  Now is the time that face should form another,\n",
      "  Whose fresh repair if now thou not renewest,\n",
      "  Thou dost beguile the world, unbless some mother.\n",
      "  For where is she so fair whose uneared womb\n",
      "  Disdains the tillage of thy husbandry?\n",
      "  Or who is he so fond will be the tomb,\n",
      "  Of his self-love to stop posterity?\n",
      "  Thou art thy mother's glass and she in thee\n",
      "  Calls back the lovely April of her prime,\n",
      "  So thou through windows of thine age shalt see,\n",
      "  Despite of wrinkles this thy golden time.\n",
      "    But if thou live remembered not to be,\n",
      "    Die single and thine image dies with thee.\n",
      "\n",
      "\n",
      "                     4\n",
      "  Unthrifty loveliness why dost thou spend,\n",
      "  Upon thy self thy beauty's legacy?\n",
      "  Nature's bequest gives nothing but doth lend,\n",
      "  And being frank she lends to those are free:\n",
      "  Then beauteous niggard why dost thou abuse,\n",
      "  The bounteous largess given thee to give?\n",
      "  Profitless usurer why dost thou use\n",
      "  So great a sum of sums yet canst not live?\n",
      "  For having traffic with thy self alone,\n",
      "  Thou of thy self thy sweet self dost deceive,\n",
      "  Then how when nature calls thee to be gone,\n",
      "  What acceptable audit canst thou leave?\n",
      "    Thy unused beauty must be tombed with thee,\n",
      "    Which used lives th' executor to be.\n",
      "\n",
      "\n",
      "                     5\n",
      "  Those hours that with gentle work did frame\n",
      "  The lovely gaze where every eye doth dwell\n",
      "  Will play the tyrants to the very same,\n",
      "  And that unfair which fairly doth excel:\n",
      "  For never-resting time leads summer on\n",
      "  To hideous winter and confounds him there,\n",
      "  Sap checked with frost and lusty leaves quite gone,\n",
      "  Beauty o'er-snowed and bareness every where:\n",
      "  Then were not summer's distillation left\n",
      "  A liquid prisoner pent in walls of glass,\n",
      "  Beauty's effect with beauty were bereft,\n",
      "  Nor it nor no remembrance what it was.\n",
      "    But flowers distilled though they with winter meet,\n",
      "    Leese but their show, their substance still lives sweet.\n",
      "\n",
      "\n",
      "                     6\n",
      "  Then let not winter's ragged hand deface,\n",
      "  In thee thy summer ere thou be distilled:\n",
      "  Make sweet some vial; treasure thou some place,\n",
      "  With beauty's treasure ere it be self-killed:\n",
      "  That use is not forbidden usury,\n",
      "  Which happies those that pay the willing loan;\n",
      "  That's for thy self to breed another thee,\n",
      "  Or ten times happier be it ten for one,\n",
      "  Ten times thy self were happier than thou art,\n",
      "  If ten of thine ten times refigured thee:\n",
      "  Then what could death do if thou shouldst depart,\n",
      "  Leaving thee living in posterity?\n",
      "    Be not self-willed for thou art much too fair,\n",
      "    To be death's conquest and make worms thine heir.\n",
      "\n",
      "\n",
      "                     7\n",
      "  Lo in the orient when the gracious light\n",
      "  Lifts up his burning head, each under eye\n",
      "  Doth homage to his new-appearing sight,\n",
      "  Serving with looks his sacred majesty,\n",
      "  And having climbed the steep-up heavenly hill,\n",
      "  Resembling strong youth in his middle age,\n",
      "  Yet mortal looks adore his beauty still,\n",
      "  Attending on his golden pilgrimage:\n",
      "  But when from highmost pitch with weary car,\n",
      "  Like feeble age he reeleth from the day,\n",
      "  The eyes (fore duteous) now converted are\n",
      "  From his low tract and look another way:\n",
      "    So thou, thy self out-going in thy noon:\n",
      "    Unlooked on diest unless thou get a son.\n",
      "\n",
      "\n",
      "                     8\n",
      "  Music to hear, why hear'st thou music sadly?\n",
      "  Sweets with sweets war not, joy delights in joy:\n",
      "  Why lov'st thou that which thou receiv'st not gladly,\n",
      "  Or else receiv'st with pleasure thine annoy?\n",
      "  If the true concord of well-tuned sounds,\n",
      "  By unions married do offend thine ear,\n",
      "  They do but sweetly chide thee, who confounds\n",
      "  In singleness the parts that thou shouldst bear:\n",
      "  Mark how one string sweet husband to another,\n",
      "  Strikes each in each by mutual ordering;\n",
      "  Resembling sire, and child, and happy mother,\n",
      "  Who all in one, one pleasing note do sing:\n",
      "    Whose speechless song being many, seeming one,\n",
      "    Sings this to thee, 'Thou single wilt prove none'.\n",
      "\n",
      "\n",
      "                     9\n",
      "  Is it for fear to wet a widow's eye,\n",
      "  That thou consum'st thy self in single life?\n",
      "  Ah, if thou issueless shalt hap to die,\n",
      "  The world will wail thee like a makeless wife,\n",
      "  The world will be thy widow and still weep,\n",
      "  That thou no form of thee hast left behind,\n",
      "  When every private widow well may keep,\n",
      "  By children's eyes, her husband's shape in mind:\n",
      "  Look what an unthrift in the world doth spend\n",
      "  Shifts but his place, for still the world enjoys it;\n",
      "  But beauty's waste hath in the world an end,\n",
      "  And kept unused the user so destroys it:\n",
      "    No love toward others in that bosom sits\n",
      "    That on himself such murd'rous shame commits.\n",
      "\n",
      "\n",
      "                     10\n",
      "  For shame deny that thou bear'st love to any\n",
      "  Who for thy self art so unprovident.\n",
      "  Grant if thou wilt, thou art beloved of many,\n",
      "  But that thou none lov'st is most evident:\n",
      "  For thou art so possessed with murd'rous hate,\n",
      "  That 'gainst thy self thou stick'st not to conspire,\n",
      "  Seeking that beauteous roof to ruinate\n",
      "  Which to repair should be thy chief desire:\n",
      "  O change thy thought, that I may change my mind,\n",
      "  Shall hate be fairer lodged than gentle love?\n",
      "  Be as thy presence is gracious and kind,\n",
      "  Or to thy self at least kind-hearted prove,\n",
      "    Make thee another self for love of me,\n",
      "    That beauty still may live in thine or thee.\n",
      "\n"
     ]
    }
   ],
   "source": [
    "\n",
    "def display_contents_file(file_name):\n",
    "    #fp = open(file_name, \"r\")\n",
    "    with open( file_name ) as fp:\n",
    "        buffer = fp.read()\n",
    "    print( buffer )\n",
    "    \n",
    "display_contents_file(\"Shakespeare.txt\")"
   ]
  },
  {
   "cell_type": "code",
   "execution_count": 3,
   "metadata": {},
   "outputs": [
    {
     "name": "stdout",
     "output_type": "stream",
     "text": [
      "1609\n",
      "\n",
      "THE SONNETS\n",
      "\n",
      "by William Shakespeare\n",
      "\n",
      "\n",
      "\n",
      "                     1\n",
      "  From fairest creatures we desire increase,\n",
      "  That thereby beauty's rose might never die,\n",
      "  But as the riper should by time decease,\n",
      "  His tender heir might bear his memory:\n",
      "  But thou contracted to thine own bright eyes,\n",
      "  Feed'st thy light's flame with self-substantial fuel,\n",
      "  Making a famine where abundance lies,\n",
      "  Thy self thy foe, to thy sweet self too cruel:\n",
      "  Thou that art now the world's fresh ornament,\n",
      "  And only herald to the gaudy spring,\n",
      "  Within thine own bud buriest thy content,\n",
      "  And tender churl mak'st waste in niggarding:\n",
      "    Pity the world, or else this glutton be,\n",
      "    To eat the world's due, by the grave and thee.\n",
      "\n",
      "\n",
      "                     2\n",
      "  When forty winters shall besiege thy brow,\n",
      "  And dig deep trenches in thy beauty's field,\n",
      "  Thy youth's proud livery so gazed on now,\n",
      "  Will be a tattered weed of small worth held:\n",
      "  Then being asked, where all thy beauty lies,\n",
      "  Where all the treasure of thy lusty days;\n",
      "  To say within thine own deep sunken eyes,\n",
      "  Were an all-eating shame, and thriftless praise.\n",
      "  How much more praise deserved thy beauty's use,\n",
      "  If thou couldst answer 'This fair child of mine\n",
      "  Shall sum my count, and make my old excuse'\n",
      "  Proving his beauty by succession thine.\n",
      "    This were to be new made when thou art old,\n",
      "    And see thy blood warm when thou feel'st it cold.\n",
      "\n",
      "\n",
      "                     3\n",
      "  Look in thy glass and tell the face thou viewest,\n",
      "  Now is the time that face should form another,\n",
      "  Whose fresh repair if now thou not renewest,\n",
      "  Thou dost beguile the world, unbless some mother.\n",
      "  For where is she so fair whose uneared womb\n",
      "  Disdains the tillage of thy husbandry?\n",
      "  Or who is he so fond will be the tomb,\n",
      "  Of his self-love to stop posterity?\n",
      "  Thou art thy mother's glass and she in thee\n",
      "  Calls back the lovely April of her prime,\n",
      "  So thou through windows of thine age shalt see,\n",
      "  Despite of wrinkles this thy golden time.\n",
      "    But if thou live remembered not to be,\n",
      "    Die single and thine image dies with thee.\n",
      "\n",
      "\n",
      "                     4\n",
      "  Unthrifty loveliness why dost thou spend,\n",
      "  Upon thy self thy beauty's legacy?\n",
      "  Nature's bequest gives nothing but doth lend,\n",
      "  And being frank she lends to those are free:\n",
      "  Then beauteous niggard why dost thou abuse,\n",
      "  The bounteous largess given thee to give?\n",
      "  Profitless usurer why dost thou use\n",
      "  So great a sum of sums yet canst not live?\n",
      "  For having traffic with thy self alone,\n",
      "  Thou of thy self thy sweet self dost deceive,\n",
      "  Then how when nature calls thee to be gone,\n",
      "  What acceptable audit canst thou leave?\n",
      "    Thy unused beauty must be tombed with thee,\n",
      "    Which used lives th' executor to be.\n",
      "\n",
      "\n",
      "                     5\n",
      "  Those hours that with gentle work did frame\n",
      "  The lovely gaze where every eye doth dwell\n",
      "  Will play the tyrants to the very same,\n",
      "  And that unfair which fairly doth excel:\n",
      "  For never-resting time leads summer on\n",
      "  To hideous winter and confounds him there,\n",
      "  Sap checked with frost and lusty leaves quite gone,\n",
      "  Beauty o'er-snowed and bareness every where:\n",
      "  Then were not summer's distillation left\n",
      "  A liquid prisoner pent in walls of glass,\n",
      "  Beauty's effect with beauty were bereft,\n",
      "  Nor it nor no remembrance what it was.\n",
      "    But flowers distilled though they with winter meet,\n",
      "    Leese but their show, their substance still lives sweet.\n",
      "\n",
      "\n",
      "                     6\n",
      "  Then let not winter's ragged hand deface,\n",
      "  In thee thy summer ere thou be distilled:\n",
      "  Make sweet some vial; treasure thou some place,\n",
      "  With beauty's treasure ere it be self-killed:\n",
      "  That use is not forbidden usury,\n",
      "  Which happies those that pay the willing loan;\n",
      "  That's for thy self to breed another thee,\n",
      "  Or ten times happier be it ten for one,\n",
      "  Ten times thy self were happier than thou art,\n",
      "  If ten of thine ten times refigured thee:\n",
      "  Then what could death do if thou shouldst depart,\n",
      "  Leaving thee living in posterity?\n",
      "    Be not self-willed for thou art much too fair,\n",
      "    To be death's conquest and make worms thine heir.\n",
      "\n",
      "\n",
      "                     7\n",
      "  Lo in the orient when the gracious light\n",
      "  Lifts up his burning head, each under eye\n",
      "  Doth homage to his new-appearing sight,\n",
      "  Serving with looks his sacred majesty,\n",
      "  And having climbed the steep-up heavenly hill,\n",
      "  Resembling strong youth in his middle age,\n",
      "  Yet mortal looks adore his beauty still,\n",
      "  Attending on his golden pilgrimage:\n",
      "  But when from highmost pitch with weary car,\n",
      "  Like feeble age he reeleth from the day,\n",
      "  The eyes (fore duteous) now converted are\n",
      "  From his low tract and look another way:\n",
      "    So thou, thy self out-going in thy noon:\n",
      "    Unlooked on diest unless thou get a son.\n",
      "\n",
      "\n",
      "                     8\n",
      "  Music to hear, why hear'st thou music sadly?\n",
      "  Sweets with sweets war not, joy delights in joy:\n",
      "  Why lov'st thou that which thou receiv'st not gladly,\n",
      "  Or else receiv'st with pleasure thine annoy?\n",
      "  If the true concord of well-tuned sounds,\n",
      "  By unions married do offend thine ear,\n",
      "  They do but sweetly chide thee, who confounds\n",
      "  In singleness the parts that thou shouldst bear:\n",
      "  Mark how one string sweet husband to another,\n",
      "  Strikes each in each by mutual ordering;\n",
      "  Resembling sire, and child, and happy mother,\n",
      "  Who all in one, one pleasing note do sing:\n",
      "    Whose speechless song being many, seeming one,\n",
      "    Sings this to thee, 'Thou single wilt prove none'.\n",
      "\n",
      "\n",
      "                     9\n",
      "  Is it for fear to wet a widow's eye,\n",
      "  That thou consum'st thy self in single life?\n",
      "  Ah, if thou issueless shalt hap to die,\n",
      "  The world will wail thee like a makeless wife,\n",
      "  The world will be thy widow and still weep,\n",
      "  That thou no form of thee hast left behind,\n",
      "  When every private widow well may keep,\n",
      "  By children's eyes, her husband's shape in mind:\n",
      "  Look what an unthrift in the world doth spend\n",
      "  Shifts but his place, for still the world enjoys it;\n",
      "  But beauty's waste hath in the world an end,\n",
      "  And kept unused the user so destroys it:\n",
      "    No love toward others in that bosom sits\n",
      "    That on himself such murd'rous shame commits.\n",
      "\n",
      "\n",
      "                     10\n",
      "  For shame deny that thou bear'st love to any\n",
      "  Who for thy self art so unprovident.\n",
      "  Grant if thou wilt, thou art beloved of many,\n",
      "  But that thou none lov'st is most evident:\n",
      "  For thou art so possessed with murd'rous hate,\n",
      "  That 'gainst thy self thou stick'st not to conspire,\n",
      "  Seeking that beauteous roof to ruinate\n",
      "  Which to repair should be thy chief desire:\n",
      "  O change thy thought, that I may change my mind,\n",
      "  Shall hate be fairer lodged than gentle love?\n",
      "  Be as thy presence is gracious and kind,\n",
      "  Or to thy self at least kind-hearted prove,\n",
      "    Make thee another self for love of me,\n",
      "    That beauty still may live in thine or thee.\n",
      "\n"
     ]
    }
   ],
   "source": [
    "\n",
    "def display_contents_file(file_name):\n",
    "    fp = open(file_name, \"r\")\n",
    "    #with open( file_name ) as fp:\n",
    "    buffer = fp.read()\n",
    "    print( buffer )\n",
    "    fp.close()\n",
    "display_contents_file(\"Shakespeare.txt\")"
   ]
  },
  {
   "cell_type": "code",
   "execution_count": 4,
   "metadata": {},
   "outputs": [
    {
     "name": "stdout",
     "output_type": "stream",
     "text": [
      "1609\n",
      "\n",
      "\n",
      "\n",
      "THE SONNETS\n",
      "\n",
      "\n",
      "\n",
      "by William Shakespeare\n",
      "\n",
      "\n",
      "\n",
      "\n",
      "\n",
      "\n",
      "\n",
      "                     1\n",
      "\n",
      "  From fairest creatures we desire increase,\n",
      "\n",
      "  That thereby beauty's rose might never die,\n",
      "\n",
      "  But as the riper should by time decease,\n",
      "\n",
      "  His tender heir might bear his memory:\n",
      "\n",
      "  But thou contracted to thine own bright eyes,\n",
      "\n",
      "  Feed'st thy light's flame with self-substantial fuel,\n",
      "\n",
      "  Making a famine where abundance lies,\n",
      "\n",
      "  Thy self thy foe, to thy sweet self too cruel:\n",
      "\n",
      "  Thou that art now the world's fresh ornament,\n",
      "\n",
      "  And only herald to the gaudy spring,\n",
      "\n",
      "  Within thine own bud buriest thy content,\n",
      "\n",
      "  And tender churl mak'st waste in niggarding:\n",
      "\n",
      "    Pity the world, or else this glutton be,\n",
      "\n",
      "    To eat the world's due, by the grave and thee.\n",
      "\n",
      "\n",
      "\n",
      "\n",
      "\n",
      "                     2\n",
      "\n",
      "  When forty winters shall besiege thy brow,\n",
      "\n",
      "  And dig deep trenches in thy beauty's field,\n",
      "\n",
      "  Thy youth's proud livery so gazed on now,\n",
      "\n",
      "  Will be a tattered weed of small worth held:\n",
      "\n",
      "  Then being asked, where all thy beauty lies,\n",
      "\n",
      "  Where all the treasure of thy lusty days;\n",
      "\n",
      "  To say within thine own deep sunken eyes,\n",
      "\n",
      "  Were an all-eating shame, and thriftless praise.\n",
      "\n",
      "  How much more praise deserved thy beauty's use,\n",
      "\n",
      "  If thou couldst answer 'This fair child of mine\n",
      "\n",
      "  Shall sum my count, and make my old excuse'\n",
      "\n",
      "  Proving his beauty by succession thine.\n",
      "\n",
      "    This were to be new made when thou art old,\n",
      "\n",
      "    And see thy blood warm when thou feel'st it cold.\n",
      "\n",
      "\n",
      "\n",
      "\n",
      "\n",
      "                     3\n",
      "\n",
      "  Look in thy glass and tell the face thou viewest,\n",
      "\n",
      "  Now is the time that face should form another,\n",
      "\n",
      "  Whose fresh repair if now thou not renewest,\n",
      "\n",
      "  Thou dost beguile the world, unbless some mother.\n",
      "\n",
      "  For where is she so fair whose uneared womb\n",
      "\n",
      "  Disdains the tillage of thy husbandry?\n",
      "\n",
      "  Or who is he so fond will be the tomb,\n",
      "\n",
      "  Of his self-love to stop posterity?\n",
      "\n",
      "  Thou art thy mother's glass and she in thee\n",
      "\n",
      "  Calls back the lovely April of her prime,\n",
      "\n",
      "  So thou through windows of thine age shalt see,\n",
      "\n",
      "  Despite of wrinkles this thy golden time.\n",
      "\n",
      "    But if thou live remembered not to be,\n",
      "\n",
      "    Die single and thine image dies with thee.\n",
      "\n",
      "\n",
      "\n",
      "\n",
      "\n",
      "                     4\n",
      "\n",
      "  Unthrifty loveliness why dost thou spend,\n",
      "\n",
      "  Upon thy self thy beauty's legacy?\n",
      "\n",
      "  Nature's bequest gives nothing but doth lend,\n",
      "\n",
      "  And being frank she lends to those are free:\n",
      "\n",
      "  Then beauteous niggard why dost thou abuse,\n",
      "\n",
      "  The bounteous largess given thee to give?\n",
      "\n",
      "  Profitless usurer why dost thou use\n",
      "\n",
      "  So great a sum of sums yet canst not live?\n",
      "\n",
      "  For having traffic with thy self alone,\n",
      "\n",
      "  Thou of thy self thy sweet self dost deceive,\n",
      "\n",
      "  Then how when nature calls thee to be gone,\n",
      "\n",
      "  What acceptable audit canst thou leave?\n",
      "\n",
      "    Thy unused beauty must be tombed with thee,\n",
      "\n",
      "    Which used lives th' executor to be.\n",
      "\n",
      "\n",
      "\n",
      "\n",
      "\n",
      "                     5\n",
      "\n",
      "  Those hours that with gentle work did frame\n",
      "\n",
      "  The lovely gaze where every eye doth dwell\n",
      "\n",
      "  Will play the tyrants to the very same,\n",
      "\n",
      "  And that unfair which fairly doth excel:\n",
      "\n",
      "  For never-resting time leads summer on\n",
      "\n",
      "  To hideous winter and confounds him there,\n",
      "\n",
      "  Sap checked with frost and lusty leaves quite gone,\n",
      "\n",
      "  Beauty o'er-snowed and bareness every where:\n",
      "\n",
      "  Then were not summer's distillation left\n",
      "\n",
      "  A liquid prisoner pent in walls of glass,\n",
      "\n",
      "  Beauty's effect with beauty were bereft,\n",
      "\n",
      "  Nor it nor no remembrance what it was.\n",
      "\n",
      "    But flowers distilled though they with winter meet,\n",
      "\n",
      "    Leese but their show, their substance still lives sweet.\n",
      "\n",
      "\n",
      "\n",
      "\n",
      "\n",
      "                     6\n",
      "\n",
      "  Then let not winter's ragged hand deface,\n",
      "\n",
      "  In thee thy summer ere thou be distilled:\n",
      "\n",
      "  Make sweet some vial; treasure thou some place,\n",
      "\n",
      "  With beauty's treasure ere it be self-killed:\n",
      "\n",
      "  That use is not forbidden usury,\n",
      "\n",
      "  Which happies those that pay the willing loan;\n",
      "\n",
      "  That's for thy self to breed another thee,\n",
      "\n",
      "  Or ten times happier be it ten for one,\n",
      "\n",
      "  Ten times thy self were happier than thou art,\n",
      "\n",
      "  If ten of thine ten times refigured thee:\n",
      "\n",
      "  Then what could death do if thou shouldst depart,\n",
      "\n",
      "  Leaving thee living in posterity?\n",
      "\n",
      "    Be not self-willed for thou art much too fair,\n",
      "\n",
      "    To be death's conquest and make worms thine heir.\n",
      "\n",
      "\n",
      "\n",
      "\n",
      "\n",
      "                     7\n",
      "\n",
      "  Lo in the orient when the gracious light\n",
      "\n",
      "  Lifts up his burning head, each under eye\n",
      "\n",
      "  Doth homage to his new-appearing sight,\n",
      "\n",
      "  Serving with looks his sacred majesty,\n",
      "\n",
      "  And having climbed the steep-up heavenly hill,\n",
      "\n",
      "  Resembling strong youth in his middle age,\n",
      "\n",
      "  Yet mortal looks adore his beauty still,\n",
      "\n",
      "  Attending on his golden pilgrimage:\n",
      "\n",
      "  But when from highmost pitch with weary car,\n",
      "\n",
      "  Like feeble age he reeleth from the day,\n",
      "\n",
      "  The eyes (fore duteous) now converted are\n",
      "\n",
      "  From his low tract and look another way:\n",
      "\n",
      "    So thou, thy self out-going in thy noon:\n",
      "\n",
      "    Unlooked on diest unless thou get a son.\n",
      "\n",
      "\n",
      "\n",
      "\n",
      "\n",
      "                     8\n",
      "\n",
      "  Music to hear, why hear'st thou music sadly?\n",
      "\n",
      "  Sweets with sweets war not, joy delights in joy:\n",
      "\n",
      "  Why lov'st thou that which thou receiv'st not gladly,\n",
      "\n",
      "  Or else receiv'st with pleasure thine annoy?\n",
      "\n",
      "  If the true concord of well-tuned sounds,\n",
      "\n",
      "  By unions married do offend thine ear,\n",
      "\n",
      "  They do but sweetly chide thee, who confounds\n",
      "\n",
      "  In singleness the parts that thou shouldst bear:\n",
      "\n",
      "  Mark how one string sweet husband to another,\n",
      "\n",
      "  Strikes each in each by mutual ordering;\n",
      "\n",
      "  Resembling sire, and child, and happy mother,\n",
      "\n",
      "  Who all in one, one pleasing note do sing:\n",
      "\n",
      "    Whose speechless song being many, seeming one,\n",
      "\n",
      "    Sings this to thee, 'Thou single wilt prove none'.\n",
      "\n",
      "\n",
      "\n",
      "\n",
      "\n",
      "                     9\n",
      "\n",
      "  Is it for fear to wet a widow's eye,\n",
      "\n",
      "  That thou consum'st thy self in single life?\n",
      "\n",
      "  Ah, if thou issueless shalt hap to die,\n",
      "\n",
      "  The world will wail thee like a makeless wife,\n",
      "\n",
      "  The world will be thy widow and still weep,\n",
      "\n",
      "  That thou no form of thee hast left behind,\n",
      "\n",
      "  When every private widow well may keep,\n",
      "\n",
      "  By children's eyes, her husband's shape in mind:\n",
      "\n",
      "  Look what an unthrift in the world doth spend\n",
      "\n",
      "  Shifts but his place, for still the world enjoys it;\n",
      "\n",
      "  But beauty's waste hath in the world an end,\n",
      "\n",
      "  And kept unused the user so destroys it:\n",
      "\n",
      "    No love toward others in that bosom sits\n",
      "\n",
      "    That on himself such murd'rous shame commits.\n",
      "\n",
      "\n",
      "\n",
      "\n",
      "\n",
      "                     10\n",
      "\n",
      "  For shame deny that thou bear'st love to any\n",
      "\n",
      "  Who for thy self art so unprovident.\n",
      "\n",
      "  Grant if thou wilt, thou art beloved of many,\n",
      "\n",
      "  But that thou none lov'st is most evident:\n",
      "\n",
      "  For thou art so possessed with murd'rous hate,\n",
      "\n",
      "  That 'gainst thy self thou stick'st not to conspire,\n",
      "\n",
      "  Seeking that beauteous roof to ruinate\n",
      "\n",
      "  Which to repair should be thy chief desire:\n",
      "\n",
      "  O change thy thought, that I may change my mind,\n",
      "\n",
      "  Shall hate be fairer lodged than gentle love?\n",
      "\n",
      "  Be as thy presence is gracious and kind,\n",
      "\n",
      "  Or to thy self at least kind-hearted prove,\n",
      "\n",
      "    Make thee another self for love of me,\n",
      "\n",
      "    That beauty still may live in thine or thee.\n",
      "\n",
      "['1609\\n', '\\n', 'THE SONNETS\\n', '\\n', 'by William Shakespeare\\n', '\\n', '\\n', '\\n', '                     1\\n', '  From fairest creatures we desire increase,\\n', \"  That thereby beauty's rose might never die,\\n\", '  But as the riper should by time decease,\\n', '  His tender heir might bear his memory:\\n', '  But thou contracted to thine own bright eyes,\\n', \"  Feed'st thy light's flame with self-substantial fuel,\\n\", '  Making a famine where abundance lies,\\n', '  Thy self thy foe, to thy sweet self too cruel:\\n', \"  Thou that art now the world's fresh ornament,\\n\", '  And only herald to the gaudy spring,\\n', '  Within thine own bud buriest thy content,\\n', \"  And tender churl mak'st waste in niggarding:\\n\", '    Pity the world, or else this glutton be,\\n', \"    To eat the world's due, by the grave and thee.\\n\", '\\n', '\\n', '                     2\\n', '  When forty winters shall besiege thy brow,\\n', \"  And dig deep trenches in thy beauty's field,\\n\", \"  Thy youth's proud livery so gazed on now,\\n\", '  Will be a tattered weed of small worth held:\\n', '  Then being asked, where all thy beauty lies,\\n', '  Where all the treasure of thy lusty days;\\n', '  To say within thine own deep sunken eyes,\\n', '  Were an all-eating shame, and thriftless praise.\\n', \"  How much more praise deserved thy beauty's use,\\n\", \"  If thou couldst answer 'This fair child of mine\\n\", \"  Shall sum my count, and make my old excuse'\\n\", '  Proving his beauty by succession thine.\\n', '    This were to be new made when thou art old,\\n', \"    And see thy blood warm when thou feel'st it cold.\\n\", '\\n', '\\n', '                     3\\n', '  Look in thy glass and tell the face thou viewest,\\n', '  Now is the time that face should form another,\\n', '  Whose fresh repair if now thou not renewest,\\n', '  Thou dost beguile the world, unbless some mother.\\n', '  For where is she so fair whose uneared womb\\n', '  Disdains the tillage of thy husbandry?\\n', '  Or who is he so fond will be the tomb,\\n', '  Of his self-love to stop posterity?\\n', \"  Thou art thy mother's glass and she in thee\\n\", '  Calls back the lovely April of her prime,\\n', '  So thou through windows of thine age shalt see,\\n', '  Despite of wrinkles this thy golden time.\\n', '    But if thou live remembered not to be,\\n', '    Die single and thine image dies with thee.\\n', '\\n', '\\n', '                     4\\n', '  Unthrifty loveliness why dost thou spend,\\n', \"  Upon thy self thy beauty's legacy?\\n\", \"  Nature's bequest gives nothing but doth lend,\\n\", '  And being frank she lends to those are free:\\n', '  Then beauteous niggard why dost thou abuse,\\n', '  The bounteous largess given thee to give?\\n', '  Profitless usurer why dost thou use\\n', '  So great a sum of sums yet canst not live?\\n', '  For having traffic with thy self alone,\\n', '  Thou of thy self thy sweet self dost deceive,\\n', '  Then how when nature calls thee to be gone,\\n', '  What acceptable audit canst thou leave?\\n', '    Thy unused beauty must be tombed with thee,\\n', \"    Which used lives th' executor to be.\\n\", '\\n', '\\n', '                     5\\n', '  Those hours that with gentle work did frame\\n', '  The lovely gaze where every eye doth dwell\\n', '  Will play the tyrants to the very same,\\n', '  And that unfair which fairly doth excel:\\n', '  For never-resting time leads summer on\\n', '  To hideous winter and confounds him there,\\n', '  Sap checked with frost and lusty leaves quite gone,\\n', \"  Beauty o'er-snowed and bareness every where:\\n\", \"  Then were not summer's distillation left\\n\", '  A liquid prisoner pent in walls of glass,\\n', \"  Beauty's effect with beauty were bereft,\\n\", '  Nor it nor no remembrance what it was.\\n', '    But flowers distilled though they with winter meet,\\n', '    Leese but their show, their substance still lives sweet.\\n', '\\n', '\\n', '                     6\\n', \"  Then let not winter's ragged hand deface,\\n\", '  In thee thy summer ere thou be distilled:\\n', '  Make sweet some vial; treasure thou some place,\\n', \"  With beauty's treasure ere it be self-killed:\\n\", '  That use is not forbidden usury,\\n', '  Which happies those that pay the willing loan;\\n', \"  That's for thy self to breed another thee,\\n\", '  Or ten times happier be it ten for one,\\n', '  Ten times thy self were happier than thou art,\\n', '  If ten of thine ten times refigured thee:\\n', '  Then what could death do if thou shouldst depart,\\n', '  Leaving thee living in posterity?\\n', '    Be not self-willed for thou art much too fair,\\n', \"    To be death's conquest and make worms thine heir.\\n\", '\\n', '\\n', '                     7\\n', '  Lo in the orient when the gracious light\\n', '  Lifts up his burning head, each under eye\\n', '  Doth homage to his new-appearing sight,\\n', '  Serving with looks his sacred majesty,\\n', '  And having climbed the steep-up heavenly hill,\\n', '  Resembling strong youth in his middle age,\\n', '  Yet mortal looks adore his beauty still,\\n', '  Attending on his golden pilgrimage:\\n', '  But when from highmost pitch with weary car,\\n', '  Like feeble age he reeleth from the day,\\n', '  The eyes (fore duteous) now converted are\\n', '  From his low tract and look another way:\\n', '    So thou, thy self out-going in thy noon:\\n', '    Unlooked on diest unless thou get a son.\\n', '\\n', '\\n', '                     8\\n', \"  Music to hear, why hear'st thou music sadly?\\n\", '  Sweets with sweets war not, joy delights in joy:\\n', \"  Why lov'st thou that which thou receiv'st not gladly,\\n\", \"  Or else receiv'st with pleasure thine annoy?\\n\", '  If the true concord of well-tuned sounds,\\n', '  By unions married do offend thine ear,\\n', '  They do but sweetly chide thee, who confounds\\n', '  In singleness the parts that thou shouldst bear:\\n', '  Mark how one string sweet husband to another,\\n', '  Strikes each in each by mutual ordering;\\n', '  Resembling sire, and child, and happy mother,\\n', '  Who all in one, one pleasing note do sing:\\n', '    Whose speechless song being many, seeming one,\\n', \"    Sings this to thee, 'Thou single wilt prove none'.\\n\", '\\n', '\\n', '                     9\\n', \"  Is it for fear to wet a widow's eye,\\n\", \"  That thou consum'st thy self in single life?\\n\", '  Ah, if thou issueless shalt hap to die,\\n', '  The world will wail thee like a makeless wife,\\n', '  The world will be thy widow and still weep,\\n', '  That thou no form of thee hast left behind,\\n', '  When every private widow well may keep,\\n', \"  By children's eyes, her husband's shape in mind:\\n\", '  Look what an unthrift in the world doth spend\\n', '  Shifts but his place, for still the world enjoys it;\\n', \"  But beauty's waste hath in the world an end,\\n\", '  And kept unused the user so destroys it:\\n', '    No love toward others in that bosom sits\\n', \"    That on himself such murd'rous shame commits.\\n\", '\\n', '\\n', '                     10\\n', \"  For shame deny that thou bear'st love to any\\n\", '  Who for thy self art so unprovident.\\n', '  Grant if thou wilt, thou art beloved of many,\\n', \"  But that thou none lov'st is most evident:\\n\", \"  For thou art so possessed with murd'rous hate,\\n\", \"  That 'gainst thy self thou stick'st not to conspire,\\n\", '  Seeking that beauteous roof to ruinate\\n', '  Which to repair should be thy chief desire:\\n', '  O change thy thought, that I may change my mind,\\n', '  Shall hate be fairer lodged than gentle love?\\n', '  Be as thy presence is gracious and kind,\\n', '  Or to thy self at least kind-hearted prove,\\n', '    Make thee another self for love of me,\\n', '    That beauty still may live in thine or thee.\\n']\n"
     ]
    }
   ],
   "source": [
    "def display_contents_file(file_name):\n",
    "    #with open( file_name ) as fp:\n",
    "    fp = open(file_name, \"r\")\n",
    "    buffer = fp.readlines()\n",
    "    for line in buffer:\n",
    "        print(line)\n",
    "    print(buffer)\n",
    "    fp.close()\n",
    "    \n",
    "display_contents_file(\"Shakespeare.txt\")"
   ]
  },
  {
   "cell_type": "markdown",
   "metadata": {},
   "source": [
    "### Reading lines using `readline()`"
   ]
  },
  {
   "cell_type": "markdown",
   "metadata": {},
   "source": [
    "To read a text file line by line, you can use the `readline()` method. The `readline()` method reads characters starting at the file pointer up to and including the next newline character, and returns them as a string. You can recognize that you have reached the end of the file by the fact that no characters are read anymore, i.e., the string that is returned is empty."
   ]
  },
  {
   "cell_type": "code",
   "execution_count": 5,
   "metadata": {},
   "outputs": [
    {
     "name": "stdout",
     "output_type": "stream",
     "text": [
      "['1609\\n', '\\n', 'THE SONNETS\\n', '\\n', 'by William Shakespeare\\n', '\\n', '\\n', '\\n', '                     1\\n', '  From fairest creatures we desire increase,\\n', \"  That thereby beauty's rose might never die,\\n\", '  But as the riper should by time decease,\\n', '  His tender heir might bear his memory:\\n', '  But thou contracted to thine own bright eyes,\\n', \"  Feed'st thy light's flame with self-substantial fuel,\\n\", '  Making a famine where abundance lies,\\n', '  Thy self thy foe, to thy sweet self too cruel:\\n', \"  Thou that art now the world's fresh ornament,\\n\", '  And only herald to the gaudy spring,\\n', '  Within thine own bud buriest thy content,\\n', \"  And tender churl mak'st waste in niggarding:\\n\", '    Pity the world, or else this glutton be,\\n', \"    To eat the world's due, by the grave and thee.\\n\", '\\n', '\\n', '                     2\\n', '  When forty winters shall besiege thy brow,\\n', \"  And dig deep trenches in thy beauty's field,\\n\", \"  Thy youth's proud livery so gazed on now,\\n\", '  Will be a tattered weed of small worth held:\\n', '  Then being asked, where all thy beauty lies,\\n', '  Where all the treasure of thy lusty days;\\n', '  To say within thine own deep sunken eyes,\\n', '  Were an all-eating shame, and thriftless praise.\\n', \"  How much more praise deserved thy beauty's use,\\n\", \"  If thou couldst answer 'This fair child of mine\\n\", \"  Shall sum my count, and make my old excuse'\\n\", '  Proving his beauty by succession thine.\\n', '    This were to be new made when thou art old,\\n', \"    And see thy blood warm when thou feel'st it cold.\\n\", '\\n', '\\n', '                     3\\n', '  Look in thy glass and tell the face thou viewest,\\n', '  Now is the time that face should form another,\\n', '  Whose fresh repair if now thou not renewest,\\n', '  Thou dost beguile the world, unbless some mother.\\n', '  For where is she so fair whose uneared womb\\n', '  Disdains the tillage of thy husbandry?\\n', '  Or who is he so fond will be the tomb,\\n', '  Of his self-love to stop posterity?\\n', \"  Thou art thy mother's glass and she in thee\\n\", '  Calls back the lovely April of her prime,\\n', '  So thou through windows of thine age shalt see,\\n', '  Despite of wrinkles this thy golden time.\\n', '    But if thou live remembered not to be,\\n', '    Die single and thine image dies with thee.\\n', '\\n', '\\n', '                     4\\n', '  Unthrifty loveliness why dost thou spend,\\n', \"  Upon thy self thy beauty's legacy?\\n\", \"  Nature's bequest gives nothing but doth lend,\\n\", '  And being frank she lends to those are free:\\n', '  Then beauteous niggard why dost thou abuse,\\n', '  The bounteous largess given thee to give?\\n', '  Profitless usurer why dost thou use\\n', '  So great a sum of sums yet canst not live?\\n', '  For having traffic with thy self alone,\\n', '  Thou of thy self thy sweet self dost deceive,\\n', '  Then how when nature calls thee to be gone,\\n', '  What acceptable audit canst thou leave?\\n', '    Thy unused beauty must be tombed with thee,\\n', \"    Which used lives th' executor to be.\\n\", '\\n', '\\n', '                     5\\n', '  Those hours that with gentle work did frame\\n', '  The lovely gaze where every eye doth dwell\\n', '  Will play the tyrants to the very same,\\n', '  And that unfair which fairly doth excel:\\n', '  For never-resting time leads summer on\\n', '  To hideous winter and confounds him there,\\n', '  Sap checked with frost and lusty leaves quite gone,\\n', \"  Beauty o'er-snowed and bareness every where:\\n\", \"  Then were not summer's distillation left\\n\", '  A liquid prisoner pent in walls of glass,\\n', \"  Beauty's effect with beauty were bereft,\\n\", '  Nor it nor no remembrance what it was.\\n', '    But flowers distilled though they with winter meet,\\n', '    Leese but their show, their substance still lives sweet.\\n', '\\n', '\\n', '                     6\\n', \"  Then let not winter's ragged hand deface,\\n\", '  In thee thy summer ere thou be distilled:\\n', '  Make sweet some vial; treasure thou some place,\\n', \"  With beauty's treasure ere it be self-killed:\\n\", '  That use is not forbidden usury,\\n', '  Which happies those that pay the willing loan;\\n', \"  That's for thy self to breed another thee,\\n\", '  Or ten times happier be it ten for one,\\n', '  Ten times thy self were happier than thou art,\\n', '  If ten of thine ten times refigured thee:\\n', '  Then what could death do if thou shouldst depart,\\n', '  Leaving thee living in posterity?\\n', '    Be not self-willed for thou art much too fair,\\n', \"    To be death's conquest and make worms thine heir.\\n\", '\\n', '\\n', '                     7\\n', '  Lo in the orient when the gracious light\\n', '  Lifts up his burning head, each under eye\\n', '  Doth homage to his new-appearing sight,\\n', '  Serving with looks his sacred majesty,\\n', '  And having climbed the steep-up heavenly hill,\\n', '  Resembling strong youth in his middle age,\\n', '  Yet mortal looks adore his beauty still,\\n', '  Attending on his golden pilgrimage:\\n', '  But when from highmost pitch with weary car,\\n', '  Like feeble age he reeleth from the day,\\n', '  The eyes (fore duteous) now converted are\\n', '  From his low tract and look another way:\\n', '    So thou, thy self out-going in thy noon:\\n', '    Unlooked on diest unless thou get a son.\\n', '\\n', '\\n', '                     8\\n', \"  Music to hear, why hear'st thou music sadly?\\n\", '  Sweets with sweets war not, joy delights in joy:\\n', \"  Why lov'st thou that which thou receiv'st not gladly,\\n\", \"  Or else receiv'st with pleasure thine annoy?\\n\", '  If the true concord of well-tuned sounds,\\n', '  By unions married do offend thine ear,\\n', '  They do but sweetly chide thee, who confounds\\n', '  In singleness the parts that thou shouldst bear:\\n', '  Mark how one string sweet husband to another,\\n', '  Strikes each in each by mutual ordering;\\n', '  Resembling sire, and child, and happy mother,\\n', '  Who all in one, one pleasing note do sing:\\n', '    Whose speechless song being many, seeming one,\\n', \"    Sings this to thee, 'Thou single wilt prove none'.\\n\", '\\n', '\\n', '                     9\\n', \"  Is it for fear to wet a widow's eye,\\n\", \"  That thou consum'st thy self in single life?\\n\", '  Ah, if thou issueless shalt hap to die,\\n', '  The world will wail thee like a makeless wife,\\n', '  The world will be thy widow and still weep,\\n', '  That thou no form of thee hast left behind,\\n', '  When every private widow well may keep,\\n', \"  By children's eyes, her husband's shape in mind:\\n\", '  Look what an unthrift in the world doth spend\\n', '  Shifts but his place, for still the world enjoys it;\\n', \"  But beauty's waste hath in the world an end,\\n\", '  And kept unused the user so destroys it:\\n', '    No love toward others in that bosom sits\\n', \"    That on himself such murd'rous shame commits.\\n\", '\\n', '\\n', '                     10\\n', \"  For shame deny that thou bear'st love to any\\n\", '  Who for thy self art so unprovident.\\n', '  Grant if thou wilt, thou art beloved of many,\\n', \"  But that thou none lov'st is most evident:\\n\", \"  For thou art so possessed with murd'rous hate,\\n\", \"  That 'gainst thy self thou stick'st not to conspire,\\n\", '  Seeking that beauteous roof to ruinate\\n', '  Which to repair should be thy chief desire:\\n', '  O change thy thought, that I may change my mind,\\n', '  Shall hate be fairer lodged than gentle love?\\n', '  Be as thy presence is gracious and kind,\\n', '  Or to thy self at least kind-hearted prove,\\n', '    Make thee another self for love of me,\\n', '    That beauty still may live in thine or thee.\\n']\n"
     ]
    }
   ],
   "source": [
    "def display_contents_file2(file_name):\n",
    "    fp = open( file_name , \"r\")\n",
    "    buffer = fp.readlines()\n",
    "    print(buffer)\n",
    "   # for line in buffer:\n",
    "    #    print (line)\n",
    "    #fp.close()\n",
    "    \n",
    "display_contents_file2(\"Shakespeare.txt\")"
   ]
  },
  {
   "cell_type": "code",
   "execution_count": 6,
   "metadata": {},
   "outputs": [
    {
     "name": "stdout",
     "output_type": "stream",
     "text": [
      "1609\n",
      "\n",
      "\n",
      "\n",
      "THE SONNETS\n",
      "\n",
      "\n",
      "\n",
      "by William Shakespeare\n",
      "\n",
      "\n",
      "\n",
      "\n",
      "\n",
      "\n",
      "\n",
      "                     1\n",
      "\n",
      "  From fairest creatures we desire increase,\n",
      "\n",
      "  That thereby beauty's rose might never die,\n",
      "\n",
      "  But as the riper should by time decease,\n",
      "\n",
      "  His tender heir might bear his memory:\n",
      "\n",
      "  But thou contracted to thine own bright eyes,\n",
      "\n",
      "  Feed'st thy light's flame with self-substantial fuel,\n",
      "\n",
      "  Making a famine where abundance lies,\n",
      "\n",
      "  Thy self thy foe, to thy sweet self too cruel:\n",
      "\n",
      "  Thou that art now the world's fresh ornament,\n",
      "\n",
      "  And only herald to the gaudy spring,\n",
      "\n",
      "  Within thine own bud buriest thy content,\n",
      "\n",
      "  And tender churl mak'st waste in niggarding:\n",
      "\n",
      "    Pity the world, or else this glutton be,\n",
      "\n",
      "    To eat the world's due, by the grave and thee.\n",
      "\n",
      "\n",
      "\n",
      "\n",
      "\n",
      "                     2\n",
      "\n",
      "  When forty winters shall besiege thy brow,\n",
      "\n",
      "  And dig deep trenches in thy beauty's field,\n",
      "\n",
      "  Thy youth's proud livery so gazed on now,\n",
      "\n",
      "  Will be a tattered weed of small worth held:\n",
      "\n",
      "  Then being asked, where all thy beauty lies,\n",
      "\n",
      "  Where all the treasure of thy lusty days;\n",
      "\n",
      "  To say within thine own deep sunken eyes,\n",
      "\n",
      "  Were an all-eating shame, and thriftless praise.\n",
      "\n",
      "  How much more praise deserved thy beauty's use,\n",
      "\n",
      "  If thou couldst answer 'This fair child of mine\n",
      "\n",
      "  Shall sum my count, and make my old excuse'\n",
      "\n",
      "  Proving his beauty by succession thine.\n",
      "\n",
      "    This were to be new made when thou art old,\n",
      "\n",
      "    And see thy blood warm when thou feel'st it cold.\n",
      "\n",
      "\n",
      "\n",
      "\n",
      "\n",
      "                     3\n",
      "\n",
      "  Look in thy glass and tell the face thou viewest,\n",
      "\n",
      "  Now is the time that face should form another,\n",
      "\n",
      "  Whose fresh repair if now thou not renewest,\n",
      "\n",
      "  Thou dost beguile the world, unbless some mother.\n",
      "\n",
      "  For where is she so fair whose uneared womb\n",
      "\n",
      "  Disdains the tillage of thy husbandry?\n",
      "\n",
      "  Or who is he so fond will be the tomb,\n",
      "\n",
      "  Of his self-love to stop posterity?\n",
      "\n",
      "  Thou art thy mother's glass and she in thee\n",
      "\n",
      "  Calls back the lovely April of her prime,\n",
      "\n",
      "  So thou through windows of thine age shalt see,\n",
      "\n",
      "  Despite of wrinkles this thy golden time.\n",
      "\n",
      "    But if thou live remembered not to be,\n",
      "\n",
      "    Die single and thine image dies with thee.\n",
      "\n",
      "\n",
      "\n",
      "\n",
      "\n",
      "                     4\n",
      "\n",
      "  Unthrifty loveliness why dost thou spend,\n",
      "\n",
      "  Upon thy self thy beauty's legacy?\n",
      "\n",
      "  Nature's bequest gives nothing but doth lend,\n",
      "\n",
      "  And being frank she lends to those are free:\n",
      "\n",
      "  Then beauteous niggard why dost thou abuse,\n",
      "\n",
      "  The bounteous largess given thee to give?\n",
      "\n",
      "  Profitless usurer why dost thou use\n",
      "\n",
      "  So great a sum of sums yet canst not live?\n",
      "\n",
      "  For having traffic with thy self alone,\n",
      "\n",
      "  Thou of thy self thy sweet self dost deceive,\n",
      "\n",
      "  Then how when nature calls thee to be gone,\n",
      "\n",
      "  What acceptable audit canst thou leave?\n",
      "\n",
      "    Thy unused beauty must be tombed with thee,\n",
      "\n",
      "    Which used lives th' executor to be.\n",
      "\n",
      "\n",
      "\n",
      "\n",
      "\n",
      "                     5\n",
      "\n",
      "  Those hours that with gentle work did frame\n",
      "\n",
      "  The lovely gaze where every eye doth dwell\n",
      "\n",
      "  Will play the tyrants to the very same,\n",
      "\n",
      "  And that unfair which fairly doth excel:\n",
      "\n",
      "  For never-resting time leads summer on\n",
      "\n",
      "  To hideous winter and confounds him there,\n",
      "\n",
      "  Sap checked with frost and lusty leaves quite gone,\n",
      "\n",
      "  Beauty o'er-snowed and bareness every where:\n",
      "\n",
      "  Then were not summer's distillation left\n",
      "\n",
      "  A liquid prisoner pent in walls of glass,\n",
      "\n",
      "  Beauty's effect with beauty were bereft,\n",
      "\n",
      "  Nor it nor no remembrance what it was.\n",
      "\n",
      "    But flowers distilled though they with winter meet,\n",
      "\n",
      "    Leese but their show, their substance still lives sweet.\n",
      "\n",
      "\n",
      "\n",
      "\n",
      "\n",
      "                     6\n",
      "\n",
      "  Then let not winter's ragged hand deface,\n",
      "\n",
      "  In thee thy summer ere thou be distilled:\n",
      "\n",
      "  Make sweet some vial; treasure thou some place,\n",
      "\n",
      "  With beauty's treasure ere it be self-killed:\n",
      "\n",
      "  That use is not forbidden usury,\n",
      "\n",
      "  Which happies those that pay the willing loan;\n",
      "\n",
      "  That's for thy self to breed another thee,\n",
      "\n",
      "  Or ten times happier be it ten for one,\n",
      "\n",
      "  Ten times thy self were happier than thou art,\n",
      "\n",
      "  If ten of thine ten times refigured thee:\n",
      "\n",
      "  Then what could death do if thou shouldst depart,\n",
      "\n",
      "  Leaving thee living in posterity?\n",
      "\n",
      "    Be not self-willed for thou art much too fair,\n",
      "\n",
      "    To be death's conquest and make worms thine heir.\n",
      "\n",
      "\n",
      "\n",
      "\n",
      "\n",
      "                     7\n",
      "\n",
      "  Lo in the orient when the gracious light\n",
      "\n",
      "  Lifts up his burning head, each under eye\n",
      "\n",
      "  Doth homage to his new-appearing sight,\n",
      "\n",
      "  Serving with looks his sacred majesty,\n",
      "\n",
      "  And having climbed the steep-up heavenly hill,\n",
      "\n",
      "  Resembling strong youth in his middle age,\n",
      "\n",
      "  Yet mortal looks adore his beauty still,\n",
      "\n",
      "  Attending on his golden pilgrimage:\n",
      "\n",
      "  But when from highmost pitch with weary car,\n",
      "\n",
      "  Like feeble age he reeleth from the day,\n",
      "\n",
      "  The eyes (fore duteous) now converted are\n",
      "\n",
      "  From his low tract and look another way:\n",
      "\n",
      "    So thou, thy self out-going in thy noon:\n",
      "\n",
      "    Unlooked on diest unless thou get a son.\n",
      "\n",
      "\n",
      "\n",
      "\n",
      "\n",
      "                     8\n",
      "\n",
      "  Music to hear, why hear'st thou music sadly?\n",
      "\n",
      "  Sweets with sweets war not, joy delights in joy:\n",
      "\n",
      "  Why lov'st thou that which thou receiv'st not gladly,\n",
      "\n",
      "  Or else receiv'st with pleasure thine annoy?\n",
      "\n",
      "  If the true concord of well-tuned sounds,\n",
      "\n",
      "  By unions married do offend thine ear,\n",
      "\n",
      "  They do but sweetly chide thee, who confounds\n",
      "\n",
      "  In singleness the parts that thou shouldst bear:\n",
      "\n",
      "  Mark how one string sweet husband to another,\n",
      "\n",
      "  Strikes each in each by mutual ordering;\n",
      "\n",
      "  Resembling sire, and child, and happy mother,\n",
      "\n",
      "  Who all in one, one pleasing note do sing:\n",
      "\n",
      "    Whose speechless song being many, seeming one,\n",
      "\n",
      "    Sings this to thee, 'Thou single wilt prove none'.\n",
      "\n",
      "\n",
      "\n",
      "\n",
      "\n",
      "                     9\n",
      "\n",
      "  Is it for fear to wet a widow's eye,\n",
      "\n",
      "  That thou consum'st thy self in single life?\n",
      "\n",
      "  Ah, if thou issueless shalt hap to die,\n",
      "\n",
      "  The world will wail thee like a makeless wife,\n",
      "\n",
      "  The world will be thy widow and still weep,\n",
      "\n",
      "  That thou no form of thee hast left behind,\n",
      "\n",
      "  When every private widow well may keep,\n",
      "\n",
      "  By children's eyes, her husband's shape in mind:\n",
      "\n",
      "  Look what an unthrift in the world doth spend\n",
      "\n",
      "  Shifts but his place, for still the world enjoys it;\n",
      "\n",
      "  But beauty's waste hath in the world an end,\n",
      "\n",
      "  And kept unused the user so destroys it:\n",
      "\n",
      "    No love toward others in that bosom sits\n",
      "\n",
      "    That on himself such murd'rous shame commits.\n",
      "\n",
      "\n",
      "\n",
      "\n",
      "\n",
      "                     10\n",
      "\n",
      "  For shame deny that thou bear'st love to any\n",
      "\n",
      "  Who for thy self art so unprovident.\n",
      "\n",
      "  Grant if thou wilt, thou art beloved of many,\n",
      "\n",
      "  But that thou none lov'st is most evident:\n",
      "\n",
      "  For thou art so possessed with murd'rous hate,\n",
      "\n",
      "  That 'gainst thy self thou stick'st not to conspire,\n",
      "\n",
      "  Seeking that beauteous roof to ruinate\n",
      "\n",
      "  Which to repair should be thy chief desire:\n",
      "\n",
      "  O change thy thought, that I may change my mind,\n",
      "\n",
      "  Shall hate be fairer lodged than gentle love?\n",
      "\n",
      "  Be as thy presence is gracious and kind,\n",
      "\n",
      "  Or to thy self at least kind-hearted prove,\n",
      "\n",
      "    Make thee another self for love of me,\n",
      "\n",
      "    That beauty still may live in thine or thee.\n",
      "\n"
     ]
    }
   ],
   "source": [
    "def display_contents_file2(file_name):\n",
    "    fp = open( file_name )\n",
    "    while True:\n",
    "        buffer = fp.readline()             \n",
    "        if buffer == \"\":\n",
    "            break     \n",
    "        print( buffer )\n",
    "    fp.close()\n",
    "display_contents_file2(\"Shakespeare.txt\")"
   ]
  },
  {
   "cell_type": "code",
   "execution_count": 7,
   "metadata": {},
   "outputs": [
    {
     "name": "stdout",
     "output_type": "stream",
     "text": [
      "1609\n",
      "\n"
     ]
    }
   ],
   "source": [
    "fp = open(\"Shakespeare.txt\", \"r\")                                       \n",
    "list_ = fp.readline()\n",
    "print (list_)\n",
    "#for line in line:\n",
    " #   print(line)\n",
    "\n",
    "#print(fp.readline())\n",
    "fp.close ()"
   ]
  },
  {
   "cell_type": "markdown",
   "metadata": {},
   "source": [
    "Notice that the output of the code above has an empty line between each of the lines displayed. Where is that extra line coming from? Think about it.\n",
    "\n",
    "The extra line is there because the `readline()` method returns a string of the characters read, up to and *including* the newline character. So when the `buffer` is printed, it prints a newline character too. And since the `print()` function *also* moves to a new line after it is executed, there is an empty line printed after each line of text."
   ]
  },
  {
   "cell_type": "markdown",
   "metadata": {},
   "source": [
    "A collary to the `readline()` method is the `readlines()` method. `readlines()` reads all the lines in the file, and returns them as a list of strings. The strings include the newline characters."
   ]
  },
  {
   "cell_type": "markdown",
   "metadata": {},
   "source": [
    "### When to use which file-reading method"
   ]
  },
  {
   "cell_type": "markdown",
   "metadata": {},
   "source": [
    "Both the `read()` and `readlines()` method read a whole file at once. Obviously, for small files this is acceptable, but for long files you might not have enough memory to store the file contents efficiently. In such circumstances (or when you do not know the file size), you should read a file line by line with the `readline()` method.\n",
    "\n",
    "It is often a good idea, during code development, to process only the first few lines of a file. That way you limit the amount of time that the program needs to process a file, and limit its output, which makes debugging easier. For instance, the code below process the first 10 lines of one of the longer files."
   ]
  },
  {
   "cell_type": "code",
   "execution_count": 10,
   "metadata": {},
   "outputs": [
    {
     "name": "stdout",
     "output_type": "stream",
     "text": [
      "1609\n",
      "\n",
      "THE SONNETS\n",
      "\n",
      "by William Shakespeare\n",
      "\n",
      "\n",
      "\n",
      "                     1\n",
      "  From fairest creatures we desire increase,\n"
     ]
    }
   ],
   "source": [
    "def display_contents_file4(file_name):\n",
    "    fp = open(file_name)\n",
    "    count = 0\n",
    "    while count < 10:\n",
    "        buffer = fp.readline()\n",
    "        if buffer == \"\":\n",
    "            break\n",
    "        print( buffer, end=\"\" )\n",
    "        count += 1\n",
    "    fp.close()\n",
    "    \n",
    "display_contents_file4( \"Shakespeare.txt\")"
   ]
  },
  {
   "cell_type": "markdown",
   "metadata": {},
   "source": [
    "Once the program is finished and debugged, I can remove the references to `count` and change the loop to `while True`, to process the whole file.\n",
    "\n",
    "**Exercise**: Start by copying the code above in the code block below. Then adapt it to count how often the word \"from\" (with any capitalization) occurs in the text as a whole. Print only the number of occurrences of that word. If you do it correctly, you find the answer is 14 (it occurs 3 times in the first 20 lines)."
   ]
  },
  {
   "cell_type": "code",
   "execution_count": 11,
   "metadata": {},
   "outputs": [
    {
     "name": "stdout",
     "output_type": "stream",
     "text": [
      "2\n"
     ]
    }
   ],
   "source": [
    "def display_contents_file4(file_name):\n",
    "    fp = open(file_name)\n",
    "    count = 0\n",
    "    while True:\n",
    "        buffer = fp.readline()\n",
    "        if \"from\" in buffer:\n",
    "            count+= 1\n",
    "        if buffer == \"\":\n",
    "            break\n",
    "        \n",
    "    print(count)\n",
    "        \n",
    "    fp.close()\n",
    "    \n",
    "display_contents_file4( \"Shakespeare.txt\")"
   ]
  },
  {
   "cell_type": "code",
   "execution_count": 12,
   "metadata": {},
   "outputs": [
    {
     "data": {
      "text/plain": [
       "2"
      ]
     },
     "execution_count": 12,
     "metadata": {},
     "output_type": "execute_result"
    }
   ],
   "source": [
    "def display_cont(file_name):\n",
    "    fp = open(file_name)\n",
    "    buffer = fp.readlines()\n",
    "\n",
    "    count=0\n",
    "    for line in buffer:\n",
    "        if \"From\" in line:\n",
    "            count+= 1\n",
    "    return count\n",
    "\n",
    "display_cont(\"Shakespeare.txt\")\n",
    "    "
   ]
  },
  {
   "cell_type": "markdown",
   "metadata": {},
   "source": []
  },
  {
   "cell_type": "markdown",
   "metadata": {},
   "source": [
    "## `os.path` methods"
   ]
  },
  {
   "cell_type": "markdown",
   "metadata": {},
   "source": [
    "At this point you know everything you need to handle text files in Python. However, there are several handy functions that make your life easier when dealing with files. These are collected in the `os.path` module. As per usual, I am not going to list all of them, but I will list the ones that you will use the most.\n",
    "\n",
    "In these functions, the term \"path\" refers to a filename or a directory name, complete with parent directories (and drive letter). The parent directories (and drive letter) do not *need* to be there explicitly, but even if they are not, implicitly they still are as each file and each directory is located in a particular place in the file system."
   ]
  },
  {
   "cell_type": "markdown",
   "metadata": {},
   "source": [
    "### `exists()`"
   ]
  },
  {
   "cell_type": "markdown",
   "metadata": {},
   "source": [
    "The function `exists()` gets a path as argument, and returns `True` if that path exists, and `False` if it does not."
   ]
  },
  {
   "cell_type": "code",
   "execution_count": 21,
   "metadata": {},
   "outputs": [
    {
     "name": "stdout",
     "output_type": "stream",
     "text": [
      "Shakespeare.txt exists\n",
      "TorresMapfre.txt does not exist\n"
     ]
    },
    {
     "data": {
      "text/plain": [
       "True"
      ]
     },
     "execution_count": 21,
     "metadata": {},
     "output_type": "execute_result"
    }
   ],
   "source": [
    "from os.path import exists\n",
    "\n",
    "def check_if_path_exists(file_name):\n",
    "    if exists(file_name ):\n",
    "        return( file_name + \" exists\" )\n",
    "    else:\n",
    "        return( file_name + \" does not exist\" )\n",
    "\n",
    "print(check_if_path_exists(\"Shakespeare.txt\"))\n",
    "print(check_if_path_exists(\"TorresMapfre.txt\"))\n",
    "\n",
    "exists(\"Shakespeare.txt\")"
   ]
  },
  {
   "cell_type": "markdown",
   "metadata": {},
   "source": [
    "### `isfile()`"
   ]
  },
  {
   "cell_type": "markdown",
   "metadata": {},
   "source": [
    "`isfile()` tests if the path that is supplied as argument is a file. If it is, it returns `True`. If it is not, it returns `False`. If the path does not exist, the function also returns `False`."
   ]
  },
  {
   "cell_type": "code",
   "execution_count": 22,
   "metadata": {},
   "outputs": [
    {
     "name": "stdout",
     "output_type": "stream",
     "text": [
      "Shakespeare.txt is a file\n"
     ]
    }
   ],
   "source": [
    "from os.path import isfile\n",
    "\n",
    "def check_if_file_exists(file_name):\n",
    "    if isfile( file_name ):\n",
    "        return( file_name + \" is a file\" )\n",
    "    else:\n",
    "        return( file_name + \" is not a file\" )\n",
    "    \n",
    "print(check_if_file_exists(\"Shakespeare.txt\"))"
   ]
  },
  {
   "cell_type": "markdown",
   "metadata": {},
   "source": [
    "### `isdir()`"
   ]
  },
  {
   "cell_type": "markdown",
   "metadata": {},
   "source": [
    "`isdir()` tests if the path that is supplied as argument is a directory. If it is, it returns `True`. If it is not, it returns `False`. If the path does not exist, the function also returns `False`."
   ]
  },
  {
   "cell_type": "code",
   "execution_count": 24,
   "metadata": {},
   "outputs": [
    {
     "name": "stdout",
     "output_type": "stream",
     "text": [
      "Shakespeare.txt is not a directory\n"
     ]
    }
   ],
   "source": [
    "from os.path import isdir\n",
    "\n",
    "def check_if_path_is_dir(file_name):\n",
    "    if isdir( file_name):\n",
    "        print( file_name + \" Sheakspeare is a directory\" )\n",
    "    else:\n",
    "        print(file_name + \" is not a directory\" )\n",
    "check_if_path_is_dir(\"Shakespeare.txt\")"
   ]
  },
  {
   "cell_type": "markdown",
   "metadata": {},
   "source": [
    "### `basename()`"
   ]
  },
  {
   "cell_type": "markdown",
   "metadata": {},
   "source": [
    "`basename()` extracts the filename from a path, and returns it. "
   ]
  },
  {
   "cell_type": "code",
   "execution_count": 27,
   "metadata": {},
   "outputs": [
    {
     "name": "stdout",
     "output_type": "stream",
     "text": [
      "readme.txt\n"
     ]
    }
   ],
   "source": [
    "from os.path import basename\n",
    "\n",
    "print( basename( \"/System/Home/readme.txt\" ) )"
   ]
  },
  {
   "cell_type": "markdown",
   "metadata": {},
   "source": [
    "### `dirname()`"
   ]
  },
  {
   "cell_type": "markdown",
   "metadata": {},
   "source": [
    "`dirname()` extracts the directory name from a path, and returns it."
   ]
  },
  {
   "cell_type": "code",
   "execution_count": 28,
   "metadata": {},
   "outputs": [
    {
     "name": "stdout",
     "output_type": "stream",
     "text": [
      "/System/Home\n"
     ]
    }
   ],
   "source": [
    "from os.path import dirname\n",
    "\n",
    "print( dirname( \"/System/Home/readme.txt\" ) )"
   ]
  },
  {
   "cell_type": "markdown",
   "metadata": {},
   "source": [
    "### `getsize()`"
   ]
  },
  {
   "cell_type": "markdown",
   "metadata": {},
   "source": [
    "`getsize()` gets the size of the file that is supplied as argument, and returns it as an integer. The file must exist, otherwise you get a runtime error."
   ]
  },
  {
   "cell_type": "code",
   "execution_count": 30,
   "metadata": {},
   "outputs": [
    {
     "name": "stdout",
     "output_type": "stream",
     "text": [
      "29\n"
     ]
    }
   ],
   "source": [
    "from os.path import getsize\n",
    "\n",
    "numbytes = getsize( \"Shakespeare.txt\" )\n",
    "print( numbytes )"
   ]
  },
  {
   "cell_type": "markdown",
   "metadata": {},
   "source": [
    "---"
   ]
  },
  {
   "cell_type": "markdown",
   "metadata": {},
   "source": [
    "## File encoding"
   ]
  },
  {
   "cell_type": "markdown",
   "metadata": {},
   "source": [
    "Text files use an \"encoding\", i.e., a system that prescribes how characters in the files are supposed to be interpreted. This encoding may differ between operating systems. You can see the preferred encoding that your system uses with a call to `sys.getfilesystemencoding()`."
   ]
  },
  {
   "cell_type": "code",
   "execution_count": 48,
   "metadata": {},
   "outputs": [
    {
     "name": "stdout",
     "output_type": "stream",
     "text": [
      "ascii\n"
     ]
    }
   ],
   "source": [
    "from sys import getfilesystemencoding\n",
    "\n",
    "print( getfilesystemencoding() )"
   ]
  },
  {
   "cell_type": "markdown",
   "metadata": {},
   "source": [
    "If you read a text file which uses a different encoding than your file system prefers, you may get a `UnicodeDecodeError`. Whether or not you get this error for a particular file, is related to your operating system. An annoying consequence of that is that when you port Python code that reads a file to another system, a file that could be read by your code previously may cause your code to crash after the port.\n",
    "\n",
    "An easy way to get around this problem is by adding an extra parameter when opening a file, which indicates the encoding mechanism that you want to use when reading the file. You do this by adding a parameter \"`encoding=<encodingname>`\", where `<encodingname>` is a string that can have a variety of values, for which some typical ones are:\n",
    "\n",
    "    ascii       7-bits encoding, supports characters with values in the range 00-7F\n",
    "    latin-1     8-bits encoding, supports characters with values in the range 00-FF\n",
    "    mbcs        2-byte encoding, that is currently getting replaced by UTF-8\n",
    "    utf-8       variable bytes encoding\n",
    "\n",
    "Typically, text files are created with `ascii` or `latin-1` encoding. Since `ascii` is incorporated in `latin-1`, you can safely open any text file by specifying `latin-1` as encoding. It is possible that for the characters beyond the `ascii` range, you get different characters than the person who created the file wanted you to see -- that depends on the encoding mechanism that your file system uses. But at least the `UnicodeDecodeError` is avoided.\n",
    "\n",
    "Note that while `utf-8` supports a much wider range of characters than `latin-1`, you may still get the `UnicodeDecodeError` when you read a text file that uses `latin-1` encoding on a system that uses `utf-8` encoding, as `utf-8` has no corresponding characters with values in the range 80-FF.\n"
   ]
  },
  {
   "cell_type": "markdown",
   "metadata": {},
   "source": [
    "**Exercise**: If you change the encoding mechanism for this file to `utf-8`, it will enforce the `UnicodeDecodeError` as it contains characters with numbers in the range 80-FF. Try this.\n",
    "\n",
    "If you want to see which special characters are supported with values in the range 80-FF on your system, run the code below. The numerical value of a character in the table can be derived by calculating `16*row+col`, whereby `row` and `col` are the hexadecimal row and column number, respectively. I do not display the characters in the range 80-9F, as these are normally not filled in."
   ]
  },
  {
   "cell_type": "code",
   "execution_count": 31,
   "metadata": {},
   "outputs": [
    {
     "name": "stdout",
     "output_type": "stream",
     "text": [
      " 0 1 2 3 4 5 6 7 8 9 A B C D E F\n",
      "A   ¡ ¢ £ ¤ ¥ ¦ § ¨ © ª « ¬ ­ ® ¯\n",
      "B ° ± ² ³ ´ µ ¶ · ¸ ¹ º » ¼ ½ ¾ ¿\n",
      "C À Á Â Ã Ä Å Æ Ç È É Ê Ë Ì Í Î Ï\n",
      "D Ð Ñ Ò Ó Ô Õ Ö × Ø Ù Ú Û Ü Ý Þ ß\n",
      "E à á â ã ä å æ ç è é ê ë ì í î ï\n",
      "F ð ñ ò ó ô õ ö ÷ ø ù ú û ü ý þ ÿ\n"
     ]
    }
   ],
   "source": [
    "for i in range(16):\n",
    "    if i < 10:\n",
    "        print( ' '+chr( ord( '0' )+i ), end='' )\n",
    "    else:\n",
    "        print( ' '+chr( ord( 'A' )+i-10 ), end='' )\n",
    "print()\n",
    "for i in range( 10, 16 ):\n",
    "    print( chr( ord( 'A' )+i-10 ), end='' )\n",
    "    for j in range( 16 ):\n",
    "        c = i*16+j\n",
    "        print( ' '+chr( c ), end='' )\n",
    "    print()"
   ]
  },
  {
   "cell_type": "markdown",
   "metadata": {},
   "source": [
    "---"
   ]
  },
  {
   "cell_type": "markdown",
   "metadata": {},
   "source": [
    "## What you learned"
   ]
  },
  {
   "cell_type": "markdown",
   "metadata": {},
   "source": [
    "In this chapter, you learned about:\n",
    "\n",
    "- Text files\n",
    "- File pointers\n",
    "- Opening and closing files with `open()` and `close()`\n",
    "- Reading files with `read()`, `readline()`, and `readlines()`\n",
    "- Writing files with `write()` and `writelines()`\n",
    "- Appending to files\n",
    "- `os.path` methods `exists()`, `isfile()`, `isdir()`, `join()`, `basename()`, `dirname()`, and `getsize()`\n",
    "- Dealing with text files with different encoding mechanisms"
   ]
  },
  {
   "cell_type": "markdown",
   "metadata": {},
   "source": [
    "---"
   ]
  },
  {
   "cell_type": "markdown",
   "metadata": {},
   "source": [
    "## Exercises"
   ]
  },
  {
   "cell_type": "markdown",
   "metadata": {},
   "source": [
    "### Exercise 11.1"
   ]
  },
  {
   "cell_type": "markdown",
   "metadata": {},
   "source": [
    "Write a program that reads the contents of the file \"`blakepoems.txt`\", splits it into words (where everything that is not a letter is considered a word boundary), and case-insensitively builds a dictionary that stores for every word how often it occurs in the text. Then print all the words with their quantities in alphabetical order."
   ]
  },
  {
   "cell_type": "code",
   "execution_count": 32,
   "metadata": {},
   "outputs": [
    {
     "name": "stdout",
     "output_type": "stream",
     "text": [
      "{'[poems': 1, 'by': 23, 'william': 2, 'blake': 3, '1789]': 1, 'songs': 7, 'of': 146, 'innocence': 3, 'and': 344, 'experience': 3, 'the': 439, 'book': 6, 'thel': 15, 'introduction': 2, 'piping': 3, 'down': 20, 'valleys': 4, 'wild': 9, 'pleasant': 5, 'glee': 1, 'on': 44, 'a': 126, 'cloud': 15, 'i': 122, 'saw': 7, 'child': 17, 'he': 52, 'laughing': 5, 'said': 7, 'to': 111, 'me': 31, '\"pipe': 1, 'song': 10, 'about': 1, 'lamb!\"': 1, 'so': 21, 'piped': 2, 'with': 66, 'merry': 9, 'cheer': 1, '\"piper': 2, 'pipe': 2, 'that': 39, 'again;\"': 1, 'wept': 9, 'hear': 16, '\"drop': 1, 'thy': 31, 'happy': 19, 'pipe;': 1, 'sing': 11, 'cheer:!\"': 1, 'sang': 2, 'same': 1, 'again': 1, 'while': 13, 'joy': 24, 'sit': 12, 'thee': 41, 'write': 1, 'in': 141, 'all': 39, 'may': 6, 'read.\"': 1, \"vanish'd\": 1, 'from': 32, 'my': 83, 'sight;': 1, \"pluck'd\": 1, 'hollow': 3, 'reed': 1, 'made': 6, 'rural': 1, 'pen': 1, \"stain'd\": 1, 'water': 3, 'clear': 1, 'wrote': 1, 'every': 17, 'shepherd': 2, 'how': 14, 'sweet': 27, 'is': 52, \"shepherd's\": 1, 'lot': 2, 'morn': 8, 'evening': 5, 'stays;': 1, 'shall': 19, 'follow': 2, 'his': 57, 'sheep': 3, 'day': 18, 'tongue': 4, 'be': 24, 'filled': 6, 'praise': 2, 'for': 31, 'hears': 4, \"lambs'\": 1, 'innocent': 4, 'call': 4, \"ewes'\": 1, 'tender': 9, 'reply;': 1, 'watching': 1, 'they': 43, 'are': 25, 'peace': 9, 'know': 10, 'when': 28, 'their': 34, 'nigh': 2, 'echoing': 3, 'green': 15, 'sun': 10, 'does': 17, 'arise': 7, 'make': 5, 'skies;': 1, 'bells': 1, 'ring': 1, 'welcome': 4, 'spring;': 2, 'skylark': 2, 'thrush': 1, 'birds': 10, 'bush': 1, 'louder': 1, 'around': 5, \"bells'\": 1, 'cheerful': 1, 'sound;': 1, 'our': 22, 'sports': 2, 'seen': 5, 'old': 5, 'john': 1, 'white': 12, 'hair': 4, 'laugh': 6, 'away': 22, 'care': 10, 'sitting': 2, 'under': 4, 'oak': 1, 'among': 8, 'folk': 1, 'at': 7, 'play': 8, 'soon': 5, 'say': 6, '\"such': 1, 'such': 5, 'were': 10, 'joys': 3, 'we': 14, '--': 9, 'girls': 2, 'boys': 2, 'youth-time': 1, 'green.\"': 1, 'till': 15, 'little': 45, 'ones': 3, 'weary': 5, 'no': 17, 'more': 8, 'can': 26, 'descend': 2, 'have': 17, 'an': 21, 'end': 2, 'round': 9, 'laps': 1, 'mothers': 2, 'many': 7, 'sisters': 1, 'brothers': 2, 'like': 35, 'nest': 4, 'ready': 2, 'rest': 3, 'sport': 2, 'darkening': 1, 'lamb': 13, 'who': 18, 'dost': 5, 'thou': 34, 'gave': 3, 'life': 7, 'bid': 1, 'feed': 4, 'stream': 2, \"o'er\": 12, 'mead;': 1, 'clothing': 2, 'delight': 14, 'softest': 2, 'wolly': 1, 'bright;': 3, 'voice': 16, 'making': 2, 'vales': 9, 'rejoice': 2, \"i'll\": 4, 'tell': 6, 'thee;': 1, 'called': 2, 'name': 3, 'calls': 2, 'himself': 1, 'meek': 1, 'mild': 7, 'became': 2, 'god': 11, 'bless': 3, 'black': 8, 'boy': 11, 'mother': 17, 'bore': 6, 'southern': 2, 'am': 15, 'but': 38, 'oh': 10, 'soul': 2, 'as': 16, 'angel': 8, 'english': 2, 'if': 16, 'bereaved': 1, 'light': 11, 'taught': 2, 'underneath': 3, 'tree': 6, 'before': 6, 'heat': 5, 'she': 15, 'took': 2, 'her': 34, 'lap': 1, 'kissed': 3, 'pointed': 1, 'east': 1, 'began': 3, '\"look': 1, 'rising': 4, 'there': 11, 'live': 6, 'gives': 4, 'flowers': 9, 'trees': 1, 'beasts': 2, 'men': 4, 'receive': 2, 'comfort': 1, 'morning': 10, 'noonday': 1, '\"and': 4, 'put': 2, 'earth': 9, 'space': 1, 'learn': 1, 'bear': 5, 'beams': 3, 'love': 27, 'these': 6, 'bodies': 1, 'this': 15, 'sunburnt': 1, 'face': 9, 'shady': 1, 'grove': 3, '\"for': 1, 'souls': 2, \"learn'd\": 1, 'will': 3, 'vanish': 3, 'saying': 3, \"'come\": 1, 'out': 5, 'golden': 8, 'tent': 3, 'lambs': 4, 'rejoice\\',\"': 1, 'thus': 4, 'did': 12, 'me;': 1, 'free': 5, 'shade': 6, 'him': 11, 'lean': 1, 'upon': 14, \"father's\": 2, 'knee;': 1, 'then': 29, 'stand': 2, 'stroke': 1, 'silver': 3, 'blossom': 4, 'sparrow': 1, 'leaves': 2, 'sees': 1, 'you': 8, 'swift': 1, 'arrow': 1, 'seek': 6, 'your': 11, 'cradle': 2, 'narrow': 1, 'near': 6, 'bosom': 4, 'pretty': 8, 'robin': 2, 'sobbing': 2, 'chimney-sweeper': 1, 'died': 1, 'was': 30, 'very': 3, 'young': 1, 'father': 19, 'sold': 1, 'yet': 5, 'could': 6, 'scarcely': 1, 'cry': 7, '\"weep': 3, 'weep': 18, 'weep!\"': 2, 'chimneys': 1, 'sweep': 1, 'soot': 2, 'sleep': 19, \"there's\": 1, 'tom': 6, 'dacre': 1, 'cried': 1, 'head': 13, 'curled': 1, \"lamb's\": 1, 'back': 3, 'shaved;': 1, '\"hush': 1, 'never': 17, 'mind': 4, 'it': 27, \"head's\": 1, 'bare': 2, 'cannot': 6, 'spoil': 1, 'hair.\"': 1, 'quiet': 1, 'night': 27, 'a-sleeping': 1, 'had': 7, 'sight': 1, 'thousands': 2, 'sweepers': 1, 'dick': 1, 'joe': 1, 'ned': 1, 'jack': 1, 'them': 8, 'locked': 1, 'up': 6, 'coffins': 2, 'came': 8, 'bright': 12, 'key': 1, 'opened': 1, 'let': 7, 'free;': 1, 'plain': 1, 'leaping': 1, 'run': 1, 'wash': 1, 'river': 3, 'shine': 5, 'naked': 5, 'bags': 2, 'left': 1, 'behind': 1, 'rise': 4, 'clouds': 3, 'wind;': 1, 'told': 5, \"he'd\": 2, 'good': 1, 'want': 2, 'awoke': 1, 'rose': 9, 'dark': 7, 'got': 1, 'brushes': 1, 'work': 3, 'though': 2, 'cold': 6, 'warm': 2, 'do': 8, 'duty': 1, 'need': 1, 'not': 36, 'fear': 11, 'harm': 2, 'lost': 6, '\"father': 1, 'where': 24, 'going': 1, 'walk': 3, 'fast': 1, 'speak': 4, 'or': 21, 'else': 2, 'lost.\"': 1, 'wet': 1, 'dew;': 2, 'mire': 1, 'deep': 9, 'vapour': 1, 'flew': 2, 'found': 3, 'lonely': 3, 'fen': 1, 'led': 6, 'wandering': 1, 'ever': 4, 'appeared': 1, 'hand': 9, 'brought': 1, 'sorrow': 9, 'pale': 5, 'through': 7, 'dale': 3, 'weeping': 14, 'sought': 3, 'woods': 1, 'dimpling': 1, 'runs': 2, 'by;': 1, 'air': 6, 'wit': 1, 'hill': 2, 'laughs': 2, 'noise': 1, 'it;': 1, 'meadows': 1, 'lively': 1, 'grasshopper': 1, 'scene': 1, 'mary': 1, 'susan': 1, 'emily': 1, 'mouths': 1, '\"ha': 2, 'ha': 2, 'he!\"': 2, 'painted': 1, 'table': 1, 'cherries': 1, 'nuts': 1, 'spread': 1, 'come': 10, 'join': 1, 'chorus': 1, 'dreams': 3, 'form': 8, 'lovely': 4, \"infant's\": 4, 'streams': 1, 'silent': 8, 'moony': 1, 'soft': 5, 'weave': 2, 'brows': 1, 'infant': 12, 'crown': 3, 'hover': 3, 'smiles': 10, 'over': 8, \"mother's\": 2, 'smile': 8, 'livelong': 2, 'beguile': 2, 'moans': 3, 'dovelike': 2, 'sighs': 2, 'chase': 1, 'slumber': 1, 'thine': 2, 'eyes': 8, 'moan': 3, 'sweeter': 1, 'creation': 1, 'slept': 1, 'smiled': 2, 'doth': 7, 'babe': 2, 'holy': 13, 'image': 7, 'trace;': 1, 'once': 4, 'maker': 4, 'lay': 9, 'small': 5, 'see': 16, 'heavenly': 1, 'small;': 2, 'own': 4, 'smiles;': 1, 'heaven': 7, 'beguiles': 1, 'divine': 5, 'mercy': 8, 'pity': 9, 'pray': 3, 'distress': 2, 'virtues': 1, 'return': 4, 'thankfulness': 1, 'dear;': 1, 'man': 6, 'has': 5, 'human': 16, 'heart': 9, 'face;': 3, 'divine;': 1, 'dress': 4, 'clime': 3, 'prays': 2, 'must': 3, 'heathen': 1, 'turk': 1, 'jew': 1, 'dwell': 3, 'dwelling': 1, 'too': 3, 'thursday': 3, \"'twas\": 1, 'faces': 1, 'clean': 1, 'children': 12, 'walking': 3, 'two': 4, 'read': 1, 'blue': 1, 'grey-headed': 1, 'beadles': 1, 'walked': 2, 'wands': 1, 'snow': 4, 'into': 5, 'high': 3, 'dome': 1, \"paul's\": 1, 'thames': 2, 'waters': 2, 'flow': 3, 'what': 25, 'multitude': 1, 'seemed': 1, 'london': 2, 'town': 1, 'seated': 1, 'companies': 1, 'radiance': 1, 'hum': 1, 'multitudes': 2, 'raising': 1, 'hands': 3, 'now': 7, 'mighty': 1, 'raise': 1, 'harmonious': 1, 'thunderings': 1, 'seats': 1, 'beneath': 2, 'aged': 1, 'wise': 1, 'guardians': 1, 'poor': 4, 'cherish': 2, 'lest': 1, 'drive': 2, 'door': 1, 'descending': 2, 'west': 1, 'star': 1, 'shine;': 1, 'mine': 2, 'moon': 2, 'flower': 5, \"heaven's\": 3, 'bower': 2, 'sits': 2, 'farewell': 1, 'fields': 2, 'flocks': 2, \"ta'en\": 1, 'nibbled': 1, 'move': 1, 'feet': 5, 'angels': 2, 'unseen': 2, 'pour': 2, 'blessing': 2, 'without': 2, 'ceasing': 1, 'each': 5, 'bud': 1, 'sleeping': 5, 'look': 4, 'thoughtless': 2, 'covered': 3, 'warm;': 1, 'visit': 1, 'caves': 2, 'beast': 1, 'keep': 3, 'any': 3, 'should': 6, 'been': 2, 'bed': 7, 'wolves': 1, 'tigers': 3, 'howl': 2, 'prey': 2, 'pitying': 5, 'weep;': 1, 'seeking': 2, 'thirst': 1, 'rush': 1, 'dreadful': 1, 'most': 3, 'heedful': 1, 'spirit': 2, 'new': 1, 'worlds': 1, 'inherit': 1, \"lion's\": 2, 'ruddy': 2, 'tears': 11, 'gold': 6, 'cries': 1, 'fold': 1, '\"wrath': 1, 'meekness': 1, 'health': 1, 'sickness': 1, 'driven': 2, 'immortal': 3, 'beside': 4, 'bleating': 1, 'lie': 2, 'think': 4, 'graze': 1, 'after': 2, 'washed': 1, \"life's\": 1, 'mane': 3, 'guard': 1, 'fold.\"': 1, 'spring': 6, 'sound': 1, 'flute': 1, \"it's\": 1, 'mute': 1, \"bird's\": 2, 'nightingale': 1, 'lark': 1, 'sky,--': 1, 'merrily': 7, 'year': 5, 'full': 1, 'joy;': 1, 'girl': 4, 'cock': 1, 'crow': 1, 'you;': 1, 'noise;': 1, 'here': 2, 'am;': 1, 'lick': 2, 'neck;': 1, 'pull': 1, 'wool;': 1, 'kiss': 2, \"nurse's\": 2, 'voices': 3, 'heard': 11, 'within': 1, 'breast': 5, 'everything': 1, 'still': 1, '\"then': 1, 'home': 3, 'gone': 6, 'dews': 2, 'arise;': 2, 'leave': 2, 'off': 1, 'us': 5, 'appears': 1, 'skies.\"': 1, '\"no': 1, 'go': 8, 'sleep;': 2, 'besides': 2, 'sky': 2, 'fly': 7, 'hills': 2, 'sheep.\"': 1, '\"well': 1, 'well': 1, 'fades': 3, 'bed.\"': 1, 'leaped': 1, 'shouted': 1, 'laughed': 1, 'echoed': 1, '\"i': 3, 'name;': 1, 'days': 4, 'old.\"': 1, 'name.\"': 1, 'befall': 2, 'while;': 1, 'dream': 4, 'angel-guarded': 1, 'emmet': 1, 'its': 14, 'way': 2, 'grass': 7, 'methought': 1, 'troubled': 1, 'wildered': 1, 'forlorn': 1, 'benighted': 1, 'travel-worn': 1, 'tangle': 1, 'spray': 1, 'heart-broke': 1, '\"oh': 1, 'sigh': 5, 'abroad': 1, 'me.\"': 1, 'dropped': 1, 'tear': 6, 'glow-worm': 1, 'replied': 1, '\"what': 1, 'wailing': 1, 'wight': 1, 'watchman': 1, 'set': 2, 'ground': 5, 'beetle': 1, 'goes': 1, \"beetle's\": 1, 'hum;': 1, 'wanderer': 1, 'hie': 1, 'home!\"': 1, \"another's\": 4, 'woe': 7, 'grief': 4, 'kind': 1, 'relief': 1, 'falling': 1, 'feel': 3, \"sorrow's\": 1, 'share': 1, 'nor': 15, 'groan': 1, 'wren': 1, 'sorrows': 2, 'woes': 1, 'infants': 3, 'next': 1, 'pouring': 1, 'both': 6, 'wiping': 2, 'give': 3, 'becomes': 2, 'canst': 2, 'destroy': 3, 'fled': 5, 'bard': 2, 'present': 1, 'past': 1, 'future': 2, 'sees;': 1, 'whose': 1, 'ears': 2, 'word': 1, 'ancient': 3, 'tree;': 3, 'calling': 1, 'lapsed': 1, 'might': 2, 'control': 1, 'starry': 3, 'pole': 1, 'fallen': 3, 'renew': 2, '\"o': 1, 'o': 12, 'dewy': 3, 'worn': 2, 'rises': 1, 'slumbrous': 1, 'mass': 1, '\"turn': 1, 'more;': 1, 'why': 15, 'wilt': 3, 'turn': 1, 'floor': 1, 'watery': 2, 'shore': 3, 'given': 3, 'break': 1, 'day.\"': 1, \"earth's\": 1, 'answer': 2, 'raised': 1, 'darkness': 2, 'dread': 5, 'drear': 1, 'stony': 1, 'locks': 1, 'grey': 2, 'despair': 1, '\"prisoned': 1, 'jealousy': 3, 'den': 1, 'hoar;': 1, \"o're\": 1, '\"selfish': 1, 'cruel': 2, 'jealous': 1, 'selfish': 3, 'chained': 1, 'virgins': 1, 'youth': 7, '\"does': 1, 'hide': 1, 'buds': 2, 'blossoms': 3, 'grow': 2, 'sower': 1, 'sow': 1, 'plowman': 1, 'plough': 1, '\"break': 1, 'heavy': 2, 'chain': 3, 'freeze': 1, 'bones': 2, 'vain': 5, 'eternal': 4, 'bane': 1, 'bondage': 1, 'bound.\"': 1, 'clod': 3, 'pebble': 2, '\"love': 2, 'seeketh': 2, 'itself': 7, 'please': 2, 'hath': 1, 'another': 4, 'ease': 2, 'builds': 2, \"hell's\": 1, 'despair.\"': 1, 'clay': 4, 'trodden': 1, \"cattle's\": 1, 'brook': 1, 'warbled': 1, 'metres': 1, 'meet': 3, 'only': 3, 'self': 1, 'bind': 2, 'loss': 1, 'hell': 1, 'despite.\"': 1, 'thing': 5, 'rich': 1, 'fruitful': 1, 'land': 5, 'babes': 2, 'reduced': 1, 'misery': 1, 'fed': 2, 'usurous': 1, 'trembling': 6, 'poverty': 2, 'son': 1, 'bleak': 1, 'ways': 3, 'thorns': 3, 'winter': 3, \"where'er\": 2, 'rain': 1, 'fall': 2, 'hunger': 1, 'appall': 1, 'futurity': 1, 'prophetic': 1, 'grave': 3, 'sentence': 1, 'meek;': 1, 'desert': 5, 'become': 1, 'garden': 7, \"summer's\": 2, 'prime': 1, 'lyca': 8, 'seven': 3, 'summers': 2, 'wandered': 3, 'long': 1, 'hearing': 1, \"birds'\": 1, '\"sweet': 1, '\"lost': 1, '\"if': 1, 'ache': 1, 'wake;': 1, '\"frowning': 1, 'frowning': 1, 'close': 2, 'eyes.\"': 1, 'caverns': 1, 'viewed': 2, 'maid': 6, 'asleep': 1, 'kingly': 1, 'lion': 3, 'stood': 2, 'virgin': 9, 'gambolled': 1, 'hallowed': 1, 'leopards': 1, 'lay;': 1, 'bowed': 1, 'neck': 1, 'flame': 1, 'ruby': 1, 'came;': 1, 'lioness': 1, 'loosed': 1, 'slender': 1, 'conveyed': 1, \"lyca's\": 1, 'parents': 4, 'deserts': 1, 'tired': 4, 'woe-begone': 1, 'hoarse': 1, 'arm': 2, 'traced': 1, 'nights': 1, 'shadows': 2, 'starved': 1, 'pathless': 1, 'fancied': 1, 'strays': 1, 'famished': 1, 'weak': 4, 'piteous': 1, 'shriek': 2, 'unrest': 1, 'woman': 1, 'presse': 1, 'woe;': 1, 'further': 1, 'arms': 1, 'armed': 4, 'sore;': 1, 'couching': 1, 'turning': 1, 'stalked': 1, 'smelling': 1, 'prey;': 1, 'fears': 5, 'allay': 1, 'licks': 1, 'stands': 1, 'surprise;': 1, 'wondering': 1, 'behold': 1, 'shoulders': 1, 'flowed': 1, '\"follow': 1, 'me,\"': 1, 'said;': 1, 'maid;': 1, 'palace': 1, 'lies': 1, 'asleep.\"': 1, 'followed': 1, 'vision': 1, 'dell': 1, 'wolvish': 1, 'growl': 1, 'chimney': 1, 'sweeper': 1, 'crying': 1, 'notes': 2, '\"where': 1, 'say!\"--': 1, '\"they': 1, 'church': 6, '\"because': 1, 'heath': 2, \"winter's\": 2, 'clothed': 2, 'clothes': 1, 'death': 5, 'because': 4, 'dance': 2, 'done': 2, 'injury': 1, 'priest': 2, 'king': 1, 'misery.\"': 1, 'whisperings': 1, 'fresh': 1, 'turns': 1, 'wasted': 1, 'disguise': 1, 'sick': 2, 'art': 6, 'invisible': 1, 'worm': 9, 'flies': 1, 'howling': 1, 'storm': 1, 'crimson': 1, 'secret': 2, 'brushed': 1, 'drink': 4, 'some': 2, 'blind': 1, 'brush': 1, 'wing': 2, 'thought': 5, 'strength': 1, 'breath': 2, 'death;': 1, 'die': 1, 'dreamt': 1, 'mean': 1, 'maiden': 4, 'queen': 5, 'guarded': 1, 'witless': 1, \"ne'er\": 1, 'beguiled': 2, 'wiped': 1, 'away;': 2, 'hid': 2, \"heart's\": 1, 'wings': 3, 'fled;': 1, 'blushed': 1, 'rosy': 1, 'red': 1, 'dried': 1, 'ten-thousand': 1, 'shields': 1, 'spears': 2, 'again;': 1, 'vain;': 1, 'time': 4, 'hairs': 1, 'tiger': 5, 'burning': 3, 'forest': 1, 'eye': 5, 'frame': 2, 'fearful': 2, 'symmetry': 2, 'distant': 2, 'deeps': 1, 'skies': 2, 'burnt': 1, 'fire': 3, 'dare': 4, 'aspire': 2, 'seize': 1, 'shoulder': 1, 'twist': 1, 'sinews': 1, 'beat': 1, 'hammer': 1, 'furnace': 2, 'brain': 2, 'anvil': 1, 'grasp': 1, 'deadly': 1, 'terrors': 1, 'clasp': 1, 'stars': 1, 'threw': 1, 'watered': 2, 'forests': 1, 'offered': 1, 'bore;': 1, '\"i\\'ve': 1, 'tree,\"': 1, 'passed': 1, 'went': 4, 'tend': 1, 'night;': 1, 'turned': 2, 'ah': 7, 'sunflower': 3, 'countest': 1, 'steps': 1, 'sun;': 1, \"traveller's\": 1, 'journey': 1, 'done;': 1, 'pined': 1, 'desire': 2, 'shrouded': 1, 'graves': 2, 'wishes': 1, 'lily': 5, 'modest': 4, 'puts': 1, 'forth': 2, 'thorn': 2, 'humble': 4, \"threat'ning\": 1, 'horn': 2, 'threat': 1, 'stain': 1, 'beauty': 5, 'laid': 1, 'bank': 1, 'sleeping;': 1, 'rushes': 1, 'dank': 1, 'thistles': 1, 'waste;': 1, 'compelled': 1, 'chaste': 1, 'seen;': 1, 'chapel': 2, 'built': 1, 'midst': 1, 'used': 2, 'gates': 2, 'shut': 1, '\"thou': 1, 'shalt': 2, 'not,\"': 1, 'writ': 1, 'door;': 1, 'tombstones': 1, 'be;': 1, 'priests': 1, 'gowns': 1, 'rounds': 1, 'binding': 1, 'briars': 1, 'desires': 1, 'vagabond': 1, 'dear': 2, 'cold;': 1, 'alehouse': 1, 'healthy': 1, 'well;': 1, 'parsons': 1, 'wind': 2, 'blown': 3, 'bladder': 1, 'swell': 1, 'would': 5, 'ale': 1, 'regale': 1, \"we'd\": 3, 'wish': 2, 'stray': 1, 'parson': 1, 'preach': 1, 'dame': 1, 'lurch': 1, 'always': 1, 'bandy': 1, 'fasting': 1, 'birch': 1, 'rejoicing': 1, 'quarrel': 1, 'devil': 1, 'barrel': 1, 'apparel': 1, 'chartered': 2, 'street': 1, 'mark': 1, 'marks': 2, 'weakness': 2, 'ban': 1, 'mind-forged': 1, 'manacles': 1, \"chimney-sweeper's\": 1, 'blackening': 1, 'appals': 1, 'hapless': 1, \"soldier's\": 1, 'blood': 1, 'palace-walls': 1, 'midnight': 1, 'streets': 1, 'youthful': 4, \"harlot's\": 1, 'curse': 1, 'blasts': 2, 'new-born': 3, 'blights': 1, 'plagues': 1, 'marriage-hearse': 1, 'abstract': 1, 'somebody': 1, 'mutual': 1, 'brings': 1, 'loves': 3, 'increase': 1, 'cruelty': 3, 'knits': 1, 'snare': 1, 'spreads': 3, 'baits': 1, 'tears;': 1, 'humility': 1, 'takes': 1, 'root': 1, 'foot': 2, 'dismal': 2, 'mystery': 2, 'caterpillar': 1, 'bears': 1, 'fruit': 1, 'deceit': 1, 'eat': 1, 'raven': 1, 'thickest': 1, 'gods': 1, 'sea': 1, 'nature': 1, 'find': 4, 'search': 1, 'grows': 1, 'one': 3, 'groaned': 1, 'dangerous': 1, 'world': 1, 'leapt': 1, 'helpless': 4, 'loud': 1, 'fiend': 2, 'struggling': 1, 'striving': 1, 'against': 1, 'swaddling-bands': 1, 'bound': 2, 'best': 1, 'sulk': 1, 'poison': 2, 'angry': 2, 'friend': 1, 'wrath': 3, 'foe': 3, 'sunned': 1, 'deceitful': 1, 'wiles': 1, 'grew': 1, 'apple': 1, 'beheld': 1, 'knew': 4, 'stole': 1, 'veiled': 1, 'pole;': 1, 'glad': 1, 'outstretched': 1, '\"nought': 1, 'venerates': 1, 'possible': 1, 'greater': 1, 'than': 1, 'bird': 2, 'picks': 1, 'crumbs': 1, 'door.\"': 1, 'sat': 4, 'child;': 1, 'zeal': 1, 'seized': 1, 'coat': 1, 'admired': 1, 'priestly': 1, 'standing': 1, 'altar': 1, '\"lo': 1, '\"one': 1, 'sets': 1, 'reason': 2, 'judge': 1, 'mystery.\"': 1, 'stripped': 2, 'shirt': 1, 'iron': 2, 'burned': 2, 'place': 2, 'before;': 1, \"albion's\": 1, 'age': 2, 'reading': 1, 'indignant': 1, 'page': 1, 'former': 1, 'crime': 1, 'sunny': 2, 'pair': 1, 'met': 1, 'just': 1, 'removed': 1, 'curtains': 1, 'play;': 1, 'afar': 1, 'strangers': 1, 'forgot': 1, 'kisses': 2, 'agree': 1, 'waves': 1, 'wanderers': 1, 'loving': 1, 'limbs': 1, 'terror': 3, 'shook': 1, '\"ona': 1, 'shakes': 1, 'hoary': 1, 'hair!\"': 1, 'schoolboy': 1, 'summer': 4, 'singing': 1, 'huntsman': 1, 'winds': 1, 'sings': 1, 'company': 1, 'school': 1, 'drives': 1, 'outworn': 1, 'spend': 2, 'sighing': 1, 'dismay': 2, 'times': 1, 'drooping': 1, 'anxious': 1, 'hour;': 1, 'take': 3, \"learning's\": 1, 'dreary': 1, 'shower': 1, 'born': 3, 'cage': 1, 'annoy': 1, 'droop': 1, 'forget': 1, 'nipped': 1, 'plants': 1, 'springing': 1, \"care's\": 1, 'fruits': 2, 'appear': 2, 'gather': 1, 'griefs': 1, 'mellowing': 1, 'terzah': 1, \"whate'er\": 1, 'mortal': 4, 'birth': 1, 'consumed': 1, 'generation': 1, 'sexes': 2, 'sprang': 1, 'shame': 1, 'pride': 1, 'died;': 1, 'changed': 1, 'part': 2, 'didst': 3, 'mould': 1, 'false': 1, 'self-deceiving': 1, 'nostrils': 1, 'senseless': 1, 'betray': 1, 'jesus': 1, 'hither': 1, 'opening': 1, 'truth': 1, 'doubt': 1, 'disputes': 1, 'artful': 1, 'teazing': 1, 'folly': 1, 'endless': 1, 'maze;': 1, 'tangled': 1, 'roots': 2, 'perplex': 1, 'ways;': 1, 'stumble': 1, 'dead;': 1, 'care;': 1, 'lead': 1, 'others': 1, 'appendix': 1, 'secresy': 1, 'forged': 1, 'fiery': 1, 'forge': 1, 'sealed': 1, 'hungry': 1, 'gorge': 1, 'note': 1, 'written': 1, 'engraved': 1, '\"a': 1, 'image\"': 1, 'included': 1, \"blake's\": 1, \"thel's\": 1, 'motto': 1, 'eagle': 1, 'pit': 2, 'ask': 2, 'mole': 1, 'wisdom': 1, 'rod': 1, 'bowl': 1, 'author': 1, '&': 17, 'printer': 1, 'willm': 1, '1780': 1, 'daughters': 1, 'mne': 1, 'seraphim': 1, 'youngest': 1, 'paleness': 1, 'fade': 5, 'adona': 1, 'heard;': 1, 'gentle': 5, 'lamentation': 1, 'falls': 1, 'dew': 2, 'lotus': 1, 'watry': 2, 'bow': 1, 'parting': 1, 'reflection': 1, 'glass': 1, 'doves': 1, 'transient': 1, 'music': 1, 'gently': 1, 'walketh': 1, 'lilly': 1, 'valley': 4, 'breathing': 1, 'answerd': 3, 'weed': 1, 'lowly': 3, 'gilded': 1, 'butterfly': 1, 'scarce': 1, 'perches': 1, 'visited': 1, 'walks': 1, 'brooks': 1, 'manna': 1, 'melts': 1, 'fountains': 1, 'springs': 3, 'flourish': 1, 'complain': 2, 'mistress': 1, 'har': 4, 'utter': 1, 'ceasd': 1, 'smild': 1, 'shrine': 1, 'peaceful': 1, 'giving': 1, 'those': 1, 'crave': 1, 'voiceless': 1, 'nourish': 1, 'smells': 1, 'milky': 2, 'garments': 1, 'crops': 1, 'sittest': 1, 'smiling': 1, 'meekin': 1, 'mouth': 1, 'contagious': 1, 'taints': 1, 'wine': 1, 'purify': 1, 'honey;': 1, 'perfume': 1, 'which': 1, 'scatter': 1, 'blade': 1, 'revives': 1, 'milked': 1, 'cow': 1, 'tames': 1, 'fire-breathing': 1, 'steed': 1, 'faint': 1, 'kindled': 1, 'pearly': 1, 'throne': 2, 'answered': 2, 'glitters': 1, 'scatters': 1, 'thro': 1, 'humid': 1, 'descended': 1, 'bowd': 2, 'numerous': 1, 'charge': 2, 'verdant': 1, 'ii': 1, 'complainest': 1, 'hour': 1, 'pass': 2, 'shewd': 1, \"emerg'd\": 1, 'hovering': 1, 'glittering': 1, \"know'st\": 1, 'steeds': 1, 'luvah': 1, 'horses': 1, 'lookst': 1, 'fearest': 1, 'nothing': 2, 'remains;': 1, 'tenfold': 1, 'raptures': 1, 'weigh': 1, 'balmy': 1, 'court': 1, 'fair': 1, 'eyed': 1, 'shining': 3, 'kneels': 1, 'risen': 1, \"link'd\": 1, 'band': 1, 'united': 1, 'bearing': 1, 'food': 4, 'smell': 1, 'sweetest': 1, 'warbling': 2, 'delights': 1, 'use': 2, 'women': 1, \"liv'd\": 1, 'worms': 3, 'reclind': 1, 'airy': 1, 'great': 2, 'lives': 2, 'alone': 1, 'pensive': 1, 'arose': 1, 'lillys': 2, 'leaf': 1, 'saild': 1, 'partner': 1, 'vale': 1, 'iii': 1, \"astonish'd\": 1, \"view'd\": 1, 'wrapped': 1, 'leaf;': 1, \"can'st\": 2, 'none': 3, \"rais'd\": 1, 'exhald': 1, 'fondness': 1, \"fix'd\": 1, 'ourselves': 1, 'seest': 1, 'meanest': 1, 'indeed': 1, 'pours': 1, 'oil': 2, 'binds': 1, 'nuptial': 1, 'bands': 1, 'says;': 1, 'loved': 1, 'ponder': 1, 'ponder;': 1, 'daughter': 1, \"wip'd\": 1, 'veil': 1, 'alas': 1, 'therefore': 2, 'punish': 1, 'evil': 1, 'wilful': 1, \"bruis'd\": 1, \"cherish'd\": 1, 'milk': 1, 'complaind': 1, 'matron': 1, 'roof': 1, \"call'd\": 1, 'enter': 3, 'house': 1, 'tis': 1, 'iv': 1, 'terrific': 1, 'porter': 1, 'lifted': 1, 'northern': 1, 'bar': 1, \"enter'd\": 1, 'secrets': 1, 'unknown;': 1, 'couches': 1, 'dead': 1, 'fibrous': 1, 'infixes': 1, 'restless': 1, 'twists': 1, \"thro'\": 1, 'listning': 2, 'dolors': 1, 'lamentations': 1, 'waiting': 1, 'oft': 1, 'silence': 1, 'plot': 1, 'breathed': 1, 'ear': 2, 'closed': 1, 'destruction': 1, 'glistening': 1, 'eyelids': 1, 'stord': 1, 'arrows': 1, 'drawn': 1, 'thousand': 1, 'fighting': 1, 'ambush': 1, 'gifts': 1, 'graces': 1, 'showring': 1, 'coined': 1, \"impress'd\": 1, 'honey': 1, 'whirlpool': 1, 'fierce': 1, 'draw': 1, 'creations': 1, 'nostril': 1, 'wide': 1, 'inhaling': 1, 'affright': 1, 'curb': 1, 'curtain': 1, 'flesh': 1, 'started': 1, 'seat': 1, 'unhinderd': 1}\n"
     ]
    }
   ],
   "source": [
    "# Counting words in blakepoems.txt.\n",
    "fp = open( \"blakepoems.txt\")\n",
    "\n"
   ]
  },
  {
   "cell_type": "markdown",
   "metadata": {},
   "source": [
    "### Exercise 11.2"
   ]
  },
  {
   "cell_type": "markdown",
   "metadata": {},
   "source": [
    "Do the same thing as you did for the previous exercise, but now process the text line by line. This is something that you would have to do if you had to process a very long text (as it is the case)."
   ]
  },
  {
   "cell_type": "code",
   "execution_count": null,
   "metadata": {},
   "outputs": [],
   "source": [
    "# Counting words line by line.\n"
   ]
  },
  {
   "cell_type": "markdown",
   "metadata": {},
   "source": [
    "### Exercise 11.3 (Optional)"
   ]
  },
  {
   "cell_type": "markdown",
   "metadata": {},
   "source": [
    "In this directory you find a file `blakepoems.txt`. Write a program that processes the contents of this file, line by line. It creates an output file in the current working directory called `blkpms.txt`, which has the same contents as `blakepoems.txt`, except that all the vowels are removed (case-insensitively). At the end, display how many characters you read, and how many characters you wrote. If you want to check the contents of `blkpms.txt`, you can either open it in a text editor, or display the first 10 lines or so at the end of your program."
   ]
  },
  {
   "cell_type": "code",
   "execution_count": null,
   "metadata": {},
   "outputs": [],
   "source": [
    "# Removing vowels.\n"
   ]
  },
  {
   "cell_type": "markdown",
   "metadata": {},
   "source": [
    "---"
   ]
  }
 ],
 "metadata": {
  "kernelspec": {
   "display_name": "Python 3",
   "language": "python",
   "name": "python3"
  },
  "language_info": {
   "codemirror_mode": {
    "name": "ipython",
    "version": 3
   },
   "file_extension": ".py",
   "mimetype": "text/x-python",
   "name": "python",
   "nbconvert_exporter": "python",
   "pygments_lexer": "ipython3",
   "version": "3.7.1"
  }
 },
 "nbformat": 4,
 "nbformat_minor": 1
}
