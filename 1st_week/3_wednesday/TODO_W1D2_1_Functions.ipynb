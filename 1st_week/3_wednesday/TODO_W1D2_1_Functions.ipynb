{
 "cells": [
  {
   "cell_type": "markdown",
   "metadata": {},
   "source": [
    "# Functions (Modules section)"
   ]
  },
  {
   "cell_type": "markdown",
   "metadata": {},
   "source": [
    "-------------------------------"
   ]
  },
  {
   "cell_type": "markdown",
   "metadata": {},
   "source": [
    "## Modules"
   ]
  },
  {
   "cell_type": "markdown",
   "metadata": {},
   "source": [
    "Python offers some basic functions, some of which are introduced in previous exercises. Besides those, Python offers a large assortment of so-called \"modules\", which contain many more useful functions. To use functions from a module in your program, you have to `import` the module, by write a line `import <modulename>` at the top of your code. You can then use all the functions in the module, though you have to precede the function calls with the name of the module and a period, e.g., to call the `sqrt()` function from the `math` module (which calculates the square root of a number), you call `math.sqrt()` after importing `math`.\n",
    "\n",
    "Alternatively, you can import only specific functions from a module, by stating `from <modulename> import <functioname1>, <functionname2>, <functionname3>, ...`. The main advantage of importing specific functions from a module in this way is that in your code, you no longer need to precede the call to a function with the module name.\n",
    "\n",
    "For example:"
   ]
  },
  {
   "cell_type": "code",
   "execution_count": 22,
   "metadata": {},
   "outputs": [
    {
     "name": "stdout",
     "output_type": "stream",
     "text": [
      "2.0\n"
     ]
    }
   ],
   "source": [
    "import math\n",
    "\n",
    "print( math.sqrt( 4 ) )"
   ]
  },
  {
   "cell_type": "markdown",
   "metadata": {},
   "source": [
    "is equivalent to:"
   ]
  },
  {
   "cell_type": "code",
   "execution_count": 23,
   "metadata": {},
   "outputs": [
    {
     "name": "stdout",
     "output_type": "stream",
     "text": [
      "2.0\n"
     ]
    }
   ],
   "source": [
    "from math import sqrt\n",
    "\n",
    "print( sqrt( 4 ) )"
   ]
  },
  {
   "cell_type": "markdown",
   "metadata": {},
   "source": [
    "If you want to rename something that you import from a module, you can do so with the keyword `as`. This might be useful when you use multiple modules that contain things with equal names."
   ]
  },
  {
   "cell_type": "code",
   "execution_count": 24,
   "metadata": {},
   "outputs": [
    {
     "name": "stdout",
     "output_type": "stream",
     "text": [
      "2.0\n"
     ]
    }
   ],
   "source": [
    "from math import sqrt as squareroot\n",
    "\n",
    "print( squareroot( 4 ) )"
   ]
  },
  {
   "cell_type": "markdown",
   "metadata": {},
   "source": [
    "I will now introduce some functions from two standard modules that are often used, and some functions from a module which was developed for this course (you will learn to develop your own modules later). There are many more modules besides the ones introduced here, some of which will come up later in the course, and others which you will have to look up by yourself by the time you need them in practice. However, you may assume that for any more-or-less general problem that you want to solve, someone has made a module that makes solving that problem simple or even trivial. So, in practice, do not start coding immediately, but first investigate whether you can exploit someone else's efforts."
   ]
  },
  {
   "cell_type": "markdown",
   "metadata": {},
   "source": [
    "### `math`"
   ]
  },
  {
   "cell_type": "markdown",
   "metadata": {},
   "source": [
    "The `math` module contains some useful mathematical functions. These functions have usually been implemented in a very efficient way, and in general they return a float. I will introduce only a few of these functions here (if you want to learn more of them, look up the `math` module in the Python reference):\n",
    "\n",
    "- `exp()` gets one numerical parameter and returns `e` to the power of that parameter. If you do not remember `e` from math class: `e` is a special value that has many interesting properties, which have applications in physics, maths, and statistics.\n",
    "- `log()` gets one numerical parameter and returns the natural logarithm of that parameter. The natural logarithm is the value which, when `e` is raised to the power of that value, gives the requested parameter. Just like `e`, the natural logarithm has many applications in physics, maths, and statistics.\n",
    "- `log10()` gets one numerical parameter and returns the base-10 logarithm of that parameter.\n",
    "- `sqrt()` gets one numerical parameter and returns the square root of that parameter.\n",
    "\n",
    "For example:"
   ]
  },
  {
   "cell_type": "code",
   "execution_count": 25,
   "metadata": {},
   "outputs": [
    {
     "name": "stdout",
     "output_type": "stream",
     "text": [
      "The value of e is approximately 2.718281828459045\n",
      "e squared is 7.38905609893065\n",
      "which means that log( 7.38905609893065 ) is 2.0\n"
     ]
    }
   ],
   "source": [
    "from math import exp, log\n",
    "\n",
    "print( \"The value of e is approximately\", exp( 1 ) )\n",
    "e_sqr = exp( 2 )\n",
    "print( \"e squared is\", e_sqr )\n",
    "print( \"which means that log(\", e_sqr, \") is\", log( e_sqr ) )"
   ]
  },
  {
   "cell_type": "markdown",
   "metadata": {},
   "source": [
    "### `random`"
   ]
  },
  {
   "cell_type": "markdown",
   "metadata": {},
   "source": [
    "The `random` module contains functions that return pseudo-random numbers. I say \"pseudo-random\" and not \"random\", because it is impossible for digital computers to generate actual random numbers. However, for all intents and purposes you may assume that the functions in the `random` module cough up random values.\n",
    "\n",
    "- `random()` gets no parameters, and returns a random float in the range `[0,1)`, i.e., a range that includes `0.0`, but excludes `1.0`.\n",
    "- `randint()` gets two parameters, both integers, and the first should be smaller than or equal to the second. It returns a random integer in the range for which the two parameters are boundaries, e.g., `randint(2,5)` returns 2, 3, 4, or 5, with an equal chance for each of them.\n",
    "- `seed()` initializes the random number generator of Python. If you want a sequence of random numbers that are always the same for your program, start by calling `seed` with a fixed value as parameter, for instance, `0`. This can be useful for testing purposes. If you want to re-initialize the random number generator so that it starts behaving completely randomly again, call `seed()` without parameter.\n",
    "\n",
    "For example:"
   ]
  },
  {
   "cell_type": "code",
   "execution_count": 45,
   "metadata": {},
   "outputs": [
    {
     "name": "stdout",
     "output_type": "stream",
     "text": [
      "A random number between 1 and 10 is 4\n",
      "Another random number between 1 and 10 is 4\n",
      " \n",
      "Three random numbers are: 0.8444218515250481 0.7579544029403025 0.420571580830845\n",
      "The same three numbers are: 0.8444218515250481 0.7579544029403025 0.420571580830845\n",
      " \n",
      "Three random numbers are: 0.13436424411240122 0.8474337369372327 0.763774618976614\n",
      "The same three numbers are: 0.13436424411240122 0.8474337369372327 0.763774618976614\n"
     ]
    }
   ],
   "source": [
    "from random import random, randint, seed\n",
    "\n",
    "seed()\n",
    "print( \"A random number between 1 and 10 is\", randint( 1, 10 ) )\n",
    "print( \"Another random number between 1 and 10 is\", randint( 1, 10 ) )\n",
    "print ( \" \")\n",
    "seed( 0 )\n",
    "print( \"Three random numbers are:\", random(), random(), random() )\n",
    "seed( 0 )\n",
    "print( \"The same three numbers are:\", random(), random(), random() )\n",
    "\n",
    "print ( \" \")\n",
    "\n",
    "\n",
    "seed( 1 )\n",
    "print( \"Three random numbers are:\", random(), random(), random() )\n",
    "seed( 1 )\n",
    "print( \"The same three numbers are:\", random(), random(), random() )"
   ]
  },
  {
   "cell_type": "markdown",
   "metadata": {},
   "source": [
    "-------"
   ]
  },
  {
   "cell_type": "markdown",
   "metadata": {},
   "source": [
    "## Exercises"
   ]
  },
  {
   "cell_type": "markdown",
   "metadata": {},
   "source": [
    "### Exercise 6.1"
   ]
  },
  {
   "cell_type": "raw",
   "metadata": {},
   "source": [
    "Write a function that receives a string as parameter, and returns the length of that string. "
   ]
  },
  {
   "cell_type": "code",
   "execution_count": 1,
   "metadata": {},
   "outputs": [
    {
     "data": {
      "text/plain": [
       "5"
      ]
     },
     "execution_count": 1,
     "metadata": {},
     "output_type": "execute_result"
    }
   ],
   "source": [
    " #length(\"maria\")"
   ]
  },
  {
   "cell_type": "markdown",
   "metadata": {},
   "source": [
    "### Exercise 6.2"
   ]
  },
  {
   "cell_type": "markdown",
   "metadata": {},
   "source": [
    "Write a function called `seconds_in_day` that receives a positive integer `days` as a parameter, and returns the number of seconds in `days`. For example, `seconds_in_day(5)` should return 432000."
   ]
  },
  {
   "cell_type": "code",
   "execution_count": 49,
   "metadata": {},
   "outputs": [
    {
     "data": {
      "text/plain": [
       "432000"
      ]
     },
     "execution_count": 49,
     "metadata": {},
     "output_type": "execute_result"
    }
   ],
   "source": [
    "\n",
    "    "
   ]
  },
  {
   "cell_type": "markdown",
   "metadata": {},
   "source": [
    "### Exercise 6.3"
   ]
  },
  {
   "cell_type": "markdown",
   "metadata": {},
   "source": [
    "The Pythagorean theorem states that the of a right triangle, the square of the length of the diagonal side is equal to the sum of the squares of the lengths of the other two sides (or `a**2 + b**2` equals `c**2`). \n",
    "\n",
    "Write a function `pythagorean` that takes two parameters `a` and `b` that correspond to lengths of the two sides that meet at a right angle, and returns the length of the third side as a float value. You can assume that the parameters are positive, non-zero values."
   ]
  },
  {
   "cell_type": "code",
   "execution_count": 51,
   "metadata": {},
   "outputs": [
    {
     "data": {
      "text/plain": [
       "5.0"
      ]
     },
     "execution_count": 51,
     "metadata": {},
     "output_type": "execute_result"
    }
   ],
   "source": [
    "\n",
    "#pythagorean (3, 4)"
   ]
  },
  {
   "cell_type": "markdown",
   "metadata": {},
   "source": [
    "# Working with external Libraries"
   ]
  },
  {
   "cell_type": "markdown",
   "metadata": {},
   "source": [
    "Message Jan once you finish the other exercises, there is a harder challenge awaiting but we need to complete lists and tuples first :)"
   ]
  }
 ],
 "metadata": {
  "kernelspec": {
   "display_name": "Python 3",
   "language": "python",
   "name": "python3"
  },
  "language_info": {
   "codemirror_mode": {
    "name": "ipython",
    "version": 3
   },
   "file_extension": ".py",
   "mimetype": "text/x-python",
   "name": "python",
   "nbconvert_exporter": "python",
   "pygments_lexer": "ipython3",
   "version": "3.7.1"
  }
 },
 "nbformat": 4,
 "nbformat_minor": 2
}
