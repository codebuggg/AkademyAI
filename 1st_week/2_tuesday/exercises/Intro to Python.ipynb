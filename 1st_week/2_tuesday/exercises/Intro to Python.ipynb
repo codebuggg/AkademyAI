{
 "cells": [
  {
   "cell_type": "markdown",
   "metadata": {},
   "source": [
    "# Intro to Python - Exercises"
   ]
  },
  {
   "cell_type": "markdown",
   "metadata": {},
   "source": [
    "Here you have a collection of guided exercises for the first class on Python. <br>\n",
    "The exercises are divided by topic, following the topics reviewed during the theory session, and for each topic you have some mandatory exercises, and other optional exercises, which you are invited to do if you still have time after the mandatory exercises. <br>\n",
    "\n",
    "Remember that you have 5 hours to solve these exercises, after which we will review their solutions together. If you don't finish all the exercises, you can work on them at home or tomorrow, if you have extra time after tomorrow's practical section.<br>\n",
    "\n",
    "At the end of the class I will give you the solutions of the exercises so that you can review them again if needed. If you still have not finished some exercises, try to do them first by yourself, before taking a look at the solutions: you are doing these exercises for yourself, so it is always the best to do them your way first, as it is the fastest way to learn!"
   ]
  },
  {
   "cell_type": "markdown",
   "metadata": {},
   "source": [
    "## 1. Introduction"
   ]
  },
  {
   "cell_type": "markdown",
   "metadata": {},
   "source": [
    "### Data types - Strings"
   ]
  },
  {
   "cell_type": "markdown",
   "metadata": {},
   "source": [
    "A string is a text, consisting of zero or more characters. In Python, a string is enclosed by either double quotes, or single quotes. In principle, it does not matter which of the two you use, i.e., `\"orange\"` is equivalent to `'orange'`. However, if you have a text which contains a single quote, if you want to avoid problems you have to enclose it in double quotes, i.e., `\"I can't stand it\"` is a legal string, while `'I can't stand it'` is not. Vice versa for double quotes in a string, of course."
   ]
  },
  {
   "cell_type": "markdown",
   "metadata": {},
   "source": [
    "### Data types - Integers"
   ]
  },
  {
   "cell_type": "markdown",
   "metadata": {},
   "source": [
    "Integers are whole numbers, which can be positive or negative (or zero). There is a certain maximum size that integers can become, which depends on the kind of computer and operating system you are running. For most purposes, however, you will not run into those boundaries. Python is not like those calculators with a 10-digit display that cannot use numbers higher than 10 billion.\n",
    "\n",
    "There are different ways of writing integers that result in the same value. `1` is the same as `+1` (there are other ways than these to write the value `1`, but these follow in a later chapter). So the following two commands produce the same output:"
   ]
  },
  {
   "cell_type": "code",
   "execution_count": null,
   "metadata": {},
   "outputs": [],
   "source": [
    "print(1)\n",
    "print(+1)"
   ]
  },
  {
   "cell_type": "markdown",
   "metadata": {},
   "source": [
    "**Now, print `-1`**"
   ]
  },
  {
   "cell_type": "code",
   "execution_count": null,
   "metadata": {},
   "outputs": [],
   "source": [
    "# Print -1\n"
   ]
  },
  {
   "cell_type": "markdown",
   "metadata": {},
   "source": [
    "This is different for strings, of course. The string `\"1\"` is not the same as the string `\"+1\"`.\n",
    "\n",
    "When you use integers in Python, you cannot write them with \"thousands separators\" (commas in English) to make them more readable. I.e., the number one billion should be written as `1000000000` rather than `1,000,000,000`.\n",
    "\n",
    "Check out the following code and think about what it will display when you run it. Then run it."
   ]
  },
  {
   "cell_type": "code",
   "execution_count": null,
   "metadata": {},
   "outputs": [],
   "source": [
    "print(100,0000000)"
   ]
  },
  {
   "cell_type": "markdown",
   "metadata": {},
   "source": [
    "**Exercise**: If your prediction of what this code would do was not correct, find out why it produces this result. Hint: the syntax highlighting applied by the notebooks might provide an idea."
   ]
  },
  {
   "cell_type": "markdown",
   "metadata": {},
   "source": [
    "### Floats"
   ]
  },
  {
   "cell_type": "markdown",
   "metadata": {},
   "source": [
    "Floats, or \"floating-point numbers\", are numbers with decimals. For instance, `3.14159265` is a float. Note that you have to use a period as the decimal separator. Many countries use a comma as the decimal separator, but Python uses the convention of English-speaking countries and uses the period.\n",
    "\n",
    "If there is an integer that for some reason you want to use as a float, you can do so by adding `.0` to it. I.e., `13` is an integer, while `13.0` is a float. Still, they represent the same value, and if you use Python to compare them (which we will get to in a short while), Python will tell you that they are the same value.\n",
    "\n",
    "Just like with integers, there are certain maximum boundaries for floats, and there is also a maximum precision. You are unlikely to ever reach those maximum boundaries, as Python will switch over to scientific notation when the numbers get very big, but if you use Python to do very precise calculations, you might run into problems with precision. That will not happen during this course, and it is unlikely to happen for most applications, but if you are a physicist whose calculations involve huge numbers of particles on the molecular or quantum level, it is something to be aware of.\n",
    "\n",
    "Note that due to the way that Python stores floats, certain numbers cannot be expressed exactly. For instance, if you run the following code:"
   ]
  },
  {
   "cell_type": "code",
   "execution_count": null,
   "metadata": {},
   "outputs": [],
   "source": [
    "print((431/100)*100)"
   ]
  },
  {
   "cell_type": "markdown",
   "metadata": {},
   "source": [
    "you will see that the answer is not 431 as you might expect."
   ]
  },
  {
   "cell_type": "markdown",
   "metadata": {},
   "source": [
    "### Basic calculations"
   ]
  },
  {
   "cell_type": "markdown",
   "metadata": {},
   "source": [
    "Basic calculations combine two values with one operator in between them. Some straightforward operators are:\n",
    "\n",
    "    +   addition\n",
    "    -   subtraction\n",
    "    *   multiplication\n",
    "    /   division\n",
    "    //  integer division\n",
    "    **  power\n",
    "    %   modulo\n",
    "    \n",
    "Here are some examples:"
   ]
  },
  {
   "cell_type": "code",
   "execution_count": null,
   "metadata": {},
   "outputs": [],
   "source": [
    "print(15+4) \n",
    "print(15-4)\n",
    "print(15*4)\n",
    "print(\"this one\", 17/4)\n",
    "print(17//4)\n",
    "print(15**4)\n",
    "print(14%5)"
   ]
  },
  {
   "cell_type": "markdown",
   "metadata": {},
   "source": [
    "We assume you know what each of these operators entails, except perhaps the integer division and\n",
    "modulo operators. \n",
    "\n",
    "The integer division (also called \"floor division\") is simply a division that rounds down to a whole number. If you involve floats in the calculation, the result will still be a float, but rounded down. If you only involve integers in the calculation, the result will be an integer.\n",
    "\n",
    "The modulo operator (`%`) takes the remainder of a division. For example: If we divide 14 by 5, the result is 2.8, right? This means we can subtract 5 twice from 14, and still have a positive result, but if we subtract it a third time, the result will become negative. So, after subtracting 5 twice from 14 we have a remainder that is less than 5. This remainder is what the modulo operator produces.\n",
    "\n",
    "In very simplistic terms: if we have 14 cookies which we have to divide over 5 children, each child gets 2 cookies. And we still have 4 cookies left, because there are more children than we have cookies at that point. Thus, dividing 14 by 5 as an integer division is 2 (cookies per child), while 14 modulo 5 is the remainder 4 (cookies we have left on our hand).\n",
    "\n",
    "**Side note**: The code shown above consists of multiple lines. Each line is said to be a \"statement\", and it consists of one command that Python executes (in the code above, a `print()` function on every line). Most programming languages make it mandatory to end each statement with a special character, usually a semi-colon (`;`). Python does not require a semi-colon after each statement, but each statement must (in general) be on its own line. In principle, you are allowed to place multiple Python statements on one line, but then you should put semi-colons between the statements. However, it is Python practice and convention not to do that, as it makes code ugly, hard to read, and difficult to maintain. So, please stick to the convention and give each statement its own line."
   ]
  },
  {
   "cell_type": "markdown",
   "metadata": {},
   "source": [
    "### More complex calculations"
   ]
  },
  {
   "cell_type": "markdown",
   "metadata": {},
   "source": [
    "You are allowed to combine operators into bigger calculations, just as you can do on the more advanced calculators. To avoid confusion, you are also allowed to use parentheses in your calculations, and you can even nest these parentheses. Python will process the operators in the order prescribed by mathematicians, often referred to as PEMDAS. \n",
    "\n",
    "Check out the calculation below, and try to predict what it will result in before you run the code."
   ]
  },
  {
   "cell_type": "code",
   "execution_count": null,
   "metadata": {},
   "outputs": [],
   "source": [
    "print(5*2-3+4/2)"
   ]
  },
  {
   "cell_type": "markdown",
   "metadata": {},
   "source": [
    "There are a couple of things to note about this calculation. \n",
    "\n",
    "First, the end result is a float (even though it has no decimals, or, if you will, only zero as a decimal). The reason is that a division is part of the calculation, and for Python that means that it should turn this into a floating-point calculation.\n",
    "\n",
    "**Exercise (optional):** try to convert the returned value into an integer (more on type casting later)."
   ]
  },
  {
   "cell_type": "code",
   "execution_count": null,
   "metadata": {},
   "outputs": [],
   "source": [
    "# Convert the previous result into an integer\n"
   ]
  },
  {
   "cell_type": "markdown",
   "metadata": {},
   "source": [
    "Second, spaces are ignored by Python, so the code above is the same as:"
   ]
  },
  {
   "cell_type": "code",
   "execution_count": null,
   "metadata": {},
   "outputs": [],
   "source": [
    "print( 5 * 2 - 3 + 4 / 2 )"
   ]
  },
  {
   "cell_type": "markdown",
   "metadata": {},
   "source": [
    "It is even the same as:"
   ]
  },
  {
   "cell_type": "code",
   "execution_count": null,
   "metadata": {},
   "outputs": [],
   "source": [
    "print( 5*2 - 3+4    / 2 )"
   ]
  },
  {
   "cell_type": "markdown",
   "metadata": {},
   "source": [
    "One might think that the code above should result in 6.5 or 1.5, because <i>clearly</i> you have to calculate the `5*2` and the `3+4` before you do the subtraction and division. That is not the case. It does not matter how close you place operands together, spaces are ignored. If you really want to calculate the `3+4` first, you have to put it between parentheses. You can then still use spaces to improve readability, but they mean nothing to Python."
   ]
  },
  {
   "cell_type": "code",
   "execution_count": null,
   "metadata": {},
   "outputs": [],
   "source": [
    "print( (5*2) - (3+4)/2 )\n",
    "print( ((5*2)-(3+4)) / 2 )"
   ]
  },
  {
   "cell_type": "markdown",
   "metadata": {},
   "source": [
    "**Exercise**: Now it is time to write your first program. In the code block below, write a program that displays the number of seconds in a week. You should, of course, not grab your calculator or smartphone to do the calculation and then just print the resulting number, but you should do the calculation in the Python code."
   ]
  },
  {
   "cell_type": "code",
   "execution_count": null,
   "metadata": {},
   "outputs": [],
   "source": [
    "# Display the number of seconds in a week\n"
   ]
  },
  {
   "cell_type": "markdown",
   "metadata": {},
   "source": [
    "Note that we wrote a \"comment line\" in this code block. For Python, if there appears a hash mark (`#`) in a line of code, that means that it should ignore everything on that line to the right of the hash mark. This way you can add textual explanations to your code. More on comments will follow later."
   ]
  },
  {
   "cell_type": "markdown",
   "metadata": {},
   "source": [
    "### String expressions"
   ]
  },
  {
   "cell_type": "markdown",
   "metadata": {},
   "source": [
    "Some of the operators given above can also be used for strings, though not all of them.\n",
    "\n",
    "In particular, you can use the addition operator (`+`) to concatenate two strings, and you can use the multiplication operator (`*`) with a number and a string to create a string that contains a repetition of the original string. Check it out:"
   ]
  },
  {
   "cell_type": "code",
   "execution_count": null,
   "metadata": {},
   "outputs": [],
   "source": [
    "print( \"hello\"+ \"2\" )\n",
    "print( 3*\"hello \" )\n",
    "print( \" goodbye\"*3 )"
   ]
  },
  {
   "cell_type": "markdown",
   "metadata": {},
   "source": [
    "You cannot add a number to a string, or multiply two strings. Such use of the operators is undefined, and will give error messages. None of the other operators listed for numbers will work on strings either.\n",
    "\n",
    "**Exercise (optional):** try to write some opeations on strings that will generate errors."
   ]
  },
  {
   "cell_type": "code",
   "execution_count": null,
   "metadata": {},
   "outputs": [],
   "source": [
    "# Print some operations that will throw errors\n"
   ]
  },
  {
   "cell_type": "markdown",
   "metadata": {},
   "source": [
    "### Type casting"
   ]
  },
  {
   "cell_type": "markdown",
   "metadata": {},
   "source": [
    "Sometimes you need to change the data type of a value into a different data type. You can do that using type casting functions. \n",
    "\n",
    "We will discuss functions in a lot more detail in a Chapter 6, but for now you just need to know that a function has a name, and may have parameters (values) between parentheses after the name. It will do something with the parameters, and then may give back a result. For instance, the `print()` function displays the parameter values that are given to it between the parentheses, and gives nothing in return. \n",
    "\n",
    "The type casting functions take the parameter value between the parentheses and give back a value that is (almost) the same as the parameter value, but of a different data type. The three main type casting functions are the following:\n",
    "\n",
    "- `int()` will return the value between the parentheses as an integer (rounding down if necessary);<br>\n",
    "- `float()` will return the value between the parentheses as a float (adding `.0` if necessary); and<br>\n",
    "- `str()` will return the value between the parentheses as a string.\n",
    "\n",
    "See the difference between the following two lines of code:"
   ]
  },
  {
   "cell_type": "code",
   "execution_count": null,
   "metadata": {},
   "outputs": [],
   "source": [
    "print(15/4)\n",
    "print(int(15/4))"
   ]
  },
  {
   "cell_type": "markdown",
   "metadata": {},
   "source": [
    "Or the following two lines of code:"
   ]
  },
  {
   "cell_type": "code",
   "execution_count": null,
   "metadata": {},
   "outputs": [],
   "source": [
    "print( 15+4 )\n",
    "print( float( 15+4 ) )"
   ]
  },
  {
   "cell_type": "markdown",
   "metadata": {},
   "source": [
    "We mentioned that you cannot use the addition operator to concatenate a number to a string. However, if you need to do something like that, you can work around the issue by using string type casting:"
   ]
  },
  {
   "cell_type": "code",
   "execution_count": null,
   "metadata": {},
   "outputs": [],
   "source": [
    "print( \"I own \" + str( 15 ) + \" apples.\" )"
   ]
  },
  {
   "cell_type": "markdown",
   "metadata": {},
   "source": [
    "### Style"
   ]
  },
  {
   "cell_type": "markdown",
   "metadata": {},
   "source": [
    "You might have noticed that in the example code, we use white spaces a lot. For instance, for parentheses attached to functions, we almost always have a white space after the opening parenthesis and before the closing parenthesis. In calculations, we often have white spaces around operators if that makes the calculations more readable. We also often insert empty lines in our code to make it more readable, and consistently use four spaces as indentations.\n",
    "\n",
    "Most of these things are just \"style\". The white spaces next to the parentheses and around operators are not necessary, Python understands the code just as well when they are gone. These four statements are all equivalent:"
   ]
  },
  {
   "cell_type": "code",
   "execution_count": null,
   "metadata": {},
   "outputs": [],
   "source": [
    "print( 2 + 3 )\n",
    "print(2+3)\n",
    "print( 2+3)\n",
    "print                 (            2             +           3              )"
   ]
  },
  {
   "cell_type": "markdown",
   "metadata": {},
   "source": [
    "Attaching the opening parenthesis to a function is something that almost every programmer does, but for the rest, styles of placing white spaces differ between programmers. You can choose your own style in this respect, you do not need to follow the one we use here. But we recommend that you use your chosen style consistently, which will make your code more readable even for programmers who use a different style."
   ]
  },
  {
   "cell_type": "markdown",
   "metadata": {},
   "source": [
    "### What you learned in this section"
   ]
  },
  {
   "cell_type": "markdown",
   "metadata": {},
   "source": [
    "In this section, you learned about:\n",
    "\n",
    "-  Using the `print()` function to display results \n",
    "-  Data types: string, integer, and float\n",
    "-  Calculations\n",
    "-  Basic string expressions\n",
    "-  Type casting between strings, integers, and floats, using `str()`, `int()`, and `float()`\n",
    "\n",
    "**Exercise 1.1:** The cover price of a book is 24.95 EUR, but bookstores get a 40 percent discount. Shipping costs 3 EUR for the first copy and 75 cents for each additional copy. Calculate the total wholesale costs for 60 copies. "
   ]
  },
  {
   "cell_type": "code",
   "execution_count": null,
   "metadata": {},
   "outputs": [],
   "source": [
    "# Print the total cost\n"
   ]
  },
  {
   "cell_type": "markdown",
   "metadata": {},
   "source": [
    "**Exercise 1.2:** When something is wrong with your code, Python will raise errors. Often these will be \"syntax errors\" that signal that something is wrong with the form of your code (e.g., the code in the previous exercise raised a `SyntaxError`). There are also \"runtime errors\", which signal that your code was in itself formally correct, but that something went wrong during the code's execution. A good example is the `ZeroDivisionError`, which indicates that you tried to divide a number by zero (which, as you may know, is not allowed). Try to make Python raise such a `ZeroDivisionError`."
   ]
  },
  {
   "cell_type": "code",
   "execution_count": null,
   "metadata": {},
   "outputs": [],
   "source": [
    "# ZeroDivisionError\n"
   ]
  },
  {
   "cell_type": "markdown",
   "metadata": {},
   "source": [
    "**Exercise 1.3 (optional):** You look at the clock and see that it is currently 14.00h. You set an alarm to go off 535 hours later. At what time will the alarm go off? Write a program that prints the answer. Hint: for the best solution, you will need the modulo operator. Second hint: The answer is 21.00h, but of course, this exercise is not about the answer, but about how you get it."
   ]
  },
  {
   "cell_type": "code",
   "execution_count": null,
   "metadata": {},
   "outputs": [],
   "source": [
    "# Clock\n"
   ]
  },
  {
   "cell_type": "markdown",
   "metadata": {},
   "source": [
    "## 2. Variables"
   ]
  },
  {
   "cell_type": "markdown",
   "metadata": {},
   "source": [
    "When working with program code, very often you are designing a procedure (or \"algorithm\") that solves a problem in a general way. In the previous section one of the exercises had you calculate the wholesale price for a stack of books, for a given book price and a given number of books. The code you wrote did not solve this problem for a general case, but only for the specific case of 60 books costing 24.95 per book. If you want to write code that solves problems in a more general way, you need to use variables that store values. "
   ]
  },
  {
   "cell_type": "markdown",
   "metadata": {},
   "source": [
    "### Variables and values"
   ]
  },
  {
   "cell_type": "markdown",
   "metadata": {},
   "source": [
    "A variable is a labelled place in the computer memory that you can use to store a value in. The label you can choose yourself, and is usually called the \"variable name\".\n",
    "\n",
    "To create a variable (i.e., choose the variable name), you must \"assign\" it a value. The assign-operator is the equals (`=`) symbol. To the left of it you put the variable name, and to the right of it you put the value that you want to store in the variable. This is best illustrated with an example:"
   ]
  },
  {
   "cell_type": "code",
   "execution_count": null,
   "metadata": {},
   "outputs": [],
   "source": [
    "x = 5\n",
    "print(x)"
   ]
  },
  {
   "cell_type": "markdown",
   "metadata": {},
   "source": [
    "In the code block above, two things happen. First, we create a variable with the name `x` and give it a value, in this case `5`. This is called an \"assignment\". We then display the contents of the variable `x`, using `print()`. Note that `print()` does not display the letter `x`, but actually displays the value that was assigned to `x`.\n",
    "\n",
    "The variable `x` behaves pretty much like a box on which you write an `x` with a thick, black marker to be able to find it later. You can put something in the box, and then look into the box to see what you put in (though only one thing at a time will fit in the box). You can refer to the contents of the box by using the name written on the box. The term \"variable\" means the variable name, i.e., the letter `x` on the box. The term \"value\" means the value that is stored in the variable, i.e., the contents of the box.\n",
    "\n",
    "To the right of the assign operator you can place anything that results in a value. Therefore, it does not need to be a single number. It can be, for instance, a calculation, a string, or a call to a function that results in a value (such as the `int()` function)."
   ]
  },
  {
   "cell_type": "markdown",
   "metadata": {},
   "source": [
    "**Exercise**: In the previous chapter you wrote a calculation that determines the number of seconds in a week. Copy this calculation in the box below, assigning it to `x`. Run the code."
   ]
  },
  {
   "cell_type": "code",
   "execution_count": null,
   "metadata": {},
   "outputs": [],
   "source": [
    "# Store in the variable x the number of seconds in a week\n"
   ]
  },
  {
   "cell_type": "markdown",
   "metadata": {},
   "source": [
    "When you assign a value to a variable name in your program, the first time you do that for a specific variable name, it creates the variable. If later in the program you assign another value to the same variable name, it \"overwrites\" the previous value. In the box metaphor: you empty the box and put something else in it. A variable always holds the value that was last assigned to it."
   ]
  },
  {
   "cell_type": "code",
   "execution_count": null,
   "metadata": {},
   "outputs": [],
   "source": [
    "x = 5\n",
    "print(x)\n",
    "x = 7*9+13   # overwrite the previous value that was stored in x\n",
    "print(x)\n",
    "x = \"I would like to purchase that orange inflatable beach ball and that small bucket and spade.\"\n",
    "print(x)\n",
    "x = int(15/4)-27\n",
    "print(x)"
   ]
  },
  {
   "cell_type": "markdown",
   "metadata": {},
   "source": [
    "Once a variable is created (and thus has a value), you can use it in your code where you otherwise would use values. You can, for instance, use it in calculations."
   ]
  },
  {
   "cell_type": "code",
   "execution_count": null,
   "metadata": {},
   "outputs": [],
   "source": [
    "x = 2\n",
    "y = 3\n",
    "print(\"x =\", x)\n",
    "print(\"y =\", y)\n",
    "print(\"x * y =\", x * y)\n",
    "print(\"x + y =\", x + y)"
   ]
  },
  {
   "cell_type": "markdown",
   "metadata": {},
   "source": [
    "You may copy the contents from one variable to another, using the assignment operator. "
   ]
  },
  {
   "cell_type": "code",
   "execution_count": null,
   "metadata": {},
   "outputs": [],
   "source": [
    "x = 2\n",
    "y = 3\n",
    "print(\"x =\", x, \"and y =\", y)\n",
    "\n",
    "# We now want to swap the values of x and y.\n",
    "# We do this using a third variable z as an intermediary storage.\n",
    "\n",
    "z = 2\n",
    "x = y\n",
    "y = z\n",
    "\n",
    "print(\"x =\", x, \"and y =\", y)"
   ]
  },
  {
   "cell_type": "markdown",
   "metadata": {},
   "source": [
    "When you assign something to a variable, you might even use the variable itself on the right-hand side of the assignment operator, provided it was created earlier. The right-hand side of an assignment is always evaluated completely before the actual assignment takes place."
   ]
  },
  {
   "cell_type": "code",
   "execution_count": null,
   "metadata": {},
   "outputs": [],
   "source": [
    "x = 2\n",
    "print(x)\n",
    "x = x + 3\n",
    "print(x)"
   ]
  },
  {
   "cell_type": "markdown",
   "metadata": {},
   "source": [
    "Note that a variable must be created before you can use it! Running the following code will result in an error, because `days_in_a_year` has not (yet) been created before we use it on the first line:"
   ]
  },
  {
   "cell_type": "code",
   "execution_count": null,
   "metadata": {},
   "outputs": [],
   "source": [
    "print(days_in_a_year)"
   ]
  },
  {
   "cell_type": "markdown",
   "metadata": {},
   "source": [
    "### Variable names"
   ]
  },
  {
   "cell_type": "markdown",
   "metadata": {},
   "source": [
    "So far, we have only used variables called `x`, `y`, and `z` (and one erroneous `days_in_a_year`). However, you are free to choose the names of your variables as you like them, provided that you follow a few simple rules, namely:\n",
    "\n",
    "- A variable name must consist of only letters, digits, and/or underscores (`_`)\n",
    "- A variable name must start with a letter or an underscore\n",
    "- A variable name should not be a reserved word\n",
    "\n",
    "\"Reserved words\" are:\n",
    "\n",
    "<div class=\"verbatim\"><pre>\n",
    "and       del       from      not       while    \n",
    "as        elif      global    or        with     \n",
    "assert    else      if        pass      yield    \n",
    "break     except    import    print              \n",
    "class     exec      in        raise              \n",
    "continue  finally   is        return             \n",
    "def       for       lambda    try</pre></div>\n",
    "\n",
    "You can use capitals and lower case letters in variable names, but you should realize that variable names are case sensitive, i.e., the variable `world` is not the same as the variable `World`."
   ]
  },
  {
   "cell_type": "markdown",
   "metadata": {},
   "source": [
    "### Conventions"
   ]
  },
  {
   "cell_type": "markdown",
   "metadata": {},
   "source": [
    "Programmers follow many conventions when choosing variable names. The major ones are the following:\n",
    "\n",
    "- Programmers <i>never</i> choose variable names that are also the names of functions (whether they are functions provided by Python or functions they wrote themselves). Doing so will cause the corresponding function to be no longer accessible by the code, and may then lead to rather eccentric errors.\n",
    "- Programmers try to choose variable names that are in some way meaningful to the code. For instance, a variable that stores the number of seconds in a week, might have the name `secs_per_week`, but not the name `i_hate_my_job`. It would be even worse to name a variable that contains the numbers of seconds in a week `secs_per_month`.\n",
    "- An exception to choosing meaningful variable names is choosing names for \"throw-away\" variables, i.e., variables that you only use in a very small section of the code and that are no longer needed afterwards, and that have no good meaning by themselves. Programmers usually choose a single-letter name for such variables. For instance, if a variable is needed to quickly count to 100, after which it is not needed anymore, programmers often choose the letter `i` or `j` for such a variable. \n",
    "- To avoid confusion with capitals and lower case letters, programmers tend to use only lower case letters in variable names.\n",
    "- If a variable name is chosen that consists of multiple words, programmers put one underscore between each of the words.\n",
    "- Programmers never choose variable names that start with an underscore. Such variable names are considered reserved for the authors of the Python interpreter.\n",
    "\n",
    "We expect you to stick to these conventions for your own code. In particular the convention of choosing meaningful variable names is important to follow, because meaningful variable names make code readable and maintainable. Look, for instance, at the following code:"
   ]
  },
  {
   "cell_type": "code",
   "execution_count": null,
   "metadata": {},
   "outputs": [],
   "source": [
    "a = 3.14159265\n",
    "b = 7.5\n",
    "c = 8.25\n",
    "d = a * b * b * c / 3\n",
    "print(d)"
   ]
  },
  {
   "cell_type": "markdown",
   "metadata": {},
   "source": [
    "Do you understand what this code does? You probably see that `a` seems to be an approximation of pi, but what is `d` supposed to be? \n",
    "\n",
    "This code calculates the volume of a cone. You probably would not have guessed that, but that is what it does. Now we ask you to change the code to calculate the volume of a cone that is 4 meters high. What change will you make? If height is part of the calculation, it is probably `b` or `c`. But which is it? Maybe if you know a bit of math and you look at the calculation of `d`, you realize that `b` is squared in this calculation, which seems to refer to the base of the cone, which is a circle. So it is probably `c`. But you cannot be sure.\n",
    "\n",
    "Now look at the following, equivalent code:"
   ]
  },
  {
   "cell_type": "code",
   "execution_count": null,
   "metadata": {},
   "outputs": [],
   "source": [
    "pi = 3.14159265\n",
    "radius = 7.5\n",
    "height = 8.25\n",
    "volume_of_cone = pi * radius * radius * height / 3\n",
    "print(volume_of_cone)"
   ]
  },
  {
   "cell_type": "markdown",
   "metadata": {},
   "source": [
    "This is much more readable, right? If we asked you to look at this code and explain what it does, and make the requested change, you wouldn't hesitate in answering.\n",
    "\n",
    "Such code with meaningful variable names tends to become \"self-documenting\"; you do not need to add any comments to make the user understand what it does and how it does it. Still, in the code above a line of comment that says:<br>\n",
    "`# calculation of volume of a cone with radius 7.5 and height 8.25`<br>\n",
    "would not be misplaced."
   ]
  },
  {
   "cell_type": "markdown",
   "metadata": {},
   "source": [
    "### Constants"
   ]
  },
  {
   "cell_type": "markdown",
   "metadata": {},
   "source": [
    "Many programming languages offer the ability to create \"constants\", which are values assigned to a variable which can no longer be changed after the value has been first assigned. It is convention in most such languages that the name of a constant is written in all capitals. Constants can be useful to make code more readable. For instance, to calculate the total of a bill of 24.95 EUR with a 15% service charge, you can use: "
   ]
  },
  {
   "cell_type": "code",
   "execution_count": null,
   "metadata": {},
   "outputs": [],
   "source": [
    "total = 24.95\n",
    "final_total = int(100 * total * 1.15) / 100\n",
    "print(final_total)"
   ]
  },
  {
   "cell_type": "markdown",
   "metadata": {},
   "source": [
    "However, it is more readable to write:"
   ]
  },
  {
   "cell_type": "code",
   "execution_count": null,
   "metadata": {},
   "outputs": [],
   "source": [
    "SERVICE_CHARGE = 1.15\n",
    "CENTS_IN_EURO = 100\n",
    "\n",
    "total = 24.95\n",
    "final_total = int(CENTS_IN_EURO * total * SERVICE_CHARGE) / CENTS_IN_EURO\n",
    "print(final_total)"
   ]
  },
  {
   "cell_type": "markdown",
   "metadata": {},
   "source": [
    "Not only is it more readable, but it also makes the code easier to change should the service charge be calculated differently in the future. Especially if the service charge occurs in the code multiple times, if it is defined just once as a constant at the top of the code, it can be easily found and changed. When they are numerical, special values such as the service charge are often called \"magic numbers\", i.e., their particular value has a special meaning, which is unclear if you just see the number, so you are better off using a meaningful name instead of the number.\n",
    "\n",
    "While constants are very useful for coding purposes, Python does not support them (which is a pity), i.e., in the code above `SERVICE_CHARGE` is a regular variable and can be changed anywhere in the code. Still, it is convention that any variable that is written in all capitals is <i>supposed</i> to be a constant and should <i>not</i> be changed in the code, after it got its initial value at the top of the code.\n",
    "\n",
    "You are encouraged to use such \"all-capital variable names\" whenever magic numbers occur in your code."
   ]
  },
  {
   "cell_type": "markdown",
   "metadata": {},
   "source": [
    "### Soft typing"
   ]
  },
  {
   "cell_type": "markdown",
   "metadata": {},
   "source": [
    "All variables have a data type. In many programming languages, the type of a variable is given when the variable is first created. For instance, in C++, when you create a variable you declare the type in front of it, for instance:\n",
    "\n",
    "`int secs_per_week = 7 * 24 * 60 * 60;`\n",
    "\n",
    "This is called \"hard typing\", and it has the advantage that if you create a variable that you intend to be of a certain type, but then assign it a value of a different type, the program can announce that you made a mistake. This avoids some annoying errors that might occur. \n",
    "\n",
    "In Python, you do not \"declare\" the type of a variable, but a variable still has a type, namely the type of the value that was last assigned to it. This entails that if you assign a new value to a variable, its type might change. This is called \"soft typing\".\n",
    "\n",
    "The types that you have seen until now are integer, float, and string. You can use the function `type()` to see what the type of a variable is."
   ]
  },
  {
   "cell_type": "code",
   "execution_count": null,
   "metadata": {},
   "outputs": [],
   "source": [
    "a = 3\n",
    "print(type(a))\n",
    "a = 3.0\n",
    "print(type(a))\n",
    "a = \"3.0\"\n",
    "print(type(a))"
   ]
  },
  {
   "cell_type": "markdown",
   "metadata": {},
   "source": [
    "Since variables have a type, the effect of operators might change depending on the types of the variables involved. For instance, in the following code, the addition operator (`+`) is used twice, but its effect changes due to the types of the variables involved."
   ]
  },
  {
   "cell_type": "code",
   "execution_count": null,
   "metadata": {},
   "outputs": [],
   "source": [
    "a = 1\n",
    "b = 4\n",
    "c = \"1\"\n",
    "d = \"4\"\n",
    "print(a + b)\n",
    "print(c + d)"
   ]
  },
  {
   "cell_type": "markdown",
   "metadata": {},
   "source": [
    "Since `a` and `b` are both numbers, for `a + b` the addition operator is a numerical addition. Since `c` and `d` are both strings, the addition operator for `c + d` is the string concatenation.\n",
    "\n",
    "**Exercise**: In the code above, what would happen if you try to print `a + c`? If you do not know, try it."
   ]
  },
  {
   "cell_type": "markdown",
   "metadata": {},
   "source": [
    "### Shorthand operators"
   ]
  },
  {
   "cell_type": "markdown",
   "metadata": {},
   "source": [
    "Using the operators you have learned about above, you can change the variables in your code as many times as you want. You can assign new values to existing variables. Very often, you want to make changes to existing variables. For instance, it is common in code that you want to add 1 to a number (you will find out why in a later chapter). Since this occurs fairly often, Python offers some shorthand notation to deal with changes to variables.\n",
    "\n",
    "The following code:"
   ]
  },
  {
   "cell_type": "code",
   "execution_count": null,
   "metadata": {},
   "outputs": [],
   "source": [
    "number_of_bananas = 100\n",
    "number_of_bananas = number_of_bananas + 1\n",
    "print(number_of_bananas)"
   ]
  },
  {
   "cell_type": "markdown",
   "metadata": {},
   "source": [
    "is equivalent to:"
   ]
  },
  {
   "cell_type": "code",
   "execution_count": null,
   "metadata": {},
   "outputs": [],
   "source": [
    "number_of_bananas = 100\n",
    "number_of_bananas += 1\n",
    "print( number_of_bananas )"
   ]
  },
  {
   "cell_type": "markdown",
   "metadata": {},
   "source": [
    "The difference is in the second line. If you want to add something to a variable, you can write `+=` as the assignment operator and to the right-hand side of the `+=` the thing that you want to add to the variable. This saves you the trouble of repeating the variable name at the right-hand side, and tends to make your code more readable (because programmers expect you to code \"adding something to an existing variable\" with the `+=` operator). \n",
    "\n",
    "Similar to the `+=` operator, you can use `-=` to subtract something from a variable, `*=` to multiply a variable by something, `/=` to divide a variable by something, `**=` to raise a variable to a power, and `%=` to turn a variable into itself modulo the right-hand side. Most of these are uncommon, except for the `+=`, which is used a lot, and the `-=`, which is used occasionally.\n",
    "\n",
    "**Exercise**: What will the code given below display? Run it to see if you are correct."
   ]
  },
  {
   "cell_type": "code",
   "execution_count": null,
   "metadata": {},
   "outputs": [],
   "source": [
    "number_of_bananas = 100\n",
    "number_of_bananas += 12\n",
    "number_of_bananas -= 13\n",
    "number_of_bananas *= 19\n",
    "number_of_bananas /= number_of_bananas\n",
    "print(number_of_bananas)"
   ]
  },
  {
   "cell_type": "markdown",
   "metadata": {},
   "source": [
    "### Comments"
   ]
  },
  {
   "cell_type": "markdown",
   "metadata": {},
   "source": [
    "Comments are texts in code that Python ignores, but that explain parts of the code. Comments are not only useful to other people which might need to use or change your code, but also to yourself, as you may need to change your own code some time after you wrote it and you might not remember exactly what you did.\n",
    "\n",
    "There are two main ways to include comments in Python code. The first is to use a hash mark (`#`), which turns everything to the right of the hash mark on the line into commentary (of course, this is only the case if the hash mark is not part of a string). The second is to use triple double-quotes or triple single-quotes to indicate the start and end of some commentary, which may be spread over multiple lines.\n",
    "\n",
    "Learn more about comments by studying the code below."
   ]
  },
  {
   "cell_type": "code",
   "execution_count": null,
   "metadata": {},
   "outputs": [],
   "source": [
    "# comment: insert your code here.\n",
    "# BTW: Have you noticed that everything behind the hashtag \n",
    "print( \"Something...\" ) # on a line is ignored by your python interpreter?\n",
    "print( \"and something else..\" ) # this is really helpful to comment on your code!\n",
    "\"\"\"Another way\n",
    "of commenting on your code is via \n",
    "triple quotes -- these can be distributed over multiple \"\"\" # lines\n",
    "'''which can also be done\n",
    "with single quotes''' # but be careful with there being quotes IN your comments\n",
    "# when you use this multi-line method\n",
    "print( \"Done.\" )"
   ]
  },
  {
   "cell_type": "markdown",
   "metadata": {},
   "source": [
    "### What you learned"
   ]
  },
  {
   "cell_type": "markdown",
   "metadata": {},
   "source": [
    "In this section, you learned about:\n",
    "-  What variables are\n",
    "-  Assigning a value to a variable\n",
    "-  Legal names for variables\n",
    "-  Good names for variables\n",
    "-  Soft typing\n",
    "-  Shorthand statements for changing variable values\n",
    "-  Code commentary"
   ]
  },
  {
   "cell_type": "markdown",
   "metadata": {},
   "source": [
    "**Exercise 2.1:** Define three variables `var1`, `var2` and `var3`. Calculate the average of these variables and assign it to `average`. Print the average. Add three comments."
   ]
  },
  {
   "cell_type": "code",
   "execution_count": null,
   "metadata": {},
   "outputs": [],
   "source": [
    "# Average of three variables\n"
   ]
  },
  {
   "cell_type": "markdown",
   "metadata": {},
   "source": [
    "**Exercise 2.2 (optional):** Write code that classifies a given amount of money (which you store in a variable `amount`), specified in cents, as greater monetary units. Your code lists the monetary equivalent in dollars (100 ct), quarters (25 ct), dimes (10 ct), nickels (5 ct), and pennies (1 ct). Your program should report the maximum number of dollars that fit in the amount, then the maximum number of quarters that fit in the remainder after you subtract the dollars, then the maximum number of dimes that fit in the remainder after you subtract the dollars and quarters, and so on for nickels and pennies. The result is that you express the amount as the minimum number of coins needed.  "
   ]
  },
  {
   "cell_type": "code",
   "execution_count": null,
   "metadata": {},
   "outputs": [],
   "source": [
    "# Cashier code\n"
   ]
  },
  {
   "cell_type": "markdown",
   "metadata": {},
   "source": [
    "## 3. Functions"
   ]
  },
  {
   "cell_type": "markdown",
   "metadata": {},
   "source": [
    "Up to this point, we have already introduced some basic \"functions\", such as `print()` and `int()`. In this chapter  functions will be discussed a bit more in-depth, and we will teach you how to create your own functions.\n",
    "\n",
    "A function is a block of reusable code that performs some action. To get a function to do its job, you \"call\" it, with some appropriate parameters if the function requires them. The idea is that you do not need to have knowledge about <i>how</i> a function performs its action. You only need to know three things:\n",
    "\n",
    "- The name of the function\n",
    "- The parameters it needs (if any)\n",
    "- The value it returns (if any)\n",
    "\n",
    "These will now be discussed in turn."
   ]
  },
  {
   "cell_type": "markdown",
   "metadata": {},
   "source": [
    "### Function name"
   ]
  },
  {
   "cell_type": "markdown",
   "metadata": {},
   "source": [
    "Each function has a name. Like a variable name, a function name may consist of letters, digits, and underscores, and cannot start with a digit. Almost all standard Python functions consist only of lower case letters. Usually a function name expresses concisely what the function does.\n",
    "\n",
    "When referring to a function, it is convention to use the name, and put an opening and closing parenthesis after the name (for example `print()`), as functions are always called in code with such parentheses."
   ]
  },
  {
   "cell_type": "markdown",
   "metadata": {},
   "source": [
    "### Parameters"
   ]
  },
  {
   "cell_type": "markdown",
   "metadata": {},
   "source": [
    "Some functions are called with parameters (\"arguments\"), which may or may not be mandatory. The parameters are placed between the parentheses that follow the function name. If there are multiple parameters, you place commas between them.\n",
    "\n",
    "The parameters are the values that the user supplies to the function to work with. For instance, the `int()` function must be called with one parameter, which is the value that the function will try to make into an integer. The `print()` function may be called with any number of parameters (even zero), which it will display, after which it will go to a new line:"
   ]
  },
  {
   "cell_type": "code",
   "execution_count": null,
   "metadata": {},
   "outputs": [],
   "source": [
    "print(5)\n",
    "print(5*2)\n",
    "print(\"parameter1\", \"parameter2\")"
   ]
  },
  {
   "cell_type": "markdown",
   "metadata": {},
   "source": [
    "In general, a function cannot change parameters. For instance, look at the following code:"
   ]
  },
  {
   "cell_type": "code",
   "execution_count": null,
   "metadata": {},
   "outputs": [],
   "source": [
    "x = 1.56\n",
    "print(int(x))\n",
    "print(x)"
   ]
  },
  {
   "cell_type": "markdown",
   "metadata": {},
   "source": [
    "As you can see when you run this code, the `int()` function has not changed the actual value of `x`; it only told the `print()` function what the integer value of `x` is. The reason is that, in general, parameters are \"passed by value\". This means that the function does not get access to the actual parameters, but it gets copies of the values of the parameters. I say \"in general\" because not all data types are \"passed by value\", but the ones we have discussed until now are. It will be a while before you get to a chapter that introduces data types that can be changed by functions when they are passed as parameters, and we will make it clear how that works when it comes up.\n",
    "\n",
    "If a function gets multiple parameters, their order matters. For instance, the function `pow()` gets two parameters, and raises the first to the power of the second."
   ]
  },
  {
   "cell_type": "code",
   "execution_count": null,
   "metadata": {},
   "outputs": [],
   "source": [
    "base = 2\n",
    "exponent = 3\n",
    "print(pow(base, exponent))"
   ]
  },
  {
   "cell_type": "markdown",
   "metadata": {},
   "source": [
    "The names of the variables that are used as parameters do not matter, the first is raised to the power of the second. So the following example will give a different outcome than the first, as the same variables are given to the function in a different (rather confusing) order."
   ]
  },
  {
   "cell_type": "code",
   "execution_count": null,
   "metadata": {},
   "outputs": [],
   "source": [
    "base = 2\n",
    "exponent = 3\n",
    "print( pow( exponent, base ) ) # confusing use of variables "
   ]
  },
  {
   "cell_type": "markdown",
   "metadata": {},
   "source": [
    "What happens if you try to call a function with parameters that it cannot work with? For instance, what happens if we call the `int()` function with a string that does not contain an integer value, or the `pow()` function with strings instead of numbers? In general, this will lead to runtime errors in your code. For instance, both lines of the code below give a runtime error."
   ]
  },
  {
   "cell_type": "code",
   "execution_count": null,
   "metadata": {},
   "outputs": [],
   "source": [
    "x = pow(3, \"two\")\n",
    "print(x)\n",
    "y = int(\"2.5\")\n",
    "print(y)"
   ]
  },
  {
   "cell_type": "markdown",
   "metadata": {},
   "source": [
    "### Returning a value"
   ]
  },
  {
   "cell_type": "markdown",
   "metadata": {},
   "source": [
    "A function may or may not \"return\" a value. If a function returns a value, that value can be used in your code. For instance, the function `int()` returns an integer representation of the parameter it gets. You can place this return value in a variable, using an assignment, or use it in a different manner, for instance immediately print it. You can even do nothing with it, though there is little reason to call the function in that case."
   ]
  },
  {
   "cell_type": "code",
   "execution_count": null,
   "metadata": {},
   "outputs": [],
   "source": [
    "x = 2.1\n",
    "y = '3'\n",
    "z = int(x)\n",
    "print(z)\n",
    "print(int(y))"
   ]
  },
  {
   "cell_type": "markdown",
   "metadata": {},
   "source": [
    "As you can see from the example above, you can even use function calls as parameters for a function; e.g., the second call to the `print()` function in the example gets as parameter a call to the function `int()`. In this example, the call to the `int()` function is executed before the `print()` function is called, as Python first calculates the values for all the parameters before it makes a function call. \n",
    "\n",
    "Not all functions return a value. For instance, the `print()` function does not. If you are not careful, this may lead to strange behavior of your program. For instance, examine and run the following code:"
   ]
  },
  {
   "cell_type": "code",
   "execution_count": null,
   "metadata": {},
   "outputs": [],
   "source": [
    "print(print(\"Hello, world!\"))"
   ]
  },
  {
   "cell_type": "markdown",
   "metadata": {},
   "source": [
    "You can see that this code prints two lines, the first containing the text \"Hello, world!\", and the second containing the word \"None\". What is that \"None\" doing there? To find that out, let's examine how Python evaluates this statement.\n",
    "\n",
    "When Python first encounters this statement, it sees `print( <something> )`. Since `<something>` is an argument, it starts by evaluating that. `<something>` is actually `print( <something_else> )`. Since `<something_else>` is an argument, it now evaluates that. `<something_else>` is the string `\"Hello, world!\"`. This is not something that needs to be evaluated, so it calls `print()` with this string as argument, and \"captures\" the return value of `print()` because it needs it as the evaluation of `<something>`.\n",
    "\n",
    "Here is the crux: `print()` has *no* return value, so there is nothing that Python can use for `<something>`. For situations such as this, Python has a special value called `None`. So the first `print()` gets called with `None` as argument, and this leads to Python displaying the word \"None\". \n",
    "\n",
    "`None` is a special value that indicates \"no value at all\". If you try to print such a value, Python prints the word `None`, but is not actually printing a string that is \"None\". It only indicates that there was nothing to print. `None` is different from, for instance, an empty string (`\"\"`). An empty string is still a value, namely a string of length zero. `None` is no string at all, no integer, no float, nothing. So be careful when trying to use a function call as a parameter; if the function does not actually return a value, weird things may happen."
   ]
  },
  {
   "cell_type": "markdown",
   "metadata": {},
   "source": [
    "### A function is a black box"
   ]
  },
  {
   "cell_type": "markdown",
   "metadata": {},
   "source": [
    "Let us stress once more that you may consider a function as a \"black box\": you do not need to know <i>how</i> the function works or <i>how</i> it is implemented. The name, parameters, and return value are all you need to know. The function might, internally, create variables and do calculations, but they do not have an effect on the rest of your code... at least if the function is implemented well. A function that has no effect on your code is called a \"pure function\", and the functions that we discuss here are all \"pure functions\". However, sometimes functions are designed that actually do have an effect outside the function (e.g. the user may provide parameters that undergo a change). That may be fine, if it is intentional and well-documented. Such functions are called \"modifiers\". Modifiers will come up in later chapters.\n",
    "\n",
    "For now, you can just assume that any function that you use, has no effect on the rest of your code. So calling a function is safe."
   ]
  },
  {
   "cell_type": "markdown",
   "metadata": {},
   "source": [
    "### Creating functions"
   ]
  },
  {
   "cell_type": "markdown",
   "metadata": {},
   "source": [
    "When you create your own functions, you need to define the name of the function, its parameters, and the value it returns. To create a function, you use the following syntax:\n",
    "\n",
    "    def <function_name>( <parameter_list> ):\n",
    "        <statements>\n",
    "\n",
    "The function name must meet the same requirements as variable names, i.e., only letters, digits, and underscores, and it cannot start with a digit. \n",
    "\n",
    "The parameter list consists of zero or more variable names, with commas in between.\n",
    "\n",
    "The code block below the function definition must be indented.\n",
    "\n",
    "Finally, be aware that Python must have \"seen\" your function definition before it sees the call to it in your code. Therefore it is convention to place all function definitions at the top of a program."
   ]
  },
  {
   "cell_type": "markdown",
   "metadata": {},
   "source": [
    "### How Python deals with functions"
   ]
  },
  {
   "cell_type": "markdown",
   "metadata": {},
   "source": [
    "To be able to create functions, you have to know how Python deals with functions.\n",
    "\n",
    "Look at the small Python program below. It defines one function, called `goodbyeWorld()`. That function has no parameters. The code block for the function prints the line \"Goodbye, world!\"\n",
    "\n",
    "The rest of the program is not part of a function. We often call the parts of a program that are not inside a function the \"main\" program. The main program prints the line \"Hello, world!\", and then calls the function `goodbyeWorld()`."
   ]
  },
  {
   "cell_type": "code",
   "execution_count": null,
   "metadata": {},
   "outputs": [],
   "source": [
    "def goodbyeWorld():\n",
    "    print(\"Goodbye, world!\")\n",
    "\n",
    "print(\"Hello, world!\")\n",
    "goodbyeWorld()"
   ]
  },
  {
   "cell_type": "markdown",
   "metadata": {},
   "source": [
    "When you run this program, you see that it first prints \"Hello, world!\", and then \"Goodbye, world!\". This happens *even* though Python processes code top-down, so that it sees the line `print( \"Goodbye, world!\" )` before it sees the line `print( \"Hello, world!\" )`. This is because Python does not actually run the code inside functions, at least, not until the moment that the function gets called. Python does not even look at the code in functions. It just notices the function name, registers that that function is defined so that it can be used, and then continues, searching for the main program to run. "
   ]
  },
  {
   "cell_type": "markdown",
   "metadata": {},
   "source": [
    "### Parameters and arguments"
   ]
  },
  {
   "cell_type": "markdown",
   "metadata": {},
   "source": [
    "Examine the code below. It defines a function `hello()` with one parameter, which is called `name`. The function uses the variable `name` in the code block. There is no explicit assignment of the variable name, it exists because it is a parameter of the function.\n",
    "\n",
    "When a function is called, you must provide a value for every (mandatory) parameter that is defined for the function. Such a value is called an \"argument\". Therefore, to call the function `hello()`, you must provide an argument for the parameter `name`. You place this argument between the parentheses of the function call. Note that in your main program you do not need to know that this parameter is called `name`. What it is called is unimportant. The only thing you need to know is that there is a parameter that needs a value, and preferably what kind of value the function is expecting (i.e., what the author of the function expects you to provide)."
   ]
  },
  {
   "cell_type": "code",
   "execution_count": null,
   "metadata": {},
   "outputs": [],
   "source": [
    "def hello(name):\n",
    "    print(\"Hello, \"+ name) \n",
    "    \n",
    "hello(\"Adrian\")\n",
    "hello(\"Binky\")\n",
    "hello(\"Caroline\")\n",
    "hello(\"Dante\")"
   ]
  },
  {
   "cell_type": "markdown",
   "metadata": {},
   "source": [
    "The parameters of a function are no more and no less than variables that you can use in the function, and  get their value from outside the function (namely by a function call). The parameters are \"local\" to the function, i.e., they are not accessible outside the code block of the function, nor do they influence any variable values outside the function.\n",
    "\n",
    "Functions can have multiple parameters. For example, the following function multiplies two parameters and prints the result:"
   ]
  },
  {
   "cell_type": "code",
   "execution_count": null,
   "metadata": {},
   "outputs": [],
   "source": [
    "def multiply(x, y):\n",
    "    result = x * y\n",
    "    print(result)\n",
    "       \n",
    "multiply(2020, 5278238)\n",
    "multiply(2, 3)"
   ]
  },
  {
   "cell_type": "markdown",
   "metadata": {},
   "source": [
    "### `return`"
   ]
  },
  {
   "cell_type": "markdown",
   "metadata": {},
   "source": [
    "Parameters can be used to communicate information from outside a function to the code block of the function. Often, you also want function to communicate information to the program that is outside the function. The keyword `return` accomplishes this.\n",
    "\n",
    "When you use the command `return` in a function, that ends the processing of the function, and Python will continue with the code that needs to be executed after the call to the function. You can put one or more values or variables after the `return` statement. These values, and values of variables, are communicated to the program outside the function. If you want to use them outside the function, you can put them into a variable when you assign the call to the function to that variable.\n",
    "\n",
    "If this sounds a bit convoluted, it will probably become clear after studying the following example:"
   ]
  },
  {
   "cell_type": "code",
   "execution_count": null,
   "metadata": {},
   "outputs": [],
   "source": [
    "def square(a):\n",
    "    return a*a \n",
    "\n",
    "c = square(3)\n",
    "print(c)"
   ]
  },
  {
   "cell_type": "markdown",
   "metadata": {},
   "source": [
    "The function `square()` calculates the square of its only parameter. Then it returns that value, using the `return` statement. The main program \"captures\" the value by assigning it to variable `c`, then prints the contents of `c`.\n",
    "\n",
    "Note that the `return` statement in the example above has a complete calculation with it. That calculation is done in the function, which leads to a value. It is the result of the calculation, i.e., the value, which is returned to the main program.\n",
    "\n",
    "Note that every line of code in the function that occurs immediately after a `return` at the same level of indentation will always be ignored. E.g., in the function:"
   ]
  },
  {
   "cell_type": "code",
   "execution_count": null,
   "metadata": {},
   "outputs": [],
   "source": [
    "def square(a):\n",
    "    return a*a \n",
    "    print(\"This line will never be printed\")\n",
    "\n",
    "c = square(3)\n",
    "print(c)"
   ]
  },
  {
   "cell_type": "markdown",
   "metadata": {},
   "source": [
    "The line below `return a*a` clearly states how useless it is."
   ]
  },
  {
   "cell_type": "markdown",
   "metadata": {},
   "source": [
    "### Difference between `return` and `print`"
   ]
  },
  {
   "cell_type": "markdown",
   "metadata": {},
   "source": [
    "Many students struggle with the difference between a function returning a value and a function printing a value. Compare the following two pieces of code:"
   ]
  },
  {
   "cell_type": "code",
   "execution_count": null,
   "metadata": {},
   "outputs": [],
   "source": [
    "def print3():\n",
    "    print(3)\n",
    "print3()"
   ]
  },
  {
   "cell_type": "markdown",
   "metadata": {},
   "source": [
    "and:"
   ]
  },
  {
   "cell_type": "code",
   "execution_count": null,
   "metadata": {},
   "outputs": [],
   "source": [
    "def return3():\n",
    "    return 3\n",
    "print(return3())"
   ]
  },
  {
   "cell_type": "markdown",
   "metadata": {},
   "source": [
    "Both the function `print3()` and `return3()` are called in their respective codes, and result in the printing of the value 3. The difference is that the printing of this value in the case of `print3()` happens in the function, while the function returns nothing, while in the case of `return3()` the function only returns the value 3, which is then printed in the main program. For the user the result of these codes looks the same: both display the number 3. But for the programmer the two functions involved are quite different.\n",
    "\n",
    "The function `print3()` can only be used for one purpose, namely to display the number 3. The function `return3()`, however, can be used wherever we need the number 3, regardless whether we need to display it, use it in a calculation, or assign it to a variable. For instance, the following code raises `2` to the power of `3` and prints the result:"
   ]
  },
  {
   "cell_type": "code",
   "execution_count": null,
   "metadata": {},
   "outputs": [],
   "source": [
    "def return3():\n",
    "    return 3\n",
    "\n",
    "x = 2 ** return3()\n",
    "print(x)"
   ]
  },
  {
   "cell_type": "markdown",
   "metadata": {},
   "source": [
    "On the other hand, the following code leads to a runtime error when executed:"
   ]
  },
  {
   "cell_type": "code",
   "execution_count": null,
   "metadata": {},
   "outputs": [],
   "source": [
    "def print3():\n",
    "    print(3)\n",
    "    \n",
    "x = 2 ** print3()\n",
    "print(x)"
   ]
  },
  {
   "cell_type": "markdown",
   "metadata": {},
   "source": [
    "The reason is that while `print3()` displays the value of 3 on the screen (you even see it above the runtime error), it does not produce the actual value 3 in such a way that the calculation can use it. The function `print3()` actually returns the special value `None`, which cannot be used in a calculation.\n",
    "\n",
    "So, if you want to create a function that produces a value that can be used in other parts of the program, then the function must `return` that value. If you want to create a function that just displays something on the screen, you can use a `print` statement in the function to do that, but the function does not need to `return` anything."
   ]
  },
  {
   "cell_type": "markdown",
   "metadata": {},
   "source": [
    "### Some basic functions"
   ]
  },
  {
   "cell_type": "markdown",
   "metadata": {},
   "source": [
    "**Type casting:**<br>\n",
    "We already introduced the type casting functions before. Here you can see a complete description of them:\n",
    "\n",
    "- `float()` has one parameter and returns a floating-point representation of the value of that parameter. If the parameter holds an integer, it returns the same value as a float (if you print it, you will see `.0` added). If the parameter holds a float, it returns the same value. If the parameter holds a string which can be interpreted as an integer or a float, it returns that interpretation as a float; otherwise it will give a runtime error.\n",
    "- `int()` has one parameter and returns an integer representation of the value of that parameter. If the parameter holds an integer, it returns the same integer. If the parameter holds a float, it returns the integer part of the float, i.e., the float value rounded down. If the parameter holds a string, and the string contains only digits, optionally with a preceding minus-sign, it returns the integer represented by those digits; otherwise it will give a runtime error.\n",
    "- `str()` has  one parameter and returns a string representation of the value of that parameter."
   ]
  },
  {
   "cell_type": "markdown",
   "metadata": {},
   "source": [
    "**Calculations:**<br>\n",
    "Basic Python functions also have limited support for calculations.\n",
    "\n",
    "- `abs()` has one numerical parameter (an integer or a float). If the value is positive, it will return the value. If the value is negative, it will return the value multiplied by `-1`.\n",
    "- `max()` has two or more numerical parameters, and returns the largest.\n",
    "- `min()` has two or more numerical parameters, and returns the smallest.\n",
    "- `pow()` has two numerical parameters, and returns the first to the power of the second. Optionally, it has a third numerical parameter. If that third parameter is supplied, it will return the value modulo that third parameter.\n",
    "- `round()` has a numerical parameter and rounds it, mathematically, to a whole number. It has an optional second parameter. The second parameter must be an integer, and if it is provided, the function will round the first parameter to the number of decimals specified by the second parameter.\n",
    "\n",
    "**Exercise**: Examine the code below and try to determine what it displays. Then run the code and see if you are correct."
   ]
  },
  {
   "cell_type": "code",
   "execution_count": null,
   "metadata": {},
   "outputs": [],
   "source": [
    "x = -2\n",
    "y = 3\n",
    "z = 1.27\n",
    "\n",
    "print(abs(x))\n",
    "print(max(x, y, z))\n",
    "print(min(x, y, z))\n",
    "print(pow(x, y))\n",
    "print(round(z, 1))"
   ]
  },
  {
   "cell_type": "markdown",
   "metadata": {},
   "source": [
    "**`len()`:**<br>\n",
    "`len()` is a basic function that gets one parameter, and it returns the length of that parameter. For now, the only data type which you will use `len()` for is the string. `len()` returns the length of the string, i.e., its number of characters.\n",
    "\n",
    "**Exercise**: What does the code below print? Run it and check if you are correct."
   ]
  },
  {
   "cell_type": "code",
   "execution_count": null,
   "metadata": {},
   "outputs": [],
   "source": [
    "print(len('can'))\n",
    "print(len('can not '))\n",
    "print(len(' '))          # '' is an empty string, i.e., a string with no characters in it."
   ]
  },
  {
   "cell_type": "markdown",
   "metadata": {},
   "source": [
    "**Exercise**: And what about the code below? Think carefully, then check the result."
   ]
  },
  {
   "cell_type": "code",
   "execution_count": null,
   "metadata": {},
   "outputs": [],
   "source": [
    "print(len('can\\'t'))\n",
    "print('can\\'t')"
   ]
  },
  {
   "cell_type": "markdown",
   "metadata": {},
   "source": [
    "## 4. Conditions"
   ]
  },
  {
   "cell_type": "markdown",
   "metadata": {},
   "source": [
    "In program code, there are often statements that you only want to execute when certain conditions hold. Every programming language therefore supports conditional statements. In this chapter we will explain how to use conditions in Python."
   ]
  },
  {
   "cell_type": "markdown",
   "metadata": {},
   "source": [
    "### Boolean expressions"
   ]
  },
  {
   "cell_type": "markdown",
   "metadata": {},
   "source": [
    "A conditional statement, often called an \"if\"-statement, consists of a test and one or more actions. The test is a so-called \"boolean expression\". The actions are executed when the test evaluates to `True`. For instance, an app on a smartphone might give a warning if the battery level is lower than 5%. This means that the app needs to check if a certain variable `battery_level` is lower than the value 5, i.e., if the comparison `battery_level < 5` evaluates to `True`. If the variable `battery_level` currently holds the value `17`, then `battery_level < 5` evaluates to `False`."
   ]
  },
  {
   "cell_type": "markdown",
   "metadata": {},
   "source": [
    "### Booleans"
   ]
  },
  {
   "cell_type": "markdown",
   "metadata": {},
   "source": [
    "`True` and `False` are so-called \"boolean values\" that are predefined in Python. `True` and `False` are the <i>only</i> boolean values, and anything that is not `False`, is `True`.\n",
    "\n",
    "You might wonder what the data type of `True` and `False` is. The answer is that they are of the type `bool`. However, in Python <i>every</i> value can be interpreted as a boolean value, regardless of its data type. I.e., when you test a condition, and your test is of a value that is not `True` or `False`, it will still be interpreted as either `True` or `False`.\n",
    "\n",
    "The following values are interpreted as `False`:\n",
    "- The special value `False`\n",
    "- The special value `None` (more about that in the next chapter)\n",
    "- Every numerical value that is zero, e.g., `0` and `0.0`\n",
    "- Every empty sequence, e.g., an empty string (`\"\"`)\n",
    "- Every empty \"mapping\", e.g., an empty dictionary (dictionaries follow in a later chapter)\n",
    "- Any function or method call that returns one of these listed values (this includes functions that return nothing; more about that in the next chapter)\n",
    "\n",
    "Every other value is interpreted as `True`. \n",
    "\n",
    "Any expression that is evaluated as `True` or `False` is called a \"boolean expression\"."
   ]
  },
  {
   "cell_type": "markdown",
   "metadata": {},
   "source": [
    "### Comparisons"
   ]
  },
  {
   "cell_type": "markdown",
   "metadata": {},
   "source": [
    "The most common boolean expressions are comparisons. A comparison consists of two values, and a comparison operator in between. Comparison operators are:\n",
    "\n",
    "    <    less than\n",
    "    <=   less than or equal to\n",
    "    ==   equal to\n",
    "    >=   equal to or greater than\n",
    "    >    greater than\n",
    "    !=   not equal\n",
    "\n",
    "A common mistake is to use a single `=` as a comparison operator, but the single `=` is the assignment operator. In general, Python will produce a syntax or runtime error if you try to use a single `=` to make a a comparison.\n",
    "\n",
    "You can use the comparison operators to compare both numbers and strings. Comparison for strings is an alphabetical comparison, whereby all **capitals come before all lower case letters (and digits come before both of them). ** Numbers, CAPITALS, lowercase\n",
    "\n",
    "Here are some examples of the results of comparisons:"
   ]
  },
  {
   "cell_type": "code",
   "execution_count": null,
   "metadata": {},
   "outputs": [],
   "source": [
    "print(\"1.\", 2 < 5 )\n",
    "print(\"2.\", 2 <= 5 )\n",
    "print(\"3.\", 3 > 3 )\n",
    "print(\"4.\", 3 >= 3 )\n",
    "print(\"5.\", 3 == 3.0 )\n",
    "print(\"6.\", 3 == \"3\" )\n",
    "print(\"7.\", \"syntax\" == \"syntax\" )\n",
    "print(\"8.\", \"syntax\" == \"semantics\" )\n",
    "print(\"9.\", \"syntax\" == \" syntax\" )\n",
    "print(\"10.\", \"Python\" != \"rubbish\" )\n",
    "print(\"11.\", \"Python\" > \"Perl\")\n",
    "print(\"12.\", \"banana\" < \"orange\") \n",
    "print(\"13.\", \"banana\" < \"Orange\")\n",
    "print(\"o\" == int)"
   ]
  },
  {
   "cell_type": "markdown",
   "metadata": {},
   "source": [
    "Comparisons of data types that cannot be compared, in general lead to runtime errors."
   ]
  },
  {
   "cell_type": "code",
   "execution_count": null,
   "metadata": {},
   "outputs": [],
   "source": [
    "# This code gives a runtime error.\n",
    "print( 3 < \"3\" )"
   ]
  },
  {
   "cell_type": "markdown",
   "metadata": {},
   "source": [
    "Functions can return a boolean value. The following code defines a function `isPositive` which returns `True` if its parameter is a positive number, and `False` otherwise:"
   ]
  },
  {
   "cell_type": "code",
   "execution_count": null,
   "metadata": {},
   "outputs": [],
   "source": [
    "def isPositive(number):\n",
    "    return number >= 0\n",
    "\n",
    "print(isPositive(4))\n",
    "print(isPositive(-12.4))"
   ]
  },
  {
   "cell_type": "markdown",
   "metadata": {},
   "source": [
    "###  `in` operator"
   ]
  },
  {
   "cell_type": "markdown",
   "metadata": {},
   "source": [
    "Python has a special operator called the \"membership test operator\", which is usually abbreviated to the \"in operator\" as it is written as `in`. The `in` operator tests if the value to the left side of the operator is found in the collection to the right side of the operator.\n",
    "\n",
    "At this time, we have discussed only one \"collection\", which is the string. A string is a collection of characters. You can test if a particular character or a sequence of characters is part of the string using the `in` operator. The opposite of the `in` operator is the `not in` operator, which gives `True` when `in` gives `False`, and which gives `False` when `in` gives `True`. \n",
    "\n",
    "For example:"
   ]
  },
  {
   "cell_type": "code",
   "execution_count": null,
   "metadata": {},
   "outputs": [],
   "source": [
    "print(\"y\" in \"Python\")\n",
    "print(\"x\" in \"Python\")\n",
    "print(\"p\" in \"Python\")\n",
    "print(\"th\" in \"Python\")\n",
    "print(\"to\" in \"Python\")\n",
    "print(\"y\" not in \"Python\")"
   ]
  },
  {
   "cell_type": "markdown",
   "metadata": {},
   "source": [
    "### Logical operators"
   ]
  },
  {
   "cell_type": "markdown",
   "metadata": {},
   "source": [
    "Boolean expressions can be combined with logical operators. There are three logical operators, `and`, `or`, and `not`.\n",
    "\n",
    "`and` and `or` are placed between two boolean expressions. When `and` is between two boolean expressions, the result is `True` if and only if both expressions evaluate to `True`; otherwise it is `False`. When `or` is between two boolean expressions, the result is `True` when one or both of the expressions evaluate to `True`; it is only `False` if both expressions evaluate to `False`.\n",
    "\n",
    "`not` is placed in front of a boolean expression to switch it from `True` to `False` or vice versa.\n",
    "\n",
    "For example:"
   ]
  },
  {
   "cell_type": "code",
   "execution_count": null,
   "metadata": {},
   "outputs": [],
   "source": [
    "t = True\n",
    "f = False\n",
    "\n",
    "print(t and t)\n",
    "print(t and f)\n",
    "print(f and t)\n",
    "print(f and f)\n",
    "\n",
    "print(t or t)\n",
    "print(t or f)\n",
    "print(f or t)\n",
    "print(f or f)\n",
    "\n",
    "print(not t)\n",
    "print(not f)"
   ]
  },
  {
   "cell_type": "markdown",
   "metadata": {},
   "source": [
    "### Conditional statements"
   ]
  },
  {
   "cell_type": "markdown",
   "metadata": {},
   "source": [
    "Conditional statements are, as the introduction to this chapter said, statements consisting of a test and one or more actions, whereby the actions only get executed if the test evaluates to `True`. Conditional statements are also called \"if-statements\", as they are written using the special keyword `if`.\n",
    "\n",
    "Here is an example:"
   ]
  },
  {
   "cell_type": "code",
   "execution_count": null,
   "metadata": {},
   "outputs": [],
   "source": [
    "x = 9\n",
    "if x < 10:\n",
    "    print(\"x less then 10\")"
   ]
  },
  {
   "cell_type": "markdown",
   "metadata": {},
   "source": [
    "The syntax of the `if` statement is as follows:\n",
    "\n",
    "    if <boolean expression>:\n",
    "        <statements>\n",
    "\n",
    "Note the colon (`:`) after the boolean expression, and the fact that `<statements>` is indented."
   ]
  },
  {
   "cell_type": "markdown",
   "metadata": {},
   "source": [
    "### Code blocks"
   ]
  },
  {
   "cell_type": "markdown",
   "metadata": {},
   "source": [
    "In the syntactic description of the `if` statement shown above, you see that the `<statements>` are \"indented\", i.e., they are placed one tabulation to the right. This is intentional and <u>necessary</u>. Python considers statements that are following each other and that are at the same level of indentation part of a code block. The code block underneath the first line of the `if` statement is considered to be the list of actions that are executed when the boolean expression evaluates to `True`.\n",
    "\n",
    "For example:"
   ]
  },
  {
   "cell_type": "code",
   "execution_count": null,
   "metadata": {},
   "outputs": [],
   "source": [
    "x = 7\n",
    "if x < 10:\n",
    "    print(\"This line is only executed if x < 10.\")\n",
    "    print(\"And the same holds for this line.\")\n",
    "print(\"This line, however, is always executed.\")"
   ]
  },
  {
   "cell_type": "markdown",
   "metadata": {},
   "source": [
    "**Exercise**: Change the value of `x` to see how it affects the outcome of the code.\n",
    "\n",
    "Thus, all the statements under the `if` that are indented, belong to the code block that is executed when the boolean expression of the `if` statement evaluates to `True`. This code block is skipped if the boolean expression evaluates to `False`. Statements which follow the `if` construction which are not indented (as deep as the code block under the `if`), are executed, regardless of whether the boolean expression evaluates to `True` or `False`."
   ]
  },
  {
   "cell_type": "markdown",
   "metadata": {},
   "source": [
    "Naturally, you are not restricted to having just a single `if` statement in your code. You can have as many as you like:"
   ]
  },
  {
   "cell_type": "code",
   "execution_count": null,
   "metadata": {},
   "outputs": [],
   "source": [
    "def print_status(x):\n",
    "    if x == 5: \n",
    "        print(\"x equals 5\")\n",
    "    if x > 4: \n",
    "        print(\"x is greater than 4\")\n",
    "    if  x >= 5:\n",
    "        print(\"x is greater than or equal to 5\")\n",
    "    if x < 6: \n",
    "        print(\"x is less than 6\") \n",
    "    if x <= 5:\n",
    "        print(\"x is less than or equal to 5\")\n",
    "    if x != 6 :\n",
    "        print(\"x does not equal 6\")\n",
    "        \n",
    "print(print_status(5))"
   ]
  },
  {
   "cell_type": "markdown",
   "metadata": {},
   "source": [
    "**Exercise**: Test this function by giving it different parameters and see how it affects the outcome."
   ]
  },
  {
   "cell_type": "markdown",
   "metadata": {},
   "source": [
    "### Two-way decisions"
   ]
  },
  {
   "cell_type": "markdown",
   "metadata": {},
   "source": [
    "### Indentation"
   ]
  },
  {
   "cell_type": "markdown",
   "metadata": {},
   "source": [
    "In Python, __correct indenting is of the utmost importance__! Without correct indentation, Python will not be able to recognize which statements belong together as one code block, and therefore cannot execute your code correctly.\n",
    "\n",
    "**Side note**: In many programming languages (actually, in almost all programming languages), code blocks are recognized by having them start and end with a specific symbol or keyword. For instance, in languages such as Java and C++, code blocks are enclosed by curly brackets, while in languages such as Pascal and Modula, code blocks are started with the keyword `begin` and ended with the keyword `end`. That means that in almost all languages, indenting to recognize code blocks is not necessary. However, you will find that code written by capable programmers is always nicely indented, regardless of the language. This makes it easy to see which code belongs together, for instance, which commands belong to an `if` statement. Python makes indenting a requirement. While for experienced programmers who are new to Python this seems strange at first, they quickly find that they do not care -- they were indenting nicely anyway, and Python's strategy makes that beginning programmers are also required to write nice-looking code.\n",
    "\n",
    "Note that you can indent using the *Tab* key, or indent using spaces. Most editors (including the editor in these notebooks) will auto-indent for you, i.e., if, for instance, you write the first line of an `if` statement, once you press *Enter* to go to the next line, it will automatically \"jump in\" one level of indentation (if it does not, it is very likely that you forgot the colon at the end of the conditional expression). Also, when you have indented one line to a certain level of indentation, the next line will use the same level. You can get rid of indentations using the *Backspace* key.\n",
    "\n",
    "For Python programs, a normal level of indentation is four spaces, i.e., one press of the *Tab* key should \"jump in\" four spaces. As long as you are in one editor, you can in such a case either use the *Tab* key, or press the spacebar four times, to go up one indentation level. So far so good. You may get into problems, however, if you port your code to another editor, which might have a different setting for the *Tab* key. If you edit your code in a such a different editor, even though it might look okay, Python may see that there are indentation conflicts (a mix of tabulations and space-indentations) and may report a syntax error when you try to run your code. Most editors therefore offer the option to automatically replace tabulations with spaces, so that such problems do not arise. If you use a text editor to write Python code, check if it contains such an option, and if so, ensure that tabulations are set to 4 and are automatically replaced by spaces."
   ]
  },
  {
   "cell_type": "markdown",
   "metadata": {},
   "source": [
    "### Two-way decisions"
   ]
  },
  {
   "cell_type": "markdown",
   "metadata": {},
   "source": [
    "Often a decision branches, e.g., if a certain condition arises, you want to take a particular action, but if it does not arise, you want to take another action. This is supported by Python in the form of an expansion to the `if` statement that adds an `else` branch:"
   ]
  },
  {
   "cell_type": "code",
   "execution_count": null,
   "metadata": {},
   "outputs": [],
   "source": [
    "def bigger_than_two(x):\n",
    "    if x > 2:\n",
    "        print(x, \"is bigger than 2\")\n",
    "    else:\n",
    "        print(\"smaller than or equal to 2\") \n",
    "        \n",
    "bigger_than_two(4444)"
   ]
  },
  {
   "cell_type": "markdown",
   "metadata": {},
   "source": [
    "The syntax is as follows:\n",
    "\n",
    "    if <boolean expression>:\n",
    "        <statements>\n",
    "    else:\n",
    "        <statements>\n",
    "\n",
    "Note the colon (`:`) after both the boolean expression and the `else`.\n",
    "\n",
    "It is important that the word `else` is aligned with the word `if` that it belongs to. If you do not align them correctly, this results in an indentation error.\n",
    "\n",
    "A consequence of adding an `else` branch to an `if` statement is that always exactly one of the two code blocks will be executed. If the boolean expression of the `if` statement evaluates to `True`, the code block directly under the `if` will be executed, and the code block directly under the `else` will be skipped. If it evaluates to `False`, the code block directly under the `if` will be skipped, while the code block directly under the `else` will be executed.\n",
    "\n",
    "**Exercise**: Write a function `isOdd` which returns `True` if its integer parameter is odd or `False` if it's even. You can use the modulo operator. Test your function with different parameter values."
   ]
  },
  {
   "cell_type": "code",
   "execution_count": null,
   "metadata": {},
   "outputs": [],
   "source": [
    "# function isOdd\n"
   ]
  },
  {
   "cell_type": "markdown",
   "metadata": {},
   "source": [
    "### Multi-branch decisions"
   ]
  },
  {
   "cell_type": "markdown",
   "metadata": {},
   "source": [
    "Occasionally, you encounter multi-branch decisions, where one of multiple blocks of commands has to be executed, but never more than one block. Such multi-branch decisions can be implemented using a further expansion of the `if` statement, namely in the form of one or more `elif` statements (`elif` stands for \"else if\"):"
   ]
  },
  {
   "cell_type": "code",
   "execution_count": null,
   "metadata": {},
   "outputs": [],
   "source": [
    "def age_status(age):\n",
    "    if age < 12:\n",
    "        print(\"You're still a child!\")\n",
    "    elif age < 18:\n",
    "        print(\"You are a teenager!\")\n",
    "    elif age < 30:\n",
    "        print(\"You're pretty young!\")\n",
    "    elif age < 50:\n",
    "        print(\"Wisening up, are we?\")\n",
    "    else:\n",
    "        print(\"Aren't the years weighing heavy on your shoulders?\")\n",
    "        \n",
    "age_status(12)"
   ]
  },
  {
   "cell_type": "markdown",
   "metadata": {},
   "source": [
    "Change the parameter value and test the function `age_status`.\n",
    "\n",
    "The syntax is as follows:\n",
    "\n",
    "    if <boolean expression>:\n",
    "        <statements>\n",
    "    elif <boolean expression>:\n",
    "        <statements>\n",
    "    else:\n",
    "        <statements>\n",
    "\n",
    "The syntax above shows only one `elif`, but you can have multiple. The different tests in an `if`-`elif`-`else` construct are executed in order. The first boolean expression that evaluates to `True` will cause the code block that belongs to that expression to be executed. None of the other code blocks of the construct will be executed.\n",
    "\n",
    "In other words: First the boolean expression next to the `if` will be evaluated. If it evaluates to `True`, the code block underneath the `if` will be executed. If it evaluates to `False`, the boolean expression for the first `elif` will be evaluated. If that turns out to be `True`, the code block underneath it will be executed. If it is `False`, Python will check the boolean expression for the next `elif`. Etcetera. Only when all the boolean expressions for the `if` and all of the `elif`s evaluate to `False`, the code block underneath the `else` will be executed.\n",
    "\n",
    "The consequence is that in the code above, for the first `elif`, you do not need to test `age >= 12 and age < 18`. Just testing `age < 18` suffices, because if `age` was smaller than `12`, already the boolean expression for the `if` would have evaluated to `True`, and the boolean expression for the first `elif` would not even have been encountered by Python.\n",
    "\n",
    "Note that the inclusion of the `else` branch is always optional. However, in most cases where we need `elif`s we include it anyway, if only for error checking.\n",
    "\n",
    "**Exercise:** Write a function that takes a parameter `weight`. If `weight` is greater than 20 (kilo's), print: \"There is a $25 surcharge for luggage that is too heavy.\" If `weight` is smaller than 20, print: \"Thank you for your business.\" If `weight` is exactly 20, print: \"Pfew! The weight is just right!\". Test the function for different values of `weight`to make sure your code works."
   ]
  },
  {
   "cell_type": "code",
   "execution_count": null,
   "metadata": {},
   "outputs": [],
   "source": [
    "# Weight function\n"
   ]
  },
  {
   "cell_type": "markdown",
   "metadata": {},
   "source": [
    "### Nested conditions"
   ]
  },
  {
   "cell_type": "markdown",
   "metadata": {},
   "source": [
    "Given the rules of the `if-elif-else` statements and identation, it is perfectly possible to use an `if` statement within another `if` statement. This second `if` statement is only executed if the condition for the first `if` statement evaluates to `True`, as it belongs to the code block of the first `if` statement. This is called \"nesting\"."
   ]
  },
  {
   "cell_type": "code",
   "execution_count": null,
   "metadata": {},
   "outputs": [],
   "source": [
    "x = 77\n",
    "if x%7 == 0:\n",
    "    # --- Here starts a nested block of code ---\n",
    "    if x%11 == 0:\n",
    "        print(x, \"is dividable by both 7 and 11.\")\n",
    "    else:\n",
    "        print(x, \"is dividable by 7, but not by 11.\")\n",
    "    # --- Here ends the nested block of code ---\n",
    "elif x%11 == 0:\n",
    "    print(x, \"is dividable by 11, but not by 7.\")\n",
    "else:\n",
    "    print(x, \"is dividable by neither 7 nor 11.\")"
   ]
  },
  {
   "cell_type": "markdown",
   "metadata": {},
   "source": [
    "**Exercise**: Change the value of `x` and observe the results."
   ]
  },
  {
   "cell_type": "markdown",
   "metadata": {},
   "source": [
    "### Early exits"
   ]
  },
  {
   "cell_type": "markdown",
   "metadata": {},
   "source": [
    "Occasionally it happens that you want to exit a function (or program) early when a certain condition arises. For instance, your function receives and processes an integer value extensively. But if the value cannot be processed, the function should just return an error message. You could write the function that as follows:"
   ]
  },
  {
   "cell_type": "code",
   "execution_count": null,
   "metadata": {},
   "outputs": [],
   "source": [
    "def handle_number(num):\n",
    "    if num < 0:\n",
    "        print(\"I cannot handle a negative integer, you clod!\")\n",
    "    else:\n",
    "        print(\"Now I am processing your integer\", num)\n",
    "        print(\"Lots and lots of processing\")\n",
    "        print(\"Hundreds of lines of code here\")\n",
    "        \n",
    "handle_number(2)"
   ]
  },
  {
   "cell_type": "markdown",
   "metadata": {},
   "source": [
    "It is a bit irritating that most of your program is already one indent deep, while you would have preferred to leave the program at the error message, and then have the rest of the program at the top indent level.\n",
    "\n",
    "You can do that using an early `return` statement:"
   ]
  },
  {
   "cell_type": "code",
   "execution_count": null,
   "metadata": {},
   "outputs": [],
   "source": [
    "def handle_number(num):\n",
    "    if num < 0:\n",
    "        print(\"I cannot handle a negative integer, you clod!\")\n",
    "        return\n",
    "    \n",
    "    print(\"Now I am processing your integer\", num)\n",
    "    print(\"Lots and lots of processing\")\n",
    "    print(\"Hundreds of lines of code here\")\n",
    "    \n",
    "handle_number(-2)"
   ]
  },
  {
   "cell_type": "markdown",
   "metadata": {},
   "source": [
    "When you run call this function with a negative parameter value, the function prints an error message and ends without running the rest of its code. "
   ]
  },
  {
   "cell_type": "markdown",
   "metadata": {},
   "source": [
    "### What you learned"
   ]
  },
  {
   "cell_type": "markdown",
   "metadata": {},
   "source": [
    "In this chapter, you learned about:\n",
    "\n",
    "- What boolean expressions are\n",
    "- Boolean values `True` and `False`\n",
    "- Comparisons with `<`, `<=`, `==`, `>`, `>=`, and `!=`\n",
    "- The `in` operator\n",
    "- Logical operators `and`, `or`, and `not`\n",
    "- Conditional statements using `if`, `elif`, and `else`\n",
    "- Code blocks\n",
    "- Indentation\n",
    "- Nested conditions"
   ]
  },
  {
   "cell_type": "markdown",
   "metadata": {},
   "source": [
    "**Exercise 4.1 (optional):** Grades are values between zero and 10 (both zero and 10 included), and are always rounded to the nearest half point. To translate grades to the American style, 8.5 to 10 become an \"A\", 7.5 and 8 become a \"B\", 6.5 and 7 become a \"C\", 5.5 and 6 become a \"D\", and other grades become an \"F\". Write a function that implements this translation and returns the American translation of the value in the parameter `grade`. If `grade` is lower than zero or higher than 10, the function prints an error message and returns an empty string. You do not need to handle grades that do not end in `.0` or `.5`, though you may do that if you like -- in that case, print an appropriate error message. "
   ]
  },
  {
   "cell_type": "code",
   "execution_count": null,
   "metadata": {},
   "outputs": [],
   "source": [
    "# Convert grades\n"
   ]
  },
  {
   "cell_type": "markdown",
   "metadata": {},
   "source": [
    "**Exercise 4.2 (optional):** Define a function that receives a string parameter, and returns an integer indicating how many *different* vowels there are in the string. The capital version of a lower case vowel is considered to be the same vowel. `y` is not considered a vowel. For example, for the string \"Michael Palin\", the function should 3."
   ]
  },
  {
   "cell_type": "code",
   "execution_count": null,
   "metadata": {},
   "outputs": [],
   "source": [
    "# Count vowels\n"
   ]
  },
  {
   "cell_type": "markdown",
   "metadata": {},
   "source": [
    "## 5. Iterations"
   ]
  },
  {
   "cell_type": "markdown",
   "metadata": {},
   "source": [
    "Computers do not get bored. If you want the computer to repeat a certain task hundreds of thousands of times, it does not protest. Humans hate too much repetition. Therefore, repetitious tasks should be performed by computers. All programming languages support repetitions. The general class of programming constructs that allow the definition of repetitions are called \"iterations\". A term which is even more common for such tasks is \"loops\".\n",
    "\n",
    "This section explains all you need to know about loops in Python. Make sure you take your time for this section, and work on it until you understand it completely. Loops are such a basic concept in programming that you need to understand them in all their details. Each and every section after this one needs loops."
   ]
  },
  {
   "cell_type": "markdown",
   "metadata": {},
   "source": [
    "### `while` loop"
   ]
  },
  {
   "cell_type": "markdown",
   "metadata": {},
   "source": [
    "Suppose you want to print the first five multiples of number 23. With the material from the previous section, you would program that as follows:"
   ]
  },
  {
   "cell_type": "code",
   "execution_count": null,
   "metadata": {},
   "outputs": [],
   "source": [
    "print(1 * 23)\n",
    "print(2 * 23)\n",
    "print(3 * 23)\n",
    "print(4 * 23)\n",
    "print(5 * 23)"
   ]
  },
  {
   "cell_type": "markdown",
   "metadata": {},
   "source": [
    "But what if we want you to print the first 500 multiples? Are you going to create a block of code of more than 500 lines long? Surely there must be an easier way to do this?\n",
    "\n",
    "Of course there is. You can use a loop to do this. \n",
    "\n",
    "The first loop you will learn about is the `while` loop. A `while` statement is quite similar to an `if` statement. The syntax is:\n",
    "\n",
    "    while <boolean expression>:\n",
    "        <statements>\n",
    "\n",
    "Just like an `if` statement, the `while` statement tests a boolean expression, and if the expression evaluates to `True`, it executes the code block below it. However, contrary to the `if` statement, once the code block has finished, the code \"loops\" back to the boolean expression to test it again. If it still evaluates to `True`, the code block below it gets executed once more. And after it has finished, it loops back again, and again, and again...\n",
    "\n",
    "Note: if the boolean expression immediately evaluates to `False`, then the code block below the `while` is skipped completely, just like with an `if` statement."
   ]
  },
  {
   "cell_type": "markdown",
   "metadata": {},
   "source": [
    "### `while` loop, first example"
   ]
  },
  {
   "cell_type": "markdown",
   "metadata": {},
   "source": [
    "Let's take a simple example: we want to write a function that prints numbers 1 to 5. With a `while` loop, that can be done as follows:"
   ]
  },
  {
   "cell_type": "code",
   "execution_count": null,
   "metadata": {},
   "outputs": [],
   "source": [
    "def print_1to5():                                    \n",
    "    num = 1\n",
    "    while (num <= 10):\n",
    "        print(num)\n",
    "        num += 1\n",
    "    print(\"Done\")\n",
    "    \n",
    "print_1to5()"
   ]
  },
  {
   "cell_type": "markdown",
   "metadata": {},
   "source": [
    "It is crucial that you understand this code, so let's discuss it step by step.\n",
    "\n",
    "The first line of the function initializes a variable `num`. This is the variable that the code will print, so it is initialized to `1`, as `1` is the first value that must be printed.\n",
    "\n",
    "Then the `while` loop starts. The boolean expression says `num <= 5`. Since `num` is `1`, and `1` is actually smaller than (or equal to) `5`, the boolean expression evaluates to `True`. Therefore, the code block below the `while` gets executed.\n",
    "\n",
    "The first line of the code block below the `while` prints the value of `num`, which is `1`. The second line adds `1` to the value of `num`, which makes `num` hold the value `2`. Then the code loops back to the boolean expression (i.e., the last line of the code, the printing of \"Done\", is not executed as it is not part of the loop and the loop has not finished yet).\n",
    "\n",
    "Since `num` is `2`, the boolean expression still evaluates to `True`. The code block gets executed once more. `2` is displayed, `num` gets the value `3`, and the code loops back to the boolean expression.\n",
    "\n",
    "Since `num` is `3`, the boolean expression still evaluates to `True`. The code block gets executed once more. `3` is displayed, `num` gets the value `4`, and the code loops back to the boolean expression.\n",
    "\n",
    "Since `num` is `4`, the boolean expression still evaluates to `True`. The code block gets executed once more. `4` is displayed, `num` gets the value `5`, and the code loops back to the boolean expression.\n",
    "\n",
    "Since `num` is `5`, the boolean expression still evaluates to `True` (because `5 <= 5`). The code block gets executed once more. `5` is displayed, `num` gets the value `6`, and the code loops back to the boolean expression.\n",
    "\n",
    "Since `num` is `6`, the boolean expression now evaluates to `False` (because `6` is bigger than `5`). Therefore, the code block gets skipped, and the code continues with the first line below the code block, which is the last line of the code. The word `Done` is printed, and the code ends.\n",
    "\n",
    "**Exercise**: Change the code above so that the function prints the numbers 1, 3, 5, 7, and 9."
   ]
  },
  {
   "cell_type": "markdown",
   "metadata": {},
   "source": [
    "### `while` loop, second example"
   ]
  },
  {
   "cell_type": "markdown",
   "metadata": {},
   "source": [
    "If you understand the first example, you probably also understand how to print the first five multiples of 23. This is implemented as follows:"
   ]
  },
  {
   "cell_type": "code",
   "execution_count": null,
   "metadata": {},
   "outputs": [],
   "source": [
    "def print_23multiples():\n",
    "    count = 1\n",
    "    while count <= 5:\n",
    "        print(count*23)\n",
    "        count += 1\n",
    "    print(\"Done\")\n",
    "\n",
    "print_23multiples()"
   ]
  },
  {
   "cell_type": "markdown",
   "metadata": {},
   "source": [
    "Study this code closely. variable `count` is used to count how often the code has gone through the loop. Since the loop must be done five times, `count` is started at `1` and the boolean expression for the loop continues until `count` is higher than `5`. Thus, in the loop `count` gets increased by `1` at the end of every cycle through the loop.\n",
    "\n",
    "We can also write the function as follows:"
   ]
  },
  {
   "cell_type": "code",
   "execution_count": null,
   "metadata": {},
   "outputs": [],
   "source": [
    "def print_23multiples():\n",
    "    count = 0\n",
    "    total = 0\n",
    "    while count < 5:\n",
    "        count += 1\n",
    "        total += (count*23)\n",
    "        print(count*23)  \n",
    "    print(\"Done\")\n",
    "\n",
    "print_23multiples()"
   ]
  },
  {
   "cell_type": "markdown",
   "metadata": {},
   "source": [
    "You may wonder why `count` is started at `0` and the boolean expression checks if `count < 5`. Why not start `count` at `1` and check if `count <= 5`? The reason is convention: programmers are used to start indices at `0`, and if they count, they count \"up to but not including\". When you continue with programming, you will find that most code sticks to this convention. Most standard programming constructs that use indices or count things apply this convention too. Therefore it is a good idea to get used to this convention, as it makes code easier to read.\n",
    "\n",
    "Note: The variable `count` is what programmers call a \"throw-away variable\". Its only purpose is to count how often the loop has been cycled through, and it has no real meaning before or after the loop. Programmers often choose a single-character variable name for such a variable, usually `i` or `j`. In this example we chose the name `count` because it is illustrative of what the variable does for the code, but a single-character name for this variable would have been acceptable.\n",
    "\n",
    "**Exercise**: Change the code block above so that the function also prints the total and the average of the five numbers."
   ]
  },
  {
   "cell_type": "markdown",
   "metadata": {},
   "source": [
    "### Endless loops"
   ]
  },
  {
   "cell_type": "markdown",
   "metadata": {},
   "source": [
    "The code below is supposed to start at number 1, and add up numbers, until it encounters a number that, when squared, is dividable by 1000. The code contains an error, though. See if you can spot it (without running the code!)."
   ]
  },
  {
   "cell_type": "code",
   "execution_count": null,
   "metadata": {},
   "outputs": [],
   "source": [
    "number = 1\n",
    "total = 0\n",
    "while(number * number) % 1000 != 0:\n",
    "    print(total)\n",
    "    total += number\n",
    "print(\"Total is\", total)"
   ]
  },
  {
   "cell_type": "markdown",
   "metadata": {},
   "source": [
    "The heading of this subsection gave away the answer, of course: this code contains a loop that never terminates. If you run it, it looks like the program \"hangs\", i.e., sits there and does nothing. It is not doing nothing, it is actually highly active, but it is in a neverending addition. `number` starts at `1`, and is never increased in the loop, so the boolean expression will always be `True`. This is called an \"endless loop\", and it is the single one great danger in using `while` loops.\n",
    "\n",
    "If you did run this code, you can go the the \"Kernel\" menu and choose \"Interrupt\". If you ran the code without modifications, you will have to do that. \n",
    "\n",
    "If you did not spot that this is an example of an endless loop, you might have seen what happened if we had written code that prints something in the loop. Unfortunately, browsers tend not to handle notebooks that print a lot of stuff well, and you would probably need a reboot of your computer, or at least the shutdown of the browser via a task manager, to resolve the problem. \n",
    "\n",
    "Since every programmer writes endless loops by accident now and again, it is good practice when you program a loop to immediately add a statement to a loop that makes a change that is tested in the boolean expression, so that you do not forget about it.\n",
    "\n",
    "Should you still write an endless loop and have trouble interrupting the kernel, if you are on the notebook server the instructor can shut down your kernel for you.\n",
    "\n",
    "**Exercise**: Fix the code above so that it no longer is an endless loop."
   ]
  },
  {
   "cell_type": "markdown",
   "metadata": {},
   "source": [
    "### `while` loop practice exercises"
   ]
  },
  {
   "cell_type": "markdown",
   "metadata": {},
   "source": [
    "You should now practice a bit with simple `while` loops.\n",
    "\n",
    "**Exercise**: In the code block below, write a countdown function. It takes an integer parameter `count`, and counts down to zero, printing each number it encounters (e.g. 10, 9, 8, ...). It does not print `0`, instead it prints \"Blast off!\"."
   ]
  },
  {
   "cell_type": "code",
   "execution_count": null,
   "metadata": {},
   "outputs": [],
   "source": [
    "# Countdown\n"
   ]
  },
  {
   "cell_type": "markdown",
   "metadata": {},
   "source": [
    "**Exercise (optional)**: The factorial of a positive integer is that integer, multiplied by all positive integers that are lower (excluding zero). You write the factorial as the number with an exclamation mark after it. E.g., the factorial of 5 is `5! = 5 * 4 * 3 * 2 * 1 = 120`. Write a function that calculates the factorial of its (integer) parameter. Test your function for different parameter values, but do not use very large numbers as factorials grow exponentially. Hint: to do this with a `while` loop, you need at least one more variable."
   ]
  },
  {
   "cell_type": "code",
   "execution_count": null,
   "metadata": {},
   "outputs": [],
   "source": [
    "# Factorial\n"
   ]
  },
  {
   "cell_type": "markdown",
   "metadata": {},
   "source": [
    "### `for` loop"
   ]
  },
  {
   "cell_type": "markdown",
   "metadata": {},
   "source": [
    "An alternative way of implementing loops is by using a `for` loop. `for` loops tends to be easier and safer to use than `while` loops, but cannot be applied to all iteration problems. `while` loops are more general. In other words, everything that a `for` loop can do, a `while` loop can do too, but not the other way around.\n",
    "\n",
    "The syntax of a `for` loop is as follows:\n",
    "\n",
    "    for <variable> in <collection>:\n",
    "        <statements>\n",
    "\n",
    "A `for` loop gets presented with a collection of items, and it will process these items, in order, one by one. Every cycle through the loop will put one item in the variable given next to the `for`, and can then be used in the code block under the `for`. The variable does *not* need to exist before the `for` loop is encountered. If it does, it gets overwritten. It is a real variable, by the way, in the sense that it still exists after the loop has finished. It will contain the last value that it got assigned during the processing of the loop.\n",
    "\n",
    "At this point you might wonder what a \"collection\" is. There are many different kinds of collections in Python, and in this section we will introduce a few. In later sections collections will be discussed in more detail."
   ]
  },
  {
   "cell_type": "markdown",
   "metadata": {},
   "source": [
    "### `for` loop with strings"
   ]
  },
  {
   "cell_type": "markdown",
   "metadata": {},
   "source": [
    "The only collection introduced until now is the string. A string is a collection of characters, e.g., the string \"banana\" is a collection of the characters \"b\", \"a\", \"n\", \"a\", \"n\", and \"a\", in that specific order. The following code loops through each of these letters:"
   ]
  },
  {
   "cell_type": "code",
   "execution_count": null,
   "metadata": {},
   "outputs": [],
   "source": [
    "for letter in \"banana\":\n",
    "    print(letter)\n",
    "print(\"Done\")"
   ]
  },
  {
   "cell_type": "markdown",
   "metadata": {},
   "source": [
    "While this code is fairly trivial, let's go through it step by step.\n",
    "\n",
    "When the `for` loop is encountered, Python takes the first member of the collection (here, the first letter in the string \"banana\", which is \"b\") and puts it into the variable `letter`. It then executes the code block below `for`. The code block contains only one statement, which is the printing of `letter`. So the program prints \"b\", and then loops back to the `for`. \n",
    "\n",
    "Python then takes the next letter, which is an \"a\", and it executes the code block with `letter` being an \"a\". It then repeats this process for each of the remaining letters.\n",
    "\n",
    "Once all the letters have been used, the `for` loop ends, and Python executes the last line of the code, which is the printing of the word \"Done\".\n",
    "\n",
    "To be absolutely clear: In a `for` loop you do *not* have to write code that explicitly increases some kind of variable that then grabs the next letter, or something like that. The `for` statement handles that automatically: every time it is looped back to, it takes the next item from the collection. "
   ]
  },
  {
   "cell_type": "markdown",
   "metadata": {},
   "source": [
    "### `for` loop using a variable as collection"
   ]
  },
  {
   "cell_type": "markdown",
   "metadata": {},
   "source": [
    "In the code above, the literal string \"banana\" was used as the collection, but it could also be a variable that contains a string. For instance, the following code introduces a function that prints every letter in its string parameter:"
   ]
  },
  {
   "cell_type": "code",
   "execution_count": null,
   "metadata": {},
   "outputs": [],
   "source": [
    "def print_letters(text):\n",
    "    for letter in text:\n",
    "        print(letter)\n",
    "    print(\"Done\")\n",
    "    \n",
    "print_letters(\"banana\")\n",
    "print_letters(\"apple\")"
   ]
  },
  {
   "cell_type": "markdown",
   "metadata": {},
   "source": [
    "You might wonder if this isn't dangerous. What happens if the programmer changes the contents of the variable `text` *in* the loop's code block? Let's try that out:"
   ]
  },
  {
   "cell_type": "code",
   "execution_count": null,
   "metadata": {},
   "outputs": [],
   "source": [
    "def print_letters(text):\n",
    "    for letter in text:\n",
    "        print(letter)\n",
    "        if letter == \"n\":\n",
    "            text = \"orange\"         \n",
    "    print(\"Done\")\n",
    "    \n",
    "print_letters(\"banana\")"
   ]
  },
  {
   "cell_type": "markdown",
   "metadata": {},
   "source": [
    "As you can see when you run this code, changing the contents of the variable `text` in the loop has *no effect* on the loop's processing. The sequence of characters that the loop processes is only constituted once, when the `for` loop is first entered. This is a great feature of `for` loops, because it means they are *guaranteed* to end. No `for` loops are endless! \n",
    "\n",
    "Note that there is a conditional statement in the loop above. There is nothing that stops you from putting conditions in the code block for a loop. There is also nothing against putting loops in the code block for a condition, or even putting loops inside loops (more on that last option follows later in this chapter). As long as you stick to the syntactic requirements, you can use conditional statements and loops wherever you can write Python statements. "
   ]
  },
  {
   "cell_type": "markdown",
   "metadata": {},
   "source": [
    "### `for` loop using a range of numbers"
   ]
  },
  {
   "cell_type": "markdown",
   "metadata": {},
   "source": [
    "Python offers a `range()` function that generates a collection of sequential numbers, which is often used for `for` loops. The simplest call to `range()` has one parameter, which is a number. It will generate all integers, starting at zero, up to but not including the parameter."
   ]
  },
  {
   "cell_type": "code",
   "execution_count": null,
   "metadata": {},
   "outputs": [],
   "source": [
    "for x in range(10):\n",
    "    print(x)"
   ]
  },
  {
   "cell_type": "markdown",
   "metadata": {},
   "source": [
    "`range()` can get multiple parameters. If you give two parameters, then the first will be the starting number (default is zero), while the second will be the \"up to but not including\" number. If you give three parameters, the third will be a step size (default is `1`). You can choose a negative step size if you want to count down. With a negative step size, make sure that the starting number is higher than the number that you want to count up to (or down to, in this case)."
   ]
  },
  {
   "cell_type": "code",
   "execution_count": null,
   "metadata": {},
   "outputs": [],
   "source": [
    "for x in range(1, 11, 1):\n",
    "    print(x)"
   ]
  },
  {
   "cell_type": "markdown",
   "metadata": {},
   "source": [
    "**Exercise:** Change the three parameters above to observe their effect, until you fully understand the `range()` function.\n",
    "\n",
    "**Exercise (optional):** Write a function that, using the `for` loop and `range()` function, takes two integer parameters `a` and `b`, and prints multiples of 3 starting at `a` and counting down to `b`."
   ]
  },
  {
   "cell_type": "code",
   "execution_count": null,
   "metadata": {},
   "outputs": [],
   "source": [
    "# Multiples of 3\n"
   ]
  },
  {
   "cell_type": "markdown",
   "metadata": {},
   "source": [
    "### `for` loop with manual collections"
   ]
  },
  {
   "cell_type": "markdown",
   "metadata": {},
   "source": [
    "If you want to use a `for` loop to cycle through items in a collection that you create manually, you can do so by listing all your items between parentheses. This defines a \"tuple\" for the items of your collection. Tuples will be discussed later."
   ]
  },
  {
   "cell_type": "code",
   "execution_count": null,
   "metadata": {},
   "outputs": [],
   "source": [
    "for x in (10, 100, 1000, 10000):\n",
    "    print(x)"
   ]
  },
  {
   "cell_type": "markdown",
   "metadata": {},
   "source": [
    "Or:"
   ]
  },
  {
   "cell_type": "code",
   "execution_count": null,
   "metadata": {},
   "outputs": [],
   "source": [
    "for x in (\"apple\", \"pear\", \"orange\", \"banana\", \"mango\", \"cherry\"):\n",
    "    print(x)"
   ]
  },
  {
   "cell_type": "markdown",
   "metadata": {},
   "source": [
    "Your collection can even consist of mixed types."
   ]
  },
  {
   "cell_type": "markdown",
   "metadata": {},
   "source": [
    "### Practice with `for` loops"
   ]
  },
  {
   "cell_type": "markdown",
   "metadata": {},
   "source": [
    "To get strong grips on how to use `for` loops, do the following exercises.\n",
    "\n",
    "**Exercise**: You already created a function with a `while` loop that printed the first five multiples of 23. Create another code for this task, but now use a `for` loop."
   ]
  },
  {
   "cell_type": "code",
   "execution_count": null,
   "metadata": {},
   "outputs": [],
   "source": [
    "# Multiples of 23\n"
   ]
  },
  {
   "cell_type": "markdown",
   "metadata": {},
   "source": [
    "**Exercise (optional)**: Create a countdown function that starts at a certain count, and counts down to zero. Instead of zero, print \"Blast off!\". Use a `for` loop. "
   ]
  },
  {
   "cell_type": "code",
   "execution_count": null,
   "metadata": {},
   "outputs": [],
   "source": [
    "# Countdown\n"
   ]
  },
  {
   "cell_type": "markdown",
   "metadata": {},
   "source": [
    "### Loop control statements"
   ]
  },
  {
   "cell_type": "markdown",
   "metadata": {},
   "source": [
    "There are three extra statements that help you control the flow in a loop. They are `else`, `break`, and `continue`."
   ]
  },
  {
   "cell_type": "markdown",
   "metadata": {},
   "source": [
    "### `else`"
   ]
  },
  {
   "cell_type": "markdown",
   "metadata": {},
   "source": [
    "Just like with an `if` statement, you can add an `else` statement to the end of a `while` or `for` loop. The code block for the `else` is executed whenever the loop ends, i.e., when the boolean expression for the `while` loop evaluates to `False`, or when the last item of the collection of the `for` loop is processed.\n",
    "\n",
    "Here is an example of using the `else` clause for a `while` loop:"
   ]
  },
  {
   "cell_type": "code",
   "execution_count": null,
   "metadata": {},
   "outputs": [],
   "source": [
    "def count_up(i):\n",
    "    while i < 5:\n",
    "        print(i)\n",
    "        i += 1\n",
    "    else:\n",
    "        print(\"The loop ends, i is now\", i)\n",
    "    print(\"Done\")\n",
    "    \n",
    "count_up(1)"
   ]
  },
  {
   "cell_type": "markdown",
   "metadata": {},
   "source": [
    "And here is an example of using `else` for a `for` loop:"
   ]
  },
  {
   "cell_type": "code",
   "execution_count": null,
   "metadata": {},
   "outputs": [],
   "source": [
    "def print_fruits():\n",
    "    for fruit in (\"apple\", \"orange\", \"strawberry\"):\n",
    "        print(fruit)\n",
    "    else:\n",
    "        print(\"The loop ends, fruit is now\", fruit)\n",
    "    print(\"Done\")   \n",
    "    \n",
    "print_fruits()"
   ]
  },
  {
   "cell_type": "markdown",
   "metadata": {},
   "source": [
    "### `break`"
   ]
  },
  {
   "cell_type": "markdown",
   "metadata": {},
   "source": [
    "The `break` statement allows you to prematurely break out of a loop. I.e., when Python encounters the `break` statement, it will no longer process the remainder of the code block for the loop, and will not loop back to the boolean expression. It will simply continue with the first statement after the loop's code block.\n",
    "\n",
    "To see why this is useful, here follows an interesting exercise. We are looking for the first positive number under 10000 that is both a multiple of 9 and 21. We can write a function to do that for us:"
   ]
  },
  {
   "cell_type": "code",
   "execution_count": null,
   "metadata": {},
   "outputs": [],
   "source": [
    "i = 1\n",
    "while i <= 10000:\n",
    "    if i%9 == 0 and i%21 == 0:\n",
    "        break\n",
    "    i += 1                      \n",
    "\n",
    "print (i, \"is our solution.\")"
   ]
  },
  {
   "cell_type": "markdown",
   "metadata": {},
   "source": [
    "In this example we see the `break` statement used to good effect. Since we have no idea which number we are looking for, we are just going to check a whole bunch of numbers. we let a counter `i` run up to `10000`. We might find the answer at any point, and when we do, we `break` out of the loop, because further testing of numbers no longer serves a purpose.\n",
    "\n",
    "\n",
    "Interestingly, `break` in a program functions similarly to `return` in a function. We can write the above code as a function and replace `break` with `return`, with the same effect:"
   ]
  },
  {
   "cell_type": "code",
   "execution_count": null,
   "metadata": {},
   "outputs": [],
   "source": [
    "def joint_multiple():\n",
    "    i = 1\n",
    "    while i <= 10000:\n",
    "        if i%9 == 0 and i%21 == 0:\n",
    "            return i\n",
    "        i += 1\n",
    "\n",
    "print (joint_multiple(), \"is our solution.\")"
   ]
  },
  {
   "cell_type": "markdown",
   "metadata": {},
   "source": [
    "Or even better, we can pass the values 9 and 21 to the function as parameters, and make it more general-purpose:"
   ]
  },
  {
   "cell_type": "code",
   "execution_count": null,
   "metadata": {},
   "outputs": [],
   "source": [
    "def joint_multiple(a,b):\n",
    "    i = 1\n",
    "    while i <= 10000:\n",
    "        if i%a == 0 and i%b == 0:\n",
    "            return i\n",
    "        i += 1\n",
    "\n",
    "print (joint_multiple(9,21), \"is our solution.\")"
   ]
  },
  {
   "cell_type": "markdown",
   "metadata": {},
   "source": [
    "The `break` statement also works for `for` loops. But it cannot be used outside a loop. It is only defined for loops. Note that when a `break` statement is encountered, and the loop also has an `else` clause, the code block for the `else` will *not* be executed.\n",
    "\n",
    "The following code checks a list of grades for a student. As long as all grades are 5.5 or higher, the student passes. When one or more grades are lower than 5.5, the student fails. The grades are in a collection that is given to a `for` loop."
   ]
  },
  {
   "cell_type": "code",
   "execution_count": null,
   "metadata": {},
   "outputs": [],
   "source": [
    "for grade in (8, 7.5, 9, 6, 6, 5, 6, 5.5, 7, 8, 7, 7.5):\n",
    "    if grade < 5.5:\n",
    "        print( \"The student fails!\" )\n",
    "        break\n",
    "else:\n",
    "    print( \"The student passes!\" )\n",
    "    "
   ]
  },
  {
   "cell_type": "markdown",
   "metadata": {},
   "source": [
    "**Exercise**: Remove the 5 from the list of grades and notice that the student now passes. Study this code carefully until you understand it."
   ]
  },
  {
   "cell_type": "markdown",
   "metadata": {},
   "source": [
    "### `continue`"
   ]
  },
  {
   "cell_type": "markdown",
   "metadata": {},
   "source": [
    "When the `continue` statement is encountered in the code block of a loop, the current cycle ends immediately and the code loops back to the start of the loop. For a `while` loop, that means that the boolean expression is evaluated again. For a `for` loop, that means that the next item is taken from the collection and processed.\n",
    "\n",
    "The following code prints all numbers between 1 and 100 that cannot be divided by 2 or 3, do not end in a 7 or 9, and do not consist of two equal digits."
   ]
  },
  {
   "cell_type": "code",
   "execution_count": null,
   "metadata": {},
   "outputs": [],
   "source": [
    "for num in range(1, 101):\n",
    "    if num%2 == 0:\n",
    "        continue\n",
    "    if num%3 == 0:\n",
    "        continue\n",
    "    if num%10 == 7:\n",
    "        continue\n",
    "    if num%10 == 9:\n",
    "        continue\n",
    "    if num > 9:\n",
    "        if num%10 == int(num / 10):\n",
    "            continue\n",
    "    print(num)"
   ]
  },
  {
   "cell_type": "markdown",
   "metadata": {},
   "source": [
    "Alternatively, you could have created one big boolean expression for an `if` statement, but that would become unreadable quickly. Still, just like `break` statements, `continue` statements can always be avoided if you really want to, but they do help keeping code understandable.\n",
    "\n",
    "Note that `continue` statements, just like `break` statements, can only be used inside loops.\n",
    "\n",
    "Be very, very careful when using a `continue` in a `while` loop. Most `while` loops use a number that restricts the number of cycles through the loop. Usually such a number is increased at the bottom of the code block for the loop. A `continue` statement would loop back to the boolean expression immediately, without increasing the number, and thus such a continue` could easily cause an endless loop. I.e.:\n",
    "\n",
    "    i = 0\n",
    "    while i < 10:\n",
    "        if i == 5:\n",
    "            continue\n",
    "        i += 1\n",
    "\n",
    "causes an endless loop!\n",
    "\n",
    "**Exercise (optional)**: Write a function that processes a collection of numbers using a `for` loop. The program should end immediately, printing only the word \"Done\", when a zero is encountered (use a `break` for this). Negative numbers should be ignored (use a `continue` for this). If no zero is encountered, the program should display the sum of all numbers (do this in an `else` clause). Always display \"Done\" at the end of the program.<br>\n",
    "With the numbers provided, the program should display only \"Done\". If you remove the zero, it should display 85 (and \"Done\")."
   ]
  },
  {
   "cell_type": "code",
   "execution_count": null,
   "metadata": {},
   "outputs": [],
   "source": [
    "# Process numbers\n",
    "# Your function goes here\n",
    "\n",
    "process_numbers((12, 4, 3, 33, -2, 0, -5, 7, 22, 4))"
   ]
  },
  {
   "cell_type": "markdown",
   "metadata": {},
   "source": [
    "### Nested loops"
   ]
  },
  {
   "cell_type": "markdown",
   "metadata": {},
   "source": [
    "You can put a loop inside another loop. \n",
    "\n",
    "That is a simple statement, but it is one of the hardest concepts for students to wrap their minds around.\n",
    "\n",
    "Let's first look at an example of a double-nested loop, i.e., a loop which contains one other loop. Usually programmers talk about an \"outer loop\" and an \"inner loop\". The inner loop is part of the code block for the outer loop."
   ]
  },
  {
   "cell_type": "code",
   "execution_count": null,
   "metadata": {},
   "outputs": [],
   "source": [
    "for i in range(3):\n",
    "    print(\"Entering the outer loop for i =\", i)\n",
    "    for j in range( 3 ):\n",
    "        print(\"    Entering the inner loop for j =\", j)\n",
    "        print(\"   \", i, \",\", j)\n",
    "        print(\"    Leaving the inner loop for j =\", j)\n",
    "    print(\"Leaving the outer loop for i =\", i)"
   ]
  },
  {
   "cell_type": "markdown",
   "metadata": {},
   "source": [
    "Study this code and its output until you fully understand it!\n",
    "\n",
    "The code first gives `i` the value `0`, and then lets `j` take on the values `0`, `1`, and `2`. It then gives `i` the value `1`, and then lets `j` take on the values `0`, `1`, and `2`. Finally, it gives `i` the value `2`, and then lets `j` take on the values `0`, `1`, and `2`. So this code runs through all possible pairs of `(i,j)` with `i` and `j` being `0`, `1`, or `2`.\n",
    "\n",
    "Notice how variables for the outer loop are also accessible by the inner loop. `i` exists in both the outer and the inner loop.\n",
    "\n",
    "Suppose that you want to write a function that prints all pairs `(i,j)` where `i` and `j` can take on the values `0` to `maximum`, but `j` must be higher than `i`. The function takes `maximum` as a parameter:"
   ]
  },
  {
   "cell_type": "code",
   "execution_count": null,
   "metadata": {},
   "outputs": [],
   "source": [
    "def print_pairs(maximum):\n",
    "    for i in range(maximum):\n",
    "        for j in range(i+1, maximum):\n",
    "            print(i, \",\", j)\n",
    "            \n",
    "print_pairs(4)"
   ]
  },
  {
   "cell_type": "markdown",
   "metadata": {},
   "source": [
    "See how the value of `i` is used to set the range for `j`?\n",
    "\n",
    "**Exercise (optional)**: Write a function that prints all pairs `(i,j)` where `i` and `j` can take on the values `0` to `maximum`, but they cannot be equal."
   ]
  },
  {
   "cell_type": "code",
   "execution_count": null,
   "metadata": {},
   "outputs": [],
   "source": [
    "# Print non-equal pairs\n"
   ]
  },
  {
   "cell_type": "markdown",
   "metadata": {},
   "source": [
    "You can, of course, also nest `while` loops, or mix  nesting `for` loops with `while` loops.\n",
    "\n",
    "You should be aware that when you use a `break` or `continue` in an inner loop, it will only `break` out of the inner loop or `continue` with the inner loop, respectively. There is no command that you can give in an inner loop that breaks out of both the inner and outer loop immediately.\n",
    "\n",
    "Once you understand double-nested loops, it should come as no surpise that you can also triple-nest loops, quadruple-nest loops, or go even deeper. However, in practice seldom see\n",
    "a nesting deeper than triple-nested."
   ]
  },
  {
   "cell_type": "code",
   "execution_count": null,
   "metadata": {},
   "outputs": [],
   "source": [
    "for i in range(3):\n",
    "    for j in range(3):\n",
    "        for k in range(3):\n",
    "            print(i, \",\", j, \",\", k)"
   ]
  },
  {
   "cell_type": "markdown",
   "metadata": {},
   "source": [
    "### Being smart about loops"
   ]
  },
  {
   "cell_type": "markdown",
   "metadata": {},
   "source": [
    "To complete this section, we discuss a few strategies on loop design."
   ]
  },
  {
   "cell_type": "markdown",
   "metadata": {},
   "source": [
    "### Processing data items one by one"
   ]
  },
  {
   "cell_type": "markdown",
   "metadata": {},
   "source": [
    "Usually, when a loop is applied, you are working through a long series of data items. Each cycle through the loop will process one of those data items. You then often need to remember something about the data items that you have processed so far, for which you need extra variables. You have to be smart in thinking about such variables.\n",
    "\n",
    "Take the following example: we need a function that takes ten integer parameters, and returns the largest (or smallest). Since you will have to process all the numbers, you have to think about a loop, and in particular, a loop wherein you have only one of the numbers available each cycle through the loop (but you will see them all before the loop ends). You must now think about variables that you can use to remember something each cycle through the loop, that allows you to determine, at the end, which number was the largest or the smallest. Which variables do you need?\n",
    "\n",
    "The answer, which comes easy to anyone who has been doing some programming, is that you need to remember, each cycle through the loop, which is the largest or smallest number *until now*. That means that every cycle through the loop you compare the new number with the variables in which you retain the largest or smallest, and replace them with the new number if that is appropriate. \n",
    "\n",
    "You will have to find good initial values for these variables. The largest and smallest need an appropriate value. The best solution in this case is to fill them with the first number, as that number is both the largest and the smallest at that point."
   ]
  },
  {
   "cell_type": "markdown",
   "metadata": {},
   "source": [
    "### On designing algorithms"
   ]
  },
  {
   "cell_type": "markdown",
   "metadata": {},
   "source": [
    "At this point in the course, you will often run into exercises and coding problems for which you are unsure how to solve them. The example of finding the largest or smallest number in a collection is such a problem, and you saw a solution for that. Such a solution approach is called an \"algorithm\". But how do you design such algorithms?\n",
    "\n",
    "What you have to do in such a situation is sit back, leave the keyboard alone, and think \"How would I solve this problem as a human?\" Try to write down what you would do if you would do it by hand. It does not matter if what you would do is a very boring task that you would never *want* to do by hand -- you have a computer to do the boring things for you.\n",
    "\n",
    "Once you have figured out what you would do, then try to think about how you would translate that to code. Because basically, that is what you need to tell the computer: the steps that you as a human would take to get to a solution. If you really cannot think of any way that you as a human would use to solve a problem, then you won't be able to tell the computer how to do it for you."
   ]
  },
  {
   "cell_type": "markdown",
   "metadata": {},
   "source": [
    "### What you learned"
   ]
  },
  {
   "cell_type": "markdown",
   "metadata": {},
   "source": [
    "In this section, you learned about:\n",
    "\n",
    "- What loops are\n",
    "- `while` loops\n",
    "- `for` loops\n",
    "- Endless loops\n",
    "- Loop control via `else`, `break`, and `continue`\n",
    "- Nested loops"
   ]
  },
  {
   "cell_type": "markdown",
   "metadata": {},
   "source": [
    "### Exercises"
   ]
  },
  {
   "cell_type": "markdown",
   "metadata": {},
   "source": [
    "**Exercise 5.1 (optional):** Write a function that prints a multiplication table for digits 1 to 10. A multiplication table for the numbers 1 to `num = 3` looks as follows:\n",
    "\n",
    "`. |  1  2  3`<br>\n",
    "`------------`<br>\n",
    "`1 |  1  2  3`<br>\n",
    "`2 |  2  4  6`<br>\n",
    "`3 |  3  6  9`\n",
    "\n",
    "So the labels on the rows are multiplied by the labels on the columns, and the result is shown in the cell that is on that row/column combination. "
   ]
  },
  {
   "cell_type": "code",
   "execution_count": null,
   "metadata": {},
   "outputs": [],
   "source": [
    "# Print multiplication table\n"
   ]
  },
  {
   "cell_type": "markdown",
   "metadata": {},
   "source": [
    "**Exercise 5.2 (optional):** If you did the previous exercise with a `while` loop, then do it again with a `for` loop. If you did it with a `for` loop, then do it again with a `while` loop. If you did not use a loop at all, you should be ashamed of yourself."
   ]
  },
  {
   "cell_type": "code",
   "execution_count": null,
   "metadata": {},
   "outputs": [],
   "source": [
    "# Print multiplication table\n"
   ]
  },
  {
   "cell_type": "markdown",
   "metadata": {},
   "source": [
    "**Exercise 5.3 (optional):** Write and test three functions that return the largest, the smallest, and the number of dividables by 3 in a given collection of numbers. Use the algorithm described earlier in this chapter."
   ]
  },
  {
   "cell_type": "code",
   "execution_count": null,
   "metadata": {},
   "outputs": [],
   "source": [
    "# Your functions\n"
   ]
  },
  {
   "cell_type": "markdown",
   "metadata": {},
   "source": [
    "**Exercise 5.4 (optional):** \"99 bottles of beer\" is a traditional song in the United States and Canada. It is popular to sing on long trips, as it has a very repetitive format which is easy to memorize, and can take a long time to sing. The song's simple lyrics are as follows: \"99 bottles of beer on the wall, 99 bottles of beer. Take one down, pass it around, 98 bottles of beer on the wall.\" The same verse is repeated, each time with one fewer bottle. The song is completed when the singer or singers reach zero. Write a function that generates and prints all the verses of the song (though you might start a bit lower, for instance with 10 bottles). Make sure that your loop is not endless, and that you use the proper inflection for the word \"bottle\"."
   ]
  },
  {
   "cell_type": "code",
   "execution_count": 2,
   "metadata": {},
   "outputs": [],
   "source": [
    "# Beer song\n"
   ]
  },
  {
   "cell_type": "markdown",
   "metadata": {},
   "source": [
    "**Exercise 5.5 (optional):** The Fibonacci sequence is a sequence of numbers that starts with 1, followed by 1 again. Every next number is the sum of the two previous numbers. I.e., the sequence starts with 1, 1, 2, 3, 5, 8, 13, 21,... Write a function that calculates and prints the Fibonacci sequence until the numbers get higher than a `maximum`."
   ]
  },
  {
   "cell_type": "code",
   "execution_count": null,
   "metadata": {},
   "outputs": [],
   "source": [
    "# Fibonacci\n"
   ]
  },
  {
   "cell_type": "markdown",
   "metadata": {},
   "source": [
    "**Exercise 5.6 (optional):** A prime number is a positive integer that is dividable by exactly two different numbers, namely 1 and itself. The lowest (and only even) prime number is 2. The first 10 prime numbers are 2, 3, 5, 7, 11, 13, 17, 19, 23, and 29. Write a function that returns `True` if its parameter is a prime number, and `False` otherwise. Hint: In a loop where you test the possible dividers of the number, you can conclude that the number is not prime as soon as you encounter a number other than 1 or the number itself that divides it. However, you can *only* conclude that it actually *is* prime after you have tested all possible dividers."
   ]
  },
  {
   "cell_type": "code",
   "execution_count": null,
   "metadata": {},
   "outputs": [],
   "source": [
    "# Prime numbers\n"
   ]
  },
  {
   "cell_type": "markdown",
   "metadata": {},
   "source": [
    "**Exercise 5.7 (optional):** Write a function that prints all integers between the parameters `a` and `b` that can be written as the sum of two squares. Produce output in the form of `z = x**2 + y**2`, e.g., `58 = 3**2 + 7**2`. If a number occurs on the list with multiple *different* ways of writing it as the sum of two squares, that is acceptable. "
   ]
  },
  {
   "cell_type": "code",
   "execution_count": null,
   "metadata": {},
   "outputs": [],
   "source": [
    "# Sum squares\n"
   ]
  },
  {
   "cell_type": "markdown",
   "metadata": {},
   "source": [
    "**Exercise 5.8 (optional):** A, B, C, and D are all different digits. The number DCBA is equal to 4 times the number ABCD. What are the digits? Note: to make ABCD and DCBA conventional numbers, neither A nor D can be zero. Use a quadruple-nested loop."
   ]
  },
  {
   "cell_type": "code",
   "execution_count": null,
   "metadata": {},
   "outputs": [],
   "source": [
    "# Solve 4*ABCD == DCBA\n"
   ]
  },
  {
   "cell_type": "markdown",
   "metadata": {},
   "source": [
    "## 6. Strings"
   ]
  },
  {
   "cell_type": "markdown",
   "metadata": {},
   "source": [
    "Until now, most examples and exercises have been using numbers. In daily life, it is far more commonplace to deal with textual information. So are you ever going to learn how to deal with texts?\n",
    "\n",
    "The reason that dealing with texts was postponed until this point, is that dealing with numbers is simply easier than dealing with texts. But in the present section, the first steps are taken to learn to manipulate textual information.\n",
    "\n",
    "Texts, in programming languages, are dealt with in the form of strings. This section is on the details of strings, and on readily-available functions to juggle them."
   ]
  },
  {
   "cell_type": "markdown",
   "metadata": {},
   "source": [
    "### Multi-line strings"
   ]
  },
  {
   "cell_type": "markdown",
   "metadata": {},
   "source": [
    "Strings in Python may span across multiple lines. This can be useful when you have a very long string, or when you want to format the output of the string in a certain way. Multi-line strings can be achieved in two ways:\n",
    "\n",
    "1. With single or double quotes, and an indication that the remainder of the string continues on the next line with a backslash.\n",
    "2. With triple single or double quotes.\n",
    "\n",
    "I first demonstrate how this works when you use the regular string enclosure with one double or single quote at each end of the string:"
   ]
  },
  {
   "cell_type": "code",
   "execution_count": null,
   "metadata": {},
   "outputs": [],
   "source": [
    "longString = \"I'm fed up with being treated like sheep. \\\n",
    "What's the point of going abroad if you're just another \\\n",
    "tourist carted around in buses surrounded by sweaty \\\n",
    "mindless oafs from Kettering and Coventry in their \\\n",
    "cloth caps and their cardigans and their transistor \\\n",
    "radios and their Sunday Mirrors, complaining about \\\n",
    "the tea - 'Oh they don't make it properly here, do they, \\\n",
    "not like at home' - and stopping at Majorcan bodegas \\\n",
    "selling fish and chips and Watney's Red Barrel and \\\n",
    "calamaris and two veg and sitting in their cotton frocks \\\n",
    "squirting Timothy White's suncream all over their puffy \\\n",
    "raw swollen purulent flesh 'cos they 'overdid it on the first day.\"\n",
    "print(longString)"
   ]
  },
  {
   "cell_type": "markdown",
   "metadata": {},
   "source": [
    "As you can see, Python now interprets this example as a single line of text. The backslash (`\\`) can actually be included after any Python statement to indicate that it continues on the next line, and it can be quite useful for that, for instance when you write long calculations.\n",
    "\n",
    "The recommended way to write multi-line strings in Python is, however, to use triple double or single quotes. I indicated earlier that you can use those to write multi-line comments. Such comments are basically large strings in the middle of your Python program, which do nothing as they are not assigned to a variable.\n",
    "\n",
    "Here is an example of a long string with triple double quotes:"
   ]
  },
  {
   "cell_type": "code",
   "execution_count": null,
   "metadata": {},
   "outputs": [],
   "source": [
    "longString = \"\"\"And being herded into endless Hotel Miramars and Bellevueses \n",
    "and Continentales with their modern international luxury \n",
    "roomettes and draught Red Barrel and swimming pools full \n",
    "of fat German businessmen pretending they're acrobats forming \n",
    "pyramids and frightening the children and barging into queues \n",
    "and if you're not at your table spot on seven you miss the \n",
    "bowl of Campbell's Cream of Mushroom soup, the first item on \n",
    "the menu of International Cuisine, and every Thursday night \n",
    "the hotel has a bloody cabaret in the bar, featuring a tiny \n",
    "emaciated dago with nine-inch hips and some bloated fat tart \n",
    "with her hair brylcreemed down and a big arse presenting \n",
    "Flamenco for Foreigners.\"\"\"\n",
    "print(longString)"
   ]
  },
  {
   "cell_type": "markdown",
   "metadata": {},
   "source": [
    "The interesting difference between these two examples is that in the first example, the string was interpreted as one long, continuous series of characters, while in the second example the different lines are all printed on different lines on the output. The reason that this happens is that there is an invisible character included at the end of each line in the second example that indicates that Python should move to the next line before continuing. This is the so-called \"newline\" character, and you can actually insert it explicitly into a string, using the code \"`\\n`\". So this code should not be read as two characters, the backslash and the \"n\", but as a single newline character. By using it, you can ensure that you print the output on multiple lines, even if you use the backslash to indicate the continuation of the string, as was done in the first example. For example:"
   ]
  },
  {
   "cell_type": "code",
   "execution_count": null,
   "metadata": {},
   "outputs": [],
   "source": [
    "longstring = \"And then some adenoidal typists from Birmingham with flabby\\n\\\n",
    "white legs and diarrhoea trying to pick up hairy bandy-legged\\n\\\n",
    "wop waiters called Manuel and once a week there's an excursion\\n\\\n",
    "to the local Roman Ruins to buy cherryade and melted ice cream\\n\\\n",
    "and bleeding Watney's Red Barrel and one evening you visit the\\n\\\n",
    "so called typical restaurant with local colour and atmosphere\\n\\\n",
    "and you sit next to a party from Rhyl who keep singing\\n\\\n",
    "'Torremolinos, torremolinos' and complaining about the food -\\n\\\n",
    "'It's so greasy here, isn't it?' - and you get cornered by some\\n\\\n",
    "drunken greengrocer from Luton with an Instamatic camera and\\n\\\n",
    "Dr. Scholl sandals and last Tuesday's Daily Express and he\\n\\\n",
    "drones on and on and on about how Mr. Smith should be running\\n\\\n",
    "this country and how many languages Enoch Powell can speak and\\n\\\n",
    "then he throws up over the Cuba Libres.\"\n",
    "print(longstring)"
   ]
  },
  {
   "cell_type": "markdown",
   "metadata": {},
   "source": [
    "This means that if you do not want automatic newline characters inserted into a multi-line string, you have to use the first approach, with the backslash at the end of the line. If you are okay with newline characters in your multi-line string, the second approach is probably the easiest to read."
   ]
  },
  {
   "cell_type": "markdown",
   "metadata": {},
   "source": [
    "### Escape sequences"
   ]
  },
  {
   "cell_type": "markdown",
   "metadata": {},
   "source": [
    "\"`\\n`\" is a so-called \"escape sequence\". An escape sequence is a string character written as a backslash followed by a code, which can be one or multiple characters. Python interprets escape sequences in a string as a special character; a control character."
   ]
  },
  {
   "cell_type": "code",
   "execution_count": null,
   "metadata": {},
   "outputs": [],
   "source": [
    "word1 = \"orange\"\n",
    "word2 = \"banana\"\n",
    "\n",
    "def add_newline_between_words(word1,word2):\n",
    "    new_line = word1 + \"\\n\" + word2\n",
    "    return(new_line)\n",
    "    \n",
    "print(add_newline_between_words(word1,word2))"
   ]
  },
  {
   "cell_type": "markdown",
   "metadata": {},
   "source": [
    "Besides the newline character there are more special characters \"`\\'`\" and \"`\\\"`\", which can be used to place a single respectively double quote in a string, regardless of what characters surround the string. I also mentioned that you can use \"`\\\\`\" to insert a \"real\" backslash in a string. \n",
    "\n",
    "There are a few more \"backslash sequences\" which lead to a special character. Most of these are archaic and you do not need to worry about them. The one I want to mention are \"`\\t`\" which represents a single tabulation (also known as the 'tab')."
   ]
  },
  {
   "cell_type": "code",
   "execution_count": null,
   "metadata": {},
   "outputs": [],
   "source": [
    "def place_word_between_single_quotes(w1):\n",
    "    new_line = '\\'' + word1 + \"\\'\"\n",
    "    return(new_line)\n",
    "print(place_word_between_single_quotes(m))\n",
    "\n",
    "\n",
    "def place_word_between_double_quotes(w1):\n",
    "    new_line = '\\t' + word1 + '\"'\n",
    "    return(new_line)\n",
    "print(place_word_between_double_quotes(d))"
   ]
  },
  {
   "cell_type": "markdown",
   "metadata": {},
   "source": [
    "Extra information for students who want to know more, but not necessary for this course:\n",
    "\n",
    "There is another character \"`\\xnn`\" whereby `nn` stands for two hexadecimal digits, which represents the character with hexadecimal number `nn`. For example, \"`\\x20`\" is the character expressed by the hexadecimal number `20`, which is the same as the decimal number `32`, which is the space (this will be explained later in this chapter).\n",
    "\n",
    "In case you never learned about hexadecimal counting: hexadecimals use a numbering scheme that uses 16 different digits. We use ten (`0` to `9`), binary uses two (`0` to `1`), and hexidecimal then uses `0` to `9` and then continues from `A` to `F`. A direct translation from hexadecimals to decimals turns `A` into `10`, `B` into `11`, etcetera. In decimal counting, the value of a multi-digit number is found by multiplying the digits by increasing powers of `10`, from right to left, e.g., the number `1426` is `6 + 2*10 + 4*100 + 1*1000`. For hexadecimal numbers you do the same thing, but multiply by powers of `16`, e.g., the hexadecimal number `4AF2` is `2 + 15*16 + 10*256 + 4*4096`. Programmers tend to like hexadecimal numbers, as computers work with bytes as the smallest unit of memory storage, and a byte can store 256 different values, i.e., any byte value can be expressed by a hexadecimal number of two digits. "
   ]
  },
  {
   "cell_type": "markdown",
   "metadata": {},
   "source": [
    "### Accessing characters of a string"
   ]
  },
  {
   "cell_type": "markdown",
   "metadata": {},
   "source": [
    "As I showed several times before, a string is a collection of characters in a specific order. You can access the individual characters of a string using indices."
   ]
  },
  {
   "cell_type": "markdown",
   "metadata": {},
   "source": [
    "### String indices"
   ]
  },
  {
   "cell_type": "markdown",
   "metadata": {},
   "source": [
    "Each symbol in a string has a position, this position can be referred to by the index number of the position. The index numbers start at 0 and then increase to the length of the string. The following table shows the word \"orange\" in the first row and the indices for each letter in the second and third rows:\n",
    "\n",
    "&nbsp;&nbsp;__`  o  r  a  n  g  e`__<br>\n",
    "&nbsp;&nbsp;`  0  1  2  3  4  5`<br>\n",
    "` -6 -5 -4 -3 -2 -1`\n",
    "\n",
    "As you can see, you can use positive indices, which start at the first letter of the string and increase until the end of the string is reached, or negative indices, which start with -1 for the last letter of the string and decrease until the first letter of the string is reached.\n",
    "\n",
    "As the length of a string `s` is `len(s)`, the last letter of the string has index `len(s)-1`. With negative indices, the first letter of the string has index `-len(s)`.\n",
    "\n",
    "If a string is stored in a variable, the individual letters of the string can be accessed by the variable name and the index of the requested letter between square brackets (`[]`) next to it."
   ]
  },
  {
   "cell_type": "code",
   "execution_count": null,
   "metadata": {},
   "outputs": [],
   "source": [
    "fruit = \"orange\"\n",
    "\n",
    "def print_indices(fruit,n):\n",
    "    print(fruit[n])\n",
    "    \n",
    "print_indices(fruit,1) \n",
    "print_indices(fruit,2) \n",
    "print_indices(fruit,4)\n",
    "print_indices(fruit,-1)\n",
    "print_indices(fruit,-6)\n",
    "print_indices(fruit,-3)"
   ]
  },
  {
   "cell_type": "markdown",
   "metadata": {},
   "source": [
    "Besides using single indices you can also access a substring (also called a \"slice\") from a string by using two numbers between the square brackets with a colon (`:`) in between. The first of these numbers is the index where the substring starts, the second where it ends. The substring does *not* include the letter at the second index. By leaving out the left number you indicate that the substring starts at the beginning of the string (i.e., at index 0). By leaving out the right number you indicate that the substring ranges up to and includes the last character of the string.\n",
    "\n",
    "If you try to access a character using an index that is beyond the reaches of a string, you get a runtime error (\"index out of bounds\"). For a range of indices to access substrings such limitations do not exist; you can use numbers that are outside the bounds of the string."
   ]
  },
  {
   "cell_type": "code",
   "execution_count": null,
   "metadata": {},
   "outputs": [],
   "source": [
    "fruit = \"orange\"\n",
    "print(fruit[:])\n",
    "print(fruit[0:])\n",
    "print(fruit[:5])\n",
    "print(fruit[:100])\n",
    "print(fruit[:len(fruit)])\n",
    "print(fruit[1:-1])\n",
    "print(fruit[2], fruit[1:6])"
   ]
  },
  {
   "cell_type": "markdown",
   "metadata": {},
   "source": [
    "### Traversing strings"
   ]
  },
  {
   "cell_type": "markdown",
   "metadata": {},
   "source": [
    "We already saw how you can traverse the characters of a string using a `for` loop:"
   ]
  },
  {
   "cell_type": "code",
   "execution_count": null,
   "metadata": {},
   "outputs": [],
   "source": [
    "fruit = 'apple'\n",
    "\n",
    "def traverse_characters(word):\n",
    "    new_word = \"\"\n",
    "    for char in word:\n",
    "        new_word+=(char + ' - ')\n",
    "    return new_word\n",
    "print(traverse_characters(fruit))"
   ]
  },
  {
   "cell_type": "markdown",
   "metadata": {},
   "source": [
    "Now you know about indices, you probably realize you can also use those to traverse the characters of a string:"
   ]
  },
  {
   "cell_type": "code",
   "execution_count": null,
   "metadata": {},
   "outputs": [],
   "source": [
    "fruit = 'apple'\n",
    "\n",
    "def traverse_characters2(word):\n",
    "    new_word = \"\"\n",
    "    for i in range(0, len(word)):\n",
    "        new_word += word[i] + \" - \"\n",
    "    return new_word       \n",
    "    \n",
    "def traverse_characters3(word):                            \n",
    "    new_word = \"\"\n",
    "    i = 0\n",
    "    while i < len(word):\n",
    "        new_word += word[i] + \" - \"\n",
    "        i += 1\n",
    "    return new_word\n",
    "\n",
    "print(traverse_characters2(fruit)+\"\\n\"+traverse_characters3(fruit))"
   ]
  },
  {
   "cell_type": "markdown",
   "metadata": {},
   "source": [
    "If you just want to traverse the individual characters of a string, the first method, using `for <character> in <string>:`, is by far the most elegant and readable. However, occasionally you have to solve problems in which you might prefer one of the other methods.\n",
    "\n",
    "**Exercise (optional)**: Write code that for a string prints the indices of all of its vowels (`a`, `e`, `i`, `o`, and `u`). This can be done with a `for` loop or a `while` loop."
   ]
  },
  {
   "cell_type": "code",
   "execution_count": null,
   "metadata": {},
   "outputs": [],
   "source": [
    "# Indices of vowels\n"
   ]
  },
  {
   "cell_type": "markdown",
   "metadata": {},
   "source": [
    "**Exercise (optional)**: Write code that uses two strings. For each character in the first string that has exactly the same character at the same index in the second string, you print the character and the index. Watch out that you do not get an \"index out of bounds\" runtime error."
   ]
  },
  {
   "cell_type": "code",
   "execution_count": null,
   "metadata": {},
   "outputs": [],
   "source": [
    "# Your function\n"
   ]
  },
  {
   "cell_type": "markdown",
   "metadata": {},
   "source": [
    "**Exercise (optional)**: Write a function that takes a string as argument, and creates a new string that is a copy of the argument, except that every non-letter is replaced by a space (e.g., \"`ph@t l00t`\" is changed to \"`ph t l  t`\"). To write such a function, you will start with an empty string, and traverse the characters of the argument one by one. When you encounter a character that is acceptable, you add it to the new string. When it is not acceptable, you add a space to the new string. Note that you can check whether a character is acceptable by simple comparisons, e.g., any lower case letter can be found using the test `if ch >= 'a' and ch <= 'z':`. "
   ]
  },
  {
   "cell_type": "code",
   "execution_count": null,
   "metadata": {},
   "outputs": [],
   "source": [
    "# String cleaning function\n"
   ]
  },
  {
   "cell_type": "markdown",
   "metadata": {},
   "source": [
    "### Extended slices"
   ]
  },
  {
   "cell_type": "markdown",
   "metadata": {},
   "source": [
    "Slices (substrings) in python can take a third argument, which is the step size (or \"stride\") that is taken between indices. It is similar to the third argument for the `range()` function. The format for slices then becomes `<string>[<begin>:<end>:<step>]`. By default the step size is 1.\n",
    "\n",
    "The most common use for the step size is to use a negative step size in order to create a reversed version of a string."
   ]
  },
  {
   "cell_type": "code",
   "execution_count": null,
   "metadata": {},
   "outputs": [],
   "source": [
    "fruit = \"banana\"\n",
    "print(fruit[::2])\n",
    "print(fruit[1::2])\n",
    "print(fruit[::-1]) \n",
    "print(fruit[::-2]) "
   ]
  },
  {
   "cell_type": "markdown",
   "metadata": {},
   "source": [
    "Reversing a string using `[::-1]` is conceptually similar to traversing the string from the last character to the beginning of the string using backward steps of size 1."
   ]
  },
  {
   "cell_type": "code",
   "execution_count": null,
   "metadata": {},
   "outputs": [],
   "source": [
    "fruit = \"banana\"                \n",
    "for i in range(len(fruit), -1):\n",
    "    print(fruit[i])   "
   ]
  },
  {
   "cell_type": "markdown",
   "metadata": {},
   "source": [
    "### Strings are immutable"
   ]
  },
  {
   "cell_type": "markdown",
   "metadata": {},
   "source": [
    "A core property of strings is that they are *immutable*. This means that they cannot be changed. For instance, you cannot change a character of a string by assigning a new value to it. As a demonstration, the following code leads to a runtime error if you try to run it:"
   ]
  },
  {
   "cell_type": "code",
   "execution_count": null,
   "metadata": {},
   "outputs": [],
   "source": [
    "fruit = \"oringe\"\n",
    "fruit[2] = \"a\"\n",
    "print(fruit)"
   ]
  },
  {
   "cell_type": "markdown",
   "metadata": {},
   "source": [
    "If you want to make a change to a string, you have to create a new string that contains the change; you can then assign the new string to the existing variable if you want. For instance:"
   ]
  },
  {
   "cell_type": "code",
   "execution_count": null,
   "metadata": {},
   "outputs": [],
   "source": [
    "fruit = \"oringe\"\n",
    "fruit = fruit[:2] + \"a\" + fruit[3:]\n",
    "print(fruit)"
   ]
  },
  {
   "cell_type": "markdown",
   "metadata": {},
   "source": [
    "The reasons for why strings are immutable are beyond the scope of this course. Just remember that if you want to modify a string you need to overwrite the entire string, and you cannot modify individual indices."
   ]
  },
  {
   "cell_type": "markdown",
   "metadata": {},
   "source": [
    "### `string` methods"
   ]
  },
  {
   "cell_type": "markdown",
   "metadata": {},
   "source": [
    "There is a collection of methods that are designed to operate on strings. All of these methods are applied to a string to perform some operation. Since strings are immutable, they *never change* the string they work on, but they always `return` a changed version of the string.\n",
    "\n",
    "All these methods are called as `<string>.<method>()`, i.e., you have to write the string that they work on before the method call, with a period in between. You will encounter this more often, and why this is implemented in this way will be explained later in the course, in the chapters about object orientation.\n",
    "\n",
    "Most of these methods are not part of a specific module, but can be called without importing them. There is a `string` module that contains specific constants and methods that can be used in your programs, but the methods I discuss here can all be used without importing the `string` module."
   ]
  },
  {
   "cell_type": "markdown",
   "metadata": {},
   "source": [
    "### `strip()`"
   ]
  },
  {
   "cell_type": "markdown",
   "metadata": {},
   "source": [
    "`strip()` removes from a string leading and trailing spaces, including leading and trailing newlines and other characters that may be viewed as spaces. There are no parameters. See the following example (the string is bordered by [ and ] to show the effect):"
   ]
  },
  {
   "cell_type": "code",
   "execution_count": null,
   "metadata": {},
   "outputs": [],
   "source": [
    "s = \"    And now for something completely different\\n     \"\n",
    "print(\"[\"+s+\"]\")\n",
    "s = s.strip()\n",
    "print(\"[\"+s+\"]\")"
   ]
  },
  {
   "cell_type": "markdown",
   "metadata": {},
   "source": [
    "### `upper()` and `lower()`"
   ]
  },
  {
   "cell_type": "markdown",
   "metadata": {},
   "source": [
    "`upper()` creates a version of a string of which all letters are capitals. `lower()` is equivalent, but uses only lower case letters. Neither method uses parameters."
   ]
  },
  {
   "cell_type": "code",
   "execution_count": null,
   "metadata": {},
   "outputs": [],
   "source": [
    "s = \"The Meaning of Life\"\n",
    "print(s)\n",
    "print(s.upper())\n",
    "print(s.lower())"
   ]
  },
  {
   "cell_type": "markdown",
   "metadata": {},
   "source": [
    "### `find()`"
   ]
  },
  {
   "cell_type": "markdown",
   "metadata": {},
   "source": [
    "`find()` can be used to search in a string for the starting index of a particular substring. As parameters it gets the substring, and optionally a starting index to search from, and an ending index. It returns the lowest index where the substring starts, or `-1` if the substring is not found."
   ]
  },
  {
   "cell_type": "code",
   "execution_count": null,
   "metadata": {},
   "outputs": [],
   "source": [
    "s = \"Humpty Dumpty sat on the wall\"\n",
    "print(s.find(\"sat\"))\n",
    "print(s.find(\"t\"))\n",
    "print(s.find(\"t\", 12))\n",
    "print(s.find(\"q\"))\n",
    "\n",
    "s.find(\" \")"
   ]
  },
  {
   "cell_type": "markdown",
   "metadata": {},
   "source": [
    "### `replace()`"
   ]
  },
  {
   "cell_type": "markdown",
   "metadata": {},
   "source": [
    "`replace()` replaces all occurrences of a substring with another substring. As parameters it gets the substring to look for, and the substring to replace it with. Optionally, it gets a parameter that indicates the maximum number of replacements to be made. \n",
    "\n",
    "I must stress again that strings are immutable, so the `replace()` function is not actually changing the string. It returns a new string that is a copy of the string with the replacements made."
   ]
  },
  {
   "cell_type": "code",
   "execution_count": null,
   "metadata": {},
   "outputs": [],
   "source": [
    "s = ' Humpty Dumpty sat on the wall '\n",
    "new_s = s.replace('sat on', 'fell off') \n",
    "\n",
    "print(new_s)\n",
    "print(s)"
   ]
  },
  {
   "cell_type": "markdown",
   "metadata": {},
   "source": [
    "### `split()`"
   ]
  },
  {
   "cell_type": "markdown",
   "metadata": {},
   "source": [
    "`split()` splits a string up in words, based on a given character or substring which is used as separator. The separator is given as the parameter, and if no separator is given, the white space is used, i.e., you split a string in the actual words (though punctuation attached to words is considered part of the words). If there are multiple occurrences of the separator next to each other, the extra ones are ignored (i.e., with the white space as separator, it does not matter if there is a single white space between two words, or multiple).\n",
    "\n",
    "The result of this split is a so-called \"list\" of strings. Lists are discussed in a coming chapter. However, note that if you want to access the separate words, you can use the `for <word> in <list>:` construction."
   ]
  },
  {
   "cell_type": "code",
   "execution_count": null,
   "metadata": {},
   "outputs": [],
   "source": [
    "s = 'Humpty Dumpty sat on the wall'\n",
    "wordlist = s.split()\n",
    "for i in wordlist:\n",
    "    print(i)\n",
    "print(wordlist)"
   ]
  },
  {
   "cell_type": "markdown",
   "metadata": {},
   "source": [
    "A very useful property of splitting is that we can decode some basic file formats. For example, a comma separated value (CSV) file is a very simple format, of which the basic setup is that each line consists of values that are separated by a comma. These values can be split from each other using the `split()` method. (Note: In actuality it will be a bit more convoluted as there might be commas in the fields that are stored in the CSV file, so it depends a bit on the contents of the file whether this simple approach will work. More on CSV files will be said in a later chapter in the course, where file formats are discussed.)"
   ]
  },
  {
   "cell_type": "code",
   "execution_count": null,
   "metadata": {},
   "outputs": [],
   "source": [
    "csv = \"2016,September,28,Data Processing,Tilburg University,Tilburg\"\n",
    "values = csv.split(',')\n",
    "for value in values:\n",
    "    print(value)\n",
    "\n",
    "print(\"\")\n",
    "print(values)\n",
    "print (values[1][0])"
   ]
  },
  {
   "cell_type": "markdown",
   "metadata": {},
   "source": [
    "### `join()`"
   ]
  },
  {
   "cell_type": "markdown",
   "metadata": {},
   "source": [
    "`join()` is the opposite of `split()`. `join()` joins a list of words together, separated by a specific separator. This sounds like it would be a method of lists, but for historic reasons it is defined as a string method. Since all string methods are called with the format `<string>.<method>()`, there must be a string in front of the call to `join()`. That string is the separator that you want to use, while the parameter of the method is the list that you want to join together. The return value, as always, is the resulting string. In the following example, note the notation of each of these steps:"
   ]
  },
  {
   "cell_type": "code",
   "execution_count": null,
   "metadata": {},
   "outputs": [],
   "source": [
    "s = \"Humpty;Dumpty;sat;on;the;wall\"\n",
    "print (s)\n",
    "wordlist = s.split(';')\n",
    "print (wordlist)\n",
    "s = \" \".join(wordlist)\n",
    "print(s)"
   ]
  },
  {
   "cell_type": "markdown",
   "metadata": {},
   "source": [
    "### What you learned"
   ]
  },
  {
   "cell_type": "markdown",
   "metadata": {},
   "source": [
    "In this chapter, you learned about:\n",
    "\n",
    "- Strings\n",
    "- Multi-line strings\n",
    "- Accessing string characters with positive and negative indices\n",
    "- Slices\n",
    "- Immutability of strings\n",
    "- String methods `strip()`, `upper()`, `lower()`, `find()`, `replace()`, `split()`, and `join()`\n",
    "- Escape sequences"
   ]
  },
  {
   "cell_type": "markdown",
   "metadata": {},
   "source": [
    "**Exercise 6.1 (optional):** Count how many of each vowel (`a`, `e`, `i`, `o`, `u`) there are in the text string in the next cell, and print the count for each vowel with a single formatted string. Remember that vowels can be both lower and uppercase."
   ]
  },
  {
   "cell_type": "code",
   "execution_count": null,
   "metadata": {},
   "outputs": [],
   "source": [
    "# Counting vowels.\n",
    "text = \"\"\"And Saint Attila raised the hand grenade up on high,\n",
    "saying, \"O Lord, bless this thy hand grenade, that with it\n",
    "thou mayst blow thine enemies to tiny bits, in thy mercy.\" \n",
    "And the Lord did grin. And the people did feast upon the lambs, \n",
    "and sloths, and carp, and anchovies, and orangutans, and \n",
    "breakfast cereals, and fruit bats, and large chu...\"\"\"\n"
   ]
  },
  {
   "cell_type": "markdown",
   "metadata": {},
   "source": [
    "**Exercise 6.2 (optional):** The text string in the next cell contains several words which are enclosed by square brackets (`[` and `]`). Scan the string and print out all words which are between square brackets. For example, if the text string would be \"`[a]n example[ string]`\", you are expected to print out \"`a string`\"."
   ]
  },
  {
   "cell_type": "code",
   "execution_count": null,
   "metadata": {},
   "outputs": [],
   "source": [
    "# Distilling text.\n",
    "text = \"\"\"The quick, brown fox jumps over a lazy dog. DJs flock by when MTV ax quiz prog. \n",
    "Junk MTV quiz graced by fox whelps. [Never gonna ] Bawds jog, flick quartz, vex nymphs. \n",
    "[give you up\\n] Waltz, bad nymph, for quick jigs vex! Fox nymphs grab quick-jived waltz. \n",
    "Brick quiz whangs jumpy veldt fox. [Never ] Bright vixens jump; [gonna let ] dozy fowl \n",
    "quack. Quick wafting zephyrs vex bold Jim. Quick zephyrs blow, vexing daft Jim. Charged \n",
    "[you down\\n] fop blew my junk TV quiz. How quickly daft jumping zebras vex. Two driven \n",
    "jocks help fax my big quiz. Quick, Baz, get my woven flax jodhpurs! \"Now fax quiz Jack!\" \n",
    "my brave ghost pled. [Never ] Five quacking zephyrs jolt my wax bed. [gonna ] Flummoxed \n",
    "by job, kvetching W. zaps Iraq. Cozy sphinx waves quart jug of bad milk. [run around ] \n",
    "A very bad quack might jinx zippy fowls. Few quips galvanized the mock jury box. Quick \n",
    "brown dogs jump over the lazy fox. The jay, pig, fox, zebra, and my wolves quack! \n",
    "[and desert you] Blowzy red vixens fight for a quick jump. Joaquin Phoenix was gazed \n",
    "by MTV for luck. A wizard’s job is to vex chumps quickly in fog. Watch \"Jeopardy!\", \n",
    "Alex Trebek's fun TV quiz game.\"\"\"\n"
   ]
  },
  {
   "cell_type": "markdown",
   "metadata": {},
   "source": [
    "**Exercise 6.3 (optional):** Print a line of all the capital letters \"A\" to \"Z\". Below it, print a line of the letters that are 13 positions in the alphabet away from the letters that are above them. E.g., below the \"A\" you print an \"N\", below the \"B\" you print an \"O\", etcetera. You have to consider the alphabet to be circular, i.e., after the \"Z\", it loops back to the \"A\" again."
   ]
  },
  {
   "cell_type": "code",
   "execution_count": null,
   "metadata": {},
   "outputs": [],
   "source": [
    "# ROTR-13\n"
   ]
  },
  {
   "cell_type": "markdown",
   "metadata": {},
   "source": [
    "**Exercise 6.4 (optional):** In the text below, count how often the word \"wood\" occurs (using program code, of course). Capitals and lower case letters may both be used, and you have to consider that the word \"wood\" should be a separate word, and not part of another word. Hint: If you did the exercises from this chapter, you already developed a function that \"cleans\" a text. Combining that function with the `split()` function more or less solves the problem for you."
   ]
  },
  {
   "cell_type": "code",
   "execution_count": null,
   "metadata": {},
   "outputs": [],
   "source": [
    "# Counting wood.\n",
    "text = \"\"\"How much wood would a woodchuck chuck\n",
    "If a woodchuck could chuck wood?\n",
    "He would chuck, he would, as much as he could,\n",
    "And chuck as much as a woodchuck would\n",
    "If a woodchuck could chuck wood.\"\"\"\n"
   ]
  },
  {
   "cell_type": "markdown",
   "metadata": {},
   "source": [
    "**Exercise 6.5 (optional):** Typical autocorrect functions are the following: \n",
    "1. if a word starts with two capitals, followed by a lower-case letter, the second capital is made lower case; \n",
    "2. if a sentence contains a word that is immediately followed by the same word, the second occurrence is removed; \n",
    "3. if a sentence starts with a lower-case letter, that letter is turned into a capital; \n",
    "4. if a word consists entirely of capitals, except for the first letter which is lower case, then the case of the letters in the word is reversed; and \n",
    "5. if the sentence contains the name of a day (in English) which does not start with a capital, the first letter is turned into a capital. \n",
    "\n",
    "Write a program that takes a sentence and makes these auto-corrections."
   ]
  },
  {
   "cell_type": "code",
   "execution_count": null,
   "metadata": {},
   "outputs": [],
   "source": [
    "# Autocorrect.\n",
    "sentence = \"as it turned out our chance meeting with REverend aRTHUR BElling was \\\n",
    "was to change our whole way of life, and every sunday we'd hurry along to St lOONY up the Cream BUn and Jam.\"\n"
   ]
  }
 ],
 "metadata": {
  "kernelspec": {
   "display_name": "Python 3",
   "language": "python",
   "name": "python3"
  },
  "language_info": {
   "codemirror_mode": {
    "name": "ipython",
    "version": 3
   },
   "file_extension": ".py",
   "mimetype": "text/x-python",
   "name": "python",
   "nbconvert_exporter": "python",
   "pygments_lexer": "ipython3",
   "version": "3.6.8"
  }
 },
 "nbformat": 4,
 "nbformat_minor": 2
}
