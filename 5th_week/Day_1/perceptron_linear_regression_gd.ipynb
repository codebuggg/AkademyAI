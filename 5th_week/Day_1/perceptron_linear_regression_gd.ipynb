{
 "cells": [
  {
   "cell_type": "markdown",
   "metadata": {},
   "source": [
    "# Perceptron - linear regression with gradient descent (exercise)"
   ]
  },
  {
   "cell_type": "markdown",
   "metadata": {},
   "source": [
    "In this exercise, implement a single neuron (perceptron) for linear regression using stochastic gradient descent.\n",
    "\n",
    "Reminder: Linear regression is used to map input (independent) variables with the output (dependent) variable, so that it can be used for prediction of the output values on the unseen data.\n",
    "\n",
    "The Iris data set consists of 50 samples from each of three species of Iris (Iris setosa, Iris virginica and Iris versicolor). Four features were measured from each sample: the length and the width of the sepals and petals, in centimeters. \n",
    "\n",
    "For the purpose of this exercise, use only two features (sepal length and sepal width) of one specie of flowers (Setosa).\n"
   ]
  },
  {
   "cell_type": "code",
   "execution_count": 1,
   "metadata": {},
   "outputs": [],
   "source": [
    "# allow inline plotting below each cell\n",
    "%matplotlib inline"
   ]
  },
  {
   "cell_type": "code",
   "execution_count": 19,
   "metadata": {},
   "outputs": [],
   "source": [
    "# import necessary libraries \n",
    "import numpy as np\n",
    "import pandas as pd\n",
    "from sklearn.datasets import load_iris\n",
    "import matplotlib.pyplot as plt\n",
    "from IPython import display\n",
    "from scipy.stats import linregress\n",
    "import seaborn as sns\n",
    "import math"
   ]
  },
  {
   "cell_type": "code",
   "execution_count": 23,
   "metadata": {},
   "outputs": [],
   "source": [
    "# write a function that plots data and regression line\n",
    "def plotdata(w1, bias, data):\n",
    "    plt.scatter(x,y)\n",
    "    plt.grid()\n",
    "    \n",
    "    plt.plot(x, bias + w1*x, '-r', label='y = w1x + bias')\n",
    "    plt.show()\n",
    "    "
   ]
  },
  {
   "cell_type": "code",
   "execution_count": 3,
   "metadata": {},
   "outputs": [],
   "source": [
    "### load data ###\n",
    "dataset = load_iris()\n",
    "# each point is a tuple (sepal length, sepal width)\n",
    "data = np.array([[5.1, 3.5],\n",
    " [4.9, 3. ],\n",
    " [4.7, 3.2],\n",
    " [4.6, 3.1],\n",
    " [5. , 3.6],\n",
    " [5.4, 3.9],\n",
    " [4.6, 3.4],\n",
    " [5. , 3.4],\n",
    " [4.4, 2.9],\n",
    " [4.9, 3.1],\n",
    " [5.4, 3.7],\n",
    " [4.8, 3.4],\n",
    " [4.8, 3. ],\n",
    " [4.3, 3. ],\n",
    " [5.8, 4. ],\n",
    " [5.7, 4.4],\n",
    " [5.4, 3.9],\n",
    " [5.1, 3.5],\n",
    " [5.7, 3.8],\n",
    " [5.1, 3.8]])\n",
    "\n",
    "# mystery_flower = [ 6.6,  3]\n"
   ]
  },
  {
   "cell_type": "code",
   "execution_count": 9,
   "metadata": {},
   "outputs": [
    {
     "data": {
      "text/plain": [
       "<matplotlib.collections.PathCollection at 0x1670fc2f748>"
      ]
     },
     "execution_count": 9,
     "metadata": {},
     "output_type": "execute_result"
    },
    {
     "data": {
      "image/png": "[encoded data removed]",
      "text/plain": [
       "<Figure size 432x288 with 1 Axes>"
      ]
     },
     "metadata": {
      "needs_background": "light"
     },
     "output_type": "display_data"
    }
   ],
   "source": [
    "### visualize data ###\n",
    "plt.axis([4, 6 , 2 , 5])\n",
    "plt.grid()\n",
    "plt.scatter(data[:,0] , data[:,1])"
   ]
  },
  {
   "cell_type": "code",
   "execution_count": null,
   "metadata": {
    "scrolled": true
   },
   "outputs": [],
   "source": [
    "### write a training loop ###\n",
    "\n",
    "# initialize weights, bias, and learning rate\n",
    "w1 = np.random.rand()\n",
    "bias = 0\n",
    "lrate = 0.01\n",
    "n = len(data)\n",
    "epochs = 100\n",
    "\n",
    "# dl = 2(a-y)\n",
    "# db = 2(a-y)\n",
    "# dw1 = 2x(a-y)\n",
    "# a = w1*x +b\n",
    "\n",
    "\n",
    "# inside the loop:\n",
    "for epoch in range(epochs):\n",
    "    \n",
    "    for i in range (n):\n",
    "        point = data[i,:]\n",
    "        y = point[1]\n",
    "        x = point[0]\n",
    "        \n",
    "        a = w1*x + bias\n",
    "        \n",
    "        # compute the cost function\n",
    "        cost_function = np.square(y-a)\n",
    "        \n",
    "        #derivative of cost function\n",
    "        dl = 2 * (a-y)\n",
    "        \n",
    "        # apply stochastic gradient descent to find derivatives\n",
    "        db = 2 * (a-y)\n",
    "        dw1 = 2 * x * (a-y)\n",
    "        \n",
    "        # update the weights and bias\n",
    "        w1 = w1 - lrate * dw1\n",
    "        bias = bias - lrate * db\n",
    "        \n",
    "        #plotting\n",
    "        plotdata(w1, bias, data)\n",
    "        display.clear_output(wait=True)\n",
    "        time.sleep(1.0)\n",
    "    \n",
    "\n",
    "\n",
    "\n",
    "\n",
    "\n",
    "\n",
    "\n",
    "# plot the result\n",
    "\n",
    "# plot costs"
   ]
  },
  {
   "cell_type": "code",
   "execution_count": null,
   "metadata": {},
   "outputs": [],
   "source": [
    "### evaluate solution ###\n",
    "\n",
    "# use R2 score\n"
   ]
  },
  {
   "cell_type": "code",
   "execution_count": null,
   "metadata": {},
   "outputs": [],
   "source": [
    "### find solution analytically ###\n",
    "\n",
    "# compute weights and bias and compare the values with the ones obtained using SDG "
   ]
  }
 ],
 "metadata": {
  "kernelspec": {
   "display_name": "Python 3",
   "language": "python",
   "name": "python3"
  },
  "language_info": {
   "codemirror_mode": {
    "name": "ipython",
    "version": 3
   },
   "file_extension": ".py",
   "mimetype": "text/x-python",
   "name": "python",
   "nbconvert_exporter": "python",
   "pygments_lexer": "ipython3",
   "version": "3.7.3"
  }
 },
 "nbformat": 4,
 "nbformat_minor": 2
}
