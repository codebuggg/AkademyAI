{
 "cells": [
  {
   "cell_type": "markdown",
   "metadata": {},
   "source": [
    "# Perceptron - linear regression with gradient descent (solution)"
   ]
  },
  {
   "cell_type": "markdown",
   "metadata": {},
   "source": [
    "This code implements a single neuron (perceptron) for linear regression using stochastic gradient descent.\n",
    "\n",
    "Reminder: Linear regression is used to map input (independent) variables with the output (dependent) variable, so that it can be used for prediction of the output values on the unseen data.\n",
    "\n",
    "The data set consists of 50 samples from each of three species of Iris (Iris setosa, Iris virginica and Iris versicolor). Four features were measured from each sample: the length and the width of the sepals and petals, in centimeters. \n",
    "\n",
    "For the purpose of this exercise, only two features (sepal length and sepal width) of one specie of flowers (Setosa) were used.\n"
   ]
  },
  {
   "cell_type": "code",
   "execution_count": 1,
   "metadata": {},
   "outputs": [],
   "source": [
    "# allows inline plotting below each cell\n",
    "%matplotlib inline"
   ]
  },
  {
   "cell_type": "code",
   "execution_count": 2,
   "metadata": {},
   "outputs": [],
   "source": [
    "# import necessary libraries \n",
    "from matplotlib import pyplot as plt\n",
    "import numpy as np\n",
    "import time\n",
    "from IPython import display"
   ]
  },
  {
   "cell_type": "code",
   "execution_count": 3,
   "metadata": {},
   "outputs": [],
   "source": [
    "# function that plots data and regression line\n",
    "def plot_regression(w1, b, data, fig):\n",
    "    \n",
    "    plt.axis([0, 7, 0, 5])\n",
    "    plt.grid()\n",
    "    \n",
    "    # scatter data\n",
    "    for i in range(len(data)) :\n",
    "        point = data[i]\n",
    "        color = \"b\"\n",
    "        plt.scatter(point[0], point[1], c=color)\n",
    "\n",
    "    # linear regression line\n",
    "    x = np.linspace(0,7,100)\n",
    "    plt.plot(x, w1*x+b, '-r', label='y=w1*x+b')\n",
    "    plt.show()"
   ]
  },
  {
   "cell_type": "code",
   "execution_count": 4,
   "metadata": {},
   "outputs": [],
   "source": [
    "# each point is a tuple (sepal length, sepal width)\n",
    "data = np.array([[5.1, 3.5],\n",
    " [4.9, 3. ],\n",
    " [4.7, 3.2],\n",
    " [4.6, 3.1],\n",
    " [5. , 3.6],\n",
    " [5.4, 3.9],\n",
    " [4.6, 3.4],\n",
    " [5. , 3.4],\n",
    " [4.4, 2.9],\n",
    " [4.9, 3.1],\n",
    " [5.4, 3.7],\n",
    " [4.8, 3.4],\n",
    " [4.8, 3. ],\n",
    " [4.3, 3. ],\n",
    " [5.8, 4. ],\n",
    " [5.7, 4.4],\n",
    " [5.4, 3.9],\n",
    " [5.1, 3.5],\n",
    " [5.7, 3.8],\n",
    " [5.1, 3.8]])\n",
    "\n",
    "mystery_flower = [ 6.6,  3]\n",
    "\n",
    "# print(data)"
   ]
  },
  {
   "cell_type": "code",
   "execution_count": 5,
   "metadata": {},
   "outputs": [
    {
     "data": {
      "image/png": "[encoded data removed]",
      "text/plain": [
       "<Figure size 432x288 with 1 Axes>"
      ]
     },
     "metadata": {
      "needs_background": "light"
     },
     "output_type": "display_data"
    }
   ],
   "source": [
    "### visualize data ###\n",
    "\n",
    "plt.axis([0, 7, 0, 5])\n",
    "plt.grid()\n",
    "for i in range(len(data)) :\n",
    "    point = data[i]\n",
    "    color = \"b\"\n",
    "    plt.scatter(point[0], point[1], c=color)"
   ]
  },
  {
   "cell_type": "code",
   "execution_count": 6,
   "metadata": {
    "scrolled": true
   },
   "outputs": [
    {
     "data": {
      "image/png": "[encoded data removed]",
      "text/plain": [
       "<Figure size 432x288 with 1 Axes>"
      ]
     },
     "metadata": {
      "needs_background": "light"
     },
     "output_type": "display_data"
    },
    {
     "data": {
      "text/plain": [
       "[<matplotlib.lines.Line2D at 0x1c97117dda0>]"
      ]
     },
     "execution_count": 6,
     "metadata": {},
     "output_type": "execute_result"
    },
    {
     "data": {
      "image/png": "[encoded data removed]",
      "text/plain": [
       "<Figure size 432x288 with 1 Axes>"
      ]
     },
     "metadata": {
      "needs_background": "light"
     },
     "output_type": "display_data"
    }
   ],
   "source": [
    "### training loop ###\n",
    "\n",
    "learning_rate = 0.005\n",
    "costs = []\n",
    "\n",
    "fig = plt.figure()\n",
    "\n",
    "# initialize weights and bias\n",
    "w1 = np.random.randn()\n",
    "b = np.random.randn()\n",
    "\n",
    "# learn new weights\n",
    "for i in range(20) :\n",
    "    ri = np.random.randint(len(data))\n",
    "    point = data[ri]\n",
    "\n",
    "    prediction = point[0] * w1 + b\n",
    "    \n",
    "    target = point[1]\n",
    "    \n",
    "    # cost function\n",
    "    cost = np.square(prediction - target)\n",
    "    \n",
    "    # derivative of the cost function\n",
    "    dcost_prediction = 2 * (prediction - target)\n",
    "    \n",
    "    # For the derivatives of the weights \n",
    "    # it’s the inputs values because they are constants \n",
    "    # And for the derivative of the Bias it’s 1\n",
    "    dz_dw1 = point[0]\n",
    "    dz_db = 1\n",
    "    \n",
    "    # gradient of the cost function\n",
    "    dcost_dz = dcost_prediction\n",
    "    \n",
    "    # gradient of the weights & bias\n",
    "    dcost_dw1 = dcost_dz * dz_dw1\n",
    "    dcost_db = dcost_dz * dz_db\n",
    "    \n",
    "    # update weights and bias\n",
    "    w1 = w1 - learning_rate * dcost_dw1\n",
    "    b = b - learning_rate * dcost_db\n",
    "    \n",
    "    # plot the regression line\n",
    "    plot_regression(w1, b, data, fig)\n",
    "    display.clear_output(wait=True)\n",
    "    time.sleep(1.0)\n",
    "    \n",
    "    # compute cost\n",
    "    if i % 1 == 0 :\n",
    "        cost_sum = 0\n",
    "        for j in range(len(data)) :\n",
    "            point = data[ri]            \n",
    "            prediction = point[0] * w1 + b          \n",
    "            target = point[1]\n",
    "            cost_sum += np.square(prediction - target)            \n",
    "        costs.append(cost_sum/len(data)) \n",
    "\n",
    "# plot the final regression line\n",
    "plot_regression(w1, b, data, fig)\n",
    "\n",
    "# plot costs\n",
    "plt.plot(costs)"
   ]
  },
  {
   "cell_type": "code",
   "execution_count": 8,
   "metadata": {},
   "outputs": [
    {
     "name": "stdout",
     "output_type": "stream",
     "text": [
      "ssr:  0.9636091741836356\n",
      "sst:  3.152\n",
      "r2_score:  0.694286429510268\n"
     ]
    }
   ],
   "source": [
    "### evaluate solution ###\n",
    "\n",
    "# use R2 score\n",
    "y_pred = np.multiply(data[:,0], w1) + b\n",
    "y_actual = data[:,1]\n",
    "\n",
    "# sum of square of residuals\n",
    "ssr = np.sum((y_pred - y_actual)**2)\n",
    "print('ssr: ', ssr)\n",
    "\n",
    "#  total sum of squares\n",
    "sst = np.sum((y_actual - np.mean(y_actual))**2)\n",
    "print('sst: ', sst)\n",
    "\n",
    "# R2 score\n",
    "r2_score = 1 - (ssr/sst)\n",
    "print('r2_score: ', r2_score)\n"
   ]
  }
 ],
 "metadata": {
  "kernelspec": {
   "display_name": "Python 3",
   "language": "python",
   "name": "python3"
  },
  "language_info": {
   "codemirror_mode": {
    "name": "ipython",
    "version": 3
   },
   "file_extension": ".py",
   "mimetype": "text/x-python",
   "name": "python",
   "nbconvert_exporter": "python",
   "pygments_lexer": "ipython3",
   "version": "3.7.3"
  }
 },
 "nbformat": 4,
 "nbformat_minor": 2
}
