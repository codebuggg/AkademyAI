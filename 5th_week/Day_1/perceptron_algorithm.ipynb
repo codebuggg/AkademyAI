{
 "cells": [
  {
   "cell_type": "markdown",
   "metadata": {},
   "source": [
    "# Perceptron algorithm (exercise)"
   ]
  },
  {
   "cell_type": "markdown",
   "metadata": {},
   "source": [
    "In this exercise, implement a single neuron (perceptron) that classifies two groups of flowers from the Iris dataset.\n",
    "\n",
    "The data set consists of 50 samples from each of three species of Iris (Iris setosa, Iris virginica and Iris versicolor). Four features were measured from each sample: the length and the width of the sepals and petals, in centimeters. Based on the combination of these four features, a linear discriminant model can be developed to distinguish the species from each other.\n",
    "\n",
    "For the purpose of this exercise, you will only use two features (sepal length and sepal width) of two species of flowers (Setosa and Versicolor)."
   ]
  },
  {
   "cell_type": "code",
   "execution_count": 1,
   "metadata": {},
   "outputs": [],
   "source": [
    "# allows inline plotting below each cell\n",
    "%matplotlib inline"
   ]
  },
  {
   "cell_type": "code",
   "execution_count": 30,
   "metadata": {},
   "outputs": [],
   "source": [
    "import numpy as np\n",
    "import pandas as pd\n",
    "from sklearn.datasets import load_iris\n",
    "import matplotlib.pyplot as plt\n",
    "from scipy.stats import linregress\n",
    "import seaborn as sns"
   ]
  },
  {
   "cell_type": "code",
   "execution_count": 39,
   "metadata": {},
   "outputs": [],
   "source": [
    "# write a function that plots data and linear classifier\n",
    "\n",
    "def plot_border(w1, b, data, fig):\n",
    "    plt.grid()\n",
    "    \n",
    "    for i in range (len(data)):\n",
    "        point = data[i]\n",
    "    \n",
    "    plt.scatter(point[0], point[1])\n",
    "    \n",
    "    #line of best fit\n",
    "    \n",
    "    x = np.linspace(0,10,100)\n",
    "    plt.plot(x , w1*x+b, '-g', label = 'y')\n",
    "    plt.show"
   ]
  },
  {
   "cell_type": "code",
   "execution_count": 35,
   "metadata": {},
   "outputs": [],
   "source": [
    "# write a prediction function: 0 for Iris-setosa and 1 for Iris-versicolor\n",
    "def guess_flower(SepalLength, SepalWidth) :\n",
    "    predict = SepalLength * w1 + SepalWidth * w2 + bias\n",
    "    if (predict < 0):\n",
    "        print('Iris-setosa')\n",
    "    else:\n",
    "        print('Iris-versicolor')\n"
   ]
  },
  {
   "cell_type": "code",
   "execution_count": 36,
   "metadata": {},
   "outputs": [],
   "source": [
    "#load data\n",
    "dataset = load_iris()\n",
    "\n",
    "# each point is a tuple (sepal length, sepal width, flower type)\n",
    "# types: 0 for Setosa & 1 for Versicolor\n",
    "training_data = [[ 5.1,  3.5,  0 ],\n",
    "       [ 4.9,  3. ,  0 ],\n",
    "       [ 4.7,  3.2,  0 ],\n",
    "       [ 4.6,  3.1,  0 ],\n",
    "       [ 5. ,  3.6,  0 ],\n",
    "       [ 5.4,  3.9,  0 ],\n",
    "       [ 4.6,  3.4,  0 ],\n",
    "       [ 5. ,  3.4,  0 ],\n",
    "       [ 4.4,  2.9,  0 ],\n",
    "       [ 4.9,  3.1,  0 ],\n",
    "       [ 5.4,  3.7,  0 ],\n",
    "       [ 4.8,  3.4,  0 ],\n",
    "       [ 4.8,  3. ,  0 ],\n",
    "       [ 4.3,  3. ,  0 ],\n",
    "       [ 5.8,  4. ,  0 ],\n",
    "       [ 5.7,  4.4,  0 ],\n",
    "       [ 5.4,  3.9,  0 ],\n",
    "       [ 5.1,  3.5,  0 ],\n",
    "       [ 5.7,  3.8,  0 ],\n",
    "       [ 5.1,  3.8,  0 ],\n",
    "       [ 7. ,  3.2,  1 ],\n",
    "       [ 6.4,  3.2,  1 ],\n",
    "       [ 6.9,  3.1,  1 ],\n",
    "       [ 5.5,  2.3,  1 ],\n",
    "       [ 6.5,  2.8,  1 ],\n",
    "       [ 5.7,  2.8,  1 ],\n",
    "       [ 6.3,  3.3,  1 ],\n",
    "       [ 4.9,  2.4,  1 ],\n",
    "       [ 6.6,  2.9,  1 ],\n",
    "       [ 5.2,  2.7,  1 ],\n",
    "       [ 5. ,  2. ,  1 ],\n",
    "       [ 5.9,  3. ,  1 ],\n",
    "       [ 6. ,  2.2,  1 ],\n",
    "       [ 6.1,  2.9,  1 ],\n",
    "       [ 5.6,  2.9,  1 ],\n",
    "       [ 6.7,  3.1,  1 ],\n",
    "       [ 5.6,  3. ,  1 ],\n",
    "       [ 5.8,  2.7,  1 ],\n",
    "       [ 6.2,  2.2,  1 ],\n",
    "       [ 5.6,  2.5,  1 ],\n",
    "       [ 5.9,  3.2,  1 ],\n",
    "       [ 6.1,  2.8,  1 ],\n",
    "       [ 6.3,  2.5,  1 ],\n",
    "       [ 6.1,  2.8,  1 ],\n",
    "       [ 6.4,  2.9,  1 ]]\n",
    "\n",
    "test_data = [[ 5.4,  3.4,  0. ],\n",
    "           [ 4.6,  3.6,  0. ],\n",
    "           [ 5.1,  3.3,  0. ],\n",
    "           [ 4.8,  3.4,  0. ],\n",
    "           [ 5. ,  3. ,  0. ],\n",
    "           [ 5. ,  3.4,  0. ],\n",
    "           [ 5.2,  3.5,  0. ],\n",
    "           [ 5.2,  3.4,  0. ],\n",
    "           [ 4.7,  3.2,  0. ],\n",
    "           [ 4.8,  3.1,  0. ],\n",
    "           [ 5.4,  3.4,  0. ],\n",
    "           [ 5.2,  4.1,  0. ],\n",
    "           [ 5.5,  4.2,  0. ],\n",
    "           [ 4.9,  3.1,  0. ],\n",
    "           [ 5. ,  3.2,  0. ],\n",
    "           [ 5.5,  3.5,  0. ],\n",
    "           [ 4.9,  3.1,  0. ],\n",
    "           [ 4.4,  3. ,  0. ],\n",
    "           [ 5.1,  3.4,  0. ],\n",
    "           [ 5. ,  3.5,  0. ],\n",
    "           [ 4.5,  2.3,  0. ],\n",
    "           [ 4.4,  3.2,  0. ],\n",
    "           [ 5. ,  3.5,  0. ],\n",
    "           [ 5.1,  3.8,  0. ],\n",
    "           [ 4.8,  3. ,  0. ],\n",
    "           [ 5.1,  3.8,  0. ],\n",
    "           [ 4.6,  3.2,  0. ],\n",
    "           [ 5.3,  3.7,  0. ],\n",
    "           [ 5. ,  3.3,  0. ],\n",
    "           [ 6.8,  2.8,  1. ],\n",
    "           [ 6.7,  3. ,  1. ],\n",
    "           [ 6. ,  2.9,  1. ],\n",
    "           [ 5.7,  2.6,  1. ],\n",
    "           [ 5.5,  2.4,  1. ],\n",
    "           [ 5.5,  2.4,  1. ],\n",
    "           [ 5.8,  2.7,  1. ],\n",
    "           [ 6. ,  2.7,  1. ],\n",
    "           [ 5.4,  3. ,  1. ],\n",
    "           [ 6. ,  3.4,  1. ],\n",
    "           [ 6.7,  3.1,  1. ],\n",
    "           [ 6.3,  2.3,  1. ],\n",
    "           [ 5.6,  3. ,  1. ],\n",
    "           [ 5.5,  2.5,  1. ],\n",
    "           [ 5.5,  2.6,  1. ],\n",
    "           [ 6.1,  3. ,  1. ],\n",
    "           [ 5.8,  2.6,  1. ],\n",
    "           [ 5. ,  2.3,  1. ],\n",
    "           [ 5.6,  2.7,  1. ],\n",
    "           [ 5.7,  3. ,  1. ],\n",
    "           [ 5.7,  2.9,  1. ],\n",
    "           [ 6.2,  2.9,  1. ],\n",
    "           [ 5.1,  2.5,  1. ],\n",
    "           [ 5.7,  2.8,  1. ]]\n",
    "\n",
    "training_data = np.array(training_data)"
   ]
  },
  {
   "cell_type": "code",
   "execution_count": 37,
   "metadata": {},
   "outputs": [
    {
     "data": {
      "text/plain": [
       "<matplotlib.collections.PathCollection at 0x1302d080a90>"
      ]
     },
     "execution_count": 37,
     "metadata": {},
     "output_type": "execute_result"
    },
    {
     "data": {
      "image/png": "[encoded data removed]",
      "text/plain": [
       "<Figure size 432x288 with 1 Axes>"
      ]
     },
     "metadata": {
      "needs_background": "light"
     },
     "output_type": "display_data"
    }
   ],
   "source": [
    "### visualize training data in 2D ###\n",
    "plt.scatter(training_data[:,0] , training_data[:,1] , c =  training_data[:,2] )\n",
    "\n",
    "# x-axis: sepal length, y-axis: sepl width\n",
    "# use 2 colors to visualize 2 different classes of data \n"
   ]
  },
  {
   "cell_type": "code",
   "execution_count": 48,
   "metadata": {},
   "outputs": [
    {
     "ename": "IndexError",
     "evalue": "invalid index to scalar variable.",
     "output_type": "error",
     "traceback": [
      "\u001b[1;31m---------------------------------------------------------------------------\u001b[0m",
      "\u001b[1;31mIndexError\u001b[0m                                Traceback (most recent call last)",
      "\u001b[1;32m<ipython-input-48-d3a412a1b1f2>\u001b[0m in \u001b[0;36m<module>\u001b[1;34m\u001b[0m\n\u001b[0;32m     28\u001b[0m \u001b[1;33m\u001b[0m\u001b[0m\n\u001b[0;32m     29\u001b[0m \u001b[1;31m# plot the result after each iteration, and the final result\u001b[0m\u001b[1;33m\u001b[0m\u001b[1;33m\u001b[0m\u001b[1;33m\u001b[0m\u001b[0m\n\u001b[1;32m---> 30\u001b[1;33m     \u001b[0mplot_border\u001b[0m\u001b[1;33m(\u001b[0m\u001b[1;33m-\u001b[0m\u001b[0mw1\u001b[0m\u001b[1;33m/\u001b[0m\u001b[0mw2\u001b[0m\u001b[1;33m,\u001b[0m \u001b[1;33m-\u001b[0m\u001b[0mbias\u001b[0m\u001b[1;33m/\u001b[0m\u001b[0mw2\u001b[0m\u001b[1;33m,\u001b[0m \u001b[0mtraining_data\u001b[0m\u001b[1;33m[\u001b[0m\u001b[1;33m:\u001b[0m\u001b[1;33m,\u001b[0m\u001b[1;36m0\u001b[0m\u001b[1;33m]\u001b[0m\u001b[1;33m,\u001b[0m \u001b[0mfig\u001b[0m\u001b[1;33m)\u001b[0m\u001b[1;33m\u001b[0m\u001b[1;33m\u001b[0m\u001b[0m\n\u001b[0m\u001b[0;32m     31\u001b[0m     \u001b[1;31m#display.clear_output(wait=True)\u001b[0m\u001b[1;33m\u001b[0m\u001b[1;33m\u001b[0m\u001b[1;33m\u001b[0m\u001b[0m\n\u001b[0;32m     32\u001b[0m     \u001b[1;31m#time.sleep(0.05)\u001b[0m\u001b[1;33m\u001b[0m\u001b[1;33m\u001b[0m\u001b[1;33m\u001b[0m\u001b[0m\n",
      "\u001b[1;32m<ipython-input-39-4abffc273e7f>\u001b[0m in \u001b[0;36mplot_border\u001b[1;34m(w1, b, data, fig)\u001b[0m\n\u001b[0;32m      7\u001b[0m         \u001b[0mpoint\u001b[0m \u001b[1;33m=\u001b[0m \u001b[0mdata\u001b[0m\u001b[1;33m[\u001b[0m\u001b[0mi\u001b[0m\u001b[1;33m]\u001b[0m\u001b[1;33m\u001b[0m\u001b[1;33m\u001b[0m\u001b[0m\n\u001b[0;32m      8\u001b[0m \u001b[1;33m\u001b[0m\u001b[0m\n\u001b[1;32m----> 9\u001b[1;33m     \u001b[0mplt\u001b[0m\u001b[1;33m.\u001b[0m\u001b[0mscatter\u001b[0m\u001b[1;33m(\u001b[0m\u001b[0mpoint\u001b[0m\u001b[1;33m[\u001b[0m\u001b[1;36m0\u001b[0m\u001b[1;33m]\u001b[0m\u001b[1;33m,\u001b[0m \u001b[0mpoint\u001b[0m\u001b[1;33m[\u001b[0m\u001b[1;36m1\u001b[0m\u001b[1;33m]\u001b[0m\u001b[1;33m)\u001b[0m\u001b[1;33m\u001b[0m\u001b[1;33m\u001b[0m\u001b[0m\n\u001b[0m\u001b[0;32m     10\u001b[0m \u001b[1;33m\u001b[0m\u001b[0m\n\u001b[0;32m     11\u001b[0m     \u001b[1;31m#line of best fit\u001b[0m\u001b[1;33m\u001b[0m\u001b[1;33m\u001b[0m\u001b[1;33m\u001b[0m\u001b[0m\n",
      "\u001b[1;31mIndexError\u001b[0m: invalid index to scalar variable."
     ]
    },
    {
     "data": {
      "image/png": "[encoded data removed]",
      "text/plain": [
       "<Figure size 432x288 with 1 Axes>"
      ]
     },
     "metadata": {
      "needs_background": "light"
     },
     "output_type": "display_data"
    }
   ],
   "source": [
    "### training loop ###\n",
    "\n",
    "# initialize weights (set bias to zero)\n",
    "w1 = np.random.rand()\n",
    "w2 = np.random.rand()\n",
    "bias = 0\n",
    "\n",
    "fig = plt.figure()\n",
    "\n",
    "for i in range(100):\n",
    "    idx = np.random.randint(0, len(training_data[:,0]))\n",
    "#     print(\"idx: \", idx)\n",
    "\n",
    "    point = training_data[idx, :]\n",
    "#     print(\"point: \", point)\n",
    "\n",
    "    if point[2] == 1 and (point[0]*w1+point[1]*w2 < 0):\n",
    "        w1, w2 = w1+point[0], w2+point[1]\n",
    "\n",
    "    if point[2] == 0 and (point[0]*w1+point[1]*w2 >= 0):\n",
    "        w1, w2 = w1-point[0], w2-point[1]\n",
    "        \n",
    "\n",
    "# write a loop of arbitrary n iterations\n",
    "\n",
    "\n",
    "# update the weights by randomly selecting a point from the training dataset  \n",
    "\n",
    "# plot the result after each iteration, and the final result\n",
    "    plot_border(-w1/w2, -bias/w2, training_data[:,0], fig)\n",
    "    #display.clear_output(wait=True)\n",
    "    #time.sleep(0.05)\n"
   ]
  },
  {
   "cell_type": "code",
   "execution_count": 29,
   "metadata": {},
   "outputs": [
    {
     "name": "stdout",
     "output_type": "stream",
     "text": [
      "[5.4, 3.4, 0.0]\n",
      "Iris-setosa\n",
      "[4.6, 3.6, 0.0]\n",
      "Iris-setosa\n",
      "[5.1, 3.3, 0.0]\n",
      "Iris-setosa\n",
      "[4.8, 3.4, 0.0]\n",
      "Iris-setosa\n",
      "[5.0, 3.0, 0.0]\n",
      "Iris-setosa\n",
      "[5.0, 3.4, 0.0]\n",
      "Iris-setosa\n",
      "[5.2, 3.5, 0.0]\n",
      "Iris-setosa\n",
      "[5.2, 3.4, 0.0]\n",
      "Iris-setosa\n",
      "[4.7, 3.2, 0.0]\n",
      "Iris-setosa\n",
      "[4.8, 3.1, 0.0]\n",
      "Iris-setosa\n",
      "[5.4, 3.4, 0.0]\n",
      "Iris-setosa\n",
      "[5.2, 4.1, 0.0]\n",
      "Iris-setosa\n",
      "[5.5, 4.2, 0.0]\n",
      "Iris-setosa\n",
      "[4.9, 3.1, 0.0]\n",
      "Iris-setosa\n",
      "[5.0, 3.2, 0.0]\n",
      "Iris-setosa\n",
      "[5.5, 3.5, 0.0]\n",
      "Iris-setosa\n",
      "[4.9, 3.1, 0.0]\n",
      "Iris-setosa\n",
      "[4.4, 3.0, 0.0]\n",
      "Iris-setosa\n",
      "[5.1, 3.4, 0.0]\n",
      "Iris-setosa\n",
      "[5.0, 3.5, 0.0]\n",
      "Iris-setosa\n",
      "[4.5, 2.3, 0.0]\n",
      "Iris-versicolor\n",
      "[4.4, 3.2, 0.0]\n",
      "Iris-setosa\n",
      "[5.0, 3.5, 0.0]\n",
      "Iris-setosa\n",
      "[5.1, 3.8, 0.0]\n",
      "Iris-setosa\n",
      "[4.8, 3.0, 0.0]\n",
      "Iris-setosa\n",
      "[5.1, 3.8, 0.0]\n",
      "Iris-setosa\n",
      "[4.6, 3.2, 0.0]\n",
      "Iris-setosa\n",
      "[5.3, 3.7, 0.0]\n",
      "Iris-setosa\n",
      "[5.0, 3.3, 0.0]\n",
      "Iris-setosa\n",
      "[6.8, 2.8, 1.0]\n",
      "Iris-versicolor\n",
      "[6.7, 3.0, 1.0]\n",
      "Iris-versicolor\n",
      "[6.0, 2.9, 1.0]\n",
      "Iris-versicolor\n",
      "[5.7, 2.6, 1.0]\n",
      "Iris-versicolor\n",
      "[5.5, 2.4, 1.0]\n",
      "Iris-versicolor\n",
      "[5.5, 2.4, 1.0]\n",
      "Iris-versicolor\n",
      "[5.8, 2.7, 1.0]\n",
      "Iris-versicolor\n",
      "[6.0, 2.7, 1.0]\n",
      "Iris-versicolor\n",
      "[5.4, 3.0, 1.0]\n",
      "Iris-setosa\n",
      "[6.0, 3.4, 1.0]\n",
      "Iris-setosa\n",
      "[6.7, 3.1, 1.0]\n",
      "Iris-versicolor\n",
      "[6.3, 2.3, 1.0]\n",
      "Iris-versicolor\n",
      "[5.6, 3.0, 1.0]\n",
      "Iris-versicolor\n",
      "[5.5, 2.5, 1.0]\n",
      "Iris-versicolor\n",
      "[5.5, 2.6, 1.0]\n",
      "Iris-versicolor\n",
      "[6.1, 3.0, 1.0]\n",
      "Iris-versicolor\n",
      "[5.8, 2.6, 1.0]\n",
      "Iris-versicolor\n",
      "[5.0, 2.3, 1.0]\n",
      "Iris-versicolor\n",
      "[5.6, 2.7, 1.0]\n",
      "Iris-versicolor\n",
      "[5.7, 3.0, 1.0]\n",
      "Iris-versicolor\n",
      "[5.7, 2.9, 1.0]\n",
      "Iris-versicolor\n",
      "[6.2, 2.9, 1.0]\n",
      "Iris-versicolor\n",
      "[5.1, 2.5, 1.0]\n",
      "Iris-versicolor\n",
      "[5.7, 2.8, 1.0]\n",
      "Iris-versicolor\n"
     ]
    }
   ],
   "source": [
    "### evaluation ###\n",
    "\n",
    "# perform prediction on the test dataset\n",
    "for i in range(0, len(test_data)):\n",
    "    point = test_data[i] \n",
    "    print (point)\n",
    "    guess_flower(point[0], point[1])\n",
    "    "
   ]
  },
  {
   "cell_type": "code",
   "execution_count": null,
   "metadata": {},
   "outputs": [],
   "source": [
    "### plot the evaluation result ###\n"
   ]
  }
 ],
 "metadata": {
  "kernelspec": {
   "display_name": "Python 3",
   "language": "python",
   "name": "python3"
  },
  "language_info": {
   "codemirror_mode": {
    "name": "ipython",
    "version": 3
   },
   "file_extension": ".py",
   "mimetype": "text/x-python",
   "name": "python",
   "nbconvert_exporter": "python",
   "pygments_lexer": "ipython3",
   "version": "3.7.3"
  }
 },
 "nbformat": 4,
 "nbformat_minor": 2
}
