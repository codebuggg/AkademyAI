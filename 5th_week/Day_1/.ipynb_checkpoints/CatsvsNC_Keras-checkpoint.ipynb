{
 "cells": [
  {
   "cell_type": "code",
   "execution_count": 1,
   "metadata": {},
   "outputs": [],
   "source": [
    "# import tensorflow and keras (tf.keras)\n",
    "import tensorflow as tf\n",
    "from tensorflow import keras\n",
    "\n",
    "#from keras.preprocessing import image\n",
    "import matplotlib.pyplot as plt"
   ]
  },
  {
   "cell_type": "code",
   "execution_count": 2,
   "metadata": {},
   "outputs": [],
   "source": [
    "import numpy as np\n",
    "import h5py\n",
    "import scipy\n",
    "from PIL import Image\n",
    "from scipy import ndimage\n",
    "\n",
    "%matplotlib inline"
   ]
  },
  {
   "cell_type": "code",
   "execution_count": 3,
   "metadata": {},
   "outputs": [],
   "source": [
    "train_dataset = h5py.File('./train_catvnoncat.h5', \"r\")\n",
    "train_set_x_orig = np.array(train_dataset[\"train_set_x\"][:]) # train set features, 209 images (64 x 64 x 3(RGB))\n",
    "train_set_y_orig = np.array(train_dataset[\"train_set_y\"][:]) # train set labels, 209 (0 and 1)\n",
    "\n",
    "test_dataset = h5py.File('./test_catvnoncat.h5', \"r\")\n",
    "test_set_x_orig = np.array(test_dataset[\"test_set_x\"][:]) # test set features, 50 images\n",
    "test_set_y_orig = np.array(test_dataset[\"test_set_y\"][:]) # test set labels ,50 (0 and 1)\n",
    "\n",
    "classes = np.array(test_dataset[\"list_classes\"][:]) # the list of classes\n",
    "    \n",
    "train_set_y = train_set_y_orig.reshape((train_set_y_orig.shape[0]))\n",
    "test_set_y = test_set_y_orig.reshape(( test_set_y_orig.shape[0]))"
   ]
  },
  {
   "cell_type": "code",
   "execution_count": 4,
   "metadata": {},
   "outputs": [
    {
     "name": "stdout",
     "output_type": "stream",
     "text": [
      "y = 1, it's a 'cat' picture.\n"
     ]
    },
    {
     "data": {
      "image/png": "[encoded data removed]",
      "text/plain": [
       "<Figure size 432x288 with 1 Axes>"
      ]
     },
     "metadata": {
      "needs_background": "light"
     },
     "output_type": "display_data"
    }
   ],
   "source": [
    "index = 47\n",
    "plt.imshow(train_set_x_orig[index])\n",
    "print (\"y = \" + str(train_set_y[index]) + \", it's a '\" + classes[train_set_y[index]].decode(\"utf-8\") +  \"' picture.\")"
   ]
  },
  {
   "cell_type": "code",
   "execution_count": 5,
   "metadata": {},
   "outputs": [
    {
     "name": "stdout",
     "output_type": "stream",
     "text": [
      "Number of training examples: m_train = 209\n",
      "Number of testing examples: m_test = 50\n",
      "Height/Width of each image: num_px = 64\n",
      "Each image is of size: (64, 64, 3)\n",
      "train_set_x shape: (209, 64, 64, 3)\n",
      "train_set_y shape: (209,)\n",
      "test_set_x shape: (50, 64, 64, 3)\n",
      "test_set_y shape: (50,)\n"
     ]
    }
   ],
   "source": [
    "m_train = train_set_x_orig.shape[0]\n",
    "m_test = test_set_x_orig.shape[0]\n",
    "num_px = test_set_x_orig.shape[1]\n",
    "\n",
    "print (\"Number of training examples: m_train = \" + str(m_train))\n",
    "print (\"Number of testing examples: m_test = \" + str(m_test))\n",
    "print (\"Height/Width of each image: num_px = \" + str(num_px))\n",
    "print (\"Each image is of size: (\" + str(num_px) + \", \" + str(num_px) + \", 3)\")\n",
    "print (\"train_set_x shape: \" + str(train_set_x_orig.shape))\n",
    "print (\"train_set_y shape: \" + str(train_set_y.shape))\n",
    "print (\"test_set_x shape: \" + str(test_set_x_orig.shape))\n",
    "print (\"test_set_y shape: \" + str(test_set_y.shape))"
   ]
  },
  {
   "cell_type": "markdown",
   "metadata": {},
   "source": [
    "train_set_x = train_set_x_orig.copy()/255\n",
    "test_set_x = test_set_x_orig.copy()/255"
   ]
  },
  {
   "cell_type": "markdown",
   "metadata": {},
   "source": [
    "datagen_first_try = keras.preprocessing.image.ImageDataGenerator(\n",
    "    rescale=1.0/255.0,\n",
    "    featurewise_center=False,\n",
    "    featurewise_std_normalization=False,\n",
    "    rotation_range=90,\n",
    "    width_shift_range=0.2,\n",
    "    height_shift_range=0.2,\n",
    "    horizontal_flip=True)\n",
    "\n",
    "datagen_first_try.fit(train_set_x)\n"
   ]
  },
  {
   "cell_type": "markdown",
   "metadata": {},
   "source": [
    "train_datagen = keras.preprocessing.image.ImageDataGenerator(\n",
    "        rescale=1./255,\n",
    "        shear_range=0.2,\n",
    "        zoom_range=0.2,\n",
    "        horizontal_flip=True)\n",
    "\n",
    "test_datagen = keras.preprocessing.image.ImageDataGenerator(rescale=1./255)\n",
    "\n",
    "train_set_x = train_set_x_orig.copy()\n",
    "test_set_x = test_set_x_orig.copy()/255"
   ]
  },
  {
   "cell_type": "markdown",
   "metadata": {},
   "source": [
    "82\n",
    "\n",
    "adam = keras.optimizers.Adam(lr=0.002, beta_1=0.9, beta_2=0.999, epsilon=None, decay=0.0, amsgrad=False)\n",
    "Nadam = keras.optimizers.Nadam(lr=0.002, beta_1=0.9, beta_2=0.999, epsilon=None, schedule_decay=0.004)\n",
    "SGD = keras.optimizers.SGD(lr=0.01, momentum=0.0, decay=0.0, nesterov=True)\n",
    "\n",
    "model = keras.Sequential([\n",
    "    keras.layers.Flatten(input_shape=(num_px,num_px,3)),\n",
    "    keras.layers.Dense(64, activation='relu'),\n",
    "    keras.layers.Dense(32, activation='relu'),\n",
    "    keras.layers.Dense(16, activation='relu'),\n",
    "    keras.layers.Dense(1, activation=\"sigmoid\")\n",
    "])\n",
    "\n",
    "\n",
    "model.compile(optimizer=adam,\n",
    "              loss='binary_crossentropy',\n",
    "              metrics=['accuracy'])"
   ]
  },
  {
   "cell_type": "markdown",
   "metadata": {},
   "source": [
    "82 \n",
    "\n",
    "adam = keras.optimizers.Adam(lr=0.001, beta_1=0.9, beta_2=0.999, epsilon=None, decay=0.0, amsgrad=False)\n",
    "Nadam = keras.optimizers.Nadam(lr=0.002, beta_1=0.9, beta_2=0.999, epsilon=None, schedule_decay=0.004)\n",
    "SGD = keras.optimizers.SGD(lr=0.01, momentum=0.0, decay=0.0, nesterov=True)\n",
    "\n",
    "model.compile(optimizer=adam,\n",
    "              loss='binary_crossentropy',\n",
    "              metrics=['accuracy'])\n",
    "              \n",
    "model = keras.Sequential([\n",
    "    keras.layers.Flatten(input_shape=(num_px,num_px,3)),\n",
    "    keras.layers.Dense(128, activation='relu'),\n",
    "    keras.layers.Dense(64, activation='relu'),\n",
    "    keras.layers.Dense(32, activation='relu'),\n",
    "    keras.layers.Dense(16, activation='relu'),\n",
    "    keras.layers.Dense(1, activation=\"sigmoid\")\n",
    "])"
   ]
  },
  {
   "cell_type": "code",
   "execution_count": 19,
   "metadata": {},
   "outputs": [
    {
     "name": "stdout",
     "output_type": "stream",
     "text": [
      "Epoch 1/40\n",
      "6/5 [==================================] - 1s 205ms/step - loss: 0.6840 - acc: 0.5789\n",
      "Epoch 2/40\n",
      "6/5 [==================================] - 0s 58ms/step - loss: 0.6527 - acc: 0.6555\n",
      "Epoch 3/40\n",
      "6/5 [==================================] - 0s 64ms/step - loss: 0.6537 - acc: 0.6507\n",
      "Epoch 4/40\n",
      "6/5 [==================================] - 0s 53ms/step - loss: 0.6616 - acc: 0.6555\n",
      "Epoch 5/40\n",
      "6/5 [==================================] - 0s 64ms/step - loss: 0.6380 - acc: 0.6507\n",
      "Epoch 6/40\n",
      "6/5 [==================================] - 0s 68ms/step - loss: 0.6587 - acc: 0.6459\n",
      "Epoch 7/40\n",
      "6/5 [==================================] - 0s 48ms/step - loss: 0.6502 - acc: 0.6411\n",
      "Epoch 8/40\n",
      "6/5 [==================================] - 0s 68ms/step - loss: 0.6403 - acc: 0.6459\n",
      "Epoch 9/40\n",
      "6/5 [==================================] - 0s 65ms/step - loss: 0.6312 - acc: 0.6507\n",
      "Epoch 10/40\n",
      "6/5 [==================================] - 0s 66ms/step - loss: 0.6517 - acc: 0.6555\n",
      "Epoch 11/40\n",
      "6/5 [==================================] - 0s 65ms/step - loss: 0.6357 - acc: 0.6507\n",
      "Epoch 12/40\n",
      "6/5 [==================================] - 0s 69ms/step - loss: 0.6259 - acc: 0.6411\n",
      "Epoch 13/40\n",
      "6/5 [==================================] - 0s 65ms/step - loss: 0.7056 - acc: 0.5598\n",
      "Epoch 14/40\n",
      "6/5 [==================================] - 0s 59ms/step - loss: 0.6480 - acc: 0.6603\n",
      "Epoch 15/40\n",
      "6/5 [==================================] - 0s 67ms/step - loss: 0.6875 - acc: 0.6316\n",
      "Epoch 16/40\n",
      "6/5 [==================================] - 0s 64ms/step - loss: 0.6144 - acc: 0.6651\n",
      "Epoch 17/40\n",
      "6/5 [==================================] - 0s 69ms/step - loss: 0.6356 - acc: 0.6411\n",
      "Epoch 18/40\n",
      "6/5 [==================================] - 0s 57ms/step - loss: 0.6397 - acc: 0.6651\n",
      "Epoch 19/40\n",
      "6/5 [==================================] - 0s 64ms/step - loss: 0.6086 - acc: 0.6555\n",
      "Epoch 20/40\n",
      "6/5 [==================================] - 0s 61ms/step - loss: 0.6030 - acc: 0.6938\n",
      "Epoch 21/40\n",
      "6/5 [==================================] - 0s 61ms/step - loss: 0.6524 - acc: 0.6555\n",
      "Epoch 22/40\n",
      "6/5 [==================================] - 0s 74ms/step - loss: 0.6224 - acc: 0.6651\n",
      "Epoch 23/40\n",
      "6/5 [==================================] - 0s 67ms/step - loss: 0.6227 - acc: 0.6699\n",
      "Epoch 24/40\n",
      "6/5 [==================================] - 0s 62ms/step - loss: 0.6100 - acc: 0.6699\n",
      "Epoch 25/40\n",
      "6/5 [==================================] - 0s 63ms/step - loss: 0.5792 - acc: 0.6603\n",
      "Epoch 26/40\n",
      "6/5 [==================================] - 0s 61ms/step - loss: 0.5930 - acc: 0.6699\n",
      "Epoch 27/40\n",
      "6/5 [==================================] - 1s 101ms/step - loss: 0.6106 - acc: 0.6124\n",
      "Epoch 28/40\n",
      "6/5 [==================================] - 0s 76ms/step - loss: 0.6137 - acc: 0.6651\n",
      "Epoch 29/40\n",
      "6/5 [==================================] - 0s 67ms/step - loss: 0.6119 - acc: 0.6555\n",
      "Epoch 30/40\n",
      "6/5 [==================================] - 0s 57ms/step - loss: 0.6080 - acc: 0.6794\n",
      "Epoch 31/40\n",
      "6/5 [==================================] - 0s 63ms/step - loss: 0.6072 - acc: 0.6938\n",
      "Epoch 32/40\n",
      "6/5 [==================================] - 0s 56ms/step - loss: 0.5700 - acc: 0.6746\n",
      "Epoch 33/40\n",
      "6/5 [==================================] - 0s 70ms/step - loss: 0.5893 - acc: 0.6890\n",
      "Epoch 34/40\n",
      "6/5 [==================================] - 0s 63ms/step - loss: 0.5721 - acc: 0.6651\n",
      "Epoch 35/40\n",
      "6/5 [==================================] - 0s 63ms/step - loss: 0.5700 - acc: 0.6699\n",
      "Epoch 36/40\n",
      "6/5 [==================================] - 0s 68ms/step - loss: 0.6322 - acc: 0.6459\n",
      "Epoch 37/40\n",
      "6/5 [==================================] - 0s 65ms/step - loss: 0.5752 - acc: 0.6651\n",
      "Epoch 38/40\n",
      "6/5 [==================================] - 0s 65ms/step - loss: 0.5916 - acc: 0.7033\n",
      "Epoch 39/40\n",
      "6/5 [==================================] - 0s 73ms/step - loss: 0.5847 - acc: 0.6746\n",
      "Epoch 40/40\n",
      "6/5 [==================================] - 0s 68ms/step - loss: 0.5827 - acc: 0.6220\n",
      "\n",
      "50/50 [==============================] - 0s 5ms/sample - loss: 0.7877 - acc: 0.4200\n",
      "\n",
      "test accuracy:  0.42\n"
     ]
    }
   ],
   "source": [
    "train_datagen = keras.preprocessing.image.ImageDataGenerator(\n",
    "        rescale=1./255,\n",
    "        shear_range=0.2,\n",
    "        rotation_range=40,\n",
    "        width_shift_range=0.2,\n",
    "        height_shift_range=0.2,\n",
    "        zoom_range=0.2,\n",
    "        horizontal_flip=True)\n",
    "\n",
    "train_set_x = train_set_x_orig.copy()\n",
    "\n",
    "train_datagen.fit(train_set_x)\n",
    "\n",
    "test_set_x = test_set_x_orig.copy()/255\n",
    "\n",
    "Adam = keras.optimizers.Adam(lr=0.0, beta_1=0.9, beta_2=0.999, epsilon=None, decay=0.0, amsgrad=False)\n",
    "Nadam = keras.optimizers.Nadam(lr=0.002, beta_1=0.9, beta_2=0.999, epsilon=None, schedule_decay=0.004)\n",
    "SGD = keras.optimizers.SGD(lr=0.01, momentum=0.0, decay=0.0, nesterov=True)\n",
    "dropout=0.0\n",
    "\n",
    "model = keras.Sequential([\n",
    "    keras.layers.Flatten(input_shape=(num_px,num_px,3)),\n",
    "    keras.layers.Dropout(dropout),\n",
    "    keras.layers.Dense(64, activation='relu'),\n",
    "    keras.layers.Dropout(dropout),\n",
    "    keras.layers.Dense(32, activation='relu'),\n",
    "    keras.layers.Dropout(dropout),\n",
    "    keras.layers.Dense(16, activation='relu'),\n",
    "    keras.layers.Dropout(dropout),\n",
    "    keras.layers.Dense(1, activation=\"sigmoid\")\n",
    "])\n",
    "\n",
    "model.compile(optimizer=Adam,\n",
    "              loss='binary_crossentropy',\n",
    "              metrics=['accuracy'])\n",
    "\n",
    "model.fit_generator(train_datagen.flow(train_set_x, train_set_y, batch_size=40),\n",
    "                    steps_per_epoch=len(train_set_x)/ 40,epochs=40)\n",
    "print()\n",
    "test_loss, test_acc = model.evaluate(test_set_x, test_set_y)\n",
    "print('\\ntest accuracy: ', test_acc)"
   ]
  },
  {
   "cell_type": "code",
   "execution_count": 20,
   "metadata": {},
   "outputs": [
    {
     "name": "stdout",
     "output_type": "stream",
     "text": [
      "Epoch 1/10\n",
      "209/209 [==============================] - 0s 318us/sample - loss: 1288420893752483412705280.0000 - acc: 0.4545\n",
      "Epoch 2/10\n",
      "209/209 [==============================] - 0s 259us/sample - loss: nan - acc: 0.6555                           \n",
      "Epoch 3/10\n",
      "209/209 [==============================] - 0s 362us/sample - loss: nan - acc: 0.6555\n",
      "Epoch 4/10\n",
      "209/209 [==============================] - 0s 298us/sample - loss: nan - acc: 0.6555\n",
      "Epoch 5/10\n",
      "209/209 [==============================] - 0s 285us/sample - loss: nan - acc: 0.6555\n",
      "Epoch 6/10\n",
      "209/209 [==============================] - 0s 270us/sample - loss: nan - acc: 0.6555\n",
      "Epoch 7/10\n",
      "209/209 [==============================] - 0s 447us/sample - loss: nan - acc: 0.6555\n",
      "Epoch 8/10\n",
      "209/209 [==============================] - 0s 425us/sample - loss: nan - acc: 0.6555\n",
      "Epoch 9/10\n",
      "209/209 [==============================] - 0s 355us/sample - loss: nan - acc: 0.6555\n",
      "Epoch 10/10\n",
      "209/209 [==============================] - 0s 389us/sample - loss: nan - acc: 0.6555\n",
      "\n",
      "50/50 [==============================] - 0s 223us/sample - loss: nan - acc: 0.3400\n",
      "\n",
      "test accuracy:  0.34\n"
     ]
    }
   ],
   "source": [
    "model.fit(train_set_x,train_set_y,epochs=10,batch_size=40)\n",
    "print()\n",
    "test_loss, test_acc = model.evaluate(test_set_x, test_set_y)\n",
    "print('\\ntest accuracy: ', test_acc)"
   ]
  },
  {
   "cell_type": "code",
   "execution_count": null,
   "metadata": {
    "scrolled": true
   },
   "outputs": [],
   "source": [
    "# make predictions\n",
    "predictions = model.predict(test_set_x)\n",
    "\n",
    "print('test images shape: ', test_set_x.shape)\n",
    "print('predictions shape: ', predictions.shape)"
   ]
  },
  {
   "cell_type": "code",
   "execution_count": null,
   "metadata": {},
   "outputs": [],
   "source": [
    "i = 10\n",
    "plt.imshow(test_set_x[i])\n",
    "print('prediction: ', predictions[i])"
   ]
  },
  {
   "cell_type": "code",
   "execution_count": null,
   "metadata": {},
   "outputs": [],
   "source": []
  }
 ],
 "metadata": {
  "kernelspec": {
   "display_name": "Python 3",
   "language": "python",
   "name": "python3"
  },
  "language_info": {
   "codemirror_mode": {
    "name": "ipython",
    "version": 3
   },
   "file_extension": ".py",
   "mimetype": "text/x-python",
   "name": "python",
   "nbconvert_exporter": "python",
   "pygments_lexer": "ipython3",
   "version": "3.7.3"
  }
 },
 "nbformat": 4,
 "nbformat_minor": 2
}
