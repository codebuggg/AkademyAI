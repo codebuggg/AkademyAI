{
 "cells": [
  {
   "cell_type": "code",
   "execution_count": 1,
   "metadata": {},
   "outputs": [],
   "source": [
    "# import tensorflow and keras (tf.keras)\n",
    "import tensorflow as tf\n",
    "from tensorflow import keras\n",
    "\n",
    "#from keras.preprocessing import image\n",
    "import matplotlib.pyplot as plt"
   ]
  },
  {
   "cell_type": "code",
   "execution_count": 2,
   "metadata": {},
   "outputs": [
    {
     "name": "stdout",
     "output_type": "stream",
     "text": [
      "Downloading data from https://storage.googleapis.com/tensorflow/tf-keras-datasets/mnist.npz\n",
      "11493376/11490434 [==============================] - 3s 0us/step\n"
     ]
    }
   ],
   "source": [
    "#get data\n",
    "(train_images, train_labels), (test_images, test_labels) = keras.datasets.mnist.load_data()"
   ]
  },
  {
   "cell_type": "code",
   "execution_count": 3,
   "metadata": {},
   "outputs": [
    {
     "name": "stdout",
     "output_type": "stream",
     "text": [
      "WARNING:tensorflow:From C:\\Users\\USER\\.conda\\envs\\AkademyAI\\lib\\site-packages\\tensorflow\\python\\ops\\resource_variable_ops.py:435: colocate_with (from tensorflow.python.framework.ops) is deprecated and will be removed in a future version.\n",
      "Instructions for updating:\n",
      "Colocations handled automatically by placer.\n"
     ]
    }
   ],
   "source": [
    "# setup model\n",
    "model = keras.Sequential([\n",
    "    keras.layers.Flatten(input_shape=(28,28)),\n",
    "    keras.layers.Dense(32, activation='tanh'),\n",
    "    keras.layers.Dense(10, activation=tf.nn.softmax)\n",
    "])"
   ]
  },
  {
   "cell_type": "code",
   "execution_count": 4,
   "metadata": {},
   "outputs": [],
   "source": [
    "# compile model\n",
    "model.compile(optimizer=tf.train.AdamOptimizer(),\n",
    "              loss='sparse_categorical_crossentropy',\n",
    "              metrics=['accuracy'])"
   ]
  },
  {
   "cell_type": "code",
   "execution_count": 5,
   "metadata": {},
   "outputs": [
    {
     "name": "stdout",
     "output_type": "stream",
     "text": [
      "Epoch 1/10\n",
      "60000/60000 [==============================] - 7s 117us/sample - loss: 0.8310 - acc: 0.7418\n",
      "Epoch 2/10\n",
      "60000/60000 [==============================] - 5s 80us/sample - loss: 0.5654 - acc: 0.8228\n",
      "Epoch 3/10\n",
      "60000/60000 [==============================] - 5s 88us/sample - loss: 0.5187 - acc: 0.84050s - loss: 0.5188 - \n",
      "Epoch 4/10\n",
      "60000/60000 [==============================] - 5s 82us/sample - loss: 0.4981 - acc: 0.8468\n",
      "Epoch 5/10\n",
      "60000/60000 [==============================] - 5s 78us/sample - loss: 0.4411 - acc: 0.8659\n",
      "Epoch 6/10\n",
      "60000/60000 [==============================] - 4s 73us/sample - loss: 0.4496 - acc: 0.8622\n",
      "Epoch 7/10\n",
      "60000/60000 [==============================] - 4s 71us/sample - loss: 0.4371 - acc: 0.8664\n",
      "Epoch 8/10\n",
      "60000/60000 [==============================] - 4s 71us/sample - loss: 0.4283 - acc: 0.8710\n",
      "Epoch 9/10\n",
      "60000/60000 [==============================] - 4s 69us/sample - loss: 0.4293 - acc: 0.8690\n",
      "Epoch 10/10\n",
      "60000/60000 [==============================] - 4s 75us/sample - loss: 0.4014 - acc: 0.8783\n"
     ]
    },
    {
     "data": {
      "text/plain": [
       "<tensorflow.python.keras.callbacks.History at 0x2071ec85cf8>"
      ]
     },
     "execution_count": 5,
     "metadata": {},
     "output_type": "execute_result"
    }
   ],
   "source": [
    "# train model\n",
    "model.fit(train_images, train_labels, epochs=10)"
   ]
  },
  {
   "cell_type": "code",
   "execution_count": 6,
   "metadata": {},
   "outputs": [
    {
     "name": "stdout",
     "output_type": "stream",
     "text": [
      "10000/10000 [==============================] - 2s 224us/sample - loss: 0.3691 - acc: 0.8871\n",
      "test accuracy:  0.8871\n"
     ]
    }
   ],
   "source": [
    "# evaluate\n",
    "test_loss, test_acc = model.evaluate(test_images, test_labels)\n",
    "print('test accuracy: ', test_acc)"
   ]
  },
  {
   "cell_type": "code",
   "execution_count": 7,
   "metadata": {},
   "outputs": [],
   "source": [
    "# make predictions\n",
    "predictions = model.predict(test_images)"
   ]
  },
  {
   "cell_type": "code",
   "execution_count": 8,
   "metadata": {},
   "outputs": [
    {
     "name": "stdout",
     "output_type": "stream",
     "text": [
      "test images shape:  (10000, 28, 28)\n",
      "predictions shape:  (10000, 10)\n"
     ]
    }
   ],
   "source": [
    "print('test images shape: ', test_images.shape)\n",
    "print('predictions shape: ', predictions.shape)"
   ]
  },
  {
   "cell_type": "code",
   "execution_count": 11,
   "metadata": {},
   "outputs": [
    {
     "name": "stdout",
     "output_type": "stream",
     "text": [
      "prediction:  [3.5338631e-05 1.6161523e-06 4.3363645e-04 4.4720955e-06 2.4496630e-04\n",
      " 7.8356097e-04 9.9847358e-01 1.0586995e-06 5.8301375e-06 1.5946045e-05]\n"
     ]
    },
    {
     "data": {
      "image/png": "[encoded data removed]",
      "text/plain": [
       "<Figure size 432x288 with 1 Axes>"
      ]
     },
     "metadata": {
      "needs_background": "light"
     },
     "output_type": "display_data"
    }
   ],
   "source": [
    "i = 123\n",
    "plt.imshow(test_images[i])\n",
    "print('prediction: ', predictions[i])"
   ]
  },
  {
   "cell_type": "code",
   "execution_count": null,
   "metadata": {},
   "outputs": [],
   "source": []
  }
 ],
 "metadata": {
  "kernelspec": {
   "display_name": "Python 3",
   "language": "python",
   "name": "python3"
  },
  "language_info": {
   "codemirror_mode": {
    "name": "ipython",
    "version": 3
   },
   "file_extension": ".py",
   "mimetype": "text/x-python",
   "name": "python",
   "nbconvert_exporter": "python",
   "pygments_lexer": "ipython3",
   "version": "3.7.3"
  }
 },
 "nbformat": 4,
 "nbformat_minor": 2
}
