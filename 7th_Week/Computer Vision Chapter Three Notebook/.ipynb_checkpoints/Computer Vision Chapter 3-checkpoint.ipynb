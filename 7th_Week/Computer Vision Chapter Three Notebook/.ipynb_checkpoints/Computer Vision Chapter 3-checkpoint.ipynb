{
 "cells": [
  {
   "cell_type": "markdown",
   "metadata": {},
   "source": [
    "# Computer Vision Chapter Three"
   ]
  },
  {
   "cell_type": "markdown",
   "metadata": {},
   "source": [
    "## Import Statements"
   ]
  },
  {
   "cell_type": "code",
   "execution_count": 1,
   "metadata": {
    "ExecuteTime": {
     "end_time": "2019-08-18T10:13:31.817028Z",
     "start_time": "2019-08-18T10:13:30.816650Z"
    }
   },
   "outputs": [],
   "source": [
    "import cv2\n",
    "import numpy as np\n",
    "import matplotlib.pyplot as plt\n",
    "%matplotlib inline"
   ]
  },
  {
   "cell_type": "markdown",
   "metadata": {},
   "source": [
    "## Helper Functions"
   ]
  },
  {
   "cell_type": "code",
   "execution_count": 2,
   "metadata": {
    "ExecuteTime": {
     "end_time": "2019-08-18T10:13:31.832514Z",
     "start_time": "2019-08-18T10:13:31.819512Z"
    }
   },
   "outputs": [],
   "source": [
    "def showImg(img, title = ''):\n",
    "    plt.figure(figsize = (20,15));\n",
    "    plt.title(title)\n",
    "    plt.imshow(cv2.cvtColor(img,cv2.COLOR_BGR2RGB))\n",
    "\n",
    "def showGrayScaleImg(img, title = ''):\n",
    "    plt.figure(figsize = (20,15));\n",
    "    plt.title(title)\n",
    "    plt.imshow(img, cmap='gray')\n",
    "\n",
    "all_contours = -1\n",
    "green = (0,255,0)\n",
    "thickness = 2"
   ]
  },
  {
   "cell_type": "markdown",
   "metadata": {
    "heading_collapsed": true
   },
   "source": [
    "## Contours"
   ]
  },
  {
   "cell_type": "code",
   "execution_count": null,
   "metadata": {
    "ExecuteTime": {
     "end_time": "2019-08-12T18:55:40.352465Z",
     "start_time": "2019-08-12T18:55:39.048702Z"
    },
    "hidden": true
   },
   "outputs": [],
   "source": [
    "coins = cv2.imread('img/coins5.jpg')\n",
    "showImg(coins)\n",
    "grayscale_coins = cv2.cvtColor(coins,cv2.COLOR_BGR2GRAY)\n",
    "gaussianBlur = cv2.GaussianBlur(grayscale_coins,(7,7),-1)\n",
    "edges = cv2.Canny(gaussianBlur,0,255)\n",
    "showImg(edges)"
   ]
  },
  {
   "cell_type": "code",
   "execution_count": null,
   "metadata": {
    "ExecuteTime": {
     "end_time": "2019-08-12T18:55:40.378562Z",
     "start_time": "2019-08-12T18:55:40.358460Z"
    },
    "hidden": true
   },
   "outputs": [],
   "source": [
    "coins_contours, hierarchy = cv2.findContours(edges,cv2.RETR_EXTERNAL, cv2.CHAIN_APPROX_NONE) "
   ]
  },
  {
   "cell_type": "code",
   "execution_count": null,
   "metadata": {
    "ExecuteTime": {
     "end_time": "2019-08-12T18:55:40.397512Z",
     "start_time": "2019-08-12T18:55:40.381461Z"
    },
    "hidden": true
   },
   "outputs": [],
   "source": [
    "print(f'Found {len(coins_contours)} contour(s)')"
   ]
  },
  {
   "cell_type": "code",
   "execution_count": null,
   "metadata": {
    "ExecuteTime": {
     "end_time": "2019-08-12T18:55:40.418461Z",
     "start_time": "2019-08-12T18:55:40.401459Z"
    },
    "hidden": true
   },
   "outputs": [],
   "source": [
    "cv2.drawContours(coins,coins_contours,-1,(0,255,0),3);"
   ]
  },
  {
   "cell_type": "code",
   "execution_count": null,
   "metadata": {
    "ExecuteTime": {
     "end_time": "2019-08-12T18:55:41.253815Z",
     "start_time": "2019-08-12T18:55:40.425459Z"
    },
    "hidden": true
   },
   "outputs": [],
   "source": [
    "showImg(coins)"
   ]
  },
  {
   "cell_type": "code",
   "execution_count": null,
   "metadata": {
    "ExecuteTime": {
     "end_time": "2019-08-12T19:53:57.642860Z",
     "start_time": "2019-08-12T19:53:56.865262Z"
    },
    "hidden": true
   },
   "outputs": [],
   "source": [
    "card = cv2.imread('img/7030.png')\n",
    "grayscale_card = cv2.cvtColor(card,cv2.COLOR_BGR2GRAY)\n",
    "edges = cv2.Canny(grayscale_card,180,200)\n",
    "showImg(edges)"
   ]
  },
  {
   "cell_type": "code",
   "execution_count": null,
   "metadata": {
    "ExecuteTime": {
     "end_time": "2019-08-12T19:54:01.244022Z",
     "start_time": "2019-08-12T19:54:01.238446Z"
    },
    "hidden": true
   },
   "outputs": [],
   "source": [
    "card_contours, hierarchy = cv2.findContours(edges,cv2.RETR_EXTERNAL, cv2.CHAIN_APPROX_NONE) "
   ]
  },
  {
   "cell_type": "code",
   "execution_count": null,
   "metadata": {
    "ExecuteTime": {
     "end_time": "2019-08-12T19:54:02.682912Z",
     "start_time": "2019-08-12T19:54:02.654855Z"
    },
    "hidden": true
   },
   "outputs": [],
   "source": [
    "print(f'Found {len(card_contours)} contour(s)')"
   ]
  },
  {
   "cell_type": "code",
   "execution_count": null,
   "metadata": {
    "ExecuteTime": {
     "end_time": "2019-08-12T19:54:03.365917Z",
     "start_time": "2019-08-12T19:54:03.358915Z"
    },
    "hidden": true
   },
   "outputs": [],
   "source": [
    "cv2.drawContours(card,card_contours,-1,(0,255,0),3);"
   ]
  },
  {
   "cell_type": "code",
   "execution_count": null,
   "metadata": {
    "ExecuteTime": {
     "end_time": "2019-08-12T19:54:05.603572Z",
     "start_time": "2019-08-12T19:54:05.135928Z"
    },
    "hidden": true
   },
   "outputs": [],
   "source": [
    "showImg(card)"
   ]
  },
  {
   "cell_type": "markdown",
   "metadata": {
    "heading_collapsed": true
   },
   "source": [
    "## Sorting Contours"
   ]
  },
  {
   "cell_type": "markdown",
   "metadata": {
    "hidden": true
   },
   "source": [
    "### By area"
   ]
  },
  {
   "cell_type": "code",
   "execution_count": null,
   "metadata": {
    "ExecuteTime": {
     "end_time": "2019-08-12T18:55:44.177114Z",
     "start_time": "2019-08-12T18:55:42.584340Z"
    },
    "hidden": true,
    "scrolled": false
   },
   "outputs": [],
   "source": [
    "coins = cv2.imread('img/coins5.jpg')\n",
    "showImg(coins)\n",
    "grayscale_coins = cv2.cvtColor(coins,cv2.COLOR_BGR2GRAY)\n",
    "edges = cv2.Canny(grayscale_coins,0,255)\n",
    "showImg(edges)\n",
    "\n",
    "coins_contours, hierarchy = cv2.findContours(edges,cv2.RETR_EXTERNAL, cv2.CHAIN_APPROX_NONE) \n",
    "print(f'Found {len(coins_contours)} contour(s)')"
   ]
  },
  {
   "cell_type": "code",
   "execution_count": null,
   "metadata": {
    "ExecuteTime": {
     "end_time": "2019-08-12T18:55:44.961923Z",
     "start_time": "2019-08-12T18:55:44.177114Z"
    },
    "hidden": true
   },
   "outputs": [],
   "source": [
    "cv2.drawContours(coins,coins_contours,-1,(0,255,0),3);\n",
    "showImg(coins)"
   ]
  },
  {
   "cell_type": "code",
   "execution_count": null,
   "metadata": {
    "ExecuteTime": {
     "end_time": "2019-08-12T18:55:46.423809Z",
     "start_time": "2019-08-12T18:55:44.968922Z"
    },
    "hidden": true
   },
   "outputs": [],
   "source": [
    "coins = cv2.imread('img/coins5.jpg')\n",
    "showImg(coins)\n",
    "grayscale_coins = cv2.cvtColor(coins,cv2.COLOR_BGR2GRAY)\n",
    "edges = cv2.Canny(grayscale_coins,0,255)\n",
    "showImg(edges)"
   ]
  },
  {
   "cell_type": "code",
   "execution_count": null,
   "metadata": {
    "ExecuteTime": {
     "end_time": "2019-08-12T18:55:46.437810Z",
     "start_time": "2019-08-12T18:55:46.427810Z"
    },
    "hidden": true
   },
   "outputs": [],
   "source": [
    "def get_contour_areas(contours):\n",
    "    all_areas = []\n",
    "    for contour in contours:\n",
    "        contour_area = cv2.contourArea(contour)\n",
    "        all_areas.append(contour_area)\n",
    "    return all_areas"
   ]
  },
  {
   "cell_type": "code",
   "execution_count": null,
   "metadata": {
    "ExecuteTime": {
     "end_time": "2019-08-12T18:55:46.451872Z",
     "start_time": "2019-08-12T18:55:46.441813Z"
    },
    "hidden": true
   },
   "outputs": [],
   "source": [
    "coins_contours, hierarchy = cv2.findContours(edges,cv2.RETR_EXTERNAL, cv2.CHAIN_APPROX_NONE) \n",
    "contour_areas = get_contour_areas(coins_contours)"
   ]
  },
  {
   "cell_type": "code",
   "execution_count": null,
   "metadata": {
    "ExecuteTime": {
     "end_time": "2019-08-12T18:55:46.463807Z",
     "start_time": "2019-08-12T18:55:46.455809Z"
    },
    "hidden": true
   },
   "outputs": [],
   "source": [
    "print(f'Contour areas before sorting {contour_areas}')"
   ]
  },
  {
   "cell_type": "code",
   "execution_count": null,
   "metadata": {
    "ExecuteTime": {
     "end_time": "2019-08-12T18:55:46.473810Z",
     "start_time": "2019-08-12T18:55:46.467811Z"
    },
    "hidden": true
   },
   "outputs": [],
   "source": [
    "contour_areas = sorted(contour_areas, reverse=True)\n",
    "print(f'Contour areas after sorting {contour_areas}')"
   ]
  },
  {
   "cell_type": "code",
   "execution_count": null,
   "metadata": {
    "ExecuteTime": {
     "end_time": "2019-08-12T18:55:46.762846Z",
     "start_time": "2019-08-12T18:55:46.477811Z"
    },
    "hidden": true,
    "scrolled": true
   },
   "outputs": [],
   "source": [
    "sorted_contours = sorted(coins_contours, key=cv2.contourArea, reverse=True)\n",
    "print(f'Total number of contours: {len(sorted_contours)} \\nContour areas after sorting {sorted_contours}')"
   ]
  },
  {
   "cell_type": "code",
   "execution_count": null,
   "metadata": {
    "ExecuteTime": {
     "end_time": "2019-08-12T18:55:46.775327Z",
     "start_time": "2019-08-12T18:55:46.768815Z"
    },
    "hidden": true
   },
   "outputs": [],
   "source": [
    "big_contours_only = sorted_contours[0:2]"
   ]
  },
  {
   "cell_type": "code",
   "execution_count": null,
   "metadata": {
    "ExecuteTime": {
     "end_time": "2019-08-12T18:55:46.791815Z",
     "start_time": "2019-08-12T18:55:46.782817Z"
    },
    "hidden": true
   },
   "outputs": [],
   "source": [
    "print(f'Total number of big contours: {len(big_contours_only)} \\nContour areas after sorting {big_contours_only}')"
   ]
  },
  {
   "cell_type": "code",
   "execution_count": null,
   "metadata": {
    "ExecuteTime": {
     "end_time": "2019-08-12T18:55:47.656028Z",
     "start_time": "2019-08-12T18:55:46.799202Z"
    },
    "hidden": true
   },
   "outputs": [],
   "source": [
    "cv2.drawContours(coins,big_contours_only,-1,(0,255,0),3)\n",
    "showImg(coins)"
   ]
  },
  {
   "cell_type": "code",
   "execution_count": null,
   "metadata": {
    "ExecuteTime": {
     "end_time": "2019-08-12T18:55:49.411784Z",
     "start_time": "2019-08-12T18:55:47.658340Z"
    },
    "hidden": true
   },
   "outputs": [],
   "source": [
    "coins = cv2.imread('img/coins.jpg')\n",
    "showImg(coins)\n",
    "grayscale_coins = cv2.cvtColor(coins,cv2.COLOR_BGR2GRAY)\n",
    "gaussianBlur = cv2.GaussianBlur(grayscale_coins,(11,11),-1)\n",
    "edges = cv2.Canny(gaussianBlur,0,255)\n",
    "showImg(edges)\n",
    "\n",
    "coins_contours, hierarchy = cv2.findContours(edges,cv2.RETR_EXTERNAL, cv2.CHAIN_APPROX_NONE) \n",
    "print(f'Found {len(coins_contours)} contour(s)')\n",
    "\n",
    "cv2.drawContours(coins,coins_contours,-1,(0,255,0),3)\n",
    "showImg(coins)"
   ]
  },
  {
   "cell_type": "code",
   "execution_count": null,
   "metadata": {
    "ExecuteTime": {
     "end_time": "2019-08-12T18:55:50.594940Z",
     "start_time": "2019-08-12T18:55:49.416916Z"
    },
    "hidden": true
   },
   "outputs": [],
   "source": [
    "coins = cv2.imread('img/coins2.jpg')\n",
    "showImg(coins)\n",
    "grayscale_coins = cv2.cvtColor(coins,cv2.COLOR_BGR2GRAY)\n",
    "gaussianBlur = cv2.GaussianBlur(grayscale_coins,(5,5),-1)\n",
    "edges = cv2.Canny(gaussianBlur,0,100)\n",
    "showImg(edges)\n",
    "\n",
    "coins_contours, hierarchy = cv2.findContours(edges,cv2.RETR_EXTERNAL, cv2.CHAIN_APPROX_NONE) \n",
    "print(f'Found {len(coins_contours)} contour(s)')\n",
    "\n",
    "cv2.drawContours(coins,coins_contours,-1,(0,255,0),3)\n",
    "showImg(coins)"
   ]
  },
  {
   "cell_type": "code",
   "execution_count": null,
   "metadata": {
    "ExecuteTime": {
     "end_time": "2019-08-12T18:55:51.833122Z",
     "start_time": "2019-08-12T18:55:50.597940Z"
    },
    "hidden": true
   },
   "outputs": [],
   "source": [
    "coins = cv2.imread('img/coins3.jpg')\n",
    "showImg(coins)\n",
    "grayscale_coins = cv2.cvtColor(coins,cv2.COLOR_BGR2GRAY)\n",
    "gaussianBlur = cv2.GaussianBlur(grayscale_coins,(13,13),-1)\n",
    "edges = cv2.Canny(gaussianBlur,0,100)\n",
    "showImg(edges)\n",
    "\n",
    "coins_contours, hierarchy = cv2.findContours(edges,cv2.RETR_EXTERNAL, cv2.CHAIN_APPROX_NONE) \n",
    "print(f'Found {len(coins_contours)} contour(s)')\n",
    "\n",
    "cv2.drawContours(coins,coins_contours,-1,(0,255,0),3)\n",
    "showImg(coins)"
   ]
  },
  {
   "cell_type": "code",
   "execution_count": null,
   "metadata": {
    "ExecuteTime": {
     "end_time": "2019-08-12T18:55:53.323300Z",
     "start_time": "2019-08-12T18:55:51.837165Z"
    },
    "hidden": true,
    "scrolled": false
   },
   "outputs": [],
   "source": [
    "coins = cv2.imread('img/coins6.jpg')\n",
    "showImg(coins)\n",
    "grayscale_coins = cv2.cvtColor(coins,cv2.COLOR_BGR2GRAY)\n",
    "gaussianBlur = cv2.GaussianBlur(grayscale_coins,(13,13),-1)\n",
    "edges = cv2.Canny(gaussianBlur,0,150)\n",
    "showImg(edges)\n",
    "\n",
    "coins_contours, hierarchy = cv2.findContours(edges,cv2.RETR_EXTERNAL, cv2.CHAIN_APPROX_NONE) \n",
    "print(f'Found {len(coins_contours)} contour(s)')\n",
    "\n",
    "cv2.drawContours(coins,coins_contours,-1,(0,255,0),3)\n",
    "showImg(coins)"
   ]
  },
  {
   "cell_type": "code",
   "execution_count": null,
   "metadata": {
    "ExecuteTime": {
     "end_time": "2019-08-12T18:55:54.502552Z",
     "start_time": "2019-08-12T18:55:53.323300Z"
    },
    "hidden": true
   },
   "outputs": [],
   "source": [
    "coins = cv2.imread('img/ticket.png')\n",
    "showImg(coins)\n",
    "grayscale_coins = cv2.cvtColor(coins,cv2.COLOR_BGR2GRAY)\n",
    "gaussianBlur = cv2.GaussianBlur(grayscale_coins,(13,13),-1)\n",
    "edges = cv2.Canny(gaussianBlur,0,50)\n",
    "showImg(edges)\n",
    "\n",
    "coins_contours, hierarchy = cv2.findContours(edges,cv2.RETR_EXTERNAL, cv2.CHAIN_APPROX_SIMPLE) \n",
    "print(f'Found {len(coins_contours)} contour(s)')\n",
    "\n",
    "cv2.drawContours(coins,coins_contours,-1,(0,255,0),3)\n",
    "showImg(coins)"
   ]
  },
  {
   "cell_type": "markdown",
   "metadata": {
    "hidden": true
   },
   "source": [
    "### By X coordinate (left to right)"
   ]
  },
  {
   "cell_type": "code",
   "execution_count": null,
   "metadata": {
    "ExecuteTime": {
     "end_time": "2019-08-12T18:55:54.513521Z",
     "start_time": "2019-08-12T18:55:54.506533Z"
    },
    "hidden": true
   },
   "outputs": [],
   "source": [
    "def get_contour_x_center_coordinate(contours):    \n",
    "    if cv2.contourArea(contours) > 10:\n",
    "        M = cv2.moments(contours)\n",
    "        return(int(M['m10']/M['m00']))"
   ]
  },
  {
   "cell_type": "markdown",
   "metadata": {
    "hidden": true
   },
   "source": [
    "[OpenCV Moments](https://www.learnopencv.com/find-center-of-blob-centroid-using-opencv-cpp-python/)"
   ]
  },
  {
   "cell_type": "code",
   "execution_count": null,
   "metadata": {
    "ExecuteTime": {
     "end_time": "2019-08-12T18:55:55.691902Z",
     "start_time": "2019-08-12T18:55:54.517566Z"
    },
    "hidden": true
   },
   "outputs": [],
   "source": [
    "coins = cv2.imread('img/coins5.jpg')\n",
    "showImg(coins)\n",
    "grayscale_coins = cv2.cvtColor(coins,cv2.COLOR_BGR2GRAY)\n",
    "gaussian = cv2.GaussianBlur(grayscale_coins,(9,9),-1)\n",
    "edges = cv2.Canny(gaussian,0,255)\n",
    "showImg(edges)\n",
    "\n",
    "coins_contours, hierarchy = cv2.findContours(edges,cv2.RETR_EXTERNAL, cv2.CHAIN_APPROX_NONE) \n",
    "print(f'Found {len(coins_contours)} contour(s)')"
   ]
  },
  {
   "cell_type": "code",
   "execution_count": null,
   "metadata": {
    "ExecuteTime": {
     "end_time": "2019-08-12T18:56:16.704471Z",
     "start_time": "2019-08-12T18:56:16.700375Z"
    },
    "hidden": true
   },
   "outputs": [],
   "source": [
    "sorted_contours_left_to_right = sorted(coins_contours,\n",
    "                                       key=get_contour_x_center_coordinate\n",
    "                                       )"
   ]
  },
  {
   "cell_type": "code",
   "execution_count": null,
   "metadata": {
    "ExecuteTime": {
     "end_time": "2019-08-12T18:55:55.740757Z",
     "start_time": "2019-08-12T18:55:55.726591Z"
    },
    "hidden": true
   },
   "outputs": [],
   "source": [
    "def sort_contours(cnts, method=\"left-to-right\"):\n",
    "    # initialize the reverse flag and sort index\n",
    "    reverse = False\n",
    "    i = 0\n",
    "\n",
    "    # handle if we need to sort in reverse\n",
    "    if method == \"right-to-left\" or method == \"bottom-to-top\":\n",
    "        reverse = True\n",
    "\n",
    "    # handle if we are sorting against the y-coordinate rather than\n",
    "    # the x-coordinate of the bounding box\n",
    "    if method == \"top-to-bottom\" or method == \"bottom-to-top\":\n",
    "        i = 1\n",
    "\n",
    "    # construct the list of bounding boxes and sort them from top to\n",
    "    # bottom\n",
    "    boundingBoxes = [cv2.boundingRect(c) for c in cnts]\n",
    "    (cnts, boundingBoxes) = zip(*sorted(zip(cnts, boundingBoxes),\n",
    "                                        key=lambda b: b[1][i], reverse=reverse))\n",
    "    # return the list of sorted contours and bounding boxes\n",
    "    return (cnts, boundingBoxes)\n"
   ]
  },
  {
   "cell_type": "code",
   "execution_count": null,
   "metadata": {
    "ExecuteTime": {
     "end_time": "2019-08-12T18:55:55.755754Z",
     "start_time": "2019-08-12T18:55:55.748819Z"
    },
    "hidden": true
   },
   "outputs": [],
   "source": [
    "sorted_contours, boxes = sort_contours(coins_contours)"
   ]
  },
  {
   "cell_type": "code",
   "execution_count": null,
   "metadata": {
    "ExecuteTime": {
     "end_time": "2019-08-12T18:56:01.241161Z",
     "start_time": "2019-08-12T18:55:55.760192Z"
    },
    "hidden": true,
    "scrolled": false
   },
   "outputs": [],
   "source": [
    "for idx, c in enumerate(sorted_contours):\n",
    "    if idx > 8:\n",
    "        break\n",
    "    cv2.drawContours(coins,[c],-1,(0,255,0),3)\n",
    "    showImg(coins)"
   ]
  },
  {
   "cell_type": "markdown",
   "metadata": {
    "heading_collapsed": true
   },
   "source": [
    "## Moments"
   ]
  },
  {
   "cell_type": "markdown",
   "metadata": {
    "heading_collapsed": true
   },
   "source": [
    "## Approximating Contours"
   ]
  },
  {
   "cell_type": "code",
   "execution_count": null,
   "metadata": {
    "ExecuteTime": {
     "end_time": "2019-08-13T12:24:33.906472Z",
     "start_time": "2019-08-13T12:24:24.609631Z"
    },
    "hidden": true,
    "scrolled": false
   },
   "outputs": [],
   "source": [
    "house = cv2.imread('img/house.png')\n",
    "showImg(house)\n",
    "grayscale_house = cv2.cvtColor(house,cv2.COLOR_BGR2GRAY)\n",
    "#gaussian = cv2.GaussianBlur(grayscale_coins,(3,3),-1)\n",
    "edges = cv2.Canny(grayscale_house,0,255)\n",
    "\n",
    "house_contours, hierarchy = cv2.findContours(edges,cv2.RETR_LIST, cv2.CHAIN_APPROX_NONE) \n",
    "print(f'Found {len(house_contours)} contour(s)')\n",
    "\n",
    "for c in house_contours:\n",
    "    accuracy = 0.02 # 0.007 #0.02\n",
    "    perimeter = cv2.arcLength(c,True)\n",
    "    epsilon = accuracy * perimeter\n",
    "    approx = cv2.approxPolyDP(c,epsilon,True)\n",
    "    \n",
    "    cv2.drawContours(house,[approx],0,(0,255,0), 2)\n",
    "    showImg(house, f'Found {len(approx)} lines in this polygon')\n"
   ]
  },
  {
   "cell_type": "code",
   "execution_count": null,
   "metadata": {
    "ExecuteTime": {
     "end_time": "2019-08-13T12:17:21.289616Z",
     "start_time": "2019-08-13T12:17:18.446334Z"
    },
    "hidden": true,
    "scrolled": true
   },
   "outputs": [],
   "source": [
    "figure = cv2.imread('img/figure.png')\n",
    "showImg(figure)\n",
    "grayscale_figure = cv2.cvtColor(figure,cv2.COLOR_BGR2GRAY)\n",
    "edges = cv2.Canny(grayscale_figure,0,255)\n",
    "showImg(edges)\n",
    "\n",
    "figure_contours, hierarchy = cv2.findContours(edges,cv2.RETR_LIST, cv2.CHAIN_APPROX_NONE) \n",
    "print(f'Found {len(figure_contours)} contour(s)')\n",
    "\n",
    "for c in figure_contours:\n",
    "    accuracy = 0.01 #0.1\n",
    "    perimeter = cv2.arcLength(c,True)\n",
    "    epsilon = accuracy * perimeter\n",
    "    approx = cv2.approxPolyDP(c,epsilon,True)\n",
    "    cv2.drawContours(figure,[approx],0,(0,255,0), 2)\n",
    "    showImg(figure)\n"
   ]
  },
  {
   "cell_type": "code",
   "execution_count": null,
   "metadata": {
    "ExecuteTime": {
     "end_time": "2019-08-12T18:56:02.284210Z",
     "start_time": "2019-08-12T18:55:47.030Z"
    },
    "hidden": true,
    "scrolled": false
   },
   "outputs": [],
   "source": [
    "coins = cv2.imread('img/house.png')\n",
    "showImg(coins)\n",
    "grayscale_coins = cv2.cvtColor(coins,cv2.COLOR_BGR2GRAY)\n",
    "\n",
    "edges = cv2.Canny(grayscale_coins,0,255)\n",
    "showImg(edges)\n",
    "\n",
    "coins_contours, hierarchy = cv2.findContours(edges,cv2.RETR_LIST, cv2.CHAIN_APPROX_NONE) \n",
    "print(f'Found {len(figure_contours)} contour(s)')\n",
    "\n",
    "cv2.drawContours(coins,coins_contours,-1,(0,255,0), 2)\n",
    "showImg(coins)\n"
   ]
  },
  {
   "cell_type": "markdown",
   "metadata": {},
   "source": [
    "## Convex Hull"
   ]
  },
  {
   "cell_type": "code",
   "execution_count": null,
   "metadata": {
    "ExecuteTime": {
     "end_time": "2019-08-15T11:50:40.378574Z",
     "start_time": "2019-08-15T11:50:39.915571Z"
    },
    "scrolled": true
   },
   "outputs": [],
   "source": [
    "car = cv2.imread('img/car2.png')\n",
    "car_gray= cv2.imread('img/car2.png',0)\n",
    "showImg(car)"
   ]
  },
  {
   "cell_type": "code",
   "execution_count": null,
   "metadata": {
    "ExecuteTime": {
     "end_time": "2019-08-15T11:50:40.995070Z",
     "start_time": "2019-08-15T11:50:40.455073Z"
    }
   },
   "outputs": [],
   "source": [
    "car_clone = np.copy(car)\n",
    "car_clone = cv2.cvtColor(car_clone,cv2.COLOR_BGR2GRAY)\n",
    "ret, thresh = cv2.threshold(car_clone, 127,180,cv2.THRESH_BINARY_INV)\n",
    "showImg(thresh)"
   ]
  },
  {
   "cell_type": "code",
   "execution_count": null,
   "metadata": {
    "ExecuteTime": {
     "end_time": "2019-08-15T11:50:41.006075Z",
     "start_time": "2019-08-15T11:50:40.999071Z"
    }
   },
   "outputs": [],
   "source": [
    "contours, hierarchy = cv2.findContours(thresh,cv2.RETR_EXTERNAL,cv2.CHAIN_APPROX_NONE)"
   ]
  },
  {
   "cell_type": "code",
   "execution_count": null,
   "metadata": {
    "ExecuteTime": {
     "end_time": "2019-08-15T11:50:42.172149Z",
     "start_time": "2019-08-15T11:50:41.746656Z"
    }
   },
   "outputs": [],
   "source": [
    "for contour in contours:\n",
    "    hull = cv2.convexHull(contour)\n",
    "    cv2.drawContours(car,[hull],0,(0,255,0),2)\n",
    "\n",
    "showImg(car)"
   ]
  },
  {
   "cell_type": "code",
   "execution_count": null,
   "metadata": {
    "ExecuteTime": {
     "end_time": "2019-08-18T10:13:44.378323Z",
     "start_time": "2019-08-18T10:13:43.750515Z"
    },
    "scrolled": false
   },
   "outputs": [],
   "source": [
    "hand = cv2.imread('img/hand.jpg')\n",
    "hand_gray= cv2.imread('img/hand.jpg',0)\n",
    "showImg(hand)"
   ]
  },
  {
   "cell_type": "code",
   "execution_count": null,
   "metadata": {
    "ExecuteTime": {
     "end_time": "2019-08-18T10:13:44.828327Z",
     "start_time": "2019-08-18T10:13:44.381325Z"
    }
   },
   "outputs": [],
   "source": [
    "hand_clone = np.copy(hand)\n",
    "hand_clone = cv2.cvtColor(hand_clone,cv2.COLOR_BGR2GRAY)\n",
    "ret, thresh = cv2.threshold(hand_clone, 220,255,cv2.THRESH_BINARY_INV)\n",
    "showImg(thresh)\n",
    "contours, hierarchy = cv2.findContours(thresh,cv2.RETR_EXTERNAL,cv2.CHAIN_APPROX_NONE)\n",
    "\n",
    "for contour in contours:\n",
    "    hull = cv2.convexHull(contour)\n",
    "    cv2.drawContours(hand,[hull],0,(0,255,0),2)"
   ]
  },
  {
   "cell_type": "code",
   "execution_count": null,
   "metadata": {
    "ExecuteTime": {
     "end_time": "2019-08-18T10:13:49.999861Z",
     "start_time": "2019-08-18T10:13:49.521896Z"
    }
   },
   "outputs": [],
   "source": [
    "showImg(hand)"
   ]
  },
  {
   "cell_type": "markdown",
   "metadata": {},
   "source": [
    "## Fitting Rectangle"
   ]
  },
  {
   "cell_type": "code",
   "execution_count": null,
   "metadata": {
    "ExecuteTime": {
     "end_time": "2019-08-18T10:16:46.071174Z",
     "start_time": "2019-08-18T10:16:45.559176Z"
    }
   },
   "outputs": [],
   "source": [
    "hand = cv2.imread('img/hand.jpg')\n",
    "hand_gray= cv2.imread('img/hand.jpg',0)\n",
    "ret, thresh = cv2.threshold(hand_gray, 220,255,cv2.THRESH_BINARY_INV)\n",
    "\n",
    "x,y,w,h = cv2.boundingRect(thresh)\n",
    "cv2.rectangle(hand,(x,y),(x+w,y+h),(0,255,0),2)\n",
    "\n",
    "showImg(hand)\n",
    "    "
   ]
  },
  {
   "cell_type": "code",
   "execution_count": null,
   "metadata": {
    "ExecuteTime": {
     "end_time": "2019-08-18T10:41:13.748328Z",
     "start_time": "2019-08-18T10:41:13.249551Z"
    }
   },
   "outputs": [],
   "source": [
    "# Same as above but using Contours instead of the threshed immage\n",
    "\n",
    "hand = cv2.imread('img/hand.jpg')\n",
    "hand_gray= cv2.imread('img/hand.jpg',0)\n",
    "ret, thresh = cv2.threshold(hand_gray, 220,255,cv2.THRESH_BINARY_INV)\n",
    "contours, hierarchy = cv2.findContours(thresh,cv2.RETR_EXTERNAL,cv2.CHAIN_APPROX_NONE)\n",
    "\n",
    "\n",
    "x,y,w,h = cv2.boundingRect(contours[0])\n",
    "cv2.rectangle(hand,(x,y),(x+w,y+h),(0,255,0),2)\n",
    "\n",
    "showImg(hand)"
   ]
  },
  {
   "cell_type": "markdown",
   "metadata": {},
   "source": [
    "### Minimum Enclosing Circle"
   ]
  },
  {
   "cell_type": "code",
   "execution_count": null,
   "metadata": {
    "ExecuteTime": {
     "end_time": "2019-08-18T10:47:33.908811Z",
     "start_time": "2019-08-18T10:47:33.368811Z"
    }
   },
   "outputs": [],
   "source": [
    "img = cv2.imread('img/car2.png')\n",
    "img_gray= cv2.imread('img/car2.png',0)\n",
    "ret, thresh = cv2.threshold(img_gray, 220,255,cv2.THRESH_BINARY_INV)\n",
    "contours, hierarchy = cv2.findContours(thresh,cv2.RETR_EXTERNAL,cv2.CHAIN_APPROX_NONE)\n",
    "\n",
    "(x,y),radius = cv2.minEnclosingCircle(contours[0])\n",
    "center = (int(x),int(y))\n",
    "radius = int(radius)\n",
    "cv2.circle(img,center,radius,(0,255,0),2)\n",
    "\n",
    "showImg(img)"
   ]
  },
  {
   "cell_type": "code",
   "execution_count": null,
   "metadata": {
    "ExecuteTime": {
     "end_time": "2019-08-18T10:31:12.801229Z",
     "start_time": "2019-08-18T10:31:12.039723Z"
    }
   },
   "outputs": [],
   "source": [
    "img = cv2.imread('img/coins5.jpg')\n",
    "img_gray= cv2.imread('img/coins5.jpg',0)\n",
    "ret, thresh = cv2.threshold(img_gray, 220,255,cv2.THRESH_BINARY_INV)\n",
    "contours, hierarchy = cv2.findContours(thresh,cv2.RETR_EXTERNAL,cv2.CHAIN_APPROX_NONE)\n",
    "\n",
    "(x,y),radius = cv2.minEnclosingCircle(contours[0])\n",
    "center = (int(x),int(y))\n",
    "radius = int(radius)\n",
    "cv2.circle(img,center,radius,(0,255,0),2)\n",
    "\n",
    "showImg(img)"
   ]
  },
  {
   "cell_type": "markdown",
   "metadata": {},
   "source": [
    "## Fitting an ellipse"
   ]
  },
  {
   "cell_type": "code",
   "execution_count": null,
   "metadata": {
    "ExecuteTime": {
     "end_time": "2019-08-18T10:32:48.617873Z",
     "start_time": "2019-08-18T10:32:48.167648Z"
    }
   },
   "outputs": [],
   "source": [
    "img = cv2.imread('img/car2.png')\n",
    "img_gray= cv2.imread('img/car2.png',0)\n",
    "ret, thresh = cv2.threshold(img_gray, 220,255,cv2.THRESH_BINARY_INV)\n",
    "contours, hierarchy = cv2.findContours(thresh,cv2.RETR_EXTERNAL,cv2.CHAIN_APPROX_NONE)\n",
    "\n",
    "ellipse = cv2.fitEllipse(contours[0])\n",
    "cv2.ellipse(img,ellipse,green,thickness)\n",
    "showImg(img)"
   ]
  },
  {
   "cell_type": "markdown",
   "metadata": {},
   "source": [
    "## Matching contour shapes"
   ]
  },
  {
   "cell_type": "code",
   "execution_count": 3,
   "metadata": {
    "ExecuteTime": {
     "end_time": "2019-08-15T13:18:19.151099Z",
     "start_time": "2019-08-15T13:18:18.730098Z"
    }
   },
   "outputs": [
    {
     "data": {
      "image/png": "[encoded data removed]",
      "text/plain": [
       "<Figure size 1440x1080 with 1 Axes>"
      ]
     },
     "metadata": {
      "needs_background": "light"
     },
     "output_type": "display_data"
    }
   ],
   "source": [
    "template = cv2.imread('img/star_template.png')\n",
    "showImg(template)"
   ]
  },
  {
   "cell_type": "code",
   "execution_count": 6,
   "metadata": {
    "ExecuteTime": {
     "end_time": "2019-08-15T13:18:20.024598Z",
     "start_time": "2019-08-15T13:18:19.201101Z"
    }
   },
   "outputs": [
    {
     "data": {
      "image/png": "[encoded data removed]",
      "text/plain": [
       "<Figure size 1440x1080 with 1 Axes>"
      ]
     },
     "metadata": {
      "needs_background": "light"
     },
     "output_type": "display_data"
    },
    {
     "data": {
      "image/png": "[encoded data removed]",
      "text/plain": [
       "<Figure size 1440x1080 with 1 Axes>"
      ]
     },
     "metadata": {
      "needs_background": "light"
     },
     "output_type": "display_data"
    }
   ],
   "source": [
    "ret, thresh = cv2.threshold(template,127,255,cv2.THRESH_BINARY_INV)\n",
    "showImg(thresh)\n",
    "\n",
    "gray_star = cv2.cvtColor(thresh, cv2.COLOR_BGR2GRAY)\n",
    "\n",
    "contours = cv2.findContours(gray_star,cv2.RETR_EXTERNAL, cv2.CHAIN_APPROX_NONE)\n",
    "\n",
    "sorted_contours = sorted(contours[1], key= cv2.contourArea, reverse=True)\n",
    "\n",
    "template_contour = contours[1][0]\n",
    "\n",
    "cv2.drawContours(template,template_contour,all_contours,green,thickness)\n",
    "showImg(template)\n"
   ]
  },
  {
   "cell_type": "code",
   "execution_count": 7,
   "metadata": {
    "ExecuteTime": {
     "end_time": "2019-08-15T13:18:20.669599Z",
     "start_time": "2019-08-15T13:18:20.029064Z"
    }
   },
   "outputs": [
    {
     "data": {
      "image/png": "[encoded data removed]",
      "text/plain": [
       "<Figure size 1440x1080 with 1 Axes>"
      ]
     },
     "metadata": {
      "needs_background": "light"
     },
     "output_type": "display_data"
    }
   ],
   "source": [
    "star1 = cv2.imread('img/star.png',0)\n",
    "star = cv2.imread('img/star.png')\n",
    "showImg(star)"
   ]
  },
  {
   "cell_type": "code",
   "execution_count": null,
   "metadata": {
    "ExecuteTime": {
     "end_time": "2019-08-15T13:18:21.050061Z",
     "start_time": "2019-08-15T13:18:20.674063Z"
    }
   },
   "outputs": [],
   "source": [
    "ret, thresh1 = cv2.threshold(star1,200,255,cv2.THRESH_BINARY)\n",
    "showImg(thresh1)"
   ]
  },
  {
   "cell_type": "code",
   "execution_count": null,
   "metadata": {
    "ExecuteTime": {
     "end_time": "2019-08-15T13:18:21.059564Z",
     "start_time": "2019-08-15T13:18:21.054064Z"
    }
   },
   "outputs": [],
   "source": [
    "target_contours,hierarchy = cv2.findContours(thresh1,cv2.RETR_LIST,cv2.CHAIN_APPROX_NONE)"
   ]
  },
  {
   "cell_type": "code",
   "execution_count": null,
   "metadata": {
    "ExecuteTime": {
     "end_time": "2019-08-15T13:24:12.586045Z",
     "start_time": "2019-08-15T13:24:12.186046Z"
    },
    "scrolled": false
   },
   "outputs": [],
   "source": [
    "star = cv2.imread('img/star.png')\n",
    "for contour in target_contours:\n",
    "    match = cv2.matchShapes(template_contour,contour,1,0.0)\n",
    "    \n",
    "    if match < 0.10:\n",
    "        cv2.drawContours(star,contour,all_contours,green,thickness)\n",
    "        \n",
    "showImg(star)\n"
   ]
  },
  {
   "cell_type": "code",
   "execution_count": null,
   "metadata": {
    "ExecuteTime": {
     "end_time": "2019-08-15T13:11:51.219982Z",
     "start_time": "2019-08-15T13:11:11.685248Z"
    },
    "scrolled": true
   },
   "outputs": [],
   "source": [
    "template = cv2.imread('img/star_template.png')\n",
    "showImg(template)\n",
    "\n",
    "ret, thresh = cv2.threshold(template,127,255,cv2.THRESH_BINARY_INV)\n",
    "showImg(thresh)\n",
    "\n",
    "gray_star = cv2.cvtColor(thresh, cv2.COLOR_BGR2GRAY)\n",
    "\n",
    "contours, hierarchy = cv2.findContours(gray_star,cv2.RETR_EXTERNAL, cv2.CHAIN_APPROX_NONE)\n",
    "\n",
    "sorted_contours = sorted(contours, key= cv2.contourArea, reverse=True)\n",
    "\n",
    "template_contour = contours[0]\n",
    "\n",
    "cv2.drawContours(template,template_contour,all_contours,green,thickness)\n",
    "showImg(template)\n",
    "\n",
    "star1 = cv2.imread('img/stars.jpg',0)\n",
    "star = cv2.imread('img/stars.jpg')\n",
    "showImg(star)\n",
    "\n",
    "#blur = cv2.GaussianBlur(star1,(5,5),0)\n",
    "ret, thresh1 = cv2.threshold(star1,127,255,cv2.THRESH_BINARY)\n",
    "showImg(thresh1)\n",
    "\n",
    "target_contours,hierarchy = cv2.findContours(thresh1,cv2.RETR_LIST,cv2.CHAIN_APPROX_NONE)\n",
    "\n",
    "for contour in target_contours:\n",
    "    match = cv2.matchShapes(template_contour,contour,1,0.0)\n",
    "    if match < 0.10:\n",
    "        cv2.drawContours(star,contour,all_contours,green,thickness)\n",
    "        showImg(star)\n",
    "    \n",
    "        \n",
    "# print(closes_match)\n",
    "# cv2.drawContours(star,closes_match,all_contours,green,thickness)\n",
    "# showImg(star)"
   ]
  },
  {
   "cell_type": "markdown",
   "metadata": {},
   "source": [
    "## Challenge time!"
   ]
  },
  {
   "cell_type": "markdown",
   "metadata": {},
   "source": [
    "Can you improve the stars shape matching from above? (both of them)"
   ]
  },
  {
   "cell_type": "markdown",
   "metadata": {},
   "source": [
    "## Line Dectection"
   ]
  },
  {
   "cell_type": "code",
   "execution_count": null,
   "metadata": {
    "ExecuteTime": {
     "end_time": "2019-08-15T15:02:08.052257Z",
     "start_time": "2019-08-15T15:02:07.023750Z"
    }
   },
   "outputs": [],
   "source": [
    "sudoku = cv2.imread('img/sudoku2.jpg')\n",
    "cropped_sudoku = sudoku[50:650,280:840]\n",
    "\n",
    "cropped_sudoku_bw = cv2.cvtColor(cropped_sudoku,cv2.COLOR_BGR2GRAY)\n",
    "\n",
    "showImg(sudoku)\n",
    "cropped_sudoku = sudoku[50:650,280:840]"
   ]
  },
  {
   "cell_type": "code",
   "execution_count": null,
   "metadata": {
    "ExecuteTime": {
     "end_time": "2019-08-15T15:02:16.746354Z",
     "start_time": "2019-08-15T15:02:16.327353Z"
    }
   },
   "outputs": [],
   "source": [
    "ret, thresh = cv2.threshold(cropped_sudoku_bw,127,255,0)\n",
    "showImg(thresh)\n",
    "\n",
    "contours, h = cv2.findContours(thresh,cv2.RETR_LIST,cv2.CHAIN_APPROX_NONE)"
   ]
  },
  {
   "cell_type": "code",
   "execution_count": null,
   "metadata": {
    "ExecuteTime": {
     "end_time": "2019-08-15T15:02:47.813058Z",
     "start_time": "2019-08-15T15:02:47.808338Z"
    }
   },
   "outputs": [],
   "source": []
  },
  {
   "cell_type": "code",
   "execution_count": null,
   "metadata": {
    "ExecuteTime": {
     "end_time": "2019-08-15T15:04:01.064076Z",
     "start_time": "2019-08-15T15:04:00.423075Z"
    },
    "scrolled": false
   },
   "outputs": [],
   "source": [
    "sudoku_color = np.copy(cropped_sudoku)\n",
    "edges = cv2.Canny(thresh,127,255, apertureSize=3)\n",
    "\n",
    "cv2.HoughLines()\n",
    "lines = cv2.HoughLines(edges,1,np.pi / 180,200)\n",
    "\n",
    "for line in lines:\n",
    "    for rho,theta in line:\n",
    "        a = np.cos(theta)\n",
    "        b = np.sin(theta)\n",
    "        x0 = a*rho\n",
    "        y0 = b*rho\n",
    "        x1 = int(x0 + 1000*(-b))\n",
    "        y1 = int(y0 + 1000*(a))\n",
    "        x2 = int(x0 - 1000*(-b))\n",
    "        y2 = int(y0 - 1000*(a))\n",
    "\n",
    "        cv2.line(sudoku_color,(x1,y1),(x2,y2),(0,0,255),2)    \n",
    "    \n",
    "showImg(sudoku_color)"
   ]
  },
  {
   "cell_type": "markdown",
   "metadata": {},
   "source": [
    "## Circle Detection"
   ]
  },
  {
   "cell_type": "code",
   "execution_count": null,
   "metadata": {
    "ExecuteTime": {
     "end_time": "2019-08-18T13:13:44.947062Z",
     "start_time": "2019-08-18T13:13:44.358559Z"
    },
    "scrolled": false
   },
   "outputs": [],
   "source": [
    "image = cv2.imread('img/coins6.jpg')\n",
    "gray = cv2.cvtColor(image, cv2.COLOR_BGR2GRAY)\n",
    " \n",
    "blur = cv2.medianBlur(gray, 5)\n",
    "circles = cv2.HoughCircles(blur, cv2.HOUGH_GRADIENT, dp = 1.2, minDist = 12)\n",
    "#circles = cv2.HoughCircles(blur, cv2.HOUGH_GRADIENT, dp = 1.2, minDist = 1)\n",
    " \n",
    "for i in circles[0,:]:\n",
    "       # draw the outer circle\n",
    "        cv2.circle(image,(i[0], i[1]), i[2], (255, 0, 0), 2)\n",
    "      \n",
    "       # draw the center of the circle\n",
    "        cv2.circle(image, (i[0], i[1]), 2, (0, 255, 0), 5)\n",
    "        \n",
    "showImg(image)"
   ]
  },
  {
   "cell_type": "markdown",
   "metadata": {},
   "source": [
    "[Learn more about Hough Transform Here](https://www.learnopencv.com/hough-transform-with-opencv-c-python/)"
   ]
  },
  {
   "cell_type": "markdown",
   "metadata": {
    "heading_collapsed": true
   },
   "source": [
    "# Mini Projects"
   ]
  },
  {
   "cell_type": "markdown",
   "metadata": {
    "heading_collapsed": true,
    "hidden": true
   },
   "source": [
    "## Level 1"
   ]
  },
  {
   "cell_type": "markdown",
   "metadata": {
    "heading_collapsed": true,
    "hidden": true
   },
   "source": [
    "### Book cover extractor"
   ]
  },
  {
   "cell_type": "markdown",
   "metadata": {
    "hidden": true
   },
   "source": [
    "1. From a given picture detect the book on the image and draw a box around it\n",
    "1. Crop the book from the picture\n",
    "1. Transform the book perspective to show it as a 2D image (to see the proper book cover)\n",
    "1. If there is more than a book in the image make sure all books are extracted"
   ]
  },
  {
   "cell_type": "markdown",
   "metadata": {
    "heading_collapsed": true,
    "hidden": true
   },
   "source": [
    "## Level 2"
   ]
  },
  {
   "cell_type": "markdown",
   "metadata": {
    "heading_collapsed": true,
    "hidden": true
   },
   "source": [
    "### Identify shapes"
   ]
  },
  {
   "cell_type": "markdown",
   "metadata": {
    "hidden": true
   },
   "source": [
    "1. Make a function that given an image with different types of regular shapes (triangles, squares, rectangles, circles, penthagons, exagons etc) it can detect and __draw a blue contour around the triangles__ \n",
    "2. Extend the function so it draws a green contour around the penthagons\n",
    "3. Now we also need to detect rectangles, make sure squares are not being confused by rectangles\n",
    "4. Make sure only the external contours are drawn on the shapes\n",
    "5. Add the name of the shape on top of each image\n",
    "6. Only draw the contour around the biggest shape of each type"
   ]
  },
  {
   "cell_type": "markdown",
   "metadata": {
    "heading_collapsed": true,
    "hidden": true
   },
   "source": [
    "## Level 3"
   ]
  },
  {
   "cell_type": "markdown",
   "metadata": {
    "heading_collapsed": true,
    "hidden": true
   },
   "source": [
    "### Coins  counter"
   ]
  },
  {
   "cell_type": "markdown",
   "metadata": {
    "hidden": true
   },
   "source": [
    "1. Create a function that can detect coins and draw  controur around them\n",
    "2. Count how may coins there are in the image and put it in text on top of the image\n",
    "3.Crop each coin and save the images on disk, display them on screen, the cropped coin should not have the contour on it\n",
    "4. Train a image classifier to detect which coins are on the image\n",
    "5. Put it all together and from the picture of some coins give the total amount of money \n",
    " "
   ]
  },
  {
   "cell_type": "markdown",
   "metadata": {
    "heading_collapsed": true,
    "hidden": true
   },
   "source": [
    "## Level 4"
   ]
  },
  {
   "cell_type": "markdown",
   "metadata": {
    "hidden": true
   },
   "source": [
    "### Sudoku Solver"
   ]
  },
  {
   "cell_type": "markdown",
   "metadata": {
    "hidden": true
   },
   "source": [
    "1. Create function that given an image of a Sudoku game crops and extracts each cell \n",
    "1. Extract the number from each cropped cell (if blank extract it as 0)\n",
    "1. Place the extracted numbers in an array (each block of 9 numbers is one array)\n",
    "1. Apply the sudoku solver to the array to get the solution\n",
    "1. Write the solution numbers in the cells"
   ]
  },
  {
   "cell_type": "code",
   "execution_count": null,
   "metadata": {
    "hidden": true
   },
   "outputs": [],
   "source": []
  }
 ],
 "metadata": {
  "kernelspec": {
   "display_name": "Python 3",
   "language": "python",
   "name": "python3"
  },
  "language_info": {
   "codemirror_mode": {
    "name": "ipython",
    "version": 3
   },
   "file_extension": ".py",
   "mimetype": "text/x-python",
   "name": "python",
   "nbconvert_exporter": "python",
   "pygments_lexer": "ipython3",
   "version": "3.7.3"
  }
 },
 "nbformat": 4,
 "nbformat_minor": 2
}
