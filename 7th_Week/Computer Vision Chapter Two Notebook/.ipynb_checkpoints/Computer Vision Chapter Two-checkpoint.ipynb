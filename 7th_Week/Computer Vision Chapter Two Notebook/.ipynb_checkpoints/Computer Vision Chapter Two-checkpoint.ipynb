{
 "cells": [
  {
   "cell_type": "markdown",
   "metadata": {},
   "source": [
    "# Computer Vision Chapter Two"
   ]
  },
  {
   "cell_type": "markdown",
   "metadata": {},
   "source": [
    "## Import Statements"
   ]
  },
  {
   "cell_type": "code",
   "execution_count": 1,
   "metadata": {
    "ExecuteTime": {
     "end_time": "2019-08-20T09:28:41.991174Z",
     "start_time": "2019-08-20T09:28:41.448175Z"
    }
   },
   "outputs": [],
   "source": [
    "import cv2\n",
    "import numpy as np\n",
    "import matplotlib.pyplot as plt\n",
    "%matplotlib inline"
   ]
  },
  {
   "cell_type": "code",
   "execution_count": null,
   "metadata": {
    "ExecuteTime": {
     "end_time": "2019-08-20T09:28:42.020689Z",
     "start_time": "2019-08-20T09:28:41.994675Z"
    }
   },
   "outputs": [],
   "source": [
    "cv2.__version__"
   ]
  },
  {
   "cell_type": "markdown",
   "metadata": {},
   "source": [
    "## Helper Functions"
   ]
  },
  {
   "cell_type": "code",
   "execution_count": 2,
   "metadata": {
    "ExecuteTime": {
     "end_time": "2019-08-20T09:28:42.362720Z",
     "start_time": "2019-08-20T09:28:42.352672Z"
    }
   },
   "outputs": [],
   "source": [
    "def showImg(img, title = ''):\n",
    "    plt.figure(figsize = (20,15));\n",
    "    plt.title(title)\n",
    "    plt.imshow(cv2.cvtColor(img,cv2.COLOR_BGR2RGB))\n",
    "\n",
    "def showGrayScaleImg(img, title = ''):\n",
    "    plt.figure(figsize = (20,15));\n",
    "    plt.title(title)\n",
    "    plt.imshow(img, cmap='gray')"
   ]
  },
  {
   "cell_type": "markdown",
   "metadata": {},
   "source": [
    "## Afine transformations"
   ]
  },
  {
   "cell_type": "markdown",
   "metadata": {},
   "source": [
    "### Translations"
   ]
  },
  {
   "cell_type": "code",
   "execution_count": null,
   "metadata": {
    "ExecuteTime": {
     "end_time": "2019-08-20T09:29:01.797614Z",
     "start_time": "2019-08-20T09:29:01.762611Z"
    }
   },
   "outputs": [],
   "source": [
    "barcelona = cv2.imread('img/barcelona.jpg');"
   ]
  },
  {
   "cell_type": "code",
   "execution_count": null,
   "metadata": {
    "ExecuteTime": {
     "end_time": "2019-08-20T09:29:05.193444Z",
     "start_time": "2019-08-20T09:29:03.440448Z"
    },
    "scrolled": false
   },
   "outputs": [],
   "source": [
    "showImg(barcelona)"
   ]
  },
  {
   "cell_type": "code",
   "execution_count": null,
   "metadata": {
    "ExecuteTime": {
     "end_time": "2019-08-20T09:58:10.807659Z",
     "start_time": "2019-08-20T09:58:10.803658Z"
    }
   },
   "outputs": [],
   "source": [
    "height, width = barcelona.shape[:2]"
   ]
  },
  {
   "cell_type": "code",
   "execution_count": null,
   "metadata": {
    "ExecuteTime": {
     "end_time": "2019-08-20T08:27:14.501584Z",
     "start_time": "2019-08-20T08:27:14.484636Z"
    }
   },
   "outputs": [],
   "source": [
    "print(\n",
    "    f'The image height is: {height} pixels\\nThe image Width is: {width} pixels'\n",
    ")"
   ]
  },
  {
   "cell_type": "code",
   "execution_count": null,
   "metadata": {
    "ExecuteTime": {
     "end_time": "2019-08-20T08:32:55.704286Z",
     "start_time": "2019-08-20T08:32:55.697782Z"
    }
   },
   "outputs": [],
   "source": [
    "translation_matrix = np.float32(\n",
    "    [\n",
    "        [1, 0, 100], # Translation in the x axis\n",
    "        [0, 1, 300] # translation in the y axis\n",
    "    ])"
   ]
  },
  {
   "cell_type": "code",
   "execution_count": null,
   "metadata": {
    "ExecuteTime": {
     "end_time": "2019-08-20T08:33:02.011444Z",
     "start_time": "2019-08-20T08:33:00.536440Z"
    }
   },
   "outputs": [],
   "source": [
    "barcelona_img_translation = cv2.warpAffine(barcelona, translation_matrix,\n",
    "                                           (width, height))\n",
    "showImg(barcelona_img_translation)"
   ]
  },
  {
   "cell_type": "markdown",
   "metadata": {},
   "source": [
    "### Rotation"
   ]
  },
  {
   "cell_type": "code",
   "execution_count": null,
   "metadata": {
    "ExecuteTime": {
     "end_time": "2019-08-20T08:45:38.337408Z",
     "start_time": "2019-08-20T08:45:38.324080Z"
    }
   },
   "outputs": [],
   "source": [
    "x_center = width / 2\n",
    "y_center = height / 2\n",
    "angle_of_rotation = 0\n",
    "scale = 0.5\n",
    "rotation_matrix = cv2.getRotationMatrix2D((x_center, y_center),\n",
    "                                          angle_of_rotation, scale)"
   ]
  },
  {
   "cell_type": "code",
   "execution_count": null,
   "metadata": {
    "ExecuteTime": {
     "end_time": "2019-08-20T08:45:38.990407Z",
     "start_time": "2019-08-20T08:45:38.976968Z"
    }
   },
   "outputs": [],
   "source": [
    "rotation_matrix"
   ]
  },
  {
   "cell_type": "code",
   "execution_count": null,
   "metadata": {
    "ExecuteTime": {
     "end_time": "2019-08-20T08:46:22.080954Z",
     "start_time": "2019-08-20T08:46:21.233457Z"
    }
   },
   "outputs": [],
   "source": [
    "barcelona_img_rotated = cv2.warpAffine(barcelona, rotation_matrix,\n",
    "                                       (width, height))\n",
    "showImg(barcelona_img_rotated)"
   ]
  },
  {
   "cell_type": "code",
   "execution_count": null,
   "metadata": {
    "ExecuteTime": {
     "end_time": "2019-08-20T08:43:51.404366Z",
     "start_time": "2019-08-20T08:43:50.393861Z"
    }
   },
   "outputs": [],
   "source": [
    "barcelona_img_rotated = cv2.transpose(barcelona);\n",
    "showImg(barcelona_img_rotated)  "
   ]
  },
  {
   "cell_type": "markdown",
   "metadata": {},
   "source": [
    "### Scaling images"
   ]
  },
  {
   "cell_type": "markdown",
   "metadata": {},
   "source": [
    "#### Interpolation methods"
   ]
  },
  {
   "cell_type": "markdown",
   "metadata": {},
   "source": [
    "* INTER_NEAREST - a nearest-neighbor interpolation (Fastest)\n",
    "* INTER_LINEAR - a bilinear interpolation (used by default) (good for upsampling)\n",
    "* INTER_AREA - resampling using pixel area relation. It may be a preferred method for image decimation, as it gives moire’-free results. But when the image is zoomed, it is similar to the INTER_NEAREST method. (Good for downsampling)\n",
    "* INTER_CUBIC - a bicubic interpolation over 4x4 pixel neighborhood (Better)\n",
    "* INTER_LANCZOS4 - a Lanczos interpolation over 8x8 pixel neighborhood (Best one)"
   ]
  },
  {
   "cell_type": "markdown",
   "metadata": {},
   "source": [
    "#### Downsampling"
   ]
  },
  {
   "cell_type": "code",
   "execution_count": null,
   "metadata": {
    "ExecuteTime": {
     "end_time": "2019-08-20T08:46:39.369678Z",
     "start_time": "2019-08-20T08:46:38.862661Z"
    }
   },
   "outputs": [],
   "source": [
    "apple = cv2.imread('img/apple.png')\n",
    "showImg(apple)"
   ]
  },
  {
   "cell_type": "code",
   "execution_count": null,
   "metadata": {
    "ExecuteTime": {
     "end_time": "2019-08-20T08:47:04.003946Z",
     "start_time": "2019-08-20T08:47:03.514950Z"
    }
   },
   "outputs": [],
   "source": [
    "apple_height, apple_width = apple.shape[:2]\n",
    "apple_resized = cv2.resize(apple, (apple_width // 2, apple_height // 2),\n",
    "                           interpolation=cv2.INTER_NEAREST)\n",
    "showImg(apple_resized)"
   ]
  },
  {
   "cell_type": "code",
   "execution_count": null,
   "metadata": {
    "ExecuteTime": {
     "end_time": "2019-08-20T08:51:50.343727Z",
     "start_time": "2019-08-20T08:51:49.867251Z"
    }
   },
   "outputs": [],
   "source": [
    "apple_height, apple_width = apple.shape[:2]\n",
    "apple_resized = cv2.resize(apple, (apple_width // 2, apple_height // 2),\n",
    "                           interpolation=cv2.INTER_AREA)\n",
    "showImg(apple_resized)"
   ]
  },
  {
   "cell_type": "code",
   "execution_count": null,
   "metadata": {
    "ExecuteTime": {
     "end_time": "2019-08-20T08:54:52.987535Z",
     "start_time": "2019-08-20T08:54:52.325868Z"
    },
    "scrolled": true
   },
   "outputs": [],
   "source": [
    "apple_resized = cv2.resize(apple,\n",
    "                           None,\n",
    "                           fx=0.5,\n",
    "                           fy=0.5,\n",
    "                           interpolation=cv2.INTER_LANCZOS4)\n",
    "showImg(apple_resized)"
   ]
  },
  {
   "cell_type": "code",
   "execution_count": null,
   "metadata": {
    "ExecuteTime": {
     "end_time": "2019-08-20T08:57:47.712962Z",
     "start_time": "2019-08-20T08:57:47.093957Z"
    }
   },
   "outputs": [],
   "source": [
    "apple_resized = cv2.resize(apple, (apple_width // 2, apple_height // 2),\n",
    "                           interpolation=cv2.INTER_LINEAR)\n",
    "showImg(apple_resized)"
   ]
  },
  {
   "cell_type": "code",
   "execution_count": null,
   "metadata": {
    "ExecuteTime": {
     "end_time": "2019-08-20T08:57:54.999344Z",
     "start_time": "2019-08-20T08:57:54.518988Z"
    },
    "scrolled": false
   },
   "outputs": [],
   "source": [
    "apple_resized = cv2.resize(apple,(apple_width//2,apple_height//2),interpolation = cv2.INTER_CUBIC)\n",
    "showImg(apple_resized) "
   ]
  },
  {
   "cell_type": "markdown",
   "metadata": {},
   "source": [
    "#### Upsampling"
   ]
  },
  {
   "cell_type": "code",
   "execution_count": null,
   "metadata": {
    "ExecuteTime": {
     "end_time": "2019-08-20T08:59:05.456972Z",
     "start_time": "2019-08-20T08:59:04.219970Z"
    }
   },
   "outputs": [],
   "source": [
    "apple_resized = cv2.resize(apple,\n",
    "                           None,\n",
    "                           fx=8,\n",
    "                           fy=8,\n",
    "                           interpolation=cv2.INTER_LANCZOS4)\n",
    "showImg(apple_resized)"
   ]
  },
  {
   "cell_type": "code",
   "execution_count": null,
   "metadata": {
    "ExecuteTime": {
     "end_time": "2019-08-20T08:59:33.857468Z",
     "start_time": "2019-08-20T08:59:32.705475Z"
    }
   },
   "outputs": [],
   "source": [
    "apple_resized = cv2.resize(apple,\n",
    "                           None,\n",
    "                           fx=8,\n",
    "                           fy=8,\n",
    "                           interpolation=cv2.INTER_AREA)\n",
    "showImg(apple_resized)"
   ]
  },
  {
   "cell_type": "code",
   "execution_count": null,
   "metadata": {
    "ExecuteTime": {
     "end_time": "2019-08-20T09:00:15.119726Z",
     "start_time": "2019-08-20T09:00:13.430721Z"
    }
   },
   "outputs": [],
   "source": [
    "apple_resized = cv2.resize(apple,\n",
    "                           None,\n",
    "                           fx=8,\n",
    "                           fy=8,\n",
    "                           interpolation=cv2.INTER_LINEAR)\n",
    "showImg(apple_resized)"
   ]
  },
  {
   "cell_type": "code",
   "execution_count": null,
   "metadata": {
    "ExecuteTime": {
     "end_time": "2019-08-20T09:00:40.119563Z",
     "start_time": "2019-08-20T09:00:38.887065Z"
    }
   },
   "outputs": [],
   "source": [
    "apple_resized = cv2.resize(apple,\n",
    "                           None,\n",
    "                           fx=8,\n",
    "                           fy=8,\n",
    "                           interpolation=cv2.INTER_NEAREST)\n",
    "showImg(apple_resized)"
   ]
  },
  {
   "cell_type": "markdown",
   "metadata": {},
   "source": [
    "## Image Pyramids"
   ]
  },
  {
   "cell_type": "markdown",
   "metadata": {},
   "source": [
    "#### Gaussian pyramid (downsampling)"
   ]
  },
  {
   "cell_type": "code",
   "execution_count": null,
   "metadata": {
    "ExecuteTime": {
     "end_time": "2019-08-20T09:29:48.595679Z",
     "start_time": "2019-08-20T09:29:32.944734Z"
    },
    "scrolled": false
   },
   "outputs": [],
   "source": [
    "bcn_copy = barcelona.copy()\n",
    "for i in range(5):\n",
    "    bcn_copy = cv2.pyrDown(bcn_copy)\n",
    "    cv2.imshow('pyr',bcn_copy)\n",
    "    cv2.waitKey(3000)\n",
    "    cv2.destroyAllWindows()"
   ]
  },
  {
   "cell_type": "markdown",
   "metadata": {},
   "source": [
    "#### Laplacian Pyramids"
   ]
  },
  {
   "cell_type": "code",
   "execution_count": null,
   "metadata": {
    "ExecuteTime": {
     "end_time": "2019-08-20T09:31:06.934321Z",
     "start_time": "2019-08-20T09:31:00.366759Z"
    },
    "scrolled": false
   },
   "outputs": [],
   "source": [
    "bcn_copy = barcelona.copy()\n",
    "for i in range(2):\n",
    "    bcn_copy = cv2.pyrUp(bcn_copy)\n",
    "    showImg(bcn_copy)"
   ]
  },
  {
   "cell_type": "markdown",
   "metadata": {},
   "source": [
    "You can learn more about image pyramids here: [Image Pyramids](https://docs.opencv.org/3.1.0/dc/dff/tutorial_py_pyramids.html)"
   ]
  },
  {
   "cell_type": "markdown",
   "metadata": {},
   "source": [
    "##  Cropping"
   ]
  },
  {
   "cell_type": "code",
   "execution_count": null,
   "metadata": {
    "ExecuteTime": {
     "end_time": "2019-08-20T09:33:06.975194Z",
     "start_time": "2019-08-20T09:33:03.992196Z"
    },
    "scrolled": true
   },
   "outputs": [],
   "source": [
    "showImg(barcelona)"
   ]
  },
  {
   "cell_type": "code",
   "execution_count": null,
   "metadata": {
    "ExecuteTime": {
     "end_time": "2019-08-20T09:34:36.740015Z",
     "start_time": "2019-08-20T09:34:36.274518Z"
    }
   },
   "outputs": [],
   "source": [
    "start_row = 220\n",
    "end_row = 450\n",
    "\n",
    "start_col = 570\n",
    "end_col = 630\n",
    "\n",
    "cropped_img = barcelona[start_row:end_row, start_col:end_col]\n",
    "showImg(cropped_img)"
   ]
  },
  {
   "cell_type": "markdown",
   "metadata": {},
   "source": [
    "## Brightening and darkening images"
   ]
  },
  {
   "cell_type": "code",
   "execution_count": null,
   "metadata": {
    "ExecuteTime": {
     "end_time": "2019-08-20T09:56:38.906906Z",
     "start_time": "2019-08-20T09:56:33.357428Z"
    },
    "scrolled": true
   },
   "outputs": [],
   "source": [
    "pixel_values_matrix = np.ones(barcelona.shape, dtype= \"uint8\") * 50\n",
    "\n",
    "brightened_image = cv2.add(barcelona,pixel_values_matrix)\n",
    "showImg(barcelona)\n",
    "showImg(brightened_image)"
   ]
  },
  {
   "cell_type": "code",
   "execution_count": null,
   "metadata": {
    "ExecuteTime": {
     "end_time": "2019-08-20T09:55:03.300457Z",
     "start_time": "2019-08-20T09:55:01.798455Z"
    }
   },
   "outputs": [],
   "source": [
    "dark_image = cv2.subtract(barcelona,pixel_values_matrix)\n",
    "showImg(dark_image)"
   ]
  },
  {
   "cell_type": "code",
   "execution_count": null,
   "metadata": {
    "ExecuteTime": {
     "end_time": "2019-08-20T09:59:50.721472Z",
     "start_time": "2019-08-20T09:59:49.081968Z"
    },
    "scrolled": false
   },
   "outputs": [],
   "source": [
    "B, G, R = cv2.split(barcelona)\n",
    "\n",
    "height, width = barcelona.shape[:2]\n",
    "\n",
    "pixel_values_matrix_one_channel = np.ones((height, width), dtype=\"uint8\") * 200\n",
    "\n",
    "B = cv2.add(B, pixel_values_matrix_one_channel)\n",
    "\n",
    "modified_img = cv2.merge([B, G, R])\n",
    "showImg(modified_img)"
   ]
  },
  {
   "cell_type": "code",
   "execution_count": null,
   "metadata": {
    "ExecuteTime": {
     "end_time": "2019-08-20T09:59:59.263170Z",
     "start_time": "2019-08-20T09:59:57.795260Z"
    }
   },
   "outputs": [],
   "source": [
    "B, G, R = cv2.split(barcelona)\n",
    "\n",
    "modified_img = cv2.merge([B+100,G,R])\n",
    "showImg(modified_img)"
   ]
  },
  {
   "cell_type": "code",
   "execution_count": null,
   "metadata": {
    "ExecuteTime": {
     "end_time": "2019-08-20T10:06:00.135063Z",
     "start_time": "2019-08-20T10:05:58.667065Z"
    }
   },
   "outputs": [],
   "source": [
    "B, G, R = cv2.split(barcelona)\n",
    "\n",
    "pixel_values_matrix_one_channel = np.ones((height, width), dtype= \"uint8\") * 50\n",
    "\n",
    "G = cv2.add(G,pixel_values_matrix_one_channel)\n",
    "\n",
    "modified_img = cv2.merge([B,G,R])\n",
    "showImg(modified_img)"
   ]
  },
  {
   "cell_type": "code",
   "execution_count": null,
   "metadata": {
    "ExecuteTime": {
     "end_time": "2019-08-20T10:06:10.006941Z",
     "start_time": "2019-08-20T10:06:08.299444Z"
    }
   },
   "outputs": [],
   "source": [
    "B, G, R = cv2.split(barcelona)\n",
    "\n",
    "pixel_values_matrix_one_channel = np.ones((height, width), dtype= \"uint8\") * 100\n",
    "\n",
    "R = cv2.add(R,pixel_values_matrix_one_channel)\n",
    "\n",
    "modified_img = cv2.merge([B,G,R])\n",
    "showImg(modified_img)"
   ]
  },
  {
   "cell_type": "code",
   "execution_count": null,
   "metadata": {
    "ExecuteTime": {
     "end_time": "2019-08-20T10:06:21.084421Z",
     "start_time": "2019-08-20T10:06:19.413416Z"
    }
   },
   "outputs": [],
   "source": [
    "B, G, R = cv2.split(barcelona)\n",
    "\n",
    "pixel_values_matrix_one_channel = np.ones((height, width), dtype= \"uint8\") * 100\n",
    "\n",
    "R = cv2.subtract(R,pixel_values_matrix_one_channel)\n",
    "\n",
    "modified_img = cv2.merge([B,G,R])\n",
    "showImg(modified_img)"
   ]
  },
  {
   "cell_type": "markdown",
   "metadata": {},
   "source": [
    "## Challenge time!"
   ]
  },
  {
   "cell_type": "markdown",
   "metadata": {},
   "source": [
    "With what you already know try to clean up this image"
   ]
  },
  {
   "cell_type": "code",
   "execution_count": null,
   "metadata": {
    "ExecuteTime": {
     "end_time": "2019-08-20T10:07:04.237392Z",
     "start_time": "2019-08-20T10:07:03.315396Z"
    }
   },
   "outputs": [],
   "source": [
    "text_img = cv2.imread('img/text.png')\n",
    "showImg(text_img)\n"
   ]
  },
  {
   "cell_type": "markdown",
   "metadata": {},
   "source": [
    "It should look similar to this:"
   ]
  },
  {
   "cell_type": "code",
   "execution_count": null,
   "metadata": {
    "ExecuteTime": {
     "end_time": "2019-08-20T10:07:24.652982Z",
     "start_time": "2019-08-20T10:07:23.742517Z"
    }
   },
   "outputs": [],
   "source": [
    "clear_text_img = cv2.imread('img/clean-text.jpg') \n",
    "showImg(clear_text_img)"
   ]
  },
  {
   "cell_type": "markdown",
   "metadata": {},
   "source": [
    "#### Solution"
   ]
  },
  {
   "cell_type": "code",
   "execution_count": null,
   "metadata": {
    "ExecuteTime": {
     "end_time": "2019-08-20T10:21:38.852086Z",
     "start_time": "2019-08-20T10:21:38.106590Z"
    }
   },
   "outputs": [],
   "source": [
    "pixel_values_matrix = np.ones(text_img.shape, dtype= \"uint8\") * 90\n",
    "brightened_image = cv2.add(text_img,pixel_values_matrix)\n",
    "showImg(brightened_image)"
   ]
  },
  {
   "cell_type": "code",
   "execution_count": null,
   "metadata": {
    "ExecuteTime": {
     "end_time": "2019-08-20T10:21:39.992567Z",
     "start_time": "2019-08-20T10:21:39.969565Z"
    },
    "scrolled": true
   },
   "outputs": [],
   "source": [
    "hsv = cv2.cvtColor(brightened_image,cv2.COLOR_BGR2HSV)"
   ]
  },
  {
   "cell_type": "code",
   "execution_count": null,
   "metadata": {
    "ExecuteTime": {
     "end_time": "2019-08-20T10:21:47.974669Z",
     "start_time": "2019-08-20T10:21:47.037166Z"
    }
   },
   "outputs": [],
   "source": [
    "hsv = cv2.cvtColor(brightened_image,cv2.COLOR_BGR2HSV)\n",
    "lower_range = (0,0,150)\n",
    "upper_range = (0,0,255)\n",
    "mask = cv2.inRange(hsv,lower_range,upper_range)\n",
    "\n",
    "masked_image = np.copy(brightened_image)\n",
    "masked_image[mask == 0] = [0,0,0]\n",
    "\n",
    "blur = cv2.bilateralFilter(masked_image,9,75,75)\n",
    "showImg(blur)\n",
    "cv2.imwrite('img/clean-text.jpg', blur)"
   ]
  },
  {
   "cell_type": "markdown",
   "metadata": {},
   "source": [
    "## Bitwise operations"
   ]
  },
  {
   "cell_type": "code",
   "execution_count": null,
   "metadata": {
    "ExecuteTime": {
     "end_time": "2019-08-20T10:48:08.869301Z",
     "start_time": "2019-08-20T10:48:08.317806Z"
    },
    "scrolled": true
   },
   "outputs": [],
   "source": [
    "canvas = np.zeros((400,400), np.uint8)\n",
    "showImg(canvas)"
   ]
  },
  {
   "cell_type": "code",
   "execution_count": null,
   "metadata": {
    "ExecuteTime": {
     "end_time": "2019-08-20T10:48:23.031905Z",
     "start_time": "2019-08-20T10:48:22.489902Z"
    },
    "scrolled": true
   },
   "outputs": [],
   "source": [
    "square = canvas.copy()\n",
    "cv2.rectangle(square,(50,50),(250,250),255,-1)\n",
    "showImg(square)"
   ]
  },
  {
   "cell_type": "code",
   "execution_count": null,
   "metadata": {
    "ExecuteTime": {
     "end_time": "2019-08-20T10:48:32.055635Z",
     "start_time": "2019-08-20T10:48:31.293134Z"
    },
    "scrolled": true
   },
   "outputs": [],
   "source": [
    "circle = canvas.copy()\n",
    "cv2.circle(circle,(200,200),100,255,-1)\n",
    "showImg(circle)"
   ]
  },
  {
   "cell_type": "code",
   "execution_count": null,
   "metadata": {
    "ExecuteTime": {
     "end_time": "2019-08-20T10:49:34.903261Z",
     "start_time": "2019-08-20T10:49:34.253265Z"
    },
    "scrolled": true
   },
   "outputs": [],
   "source": [
    "and_operation = cv2.bitwise_and(square, circle)\n",
    "showImg(and_operation)"
   ]
  },
  {
   "cell_type": "code",
   "execution_count": null,
   "metadata": {
    "ExecuteTime": {
     "end_time": "2019-08-20T10:50:17.437330Z",
     "start_time": "2019-08-20T10:50:16.897828Z"
    },
    "scrolled": true
   },
   "outputs": [],
   "source": [
    "or_operation = cv2.bitwise_or(circle,square)\n",
    "showImg(or_operation)"
   ]
  },
  {
   "cell_type": "code",
   "execution_count": null,
   "metadata": {
    "ExecuteTime": {
     "end_time": "2019-08-20T10:50:51.552083Z",
     "start_time": "2019-08-20T10:50:50.997092Z"
    },
    "scrolled": true
   },
   "outputs": [],
   "source": [
    "not_operation = cv2.bitwise_not(square)\n",
    "showImg(not_operation)"
   ]
  },
  {
   "cell_type": "code",
   "execution_count": null,
   "metadata": {
    "ExecuteTime": {
     "end_time": "2019-08-20T10:51:09.289639Z",
     "start_time": "2019-08-20T10:51:08.782143Z"
    }
   },
   "outputs": [],
   "source": [
    "xor_operation = cv2.bitwise_xor(square,circle)\n",
    "showImg(xor_operation)"
   ]
  },
  {
   "cell_type": "markdown",
   "metadata": {},
   "source": [
    "## Blur"
   ]
  },
  {
   "cell_type": "code",
   "execution_count": null,
   "metadata": {
    "ExecuteTime": {
     "end_time": "2019-08-20T10:59:06.464656Z",
     "start_time": "2019-08-20T10:59:04.653657Z"
    }
   },
   "outputs": [],
   "source": [
    "showImg(barcelona)"
   ]
  },
  {
   "cell_type": "code",
   "execution_count": null,
   "metadata": {
    "ExecuteTime": {
     "end_time": "2019-08-20T11:05:06.292304Z",
     "start_time": "2019-08-20T11:05:06.285305Z"
    }
   },
   "outputs": [],
   "source": [
    "kernel = np.ones((7,7),np.float32)/49\n",
    "print(kernel)\n",
    "blur_img = cv2.filter2D(barcelona,-1,kernel)\n",
    "showImg(blur_img)"
   ]
  },
  {
   "cell_type": "code",
   "execution_count": null,
   "metadata": {
    "ExecuteTime": {
     "end_time": "2019-08-20T11:11:43.368049Z",
     "start_time": "2019-08-20T11:11:41.521054Z"
    }
   },
   "outputs": [],
   "source": [
    "gaussia_blur = cv2.GaussianBlur(barcelona,(7,7),0)\n",
    "showImg(gaussia_blur)"
   ]
  },
  {
   "cell_type": "code",
   "execution_count": null,
   "metadata": {
    "ExecuteTime": {
     "end_time": "2019-08-20T11:11:54.681097Z",
     "start_time": "2019-08-20T11:11:52.797099Z"
    }
   },
   "outputs": [],
   "source": [
    "blur = cv2.blur(barcelona,(5,5))\n",
    "showImg(blur)"
   ]
  },
  {
   "cell_type": "code",
   "execution_count": null,
   "metadata": {
    "ExecuteTime": {
     "end_time": "2019-08-20T11:14:41.907920Z",
     "start_time": "2019-08-20T11:14:39.748918Z"
    }
   },
   "outputs": [],
   "source": [
    "blur = cv2.medianBlur(barcelona,5)\n",
    "showImg(blur)"
   ]
  },
  {
   "cell_type": "code",
   "execution_count": null,
   "metadata": {
    "ExecuteTime": {
     "end_time": "2019-08-20T11:13:57.064857Z",
     "start_time": "2019-08-20T11:13:55.105862Z"
    }
   },
   "outputs": [],
   "source": [
    "blur = cv2.bilateralFilter(barcelona,9,75,75)\n",
    "showImg(blur)"
   ]
  },
  {
   "cell_type": "markdown",
   "metadata": {},
   "source": [
    "## Sharpening"
   ]
  },
  {
   "cell_type": "code",
   "execution_count": null,
   "metadata": {
    "ExecuteTime": {
     "end_time": "2019-08-20T11:25:39.226303Z",
     "start_time": "2019-08-20T11:25:39.217306Z"
    }
   },
   "outputs": [],
   "source": [
    "sharpening_kernel = np.ones((3,3),np.float32)* -1\n",
    "sharpening_kernel[1,1] =9\n",
    "sharpening_kernel"
   ]
  },
  {
   "cell_type": "code",
   "execution_count": null,
   "metadata": {
    "ExecuteTime": {
     "end_time": "2019-08-20T11:25:44.313635Z",
     "start_time": "2019-08-20T11:25:42.690139Z"
    },
    "scrolled": false
   },
   "outputs": [],
   "source": [
    "sharp_img = cv2.filter2D(barcelona,-1,sharpening_kernel)\n",
    "showImg(sharp_img)"
   ]
  },
  {
   "cell_type": "code",
   "execution_count": null,
   "metadata": {
    "ExecuteTime": {
     "end_time": "2019-08-20T11:26:03.879800Z",
     "start_time": "2019-08-20T11:26:03.873681Z"
    }
   },
   "outputs": [],
   "source": [
    "sharpening_kernel = np.ones((3,3),np.float32)* -1\n",
    "sharpening_kernel[1,1] =9"
   ]
  },
  {
   "cell_type": "code",
   "execution_count": null,
   "metadata": {
    "ExecuteTime": {
     "end_time": "2019-08-20T11:26:04.599201Z",
     "start_time": "2019-08-20T11:26:04.582692Z"
    }
   },
   "outputs": [],
   "source": [
    "sharpening_kernel"
   ]
  },
  {
   "cell_type": "code",
   "execution_count": null,
   "metadata": {
    "ExecuteTime": {
     "end_time": "2019-08-11T08:09:59.451057Z",
     "start_time": "2019-08-11T08:09:55.980884Z"
    }
   },
   "outputs": [],
   "source": [
    "sharp_img = cv2.filter2D(barcelona,-1,sharpening_kernel)\n",
    "showImg(sharp_img)"
   ]
  },
  {
   "cell_type": "code",
   "execution_count": null,
   "metadata": {
    "ExecuteTime": {
     "end_time": "2019-08-20T11:26:14.476403Z",
     "start_time": "2019-08-20T11:26:12.693405Z"
    }
   },
   "outputs": [],
   "source": [
    "yet_another_kernel = np.array(\n",
    "    [[  0  , -.5 ,    0 ],\n",
    "     [-.5 ,   3  , -.5 ],\n",
    "     [  0  , -.5 ,    0 ]], \n",
    "    np.float32)\n",
    "\n",
    "sharp_img = cv2.filter2D(barcelona,-1,yet_another_kernel)\n",
    "showImg(sharp_img)"
   ]
  },
  {
   "cell_type": "code",
   "execution_count": null,
   "metadata": {
    "ExecuteTime": {
     "end_time": "2019-08-20T11:26:25.304339Z",
     "start_time": "2019-08-20T11:26:23.782840Z"
    }
   },
   "outputs": [],
   "source": [
    "edge_detection_kernel = np.ones((3,3),np.float32)* -1\n",
    "edge_detection_kernel[1,1] = 8\n",
    "edges_img = cv2.filter2D(barcelona,-1,edge_detection_kernel)\n",
    "showImg(edges_img)"
   ]
  },
  {
   "cell_type": "code",
   "execution_count": null,
   "metadata": {
    "ExecuteTime": {
     "end_time": "2019-08-11T08:10:05.009590Z",
     "start_time": "2019-08-11T08:10:04.991561Z"
    }
   },
   "outputs": [],
   "source": [
    "edge_detection_kernel"
   ]
  },
  {
   "cell_type": "code",
   "execution_count": null,
   "metadata": {
    "ExecuteTime": {
     "end_time": "2019-08-11T08:10:07.092556Z",
     "start_time": "2019-08-11T08:10:05.020559Z"
    }
   },
   "outputs": [],
   "source": [
    "showImg(barcelona)"
   ]
  },
  {
   "cell_type": "markdown",
   "metadata": {},
   "source": [
    "## Binarization also known as Thresholding"
   ]
  },
  {
   "cell_type": "code",
   "execution_count": 3,
   "metadata": {
    "ExecuteTime": {
     "end_time": "2019-08-20T12:44:20.297740Z",
     "start_time": "2019-08-20T12:44:18.843735Z"
    }
   },
   "outputs": [
    {
     "ename": "NameError",
     "evalue": "name 'text_img' is not defined",
     "output_type": "error",
     "traceback": [
      "\u001b[1;31m---------------------------------------------------------------------------\u001b[0m",
      "\u001b[1;31mNameError\u001b[0m                                 Traceback (most recent call last)",
      "\u001b[1;32m<ipython-input-3-0b4dd23b5303>\u001b[0m in \u001b[0;36m<module>\u001b[1;34m\u001b[0m\n\u001b[1;32m----> 1\u001b[1;33m \u001b[0mshowImg\u001b[0m\u001b[1;33m(\u001b[0m\u001b[0mtext_img\u001b[0m\u001b[1;33m)\u001b[0m\u001b[1;33m\u001b[0m\u001b[1;33m\u001b[0m\u001b[0m\n\u001b[0m",
      "\u001b[1;31mNameError\u001b[0m: name 'text_img' is not defined"
     ]
    }
   ],
   "source": [
    "showImg(text_img)"
   ]
  },
  {
   "cell_type": "code",
   "execution_count": null,
   "metadata": {
    "ExecuteTime": {
     "end_time": "2019-08-20T12:50:22.995857Z",
     "start_time": "2019-08-20T12:50:22.990392Z"
    }
   },
   "outputs": [],
   "source": [
    "threshold = 127\n",
    "max_value= 255"
   ]
  },
  {
   "cell_type": "code",
   "execution_count": null,
   "metadata": {
    "ExecuteTime": {
     "end_time": "2019-08-20T12:50:23.349878Z",
     "start_time": "2019-08-20T12:50:23.311354Z"
    }
   },
   "outputs": [],
   "source": [
    "ret1, thresh1 = cv2.threshold(text_img, threshold, max_value,\n",
    "                              cv2.THRESH_BINARY)\n",
    "\n",
    "ret2, thres_binary_inverted = cv2.threshold(text_img, threshold, max_value,\n",
    "                                            cv2.THRESH_BINARY_INV)\n",
    "\n",
    "ret3, thresh3 = cv2.threshold(text_img, threshold, max_value, cv2.THRESH_TRUNC)\n",
    "\n",
    "ret4, thresh4 = cv2.threshold(text_img, threshold, max_value,\n",
    "                              cv2.THRESH_TOZERO)\n",
    "\n",
    "ret5, thresh5 = cv2.threshold(text_img, threshold, max_value,\n",
    "                              cv2.THRESH_TOZERO_INV)"
   ]
  },
  {
   "cell_type": "code",
   "execution_count": null,
   "metadata": {
    "ExecuteTime": {
     "end_time": "2019-08-20T12:49:09.950275Z",
     "start_time": "2019-08-20T12:49:09.933030Z"
    }
   },
   "outputs": [],
   "source": [
    "print(ret1)\n",
    "print(ret2)\n",
    "print(ret3)\n",
    "print(ret4)\n",
    "print(ret5)"
   ]
  },
  {
   "cell_type": "code",
   "execution_count": null,
   "metadata": {
    "ExecuteTime": {
     "end_time": "2019-08-20T12:49:18.290270Z",
     "start_time": "2019-08-20T12:49:11.119266Z"
    },
    "scrolled": true
   },
   "outputs": [],
   "source": [
    "titles = [\n",
    "    'Original Image', 'BINARY', 'BINARY_INV', 'TRUNC', 'TOZERO', 'TOZERO_INV'\n",
    "    ]\n",
    "\n",
    "images = [text_img, thresh1, thres_binary_inverted, thresh3, thresh4, thresh5]\n",
    "\n",
    "for i in range(6):\n",
    "    showImg(images[i], titles[i])"
   ]
  },
  {
   "cell_type": "code",
   "execution_count": null,
   "metadata": {
    "ExecuteTime": {
     "end_time": "2019-08-20T12:55:18.585787Z",
     "start_time": "2019-08-20T12:55:18.538963Z"
    },
    "scrolled": true
   },
   "outputs": [],
   "source": [
    "th2 = cv2.adaptiveThreshold(text_img, 255, cv2.ADAPTIVE_THRESH_MEAN_C,\n",
    "                            cv2.THRESH_BINARY_INV, 11, 2)\n",
    "\n",
    "th3 = cv2.adaptiveThreshold(text_img,255,cv2.ADAPTIVE_THRESH_GAUSSIAN_C,\\\n",
    "            cv2.THRESH_BINARY,11,2)\n",
    "\n",
    "titles = ['ADAPTIVE_THRESH_MEAN_C', 'ADAPTIVE_THRESH_GAUSSIAN_C']\n",
    "images = [th2, th3]\n",
    "for i in range(2):\n",
    "    showImg(images[i], titles[i])"
   ]
  },
  {
   "cell_type": "code",
   "execution_count": null,
   "metadata": {
    "ExecuteTime": {
     "end_time": "2019-08-20T12:59:06.249064Z",
     "start_time": "2019-08-20T12:59:04.364807Z"
    },
    "scrolled": false
   },
   "outputs": [],
   "source": [
    "grayscale_text_img = cv2.cvtColor(text_img, cv2.COLOR_BGR2GRAY)\n",
    "\n",
    "th2 = cv2.adaptiveThreshold(grayscale_text_img, 255,\n",
    "                            cv2.ADAPTIVE_THRESH_MEAN_C, cv2.THRESH_BINARY, 31,\n",
    "                            10)\n",
    "\n",
    "th3 = cv2.adaptiveThreshold(grayscale_text_img,255,\n",
    "                            cv2.ADAPTIVE_THRESH_GAUSSIAN_C,\\\n",
    "                            cv2.THRESH_BINARY,31,10)\n",
    "\n",
    "titles = ['ADAPTIVE_THRESH_MEAN_C', 'ADAPTIVE_THRESH_GAUSSIAN_C']\n",
    "images = [th2, th3]\n",
    "for i in range(2):\n",
    "    showImg(images[i], titles[i])"
   ]
  },
  {
   "cell_type": "code",
   "execution_count": null,
   "metadata": {
    "ExecuteTime": {
     "end_time": "2019-08-20T13:10:05.702946Z",
     "start_time": "2019-08-20T13:10:04.063447Z"
    }
   },
   "outputs": [],
   "source": [
    "notes_img = cv2.imread('img/notes.png',0)\n",
    "showImg(notes_img)"
   ]
  },
  {
   "cell_type": "code",
   "execution_count": null,
   "metadata": {
    "ExecuteTime": {
     "end_time": "2019-08-20T13:12:54.137302Z",
     "start_time": "2019-08-20T13:12:51.916055Z"
    },
    "scrolled": true
   },
   "outputs": [],
   "source": [
    "th2 = cv2.adaptiveThreshold(notes_img,255,cv2.ADAPTIVE_THRESH_MEAN_C,\n",
    "                            cv2.THRESH_BINARY,21,3) \n",
    "\n",
    "th3 = cv2.adaptiveThreshold(notes_img,255,cv2.ADAPTIVE_THRESH_GAUSSIAN_C,\\\n",
    "            cv2.THRESH_BINARY,21,3)\n",
    "\n",
    "titles = ['ADAPTIVE_THRESH_MEAN_C','ADAPTIVE_THRESH_GAUSSIAN_C']\n",
    "images = [th2,th3]\n",
    "for i in range(2):\n",
    "    showImg(images[i],titles[i])"
   ]
  },
  {
   "cell_type": "code",
   "execution_count": null,
   "metadata": {
    "ExecuteTime": {
     "end_time": "2019-08-20T13:23:31.791842Z",
     "start_time": "2019-08-20T13:23:30.155114Z"
    },
    "scrolled": false
   },
   "outputs": [],
   "source": [
    "# Otsu's thresholding\n",
    "ret2, otsu = cv2.threshold(grayscale_text_img, 127, 255,\n",
    "                           cv2.THRESH_BINARY + cv2.THRESH_OTSU)\n",
    "\n",
    "# Otsu's thresholding after Gaussian filtering\n",
    "blur = cv2.GaussianBlur(grayscale_text_img, (5, 5), 0)\n",
    "\n",
    "ret3, otsu_gaussianblur = cv2.threshold(blur, 0, 255,\n",
    "                                        cv2.THRESH_BINARY + cv2.THRESH_OTSU)\n",
    "\n",
    "print(ret3)\n",
    "print(ret2)\n",
    "\n",
    "titles = ['Otsu', 'Otzu after GaussianBlur']\n",
    "images = [otsu, otsu_gaussianblur]\n",
    "\n",
    "for i in range(2):\n",
    "    showImg(images[i], titles[i])"
   ]
  },
  {
   "cell_type": "markdown",
   "metadata": {},
   "source": [
    "## Dilation"
   ]
  },
  {
   "cell_type": "code",
   "execution_count": null,
   "metadata": {
    "ExecuteTime": {
     "end_time": "2019-08-20T13:30:14.054724Z",
     "start_time": "2019-08-20T13:30:13.041621Z"
    }
   },
   "outputs": [],
   "source": [
    "showImg(text_img)"
   ]
  },
  {
   "cell_type": "code",
   "execution_count": null,
   "metadata": {
    "ExecuteTime": {
     "end_time": "2019-08-20T13:33:54.262826Z",
     "start_time": "2019-08-20T13:33:54.249826Z"
    }
   },
   "outputs": [],
   "source": [
    "kernel = np.ones((3,3), np.uint8) \n",
    "dilated_text = cv2.dilate(text_img,kernel, iterations=2)"
   ]
  },
  {
   "cell_type": "code",
   "execution_count": null,
   "metadata": {
    "ExecuteTime": {
     "end_time": "2019-08-20T13:34:08.740380Z",
     "start_time": "2019-08-20T13:34:07.543902Z"
    }
   },
   "outputs": [],
   "source": [
    "showImg(dilated_text)"
   ]
  },
  {
   "cell_type": "code",
   "execution_count": null,
   "metadata": {
    "ExecuteTime": {
     "end_time": "2019-08-20T13:36:13.634902Z",
     "start_time": "2019-08-20T13:36:11.619400Z"
    },
    "scrolled": true
   },
   "outputs": [],
   "source": [
    "showImg(thres_binary_inverted)\n",
    "dilated_text = cv2.dilate(thres_binary_inverted,kernel, iterations=3)\n",
    "showImg(dilated_text)"
   ]
  },
  {
   "cell_type": "markdown",
   "metadata": {},
   "source": [
    "## Erosion"
   ]
  },
  {
   "cell_type": "code",
   "execution_count": null,
   "metadata": {
    "ExecuteTime": {
     "end_time": "2019-08-20T13:37:49.092741Z",
     "start_time": "2019-08-20T13:37:48.242835Z"
    },
    "scrolled": true
   },
   "outputs": [],
   "source": [
    "eroded_text = cv2.erode(thres_binary_inverted,kernel, iterations=1)\n",
    "showImg(eroded_text)"
   ]
  },
  {
   "cell_type": "markdown",
   "metadata": {},
   "source": [
    "## Morphological Transformations: Opening / Closing"
   ]
  },
  {
   "cell_type": "code",
   "execution_count": null,
   "metadata": {
    "ExecuteTime": {
     "end_time": "2019-08-20T13:46:07.033001Z",
     "start_time": "2019-08-20T13:46:04.885509Z"
    }
   },
   "outputs": [],
   "source": [
    "#showImg(text_img)\n",
    "opening = cv2.morphologyEx(text_img, cv2.MORPH_OPEN, kernel, iterations=2)\n",
    "showImg(text_img)\n",
    "showImg(opening)"
   ]
  },
  {
   "cell_type": "code",
   "execution_count": null,
   "metadata": {
    "ExecuteTime": {
     "end_time": "2019-08-20T13:47:40.599833Z",
     "start_time": "2019-08-20T13:47:39.726688Z"
    }
   },
   "outputs": [],
   "source": [
    "#showImg(thres_binary_inverted)\n",
    "opening = cv2.morphologyEx(thres_binary_inverted,\n",
    "                           cv2.MORPH_OPEN,\n",
    "                           kernel,\n",
    "                           iterations=1)\n",
    "showImg(opening)"
   ]
  },
  {
   "cell_type": "code",
   "execution_count": null,
   "metadata": {
    "ExecuteTime": {
     "end_time": "2019-08-20T13:50:48.044968Z",
     "start_time": "2019-08-20T13:50:46.026463Z"
    }
   },
   "outputs": [],
   "source": [
    "showImg(text_img)\n",
    "closing = cv2.morphologyEx(text_img, cv2.MORPH_CLOSE, kernel, iterations=2)\n",
    "showImg(closing)"
   ]
  },
  {
   "cell_type": "code",
   "execution_count": null,
   "metadata": {
    "ExecuteTime": {
     "end_time": "2019-08-20T13:50:59.666849Z",
     "start_time": "2019-08-20T13:50:58.174347Z"
    }
   },
   "outputs": [],
   "source": [
    "showImg(thres_binary_inverted)\n",
    "closing = cv2.morphologyEx(thres_binary_inverted,\n",
    "                           cv2.MORPH_CLOSE,\n",
    "                           kernel,\n",
    "                           iterations=1)\n",
    "showImg(closing)"
   ]
  },
  {
   "cell_type": "code",
   "execution_count": null,
   "metadata": {
    "ExecuteTime": {
     "end_time": "2019-08-20T13:51:10.906665Z",
     "start_time": "2019-08-20T13:51:10.181663Z"
    }
   },
   "outputs": [],
   "source": [
    "#showImg(thres_binary_inverted)\n",
    "closing = cv2.morphologyEx(thres_binary_inverted, cv2.MORPH_RECT, kernel, iterations=1)\n",
    "showImg(closing)"
   ]
  },
  {
   "cell_type": "code",
   "execution_count": null,
   "metadata": {
    "ExecuteTime": {
     "end_time": "2019-08-20T13:51:21.970033Z",
     "start_time": "2019-08-20T13:51:21.957377Z"
    }
   },
   "outputs": [],
   "source": [
    "grayscale_bcn = cv2.cvtColor(barcelona,cv2.COLOR_BGR2GRAY)"
   ]
  },
  {
   "cell_type": "markdown",
   "metadata": {},
   "source": [
    "## Edge detection"
   ]
  },
  {
   "cell_type": "code",
   "execution_count": null,
   "metadata": {
    "ExecuteTime": {
     "end_time": "2019-08-20T14:17:53.097748Z",
     "start_time": "2019-08-20T14:17:51.375253Z"
    },
    "scrolled": false
   },
   "outputs": [],
   "source": [
    "scale = 1\n",
    "delta = 0\n",
    "x_orientation = 1\n",
    "y_orientation = 1\n",
    "ddepth = cv2.CV_16U\n",
    "edges = cv2.Sobel(grayscale_bcn,\n",
    "                  ddepth,\n",
    "                  x_orientation,\n",
    "                  y_orientation,\n",
    "                  ksize=3,\n",
    "                  scale=scale,\n",
    "                  delta=delta,\n",
    "                  borderType=cv2.BORDER_DEFAULT)\n",
    "showImg(edges)"
   ]
  },
  {
   "cell_type": "code",
   "execution_count": null,
   "metadata": {
    "ExecuteTime": {
     "end_time": "2019-08-20T14:20:36.299321Z",
     "start_time": "2019-08-20T14:20:35.268821Z"
    }
   },
   "outputs": [],
   "source": [
    "#showImg(gaussia_blur)\n",
    "edges = cv2.Canny(grayscale_bcn,220,255)\n",
    "showImg(edges)"
   ]
  },
  {
   "cell_type": "markdown",
   "metadata": {},
   "source": [
    "### Min Area"
   ]
  },
  {
   "cell_type": "code",
   "execution_count": null,
   "metadata": {},
   "outputs": [],
   "source": []
  },
  {
   "cell_type": "markdown",
   "metadata": {},
   "source": [
    "## Perspective"
   ]
  },
  {
   "cell_type": "code",
   "execution_count": null,
   "metadata": {
    "ExecuteTime": {
     "end_time": "2019-08-20T14:26:59.541609Z",
     "start_time": "2019-08-20T14:26:57.157639Z"
    },
    "scrolled": true
   },
   "outputs": [],
   "source": [
    "image = cv2.imread('img/scan.jpg')\n",
    "\n",
    "showImg(image)\n",
    "\n",
    "# Cordinates of the 4 corners of the original image\n",
    "points_A = np.float32([[320,15], [700,215], [85,610], [530,780]])\n",
    "\n",
    "# Cordinates of the 4 corners of the desired output\n",
    "# We use a ratio of an A4 Paper 1 : 1.41\n",
    "points_B = np.float32([[0,0], [420,0], [0,594], [420,594]])\n",
    " \n",
    "# Use the two sets of four points to compute \n",
    "# the Perspective Transformation matrix, M    \n",
    "M = cv2.getPerspectiveTransform(points_A, points_B)\n",
    " \n",
    "warped = cv2.warpPerspective(image, M, (420,594))\n",
    "\n",
    "showImg(warped)\n"
   ]
  },
  {
   "cell_type": "markdown",
   "metadata": {},
   "source": [
    "## Skewed Text"
   ]
  },
  {
   "cell_type": "code",
   "execution_count": null,
   "metadata": {
    "ExecuteTime": {
     "end_time": "2019-08-11T09:02:57.624012Z",
     "start_time": "2019-08-11T09:02:57.046027Z"
    }
   },
   "outputs": [],
   "source": [
    "skew_text = cv2.imread('img/skew_text.jpg')\n",
    "showImg(ticket)"
   ]
  },
  {
   "cell_type": "code",
   "execution_count": null,
   "metadata": {
    "ExecuteTime": {
     "end_time": "2019-08-11T09:03:05.095153Z",
     "start_time": "2019-08-11T09:03:04.539154Z"
    }
   },
   "outputs": [],
   "source": [
    "grayscaled_skew_text = cv2.imread('img/skew_text.jpg',0)\n",
    "showImg(grayscaled_skew_text)"
   ]
  },
  {
   "cell_type": "code",
   "execution_count": null,
   "metadata": {
    "ExecuteTime": {
     "end_time": "2019-08-11T09:03:49.541778Z",
     "start_time": "2019-08-11T09:03:48.875781Z"
    },
    "scrolled": false
   },
   "outputs": [],
   "source": [
    "negative_image = cv2.bitwise_not(grayscaled_skew_text)\n",
    "ret, thresh = cv2.threshold(negative_image,0,255,cv2.THRESH_BINARY | cv2.THRESH_OTSU)\n",
    "showGrayScaleImg(thresh)"
   ]
  },
  {
   "cell_type": "code",
   "execution_count": null,
   "metadata": {
    "ExecuteTime": {
     "end_time": "2019-08-11T09:03:58.773033Z",
     "start_time": "2019-08-11T09:03:58.761029Z"
    }
   },
   "outputs": [],
   "source": [
    "coords = np.column_stack(np.where(thresh > 0))\n",
    "angle = cv2.minAreaRect(coords)[-1]\n",
    " \n",
    "# the `cv2.minAreaRect` function returns values in the\n",
    "# range [-90, 0); as the rectangle rotates clockwise the\n",
    "# returned angle trends to 0 -- in this special case we\n",
    "# need to add 90 degrees to the angle\n",
    "if angle < -45:\n",
    "    angle = -(90 + angle)\n",
    " \n",
    "# otherwise, just take the inverse of the angle to make\n",
    "# it positive\n",
    "else:\n",
    "    angle = -angle"
   ]
  },
  {
   "cell_type": "code",
   "execution_count": null,
   "metadata": {
    "ExecuteTime": {
     "end_time": "2019-08-11T09:04:00.814035Z",
     "start_time": "2019-08-11T09:04:00.794039Z"
    }
   },
   "outputs": [],
   "source": [
    "(h, w) = grayscaled_skew_text.shape[:2]\n",
    "center = (w // 2, h // 2)\n",
    "M = cv2.getRotationMatrix2D(center, angle, 1.0)\n",
    "rotated = cv2.warpAffine(grayscaled_skew_text, M, (w, h), flags=cv2.INTER_CUBIC, borderMode=cv2.BORDER_REPLICATE)"
   ]
  },
  {
   "cell_type": "code",
   "execution_count": null,
   "metadata": {
    "ExecuteTime": {
     "end_time": "2019-08-11T09:03:09.604564Z",
     "start_time": "2019-08-11T09:03:09.010569Z"
    }
   },
   "outputs": [],
   "source": [
    "showImg(rotated)"
   ]
  },
  {
   "cell_type": "code",
   "execution_count": null,
   "metadata": {
    "ExecuteTime": {
     "end_time": "2019-08-11T09:10:51.422628Z",
     "start_time": "2019-08-11T09:10:48.678660Z"
    },
    "scrolled": false
   },
   "outputs": [],
   "source": [
    "skew_page = cv2.imread('img/skew_page.png')\n",
    "showImg(skew_page)\n",
    "grayscaled_skew_page = cv2.imread('img/skew_page.png',0)\n",
    "negative_image = cv2.bitwise_not(grayscaled_skew_page)\n",
    "ret, thresh = cv2.threshold(negative_image,0,255,cv2.THRESH_BINARY | cv2.THRESH_OTSU)\n",
    "showGrayScaleImg(thresh)\n",
    "\n",
    "coords = np.column_stack(np.where(thresh > 0))\n",
    "angle = cv2.minAreaRect(coords)[-1]\n",
    "\n",
    "if angle < -45:\n",
    "    angle = -(90 + angle)\n",
    "else:\n",
    "    angle = -angle\n",
    "    \n",
    "(h, w) = grayscaled_skew_page.shape[:2]\n",
    "center = (w // 2, h // 2)\n",
    "M = cv2.getRotationMatrix2D(center, angle, 1.0)\n",
    "rotated = cv2.warpAffine(grayscaled_skew_page, M, (w, h), flags=cv2.INTER_CUBIC, borderMode=cv2.BORDER_REPLICATE)\n",
    "\n",
    "showImg(rotated)"
   ]
  },
  {
   "cell_type": "markdown",
   "metadata": {},
   "source": [
    "# Mini Projects"
   ]
  },
  {
   "cell_type": "markdown",
   "metadata": {},
   "source": [
    "## Level 1"
   ]
  },
  {
   "cell_type": "markdown",
   "metadata": {
    "heading_collapsed": true
   },
   "source": [
    "### Photo art app"
   ]
  },
  {
   "cell_type": "markdown",
   "metadata": {
    "hidden": true
   },
   "source": [
    "1. Create a function that receives an image and converts it to a sketch so it looks similar to this:\n",
    "![Example 1](img/sketch.png)"
   ]
  },
  {
   "cell_type": "markdown",
   "metadata": {},
   "source": [
    "### Photo correction app"
   ]
  },
  {
   "cell_type": "markdown",
   "metadata": {},
   "source": [
    "1. Create a function that given a photo of your notes with bad ilumination it changes the image so it can be read"
   ]
  },
  {
   "cell_type": "markdown",
   "metadata": {},
   "source": [
    "### Instagram filters app"
   ]
  },
  {
   "cell_type": "markdown",
   "metadata": {},
   "source": [
    "1. Create a function that given a photo it applies a black and white filter\n",
    "1. Create a filter that will change color of the image "
   ]
  },
  {
   "cell_type": "markdown",
   "metadata": {},
   "source": [
    "## Level 2"
   ]
  },
  {
   "cell_type": "markdown",
   "metadata": {
    "heading_collapsed": true
   },
   "source": [
    "### Photo art app"
   ]
  },
  {
   "cell_type": "markdown",
   "metadata": {
    "ExecuteTime": {
     "end_time": "2019-08-11T12:16:21.170497Z",
     "start_time": "2019-08-11T12:16:21.096496Z"
    },
    "hidden": true
   },
   "source": [
    "1. Change the app so it can now do the same but using your webcam to make it in real time  \n",
    "**Hint:** you can use ```cv2.VideoCapture(0)```"
   ]
  },
  {
   "cell_type": "markdown",
   "metadata": {
    "heading_collapsed": true
   },
   "source": [
    "### Photo correction app"
   ]
  },
  {
   "cell_type": "markdown",
   "metadata": {
    "hidden": true
   },
   "source": [
    "1. Create a funtion to clean *noise* from images\n",
    "![Noisy image](img/n.png)"
   ]
  },
  {
   "cell_type": "markdown",
   "metadata": {},
   "source": [
    "### Instagram filters app"
   ]
  },
  {
   "cell_type": "markdown",
   "metadata": {},
   "source": [
    "1. Create a function that applies a sepia filter to the image, for a BGR image apply this kernel:\n",
    "        [0.272, 0.534, 0.131],\n",
    "        [0.349, 0.686, 0.168],\n",
    "        [0.393, 0.769, 0.189]\n",
    "        \n",
    "Get the BGR value of the pixel.\n",
    "Calculate tr, tg and tb using the formula\n",
    "\n",
    "tb = 0.272R + 0.534G + 0.131B\n",
    "tg = 0.349R + 0.686G + 0.168B\n",
    "tr = 0.393R + 0.769G + 0.189B\n",
    "\n",
    "Take the integer value.\n",
    "\n",
    "Set the new RGB value of the pixel as per the following condition:\n",
    "\n",
    "If tb > 255 then b = 255 else b = tb\n",
    "If tg > 255 then g = 255 else g = tg\n",
    "If tr > 255 then r = 255 else r = tr\n",
    "\n",
    "\n",
    "Example:\n",
    "\n",
    "Consider a color pixel with the following values\n",
    "\n",
    "A = 255\n",
    "\n",
    "R = 100\n",
    "\n",
    "G = 150\n",
    "\n",
    "B = 200\n",
    "\n",
    "Where A, R, G and B represents the Alpha, Red, Green and Blue value of the pixel.\n",
    "\n",
    "Remember! ARGB will have an integer value in the range 0 to 255.\n",
    "\n",
    "So, to convert the color pixel into sepia pixel we have to first calculate tr, tg and tb.\n",
    "\n",
    "tr = 0.393(100) + 0.769(150) + 0.189(200)\n",
    "\n",
    "tr = 192.45\n",
    "\n",
    "tr = 192 (taking integer value)\n",
    "\n",
    "Similarly,\n",
    "\n",
    "tg = 0.349(100) + 0.686(150) + 0.168(200) = 171 (taking integer value)\n",
    "\n",
    "and tb = 0.272(100) + 0.534(150) + 0.131(200) = 133 (taking integer value)"
   ]
  },
  {
   "cell_type": "markdown",
   "metadata": {},
   "source": [
    "## Level 3"
   ]
  },
  {
   "cell_type": "markdown",
   "metadata": {
    "heading_collapsed": true
   },
   "source": [
    "### Instagram filters app"
   ]
  },
  {
   "cell_type": "markdown",
   "metadata": {
    "hidden": true
   },
   "source": [
    "1. Apply the sepia filter by using the cv2.transfor function\n",
    "1. Create different filters from the sepia filter so it renders different images"
   ]
  },
  {
   "cell_type": "markdown",
   "metadata": {},
   "source": [
    "# More projects"
   ]
  },
  {
   "cell_type": "markdown",
   "metadata": {},
   "source": [
    "## Handwriting recognition"
   ]
  },
  {
   "cell_type": "markdown",
   "metadata": {},
   "source": [
    "1. Write a one digit number (from 0 to 9) on a paper and using your mobile phone take a picture of it\n",
    "1. Crop the image manually and pass it to a a function that will process it so it looks like a char in the MNIST dataset, make sure it is the correct size as well\n",
    "![4](img/4.png)"
   ]
  },
  {
   "cell_type": "markdown",
   "metadata": {},
   "source": [
    "1. Pass it through a MNIST classifier and print the prediction on screen"
   ]
  },
  {
   "cell_type": "markdown",
   "metadata": {},
   "source": [
    "1. Modify the image so now it also contains the predicted result on the image\n",
    "1. Try it with all digits"
   ]
  }
 ],
 "metadata": {
  "kernelspec": {
   "display_name": "Python 3",
   "language": "python",
   "name": "python3"
  },
  "language_info": {
   "codemirror_mode": {
    "name": "ipython",
    "version": 3
   },
   "file_extension": ".py",
   "mimetype": "text/x-python",
   "name": "python",
   "nbconvert_exporter": "python",
   "pygments_lexer": "ipython3",
   "version": "3.7.3"
  }
 },
 "nbformat": 4,
 "nbformat_minor": 2
}
