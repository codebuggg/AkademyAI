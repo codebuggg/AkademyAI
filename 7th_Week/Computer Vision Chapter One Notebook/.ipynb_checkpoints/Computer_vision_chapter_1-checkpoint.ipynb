{
 "cells": [
  {
   "cell_type": "markdown",
   "metadata": {
    "code_folding": []
   },
   "source": [
    "# Computer Vision Chapter One"
   ]
  },
  {
   "cell_type": "markdown",
   "metadata": {},
   "source": [
    "### Import statements"
   ]
  },
  {
   "cell_type": "code",
   "execution_count": null,
   "metadata": {
    "ExecuteTime": {
     "end_time": "2019-08-19T07:40:29.172308Z",
     "start_time": "2019-08-19T07:40:28.976808Z"
    }
   },
   "outputs": [],
   "source": [
    "import cv2\n",
    "import numpy as np"
   ]
  },
  {
   "cell_type": "markdown",
   "metadata": {
    "heading_collapsed": true
   },
   "source": [
    "### Helper methods"
   ]
  },
  {
   "cell_type": "code",
   "execution_count": null,
   "metadata": {
    "ExecuteTime": {
     "end_time": "2019-08-19T07:53:32.735010Z",
     "start_time": "2019-08-19T07:53:32.729010Z"
    },
    "hidden": true
   },
   "outputs": [],
   "source": [
    "images_folder = 'img/'##'D:\\cv2\\Chapter 1\\\\'\n",
    "day = ['day1.jpg','day2.jpg','day3.jpg','day4.jpg']\n",
    "night = ['night1.jpg','night2.jpg','night3.png','night4.jpg']"
   ]
  },
  {
   "cell_type": "code",
   "execution_count": null,
   "metadata": {
    "ExecuteTime": {
     "end_time": "2019-08-19T07:53:33.140679Z",
     "start_time": "2019-08-19T07:53:33.135510Z"
    },
    "hidden": true
   },
   "outputs": [],
   "source": [
    "def get_day_image(idx = 0):\n",
    "    return images_folder+day[idx]"
   ]
  },
  {
   "cell_type": "code",
   "execution_count": null,
   "metadata": {
    "ExecuteTime": {
     "end_time": "2019-08-19T07:53:33.431009Z",
     "start_time": "2019-08-19T07:53:33.425010Z"
    },
    "hidden": true
   },
   "outputs": [],
   "source": [
    "def get_night_image(idx = 0):\n",
    "    return images_folder+night[idx]"
   ]
  },
  {
   "cell_type": "markdown",
   "metadata": {},
   "source": [
    "## Computer Vision Basics"
   ]
  },
  {
   "cell_type": "markdown",
   "metadata": {},
   "source": [
    "### Load and Image"
   ]
  },
  {
   "cell_type": "code",
   "execution_count": null,
   "metadata": {
    "ExecuteTime": {
     "end_time": "2019-08-11T13:31:37.339713Z",
     "start_time": "2019-08-11T13:31:37.331712Z"
    }
   },
   "outputs": [],
   "source": [
    "day1 = get_day_image()"
   ]
  },
  {
   "cell_type": "code",
   "execution_count": null,
   "metadata": {
    "ExecuteTime": {
     "end_time": "2019-08-19T08:00:04.456537Z",
     "start_time": "2019-08-19T08:00:04.451039Z"
    }
   },
   "outputs": [],
   "source": [
    "day1 = 'img/day1.jpg'"
   ]
  },
  {
   "cell_type": "code",
   "execution_count": null,
   "metadata": {
    "ExecuteTime": {
     "end_time": "2019-08-19T08:00:24.169574Z",
     "start_time": "2019-08-19T08:00:24.121072Z"
    }
   },
   "outputs": [],
   "source": [
    "day_img = cv2.imread(day1)"
   ]
  },
  {
   "cell_type": "markdown",
   "metadata": {},
   "source": [
    "### Check the image type"
   ]
  },
  {
   "cell_type": "code",
   "execution_count": null,
   "metadata": {
    "ExecuteTime": {
     "end_time": "2019-08-19T08:07:05.641563Z",
     "start_time": "2019-08-19T08:07:05.635061Z"
    }
   },
   "outputs": [],
   "source": [
    "type(day_img)"
   ]
  },
  {
   "cell_type": "markdown",
   "metadata": {},
   "source": [
    "### Show the image"
   ]
  },
  {
   "cell_type": "code",
   "execution_count": null,
   "metadata": {
    "ExecuteTime": {
     "end_time": "2019-08-19T08:13:10.379816Z",
     "start_time": "2019-08-19T08:13:07.259000Z"
    }
   },
   "outputs": [],
   "source": [
    "cv2.imshow('Day 1',day_img)\n",
    "cv2.waitKey(0) \n",
    "cv2.destroyAllWindows()"
   ]
  },
  {
   "cell_type": "markdown",
   "metadata": {},
   "source": [
    "### But I want to see the images inside the notebook!"
   ]
  },
  {
   "cell_type": "code",
   "execution_count": null,
   "metadata": {
    "ExecuteTime": {
     "end_time": "2019-08-19T08:10:34.214893Z",
     "start_time": "2019-08-19T08:10:33.398105Z"
    }
   },
   "outputs": [],
   "source": [
    "import matplotlib.pyplot as plt\n",
    "%matplotlib inline"
   ]
  },
  {
   "cell_type": "markdown",
   "metadata": {},
   "source": [
    "### Matplotlib to the rescue!"
   ]
  },
  {
   "cell_type": "code",
   "execution_count": null,
   "metadata": {
    "ExecuteTime": {
     "end_time": "2019-08-19T08:13:21.326011Z",
     "start_time": "2019-08-19T08:13:19.267592Z"
    }
   },
   "outputs": [],
   "source": [
    "plt.figure(figsize = (20,15))\n",
    "plt.imshow(day_img);"
   ]
  },
  {
   "cell_type": "markdown",
   "metadata": {},
   "source": [
    "### Lets fix the colors"
   ]
  },
  {
   "cell_type": "code",
   "execution_count": null,
   "metadata": {
    "ExecuteTime": {
     "end_time": "2019-08-19T08:20:11.283852Z",
     "start_time": "2019-08-19T08:20:09.514831Z"
    }
   },
   "outputs": [],
   "source": [
    "plt.figure(figsize = (20,15))\n",
    "plt.imshow(cv2.cvtColor(day_img, cv2.COLOR_BGR2RGB));"
   ]
  },
  {
   "cell_type": "markdown",
   "metadata": {},
   "source": [
    "### What is the shape of the image?"
   ]
  },
  {
   "cell_type": "code",
   "execution_count": null,
   "metadata": {
    "ExecuteTime": {
     "end_time": "2019-08-19T08:24:47.168344Z",
     "start_time": "2019-08-19T08:24:47.161802Z"
    }
   },
   "outputs": [],
   "source": [
    "day_img.shape"
   ]
  },
  {
   "cell_type": "markdown",
   "metadata": {},
   "source": [
    "### Lets make it grayscale"
   ]
  },
  {
   "cell_type": "code",
   "execution_count": null,
   "metadata": {
    "ExecuteTime": {
     "end_time": "2019-08-11T13:35:01.017261Z",
     "start_time": "2019-08-11T13:35:00.978255Z"
    }
   },
   "outputs": [],
   "source": [
    "day_img_grayscale = cv2.imread(day1,cv2.IMREAD_GRAYSCALE)\n"
   ]
  },
  {
   "cell_type": "code",
   "execution_count": null,
   "metadata": {
    "ExecuteTime": {
     "end_time": "2019-08-19T08:35:09.820840Z",
     "start_time": "2019-08-19T08:35:09.812838Z"
    }
   },
   "outputs": [],
   "source": [
    "cv2.IMREAD_GRAYSCALE"
   ]
  },
  {
   "cell_type": "code",
   "execution_count": null,
   "metadata": {
    "ExecuteTime": {
     "end_time": "2019-08-19T08:37:33.830095Z",
     "start_time": "2019-08-19T08:37:33.754875Z"
    }
   },
   "outputs": [],
   "source": [
    "day_img_grayscale = cv2.imread(day1,0)\n",
    "day_img_grayscale = cv2.imread(day1,cv2.IMREAD_GRAYSCALE)\n",
    "\n",
    "day_img_grayscale = cv2.cvtColor(day_img,cv2.COLOR_BGR2GRAY)"
   ]
  },
  {
   "cell_type": "markdown",
   "metadata": {},
   "source": [
    "### What is the shape now?"
   ]
  },
  {
   "cell_type": "code",
   "execution_count": null,
   "metadata": {
    "ExecuteTime": {
     "end_time": "2019-08-19T08:37:35.699425Z",
     "start_time": "2019-08-19T08:37:35.691513Z"
    }
   },
   "outputs": [],
   "source": [
    "day_img_grayscale.shape"
   ]
  },
  {
   "cell_type": "markdown",
   "metadata": {},
   "source": [
    "### How does it look like?"
   ]
  },
  {
   "cell_type": "code",
   "execution_count": null,
   "metadata": {
    "ExecuteTime": {
     "end_time": "2019-08-19T08:42:37.059173Z",
     "start_time": "2019-08-19T08:42:34.818181Z"
    }
   },
   "outputs": [],
   "source": [
    "plt.figure(figsize = (20,15))\n",
    "plt.imshow(day_img_grayscale);"
   ]
  },
  {
   "cell_type": "markdown",
   "metadata": {},
   "source": [
    "### We need to indicate the colormap"
   ]
  },
  {
   "cell_type": "code",
   "execution_count": null,
   "metadata": {
    "ExecuteTime": {
     "end_time": "2019-08-19T08:45:29.797877Z",
     "start_time": "2019-08-19T08:45:27.270324Z"
    }
   },
   "outputs": [],
   "source": [
    "plt.figure(figsize = (20,15))\n",
    "plt.imshow(day_img_grayscale, cmap='gray');"
   ]
  },
  {
   "cell_type": "markdown",
   "metadata": {},
   "source": [
    "### Cropping an image"
   ]
  },
  {
   "cell_type": "code",
   "execution_count": null,
   "metadata": {
    "ExecuteTime": {
     "end_time": "2019-08-19T08:47:19.861377Z",
     "start_time": "2019-08-19T08:47:19.854351Z"
    }
   },
   "outputs": [],
   "source": [
    "day_img_cropped = day_img[0:250,0:650]"
   ]
  },
  {
   "cell_type": "code",
   "execution_count": null,
   "metadata": {
    "ExecuteTime": {
     "end_time": "2019-08-19T08:47:54.164218Z",
     "start_time": "2019-08-19T08:47:53.429636Z"
    }
   },
   "outputs": [],
   "source": [
    "plt.figure(figsize = (20,20))\n",
    "plt.imshow(cv2.cvtColor(day_img_cropped, cv2.COLOR_BGR2RGB));"
   ]
  },
  {
   "cell_type": "code",
   "execution_count": null,
   "metadata": {
    "ExecuteTime": {
     "end_time": "2019-08-19T08:58:03.925439Z",
     "start_time": "2019-08-19T08:58:03.900718Z"
    }
   },
   "outputs": [],
   "source": [
    "cv2.imwrite('output/day_cropped.jpg',day_img_cropped)"
   ]
  },
  {
   "cell_type": "code",
   "execution_count": null,
   "metadata": {
    "ExecuteTime": {
     "end_time": "2019-08-19T08:58:04.674932Z",
     "start_time": "2019-08-19T08:58:04.669934Z"
    }
   },
   "outputs": [],
   "source": [
    "day_img_cropped = day_img[0:250,0:650]"
   ]
  },
  {
   "cell_type": "code",
   "execution_count": null,
   "metadata": {
    "ExecuteTime": {
     "end_time": "2019-08-19T08:58:05.149434Z",
     "start_time": "2019-08-19T08:58:05.137957Z"
    }
   },
   "outputs": [],
   "source": [
    "day_img_cropped_2 = day_img[420:430,420:430]"
   ]
  },
  {
   "cell_type": "code",
   "execution_count": null,
   "metadata": {
    "ExecuteTime": {
     "end_time": "2019-08-19T08:58:06.022429Z",
     "start_time": "2019-08-19T08:58:05.540118Z"
    }
   },
   "outputs": [],
   "source": [
    "plt.imshow(cv2.cvtColor(day_img_cropped_2, cv2.COLOR_BGR2RGB));"
   ]
  },
  {
   "cell_type": "code",
   "execution_count": null,
   "metadata": {
    "ExecuteTime": {
     "end_time": "2019-08-19T09:05:46.363216Z",
     "start_time": "2019-08-19T09:05:46.350723Z"
    },
    "scrolled": false
   },
   "outputs": [],
   "source": [
    "cv2.cvtColor(day_img_cropped_2, cv2.COLOR_BGR2GRAY)"
   ]
  },
  {
   "cell_type": "markdown",
   "metadata": {
    "heading_collapsed": true
   },
   "source": [
    "### Saving an image"
   ]
  },
  {
   "cell_type": "code",
   "execution_count": null,
   "metadata": {
    "ExecuteTime": {
     "end_time": "2019-08-11T13:35:06.414266Z",
     "start_time": "2019-08-11T13:35:06.391268Z"
    },
    "hidden": true
   },
   "outputs": [],
   "source": [
    "cv2.imwrite('cropped_img.jpg', day_img_cropped)"
   ]
  },
  {
   "cell_type": "markdown",
   "metadata": {},
   "source": [
    "### Lets see the pixel values"
   ]
  },
  {
   "cell_type": "code",
   "execution_count": null,
   "metadata": {
    "ExecuteTime": {
     "end_time": "2019-08-11T13:35:06.436262Z",
     "start_time": "2019-08-11T13:35:06.419270Z"
    },
    "scrolled": false
   },
   "outputs": [],
   "source": [
    "day_img_cropped_2"
   ]
  },
  {
   "cell_type": "markdown",
   "metadata": {},
   "source": [
    "### Now lets make it grayscale"
   ]
  },
  {
   "cell_type": "code",
   "execution_count": null,
   "metadata": {
    "ExecuteTime": {
     "end_time": "2019-08-19T09:06:05.603352Z",
     "start_time": "2019-08-19T09:06:05.598212Z"
    }
   },
   "outputs": [],
   "source": [
    "day_img_cropped_2_grayscale = cv2.cvtColor(day_img_cropped_2, cv2.COLOR_RGB2GRAY)"
   ]
  },
  {
   "cell_type": "markdown",
   "metadata": {},
   "source": [
    "#### And lets check the pixel values again"
   ]
  },
  {
   "cell_type": "code",
   "execution_count": null,
   "metadata": {
    "ExecuteTime": {
     "end_time": "2019-08-19T09:06:07.873469Z",
     "start_time": "2019-08-19T09:06:07.865465Z"
    }
   },
   "outputs": [],
   "source": [
    "day_img_cropped_2_grayscale"
   ]
  },
  {
   "cell_type": "code",
   "execution_count": null,
   "metadata": {
    "ExecuteTime": {
     "end_time": "2019-08-19T09:06:12.199517Z",
     "start_time": "2019-08-19T09:06:11.837593Z"
    }
   },
   "outputs": [],
   "source": [
    "plt.imshow(day_img_cropped_2_grayscale, cmap='gray')"
   ]
  },
  {
   "cell_type": "markdown",
   "metadata": {},
   "source": [
    "### Lets create an RGB version and store it"
   ]
  },
  {
   "cell_type": "code",
   "execution_count": null,
   "metadata": {
    "ExecuteTime": {
     "end_time": "2019-08-19T09:32:30.993122Z",
     "start_time": "2019-08-19T09:32:29.459624Z"
    }
   },
   "outputs": [],
   "source": [
    "rgb_day_img = cv2.cvtColor(day_img, cv2.COLOR_BGR2RGB)\n",
    "plt.figure(figsize = (20,15))\n",
    "plt.imshow(rgb_day_img);"
   ]
  },
  {
   "cell_type": "markdown",
   "metadata": {},
   "source": [
    "### To edit an image making a copy of it is always a good idea!"
   ]
  },
  {
   "cell_type": "code",
   "execution_count": null,
   "metadata": {
    "ExecuteTime": {
     "end_time": "2019-08-19T09:43:53.160938Z",
     "start_time": "2019-08-19T09:43:53.149943Z"
    }
   },
   "outputs": [],
   "source": [
    "img_copy = rgb_day_img.copy()"
   ]
  },
  {
   "cell_type": "markdown",
   "metadata": {},
   "source": [
    "## Drawing"
   ]
  },
  {
   "cell_type": "markdown",
   "metadata": {},
   "source": [
    "### Drawing lines"
   ]
  },
  {
   "cell_type": "code",
   "execution_count": null,
   "metadata": {
    "ExecuteTime": {
     "end_time": "2019-08-19T09:44:53.512584Z",
     "start_time": "2019-08-19T09:44:51.968791Z"
    }
   },
   "outputs": [],
   "source": [
    "green = (0,255,0)\n",
    "cv2.line(img_copy,(800,20),(1000,400),green,5)\n",
    "\n",
    "plt.figure(figsize = (20,15))\n",
    "plt.imshow(img_copy)"
   ]
  },
  {
   "cell_type": "markdown",
   "metadata": {},
   "source": [
    "### Rectangles"
   ]
  },
  {
   "cell_type": "code",
   "execution_count": null,
   "metadata": {
    "ExecuteTime": {
     "end_time": "2019-08-19T09:48:36.320723Z",
     "start_time": "2019-08-19T09:48:36.314815Z"
    }
   },
   "outputs": [],
   "source": [
    "# rectangle(img, pt1, pt2, color[, thickness[, lineType[, shift]]]) -> img\n",
    "cv2.rectangle(img_copy,(240,220),(550,510),green,3);"
   ]
  },
  {
   "cell_type": "code",
   "execution_count": null,
   "metadata": {
    "ExecuteTime": {
     "end_time": "2019-08-19T09:48:38.517342Z",
     "start_time": "2019-08-19T09:48:37.167652Z"
    },
    "scrolled": false
   },
   "outputs": [],
   "source": [
    "plt.figure(figsize = (20,15))\n",
    "plt.imshow(img_copy)"
   ]
  },
  {
   "cell_type": "code",
   "execution_count": null,
   "metadata": {
    "ExecuteTime": {
     "end_time": "2019-08-19T09:49:42.462626Z",
     "start_time": "2019-08-19T09:49:41.178129Z"
    }
   },
   "outputs": [],
   "source": [
    "cv2.rectangle(img_copy,(20,600),(1109,700),(127,127,127),-1);\n",
    "\n",
    "plt.figure(figsize = (20,15))\n",
    "plt.imshow(img_copy)"
   ]
  },
  {
   "cell_type": "markdown",
   "metadata": {},
   "source": [
    "### Circles"
   ]
  },
  {
   "cell_type": "code",
   "execution_count": null,
   "metadata": {
    "ExecuteTime": {
     "end_time": "2019-08-19T09:52:11.034944Z",
     "start_time": "2019-08-19T09:52:09.761934Z"
    }
   },
   "outputs": [],
   "source": [
    "## circle(img, center, radius, color[, thickness[, lineType[, shift]]]) -> img\n",
    "cv2.circle(img_copy,(200,63), 50, (255,243,130), -1)\n",
    "plt.figure(figsize = (20,15))\n",
    "plt.imshow(img_copy)"
   ]
  },
  {
   "cell_type": "code",
   "execution_count": null,
   "metadata": {
    "ExecuteTime": {
     "end_time": "2019-08-19T09:54:50.586933Z",
     "start_time": "2019-08-19T09:54:49.284375Z"
    },
    "scrolled": false
   },
   "outputs": [],
   "source": [
    "cv2.circle(img_copy,(200,63), 50, (255,131,0), 2)\n",
    "plt.figure(figsize = (20,15))\n",
    "plt.imshow(img_copy);"
   ]
  },
  {
   "cell_type": "markdown",
   "metadata": {},
   "source": [
    "### Ellipses"
   ]
  },
  {
   "cell_type": "code",
   "execution_count": null,
   "metadata": {
    "ExecuteTime": {
     "end_time": "2019-08-19T09:57:14.487345Z",
     "start_time": "2019-08-19T09:57:13.191840Z"
    },
    "scrolled": true
   },
   "outputs": [],
   "source": [
    "# ellipse(img, center, axes, angle, startAngle, endAngle, color[, thickness[, lineType[, shift]]]) -> img\n",
    "\n",
    "cv2.ellipse(img_copy,(256,256),(100,50),0,0,180,(0,255,255),2)\n",
    "plt.figure(figsize = (20,15))\n",
    "plt.imshow(img_copy);"
   ]
  },
  {
   "cell_type": "markdown",
   "metadata": {},
   "source": [
    "### Poligons"
   ]
  },
  {
   "cell_type": "code",
   "execution_count": null,
   "metadata": {
    "ExecuteTime": {
     "end_time": "2019-08-19T10:05:43.320933Z",
     "start_time": "2019-08-19T10:05:43.312436Z"
    }
   },
   "outputs": [],
   "source": [
    "pts = np.array([[10,5],[120,130],[170,120],[250,210]], np.int32)\n",
    "print(pts)"
   ]
  },
  {
   "cell_type": "code",
   "execution_count": null,
   "metadata": {
    "ExecuteTime": {
     "end_time": "2019-08-19T10:01:42.161373Z",
     "start_time": "2019-08-19T10:01:42.152356Z"
    }
   },
   "outputs": [],
   "source": [
    "pts2 = np.array([[[10,5],[120,130],[170,120],[250,210]]], np.int32)\n"
   ]
  },
  {
   "cell_type": "code",
   "execution_count": null,
   "metadata": {
    "ExecuteTime": {
     "end_time": "2019-08-19T09:59:36.632106Z",
     "start_time": "2019-08-19T09:59:36.624141Z"
    }
   },
   "outputs": [],
   "source": [
    "pts = pts.reshape((-1,1,2))\n",
    "print(pts)"
   ]
  },
  {
   "cell_type": "code",
   "execution_count": null,
   "metadata": {
    "ExecuteTime": {
     "end_time": "2019-08-19T10:05:57.101559Z",
     "start_time": "2019-08-19T10:05:55.935276Z"
    }
   },
   "outputs": [],
   "source": [
    "cv2.polylines(img_copy,[pts],False,(0,255,255),5)\n",
    "plt.figure(figsize = (20,15))\n",
    "plt.imshow(img_copy);"
   ]
  },
  {
   "cell_type": "markdown",
   "metadata": {},
   "source": [
    "### Adding text to images"
   ]
  },
  {
   "cell_type": "code",
   "execution_count": null,
   "metadata": {
    "ExecuteTime": {
     "end_time": "2019-08-19T10:17:51.395202Z",
     "start_time": "2019-08-19T10:17:49.792702Z"
    },
    "scrolled": false
   },
   "outputs": [],
   "source": [
    "# putText(img, text, org, fontFace, fontScale, color[, thickness[, lineType[, bottomLeftOrigin]]]) -> img\n",
    "img_copy = rgb_day_img.copy()\n",
    "x = 50\n",
    "font = cv2.FONT_HERSHEY_COMPLEX\n",
    "cv2.putText(img_copy,'akademy.ai',(x,100), font, 3,(0,0,0),4,cv2.LINE_AA)\n",
    "\n",
    "font = cv2.FONT_HERSHEY_COMPLEX_SMALL\n",
    "cv2.putText(img_copy,'akademy.ai',(x,180), font, 3,(0,0,0),4,cv2.LINE_AA)\n",
    "\n",
    "font = cv2.FONT_HERSHEY_DUPLEX\n",
    "cv2.putText(img_copy,'akademy.ai',(x,280), font, 3,(255,255,255),4,cv2.LINE_AA)\n",
    "\n",
    "font = cv2.FONT_HERSHEY_PLAIN\n",
    "cv2.putText(img_copy,'akademy.ai',(x,350), font, 3,(255,255,255),4,cv2.LINE_AA)\n",
    "\n",
    "font = cv2.FONT_HERSHEY_SCRIPT_COMPLEX\n",
    "cv2.putText(img_copy,'akademy.ai',(x,450), font, 3,(255,255,255),4,cv2.LINE_AA)\n",
    "\n",
    "font = cv2.FONT_HERSHEY_SCRIPT_SIMPLEX\n",
    "cv2.putText(img_copy,'akademy.ai',(x,540), font, 3,(255,255,255),4,cv2.LINE_AA)\n",
    "\n",
    "font = cv2.FONT_HERSHEY_SIMPLEX\n",
    "cv2.putText(img_copy,'akademy.ai',(x,630), font, 3,(255,255,255),4,cv2.LINE_AA)\n",
    "\n",
    "font = cv2.FONT_HERSHEY_TRIPLEX\n",
    "cv2.putText(img_copy,'akademy.ai',(x,720), font, 3,(255,255,255),4,cv2.LINE_AA)\n",
    "\n",
    "plt.figure(figsize = (20,15))\n",
    "plt.imshow(img_copy);"
   ]
  },
  {
   "cell_type": "markdown",
   "metadata": {},
   "source": [
    "#### Wait what? openCV only supports 8 fonts?"
   ]
  },
  {
   "cell_type": "markdown",
   "metadata": {},
   "source": [
    "Pillow to the rescue!, you will need to install it though..."
   ]
  },
  {
   "cell_type": "markdown",
   "metadata": {},
   "source": [
    "`pip install Pillow`"
   ]
  },
  {
   "cell_type": "code",
   "execution_count": null,
   "metadata": {
    "ExecuteTime": {
     "end_time": "2019-08-19T10:20:23.669529Z",
     "start_time": "2019-08-19T10:20:23.640525Z"
    }
   },
   "outputs": [],
   "source": [
    "from PIL import ImageFont, ImageDraw, Image  "
   ]
  },
  {
   "cell_type": "code",
   "execution_count": null,
   "metadata": {
    "ExecuteTime": {
     "end_time": "2019-08-19T10:32:43.649759Z",
     "start_time": "2019-08-19T10:32:42.029258Z"
    }
   },
   "outputs": [],
   "source": [
    "text_to_show = \"Custom Font\"\n",
    "   \n",
    "# Load image in OpenCV  \n",
    "image = rgb_day_img.copy()\n",
    "   \n",
    "# Convert the image to RGB (OpenCV uses BGR)  \n",
    "cv2_im_rgb = cv2.cvtColor(image,cv2.COLOR_BGR2RGB)  \n",
    "   \n",
    "# Transform the cv2 image to PIL  \n",
    "pil_im = Image.fromarray(cv2_im_rgb)  \n",
    "   \n",
    "draw = ImageDraw.Draw(pil_im)  \n",
    "\n",
    "# use a truetype font  \n",
    "#font = ImageFont.truetype(\"impact.ttf\", 80)    \n",
    "font = ImageFont.truetype(\"Welcome.ttf\", 80)    \n",
    "\n",
    "draw.text((50, 600), text_to_show, (255,255,255), font=font)  \n",
    "   \n",
    "# Get back the image to OpenCV  \n",
    "cv2_im_processed = cv2.cvtColor(np.array(pil_im), cv2.COLOR_RGB2BGR)  \n",
    "\n",
    "plt.figure(figsize = (20,15))\n",
    "plt.imshow(cv2_im_processed);"
   ]
  },
  {
   "cell_type": "markdown",
   "metadata": {},
   "source": [
    "### We want some alpha"
   ]
  },
  {
   "cell_type": "code",
   "execution_count": null,
   "metadata": {
    "ExecuteTime": {
     "end_time": "2019-08-19T10:45:54.867276Z",
     "start_time": "2019-08-19T10:45:53.257280Z"
    }
   },
   "outputs": [],
   "source": [
    "img_copy = rgb_day_img.copy()\n",
    " \n",
    "# (1) create a copy of the original:\n",
    "overlay = img_copy.copy()\n",
    "\n",
    "# (2) draw shapes:\n",
    "cv2.rectangle(overlay,(0,580),(1129,710),(255,255,255),-1);\n",
    "\n",
    "# (3) blend with the original:\n",
    "opacity = 0.5\n",
    "cv2.addWeighted(overlay, opacity, img_copy, 1 - opacity, 0, img_copy)\n",
    "    \n",
    "plt.figure(figsize = (20,15))\n",
    "plt.imshow(img_copy);"
   ]
  },
  {
   "cell_type": "code",
   "execution_count": null,
   "metadata": {
    "ExecuteTime": {
     "end_time": "2019-08-19T10:53:08.469850Z",
     "start_time": "2019-08-19T10:53:07.054351Z"
    },
    "scrolled": false
   },
   "outputs": [],
   "source": [
    "font = cv2.FONT_HERSHEY_SCRIPT_COMPLEX\n",
    "cv2.putText(img_copy,'Have a nice day!',(240,660), font, 3,(0,0,0),3,cv2.LINE_AA)\n",
    "\n",
    "plt.figure(figsize = (20,15))\n",
    "plt.imshow(img_copy);"
   ]
  },
  {
   "cell_type": "markdown",
   "metadata": {},
   "source": [
    "## Histograms"
   ]
  },
  {
   "cell_type": "code",
   "execution_count": null,
   "metadata": {
    "ExecuteTime": {
     "end_time": "2019-08-19T11:00:15.427734Z",
     "start_time": "2019-08-19T11:00:15.108232Z"
    },
    "scrolled": false
   },
   "outputs": [],
   "source": [
    "bgr_image = cv2.imread(get_day_image())\n",
    "histogram = cv2.calcHist([bgr_image],[0],None,[256],[0,256])\n",
    "plt.plot(histogram, color='b'); plt.xlim(0,256); plt.show();"
   ]
  },
  {
   "cell_type": "code",
   "execution_count": null,
   "metadata": {
    "ExecuteTime": {
     "end_time": "2019-08-19T11:03:23.563275Z",
     "start_time": "2019-08-19T11:03:23.335271Z"
    }
   },
   "outputs": [],
   "source": [
    "histogram = cv2.calcHist([bgr_image],[1],None,[256],[0,256])\n",
    "plt.plot(histogram,  color='g');plt.xlim(0,256); plt.show();"
   ]
  },
  {
   "cell_type": "code",
   "execution_count": null,
   "metadata": {
    "ExecuteTime": {
     "end_time": "2019-08-19T11:03:29.002938Z",
     "start_time": "2019-08-19T11:03:28.702438Z"
    }
   },
   "outputs": [],
   "source": [
    "histogram = cv2.calcHist([bgr_image],[2],None,[256],[0,256])\n",
    "plt.plot(histogram,  color='r');plt.xlim(0,256); plt.show();"
   ]
  },
  {
   "cell_type": "code",
   "execution_count": null,
   "metadata": {
    "ExecuteTime": {
     "end_time": "2019-08-19T11:03:33.026507Z",
     "start_time": "2019-08-19T11:03:32.745503Z"
    }
   },
   "outputs": [],
   "source": [
    "colors =['b','g','r']\n",
    "for i,color in enumerate(colors):\n",
    "    histogram = cv2.calcHist([rgb_day_img],[i],None,[256],[0,256])\n",
    "    plt.plot(histogram, color=color)\n",
    "    plt.xlim(0,256)\n",
    "plt.show()"
   ]
  },
  {
   "cell_type": "code",
   "execution_count": null,
   "metadata": {
    "ExecuteTime": {
     "end_time": "2019-08-19T11:09:56.456404Z",
     "start_time": "2019-08-19T11:09:55.329371Z"
    }
   },
   "outputs": [],
   "source": [
    "bgr_img_2 = cv2.imread(get_day_image(2))\n",
    "plt.figure(figsize = (20,15))\n",
    "plt.imshow(cv2.cvtColor(bgr_img_2,cv2.COLOR_RGB2BGR))"
   ]
  },
  {
   "cell_type": "code",
   "execution_count": null,
   "metadata": {
    "ExecuteTime": {
     "end_time": "2019-08-19T11:10:37.485268Z",
     "start_time": "2019-08-19T11:10:37.184303Z"
    }
   },
   "outputs": [],
   "source": [
    "for i,color in enumerate(colors):\n",
    "    histogram = cv2.calcHist([bgr_img_2],[i],None,[256],[0,256])\n",
    "    plt.plot(histogram, color=color)\n",
    "    plt.xlim(0,256)\n",
    "plt.show()"
   ]
  },
  {
   "cell_type": "markdown",
   "metadata": {},
   "source": [
    "## Color Spaces"
   ]
  },
  {
   "cell_type": "markdown",
   "metadata": {},
   "source": [
    "### BGR Spliting the color channels"
   ]
  },
  {
   "cell_type": "code",
   "execution_count": null,
   "metadata": {
    "ExecuteTime": {
     "end_time": "2019-08-19T12:39:41.456271Z",
     "start_time": "2019-08-19T12:39:40.419764Z"
    }
   },
   "outputs": [],
   "source": [
    "B, G, R = cv2.split(bgr_img_2)\n",
    "cv2.imshow(\"B\",B)\n",
    "cv2.waitKey(0) \n",
    "cv2.destroyAllWindows()"
   ]
  },
  {
   "cell_type": "code",
   "execution_count": null,
   "metadata": {
    "ExecuteTime": {
     "end_time": "2019-08-19T12:39:44.782877Z",
     "start_time": "2019-08-19T12:39:43.314182Z"
    }
   },
   "outputs": [],
   "source": [
    "cv2.imshow(\"G\",G)\n",
    "cv2.waitKey(0) \n",
    "cv2.destroyAllWindows()\n",
    "\n",
    "cv2.imshow(\"R\",R)\n",
    "cv2.waitKey(0) \n",
    "cv2.destroyAllWindows()"
   ]
  },
  {
   "cell_type": "markdown",
   "metadata": {},
   "source": [
    "#### Merging the color channels"
   ]
  },
  {
   "cell_type": "code",
   "execution_count": null,
   "metadata": {
    "ExecuteTime": {
     "end_time": "2019-08-19T13:06:23.297885Z",
     "start_time": "2019-08-19T13:06:22.379493Z"
    }
   },
   "outputs": [],
   "source": [
    "merged = cv2.merge([B,G+100,R])\n",
    "cv2.imshow(\"Merged\",merged)\n",
    "cv2.waitKey(0) \n",
    "cv2.destroyAllWindows()"
   ]
  },
  {
   "cell_type": "code",
   "execution_count": null,
   "metadata": {
    "ExecuteTime": {
     "end_time": "2019-08-19T12:47:03.114732Z",
     "start_time": "2019-08-19T12:45:59.269721Z"
    }
   },
   "outputs": [],
   "source": [
    "black = np.zeros(bgr_img_2.shape[:2], dtype=\"uint8\")\n",
    "cv2.imshow(\"Blue channel\",cv2.merge([B,black,black]))\n",
    "cv2.waitKey(0) \n",
    "cv2.destroyAllWindows()\n",
    "\n",
    "cv2.imshow(\"Green channel\",cv2.merge([black,G,black]))\n",
    "cv2.waitKey(0) \n",
    "cv2.destroyAllWindows()\n",
    "\n",
    "cv2.imshow(\"Red Channel\",cv2.merge([black,black,R]))\n",
    "cv2.waitKey(0) \n",
    "cv2.destroyAllWindows()\n",
    "\n",
    "cv2.imshow(\"RGB\",cv2.merge([R,G,B]))\n",
    "cv2.waitKey(0) \n",
    "cv2.destroyAllWindows()\n",
    "\n",
    "cv2.imshow(\"BGR\",cv2.merge([B,G,R]))\n",
    "cv2.waitKey(0) \n",
    "cv2.destroyAllWindows()\n",
    "\n",
    "cv2.imshow(\"GBR\",cv2.merge([G,B,R]))\n",
    "cv2.waitKey(0) \n",
    "cv2.destroyAllWindows()\n",
    "\n",
    "cv2.imshow(\"BRG\",cv2.merge([B,R,G]))\n",
    "cv2.waitKey(0) \n",
    "cv2.destroyAllWindows()\n",
    "\n",
    "cv2.imshow(\"BBB\",cv2.merge([B,B,B]))\n",
    "cv2.waitKey(0) \n",
    "cv2.destroyAllWindows()\n",
    "\n",
    "cv2.imshow(\"RRR\",cv2.merge([R,R,R]))\n",
    "cv2.waitKey(0) \n",
    "cv2.destroyAllWindows()\n",
    "\n",
    "cv2.imshow(\"GGG\",cv2.merge([G,G,G]))\n",
    "cv2.waitKey(0) \n",
    "cv2.destroyAllWindows()"
   ]
  },
  {
   "cell_type": "markdown",
   "metadata": {},
   "source": [
    "### HSV: Hue Saturation Value"
   ]
  },
  {
   "cell_type": "code",
   "execution_count": null,
   "metadata": {
    "ExecuteTime": {
     "end_time": "2019-08-19T13:02:35.345423Z",
     "start_time": "2019-08-19T13:02:14.190653Z"
    }
   },
   "outputs": [],
   "source": [
    "hsv_img = cv2.cvtColor(bgr_img_2, cv2.COLOR_BGR2HSV)\n",
    "\n",
    "hue = hsv_img[:,:,0]\n",
    "saturation = hsv_img[:,:,1]\n",
    "value = hsv_img[:,:,2]\n",
    "\n",
    "cv2.imshow('HSV Image',hsv_img)\n",
    "cv2.waitKey(0) \n",
    "cv2.destroyAllWindows()\n",
    "\n",
    "cv2.imshow('Hue Channel',hue)\n",
    "cv2.waitKey(0) \n",
    "cv2.destroyAllWindows()\n",
    "\n",
    "cv2.imshow('Saturation Channel',saturation)\n",
    "cv2.waitKey(0) \n",
    "cv2.destroyAllWindows()\n",
    "\n",
    "cv2.imshow('Value Channel',value)\n",
    "cv2.waitKey(0) \n",
    "cv2.destroyAllWindows()"
   ]
  },
  {
   "cell_type": "code",
   "execution_count": null,
   "metadata": {
    "ExecuteTime": {
     "end_time": "2019-08-19T13:12:57.557337Z",
     "start_time": "2019-08-19T13:12:54.190020Z"
    }
   },
   "outputs": [],
   "source": [
    "#blue_red_flowers = cv2.imread('img/blue-red-flowers.png')\n",
    "bgr_flowers = cv2.imread('img/purple-flowers.jpg')\n",
    "\n",
    "hsv_flowers = cv2.cvtColor(bgr_flowers, cv2.COLOR_BGR2HSV)\n",
    "\n",
    "hue = hsv_flowers[:,:,0]\n",
    "saturation = hsv_flowers[:,:,1]\n",
    "value = hsv_flowers[:,:,2]\n",
    "\n",
    "cv2.imshow('HSV Image',hsv_flowers)\n",
    "cv2.waitKey(0) \n",
    "cv2.destroyAllWindows()\n",
    "\n",
    "cv2.imshow('Hue Channel',hue)\n",
    "cv2.waitKey(0) \n",
    "cv2.destroyAllWindows()\n",
    "\n",
    "cv2.imshow('Saturation Channel',saturation)\n",
    "cv2.waitKey(0) \n",
    "cv2.destroyAllWindows()\n",
    "\n",
    "cv2.imshow('Value Channel',value)\n",
    "cv2.waitKey(0) \n",
    "cv2.destroyAllWindows()"
   ]
  },
  {
   "cell_type": "code",
   "execution_count": null,
   "metadata": {
    "ExecuteTime": {
     "end_time": "2019-08-19T13:08:50.960179Z",
     "start_time": "2019-08-19T13:08:49.329184Z"
    }
   },
   "outputs": [],
   "source": [
    "rgb_flowers = cv2.cvtColor(blue_red_flowers,cv2.COLOR_BGR2RGB)\n",
    "plt.figure(figsize = (20,15));\n",
    "plt.imshow(rgb_flowers);"
   ]
  },
  {
   "cell_type": "code",
   "execution_count": null,
   "metadata": {
    "ExecuteTime": {
     "end_time": "2019-08-19T13:13:13.562625Z",
     "start_time": "2019-08-19T13:13:11.136620Z"
    },
    "scrolled": false
   },
   "outputs": [],
   "source": [
    "lower_range = (110,100,20)\n",
    "upper_range = (140,255, 255)\n",
    "hsv_mask = cv2.inRange(hsv_flowers, lower_range, upper_range)\n",
    "\n",
    "masked_image = np.copy(bgr_flowers)\n",
    "masked_image[hsv_mask == 0] = [0,0,0]\n",
    "\n",
    "plt.figure(figsize = (20,15));\n",
    "plt.imshow(cv2.cvtColor(masked_image,cv2.COLOR_BGR2RGB))"
   ]
  },
  {
   "cell_type": "markdown",
   "metadata": {},
   "source": [
    "#### The tricky part is to choose the right values for the lower and upper boundaries"
   ]
  },
  {
   "cell_type": "markdown",
   "metadata": {},
   "source": [
    "#### But today is your lucky day! and I will share with you my secret weapon to get it right!"
   ]
  },
  {
   "cell_type": "code",
   "execution_count": null,
   "metadata": {
    "ExecuteTime": {
     "end_time": "2019-08-19T13:14:11.292730Z",
     "start_time": "2019-08-19T13:14:10.700692Z"
    }
   },
   "outputs": [],
   "source": [
    "hsv = cv2.imread('img/hsv.png')\n",
    "plt.figure(figsize = (20,15));\n",
    "plt.imshow(cv2.cvtColor(hsv,cv2.COLOR_BGR2RGB));"
   ]
  },
  {
   "cell_type": "markdown",
   "metadata": {},
   "source": [
    "#### So!, how does it work?"
   ]
  },
  {
   "cell_type": "markdown",
   "metadata": {},
   "source": [
    "The X axis is **Hue** ranging [from 0 to 180] and the Y axis is **Saturation** ranging [from 0 to 255]  \n",
    "As for **Value** you can play around with it but 20 and 255 normally play well"
   ]
  },
  {
   "cell_type": "markdown",
   "metadata": {},
   "source": [
    "#### The mask we created before was quite good but we can make it better by adjusting the boundaries!"
   ]
  },
  {
   "cell_type": "code",
   "execution_count": null,
   "metadata": {
    "ExecuteTime": {
     "end_time": "2019-08-19T13:22:30.704151Z",
     "start_time": "2019-08-19T13:22:28.810649Z"
    }
   },
   "outputs": [],
   "source": [
    "lower_range = (110,50,20)\n",
    "upper_range = (160,255, 255)\n",
    "hsv_mask = cv2.inRange(hsv_flowers, lower_range, upper_range)\n",
    "\n",
    "masked_image = np.copy(blue_red_flowers)\n",
    "masked_image[hsv_mask == 0] = [0,0,0]\n",
    "\n",
    "plt.figure(figsize = (20,15));\n",
    "plt.imshow(cv2.cvtColor(masked_image,cv2.COLOR_BGR2RGB))"
   ]
  },
  {
   "cell_type": "markdown",
   "metadata": {},
   "source": [
    "#### Ok!, lets try now to see the green areas!"
   ]
  },
  {
   "cell_type": "code",
   "execution_count": null,
   "metadata": {
    "ExecuteTime": {
     "end_time": "2019-08-19T13:41:53.943038Z",
     "start_time": "2019-08-19T13:41:52.522541Z"
    }
   },
   "outputs": [],
   "source": [
    "lower_range = (40,0,20)\n",
    "upper_range = (80,255, 255)\n",
    "green_hsv_mask = cv2.inRange(hsv_flowers, lower_range, upper_range)\n",
    "\n",
    "masked_image = np.copy(bgr_flowers)\n",
    "masked_image[green_hsv_mask == 0] = [0,0,0]\n",
    "\n",
    "plt.figure(figsize = (20,15));\n",
    "plt.imshow(cv2.cvtColor(masked_image,cv2.COLOR_BGR2RGB));"
   ]
  },
  {
   "cell_type": "code",
   "execution_count": null,
   "metadata": {
    "ExecuteTime": {
     "end_time": "2019-08-19T13:43:04.919070Z",
     "start_time": "2019-08-19T13:43:03.204083Z"
    }
   },
   "outputs": [],
   "source": [
    "field = np.copy(blue_red_flowers)\n",
    "hsv_field = cv2.cvtColor(field, cv2.COLOR_BGR2HSV)\n",
    "\n",
    "mask = green_hsv_mask + hsv_mask\n",
    "\n",
    "field[mask == 0] = [0,0,0]\n",
    "\n",
    "plt.figure(figsize = (20,15));\n",
    "plt.imshow(cv2.cvtColor(field,cv2.COLOR_BGR2RGB));"
   ]
  },
  {
   "cell_type": "markdown",
   "metadata": {
    "ExecuteTime": {
     "end_time": "2019-08-03T16:16:41.586811Z",
     "start_time": "2019-08-03T16:16:41.580866Z"
    }
   },
   "source": [
    "#### Allright, what about if we do it with Skittles"
   ]
  },
  {
   "cell_type": "code",
   "execution_count": null,
   "metadata": {
    "ExecuteTime": {
     "end_time": "2019-08-19T13:57:22.842104Z",
     "start_time": "2019-08-19T13:57:21.495642Z"
    }
   },
   "outputs": [],
   "source": [
    "img = cv2.imread('img/m.jpg')\n",
    "plt.figure(figsize = (20,15));\n",
    "\n",
    "plt.imshow(cv2.cvtColor(img,cv2.COLOR_BGR2RGB));"
   ]
  },
  {
   "cell_type": "code",
   "execution_count": null,
   "metadata": {
    "ExecuteTime": {
     "end_time": "2019-08-19T14:19:24.980702Z",
     "start_time": "2019-08-19T14:19:24.177703Z"
    }
   },
   "outputs": [],
   "source": [
    "# set the lower and upper bounds\n",
    "lower_bound = (90,0,20)\n",
    "upper_bound = (120,255,255)\n",
    "\n",
    "# create hsv version of the image\n",
    "hsv = cv2.cvtColor(img, cv2.COLOR_BGR2HSV)\n",
    "# create copy for the masked image\n",
    "masked_img = np.copy(img)\n",
    "# define the mask \n",
    "mask = cv2.inRange(hsv,lower_bound,upper_bound)\n",
    "# apply the mask\n",
    "masked_img[mask == 0] = [0,0,0]\n",
    "# plot\n",
    "plt.figure(figsize=(20,15))\n",
    "plt.imshow(cv2.cvtColor(masked_img,cv2.COLOR_BGR2RGB))"
   ]
  },
  {
   "cell_type": "code",
   "execution_count": null,
   "metadata": {
    "ExecuteTime": {
     "end_time": "2019-08-19T14:28:03.203752Z",
     "start_time": "2019-08-19T14:28:02.775249Z"
    }
   },
   "outputs": [],
   "source": [
    "lower_bound = (40,0,20)\n",
    "upper_bound = (70, 255, 255)\n",
    "masked_again = np.copy(img)\n",
    "mask_green = cv2.inRange(hsv, lower_bound, upper_bound)\n",
    "masked_again[mask_green == 0] = [0,0,0]\n",
    "\n",
    "#plt.imshow(masked_again)\n",
    "plt.imshow(cv2.cvtColor(masked_again,cv2.COLOR_BGR2RGB))"
   ]
  },
  {
   "cell_type": "code",
   "execution_count": null,
   "metadata": {
    "ExecuteTime": {
     "end_time": "2019-08-19T14:31:43.191300Z",
     "start_time": "2019-08-19T14:31:42.228805Z"
    }
   },
   "outputs": [],
   "source": [
    "combine_mask = mask + mask_green\n",
    "\n",
    "masked_comb = np.copy(img)\n",
    "# apply the mask\n",
    "masked_comb[combine_mask== 0] = [0,0,0]\n",
    "# plot\n",
    "plt.figure(figsize=(20,15))\n",
    "plt.imshow(cv2.cvtColor(masked_comb,cv2.COLOR_BGR2RGB))"
   ]
  },
  {
   "cell_type": "markdown",
   "metadata": {},
   "source": [
    "##### Spoiler! the solution is here!"
   ]
  },
  {
   "cell_type": "markdown",
   "metadata": {},
   "source": [
    "###### Allright, what about if we do it with Skittles?"
   ]
  },
  {
   "cell_type": "code",
   "execution_count": null,
   "metadata": {
    "ExecuteTime": {
     "end_time": "2019-08-19T14:38:31.246553Z",
     "start_time": "2019-08-19T14:38:30.300558Z"
    }
   },
   "outputs": [],
   "source": [
    "img = cv2.imread('img/m.jpg')\n",
    "hsv_chocolate = cv2.cvtColor(img, cv2.COLOR_BGR2HSV)\n",
    "\n",
    "lower_range = (40,0,20)\n",
    "upper_range = (80,255, 255)\n",
    "green_hsv_mask = cv2.inRange(hsv_chocolate, lower_range, upper_range)\n",
    "\n",
    "masked_image = np.copy(img)\n",
    "masked_image[green_hsv_mask == 0] = [0,0,0]\n",
    "\n",
    "plt.figure(figsize = (20,15));\n",
    "plt.imshow(cv2.cvtColor(masked_image,cv2.COLOR_BGR2RGB));"
   ]
  },
  {
   "cell_type": "code",
   "execution_count": null,
   "metadata": {
    "ExecuteTime": {
     "end_time": "2019-08-19T14:45:37.083994Z",
     "start_time": "2019-08-19T14:45:35.736490Z"
    }
   },
   "outputs": [],
   "source": [
    "# (1) create a copy of the original:\n",
    "overlay = img\n",
    "\n",
    "# (3) blend with the original:\n",
    "opacity = 0.5\n",
    "masked_image = cv2.addWeighted(overlay, opacity, masked_image, 1 - opacity, 0, masked_image)\n",
    " \n",
    "plt.figure(figsize = (20,15))\n",
    "plt.imshow(cv2.cvtColor(masked_image,cv2.COLOR_BGR2RGB));"
   ]
  },
  {
   "cell_type": "code",
   "execution_count": null,
   "metadata": {
    "ExecuteTime": {
     "end_time": "2019-08-19T14:39:03.504058Z",
     "start_time": "2019-08-19T14:39:02.761097Z"
    }
   },
   "outputs": [],
   "source": [
    "img = cv2.imread('img/m.jpg')\n",
    "hsv_chocolate = cv2.cvtColor(img, cv2.COLOR_BGR2HSV)\n",
    "\n",
    "lower_range = (0,200,0)\n",
    "upper_range = (20,255, 255)\n",
    "orange_hsv_mask = cv2.inRange(hsv_chocolate, lower_range, upper_range)\n",
    "\n",
    "masked_image = np.copy(img)\n",
    "masked_image[orange_hsv_mask == 0] = [0,0,0]\n",
    "\n",
    "plt.figure(figsize = (20,15));\n",
    "plt.imshow(cv2.cvtColor(masked_image,cv2.COLOR_BGR2RGB));"
   ]
  },
  {
   "cell_type": "code",
   "execution_count": null,
   "metadata": {
    "ExecuteTime": {
     "end_time": "2019-08-19T14:39:08.855963Z",
     "start_time": "2019-08-19T14:39:07.366460Z"
    }
   },
   "outputs": [],
   "source": [
    "# (1) create a copy of the original:\n",
    "overlay = img\n",
    "\n",
    "# (3) blend with the original:\n",
    "opacity = 0.5\n",
    "cv2.addWeighted(overlay, opacity, masked_image, 1 - opacity, 0, masked_image)\n",
    " \n",
    "plt.figure(figsize = (20,15))\n",
    "plt.imshow(cv2.cvtColor(masked_image,cv2.COLOR_BGR2RGB));"
   ]
  },
  {
   "cell_type": "markdown",
   "metadata": {},
   "source": [
    "##### What if I want to see both orange and green at the same time?"
   ]
  },
  {
   "cell_type": "code",
   "execution_count": null,
   "metadata": {
    "ExecuteTime": {
     "end_time": "2019-08-19T14:39:14.871974Z",
     "start_time": "2019-08-19T14:39:13.826476Z"
    }
   },
   "outputs": [],
   "source": [
    "img = cv2.imread('img/m.jpg')\n",
    "hsv_chocolate = cv2.cvtColor(img, cv2.COLOR_BGR2HSV)\n",
    "\n",
    "mask = green_hsv_mask + orange_hsv_mask\n",
    "\n",
    "masked_image = np.copy(img)\n",
    "masked_image[mask == 0] = [0,0,0]\n",
    "\n",
    "plt.figure(figsize = (20,15));\n",
    "plt.imshow(cv2.cvtColor(masked_image,cv2.COLOR_BGR2RGB));"
   ]
  },
  {
   "cell_type": "code",
   "execution_count": null,
   "metadata": {
    "ExecuteTime": {
     "end_time": "2019-08-19T14:38:07.622905Z",
     "start_time": "2019-08-19T14:38:07.590404Z"
    }
   },
   "outputs": [],
   "source": [
    "# (1) create a copy of the original:\n",
    "overlay = img\n",
    "\n",
    "# (3) blend with the original:\n",
    "opacity = 0.5\n",
    "cv2.addWeighted(overlay, opacity, masked_image, 1 - opacity, 0, masked_image)\n",
    " \n",
    "plt.figure(figsize = (20,15))\n",
    "plt.imshow(cv2.cvtColor(masked_image,cv2.COLOR_BGR2RGB));"
   ]
  },
  {
   "cell_type": "markdown",
   "metadata": {},
   "source": [
    "## Working with video"
   ]
  },
  {
   "cell_type": "markdown",
   "metadata": {},
   "source": [
    "### Capture video in real time"
   ]
  },
  {
   "cell_type": "code",
   "execution_count": null,
   "metadata": {
    "ExecuteTime": {
     "end_time": "2019-08-19T15:06:42.077803Z",
     "start_time": "2019-08-19T15:06:33.855089Z"
    }
   },
   "outputs": [],
   "source": [
    "cap = cv2.VideoCapture(0)\n",
    "\n",
    "while(True):\n",
    "    # Capture frame-by-frame\n",
    "    ret, frame = cap.read()\n",
    "\n",
    "    # Our operations on the frame come here\n",
    "    #img = frame\n",
    "    img = cv2.cvtColor(frame, cv2.COLOR_BGR2GRAY)\n",
    "    \n",
    "    \n",
    "    # Display the resulting frame\n",
    "    cv2.imshow('Video from OpenCV!, press \\'q\\' to close',img)\n",
    "    if cv2.waitKey(1) & 0xFF == ord('q'):\n",
    "        break\n",
    "\n",
    "# When everything done, release the capture\n",
    "cap.release()\n",
    "cv2.destroyAllWindows()"
   ]
  },
  {
   "cell_type": "markdown",
   "metadata": {
    "heading_collapsed": true
   },
   "source": [
    "### Playing a video file"
   ]
  },
  {
   "cell_type": "code",
   "execution_count": null,
   "metadata": {
    "ExecuteTime": {
     "end_time": "2019-08-19T15:16:40.936687Z",
     "start_time": "2019-08-19T15:16:29.291665Z"
    },
    "hidden": true
   },
   "outputs": [],
   "source": [
    "video = cv2.VideoCapture('video.mp4')\n",
    "\n",
    "while(video.isOpened()):\n",
    "    check, frame = video.read()\n",
    "    if frame is not None:\n",
    "        #img = cv2.cvtColor(frame, cv2.COLOR_BGR2GRAY)\n",
    "        img = frame\n",
    "        cv2.imshow('frame',img)        \n",
    "        if cv2.waitKey(30) & 0xFF == ord('q'):\n",
    "            break\n",
    "    else:\n",
    "        break\n",
    "\n",
    "\n",
    "video.release()\n",
    "cv2.destroyAllWindows()"
   ]
  },
  {
   "cell_type": "markdown",
   "metadata": {},
   "source": [
    "## Mini projects!"
   ]
  },
  {
   "cell_type": "markdown",
   "metadata": {
    "heading_collapsed": true
   },
   "source": [
    "### Level 1"
   ]
  },
  {
   "cell_type": "markdown",
   "metadata": {
    "heading_collapsed": true,
    "hidden": true
   },
   "source": [
    "#### Meme creator"
   ]
  },
  {
   "cell_type": "markdown",
   "metadata": {
    "hidden": true
   },
   "source": [
    "1. Create a basic Meme creator with one image and a short line of text\n",
    "1. Use the classic meme font"
   ]
  },
  {
   "cell_type": "markdown",
   "metadata": {
    "heading_collapsed": true,
    "hidden": true
   },
   "source": [
    "#### Ball tracker"
   ]
  },
  {
   "cell_type": "markdown",
   "metadata": {
    "hidden": true
   },
   "source": [
    "1. Given an image with a ball on it isolate the ball"
   ]
  },
  {
   "cell_type": "markdown",
   "metadata": {
    "heading_collapsed": true,
    "hidden": true
   },
   "source": [
    "#### Image classifier"
   ]
  },
  {
   "cell_type": "markdown",
   "metadata": {
    "ExecuteTime": {
     "end_time": "2019-08-03T17:09:31.647749Z",
     "start_time": "2019-08-03T17:09:31.521742Z"
    },
    "hidden": true
   },
   "source": [
    "1. By using only computer vision techniques (no Neural Networks and ML are not allowed) create a binary classifier that can detect if a picutre was taken during the day"
   ]
  },
  {
   "cell_type": "markdown",
   "metadata": {
    "heading_collapsed": true
   },
   "source": [
    "### Level 2"
   ]
  },
  {
   "cell_type": "markdown",
   "metadata": {
    "heading_collapsed": true,
    "hidden": true
   },
   "source": [
    "#### Meme Creator"
   ]
  },
  {
   "cell_type": "markdown",
   "metadata": {
    "hidden": true
   },
   "source": [
    "1. Improve it by adding 2 to 3 lines with the text on the top of the image and the bottom of the image\n",
    "1. Make the text in white and with black contours"
   ]
  },
  {
   "cell_type": "markdown",
   "metadata": {
    "heading_collapsed": true,
    "hidden": true
   },
   "source": [
    "#### Ball tracker"
   ]
  },
  {
   "cell_type": "markdown",
   "metadata": {
    "hidden": true
   },
   "source": [
    "1. Make it track a ball in real time (either with a video or a webcam)"
   ]
  },
  {
   "cell_type": "markdown",
   "metadata": {
    "heading_collapsed": true,
    "hidden": true
   },
   "source": [
    "#### Image Classifier"
   ]
  },
  {
   "cell_type": "markdown",
   "metadata": {
    "hidden": true
   },
   "source": [
    "1. This should be an easy one, change the classifier so it can also detect night pictures"
   ]
  },
  {
   "cell_type": "markdown",
   "metadata": {
    "heading_collapsed": true
   },
   "source": [
    "### Level 3"
   ]
  },
  {
   "cell_type": "markdown",
   "metadata": {
    "heading_collapsed": true,
    "hidden": true
   },
   "source": [
    "#### Meme Creator"
   ]
  },
  {
   "cell_type": "markdown",
   "metadata": {
    "hidden": true
   },
   "source": [
    "1. Make the text center automatically\n",
    "1. If the text is too long it should wrap the text in as many lines as needed"
   ]
  },
  {
   "cell_type": "markdown",
   "metadata": {
    "heading_collapsed": true,
    "hidden": true
   },
   "source": [
    "#### Ball Tracker"
   ]
  },
  {
   "cell_type": "markdown",
   "metadata": {
    "hidden": true
   },
   "source": [
    "1. Can you make it track two or more different color balls at the same time?"
   ]
  },
  {
   "cell_type": "markdown",
   "metadata": {
    "heading_collapsed": true
   },
   "source": [
    "### Level 4"
   ]
  },
  {
   "cell_type": "markdown",
   "metadata": {
    "heading_collapsed": true,
    "hidden": true
   },
   "source": [
    "#### Meme Creator"
   ]
  },
  {
   "cell_type": "markdown",
   "metadata": {
    "hidden": true
   },
   "source": [
    "1. Make it work from the command line, it shoud accept the arguments for the image path and text to use and should save the meme on the same folder with the same name as the original image + _meme"
   ]
  },
  {
   "cell_type": "markdown",
   "metadata": {
    "heading_collapsed": true
   },
   "source": [
    "### Level 5"
   ]
  },
  {
   "cell_type": "markdown",
   "metadata": {
    "hidden": true
   },
   "source": [
    "#### Meme Generator"
   ]
  },
  {
   "cell_type": "markdown",
   "metadata": {
    "hidden": true
   },
   "source": [
    "1. You should be able to give as input parameter the path of the folder containing multiple images (of your class mates) and the path to a text file containing different texts for the memes, it should generate memes with all images and all texts so if you have 3 images and 5 diffrerent texts it will generate 15 memes"
   ]
  }
 ],
 "metadata": {
  "kernelspec": {
   "display_name": "Python 3",
   "language": "python",
   "name": "python3"
  },
  "language_info": {
   "codemirror_mode": {
    "name": "ipython",
    "version": 3
   },
   "file_extension": ".py",
   "mimetype": "text/x-python",
   "name": "python",
   "nbconvert_exporter": "python",
   "pygments_lexer": "ipython3",
   "version": "3.7.3"
  }
 },
 "nbformat": 4,
 "nbformat_minor": 2
}
