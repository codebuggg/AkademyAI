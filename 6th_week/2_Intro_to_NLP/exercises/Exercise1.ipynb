{
 "cells": [
  {
   "cell_type": "markdown",
   "metadata": {},
   "source": [
    "Exercise 1: develop a jupyter notebook that shows the 25 non-stopwords with more number of occurrences in the file 'blake-poems.txt' of Gutenberg corpus."
   ]
  },
  {
   "cell_type": "code",
   "execution_count": 1,
   "metadata": {},
   "outputs": [],
   "source": [
    "from nltk.corpus import gutenberg\n",
    "from nltk.text import Text\n",
    "\n",
    "crp = Text(gutenberg.words('blake-poems.txt'))"
   ]
  },
  {
   "cell_type": "code",
   "execution_count": 15,
   "metadata": {
    "scrolled": true
   },
   "outputs": [],
   "source": [
    "from nltk.corpus import stopwords\n",
    "\n",
    "sw = set(stopwords.words('english'))"
   ]
  },
  {
   "cell_type": "code",
   "execution_count": 17,
   "metadata": {},
   "outputs": [],
   "source": [
    "crp2 = [w.lower() for w in crp if w.isalpha() and len(w)>2 and w.lower() not in sw]\n",
    "#print (crp2)"
   ]
  },
  {
   "cell_type": "code",
   "execution_count": 18,
   "metadata": {},
   "outputs": [],
   "source": [
    "freqs={w:crp2.count(w) for w in crp2}"
   ]
  },
  {
   "cell_type": "code",
   "execution_count": 19,
   "metadata": {},
   "outputs": [],
   "source": [
    "top25=sorted(freqs.items(), key=lambda x: x[1], reverse=True)[:25]"
   ]
  },
  {
   "cell_type": "code",
   "execution_count": 20,
   "metadata": {},
   "outputs": [
    {
     "data": {
      "text/plain": [
       "[('little', 45),\n",
       " ('thee', 42),\n",
       " ('like', 35),\n",
       " ('thou', 35),\n",
       " ('thy', 31),\n",
       " ('love', 29),\n",
       " ('sweet', 28),\n",
       " ('night', 28),\n",
       " ('joy', 25),\n",
       " ('away', 24),\n",
       " ('weep', 24),\n",
       " ('father', 22),\n",
       " ('sleep', 21),\n",
       " ('happy', 19),\n",
       " ('shall', 19),\n",
       " ('day', 19),\n",
       " ('mother', 19),\n",
       " ('child', 18),\n",
       " ('every', 17),\n",
       " ('never', 17),\n",
       " ('thel', 16),\n",
       " ('hear', 16),\n",
       " ('green', 16),\n",
       " ('voice', 16),\n",
       " ('infant', 16)]"
      ]
     },
     "execution_count": 20,
     "metadata": {},
     "output_type": "execute_result"
    }
   ],
   "source": [
    "top25"
   ]
  },
  {
   "cell_type": "code",
   "execution_count": null,
   "metadata": {},
   "outputs": [],
   "source": []
  },
  {
   "cell_type": "code",
   "execution_count": null,
   "metadata": {},
   "outputs": [],
   "source": []
  }
 ],
 "metadata": {
  "kernelspec": {
   "display_name": "Python 3",
   "language": "python",
   "name": "python3"
  },
  "language_info": {
   "codemirror_mode": {
    "name": "ipython",
    "version": 3
   },
   "file_extension": ".py",
   "mimetype": "text/x-python",
   "name": "python",
   "nbconvert_exporter": "python",
   "pygments_lexer": "ipython3",
   "version": "3.7.3"
  }
 },
 "nbformat": 4,
 "nbformat_minor": 2
}
