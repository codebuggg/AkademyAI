{
 "cells": [
  {
   "cell_type": "markdown",
   "metadata": {},
   "source": [
    "# Exercise 2"
   ]
  },
  {
   "cell_type": "markdown",
   "metadata": {},
   "source": [
    "_Remake the same steps in the example of the slides but with the file 'austen-sense.txt' of Gutenberg corpus._\n",
    "_Compare the results with those in the example._"
   ]
  },
  {
   "cell_type": "markdown",
   "metadata": {},
   "source": [
    "#### First, we make sure to import `nltk` and `matplotlib`, which will be used for the dispersion plot. We also use the command `%matplotlib inline` to display inline the output of the dispersion plot."
   ]
  },
  {
   "cell_type": "code",
   "execution_count": 1,
   "metadata": {},
   "outputs": [],
   "source": [
    "import nltk\n",
    "from nltk.corpus import gutenberg\n",
    "from nltk.text import Text\n",
    "import matplotlib\n",
    "%matplotlib inline"
   ]
  },
  {
   "cell_type": "markdown",
   "metadata": {},
   "source": [
    "#### Then, we import the corpus that we want to analyze."
   ]
  },
  {
   "cell_type": "code",
   "execution_count": 2,
   "metadata": {},
   "outputs": [],
   "source": [
    "crp=Text(gutenberg.words('austen-sense.txt'))"
   ]
  },
  {
   "cell_type": "markdown",
   "metadata": {},
   "source": [
    "#### We count the occurences of the word \"love\" (all lowercase)..."
   ]
  },
  {
   "cell_type": "code",
   "execution_count": 3,
   "metadata": {},
   "outputs": [
    {
     "data": {
      "text/plain": [
       "77"
      ]
     },
     "execution_count": 3,
     "metadata": {},
     "output_type": "execute_result"
    }
   ],
   "source": [
    "crp.count('love')"
   ]
  },
  {
   "cell_type": "markdown",
   "metadata": {},
   "source": [
    "#### ...and of the word \"Love\" (with capital letter), since it referes to the same word as \"love\"."
   ]
  },
  {
   "cell_type": "code",
   "execution_count": 4,
   "metadata": {},
   "outputs": [
    {
     "data": {
      "text/plain": [
       "0"
      ]
     },
     "execution_count": 4,
     "metadata": {},
     "output_type": "execute_result"
    }
   ],
   "source": [
    "crp.count('Love')"
   ]
  },
  {
   "cell_type": "markdown",
   "metadata": {},
   "source": [
    "#### With the concordance method we consult in which context  of the corpus the word \"love\" appears. This can be useful to uderstand how the author uses the word, and in which contexts."
   ]
  },
  {
   "cell_type": "code",
   "execution_count": 5,
   "metadata": {},
   "outputs": [
    {
     "name": "stdout",
     "output_type": "stream",
     "text": [
      "Displaying 25 of 77 matches:\n",
      "priety of going , and her own tender love for all her three children determine\n",
      "es .\" \" I believe you are right , my love ; it will be better that there shoul\n",
      " . It implies everything amiable . I love him already .\" \" I think you will li\n",
      "sentiment of approbation inferior to love .\" \" You may esteem him .\" \" I have \n",
      "n what it was to separate esteem and love .\" Mrs . Dashwood now took pains to \n",
      "oner did she perceive any symptom of love in his behaviour to Elinor , than sh\n",
      " how shall we do without her ?\" \" My love , it will be scarcely a separation .\n",
      "ise . Edward is very amiable , and I love him tenderly . But yet -- he is not \n",
      "ll never see a man whom I can really love . I require so much ! He must have a\n",
      "ry possible charm .\" \" Remember , my love , that you are not seventeen . It is\n",
      "f I do not now . When you tell me to love him as a brother , I shall no more s\n",
      "hat Colonel Brandon was very much in love with Marianne Dashwood . She rather \n",
      "e were ever animated enough to be in love , must have long outlived every sens\n",
      "hirty - five anything near enough to love , to make him a desirable companion \n",
      "roach would have been spared .\" \" My love ,\" said her mother , \" you must not \n",
      "pect that the misery of disappointed love had already been known to him . This\n",
      " most melancholy order of disastrous love . CHAPTER 12 As Elinor and Marianne \n",
      "hen she considered what Marianne ' s love for him was , a quarrel seemed almos\n",
      "ctory way ;-- but you , Elinor , who love to doubt where you can -- it will no\n",
      " man whom we have all such reason to love , and no reason in the world to thin\n",
      "ded as he must be of your sister ' s love , should leave her , and leave her p\n",
      "cannot think that . He must and does love her I am sure .\" \" But with a strang\n",
      " I believe not ,\" cried Elinor . \" I love Willoughby , sincerely love him ; an\n",
      "or . \" I love Willoughby , sincerely love him ; and suspicion of his integrity\n",
      "deed a man could not very well be in love with either of her daughters , witho\n"
     ]
    }
   ],
   "source": [
    "crp.concordance('love')"
   ]
  },
  {
   "cell_type": "markdown",
   "metadata": {},
   "source": [
    "#### We also check which words of the corpus are used in the same contexta as the word \"love\". This can be useful, together with the concordance, to have a better overview and understanding on how the word \"love\" is used and what it means in this specific corpus."
   ]
  },
  {
   "cell_type": "code",
   "execution_count": 6,
   "metadata": {},
   "outputs": [
    {
     "name": "stdout",
     "output_type": "stream",
     "text": [
      "affection sister heart mother time see town life it dear elinor\n",
      "marianne me word family her him do regard head\n"
     ]
    }
   ],
   "source": [
    "crp.similar('love')"
   ]
  },
  {
   "cell_type": "markdown",
   "metadata": {},
   "source": [
    "#### We check if the words \"love\" and \"laugh\" have common contexts in the corpus."
   ]
  },
  {
   "cell_type": "code",
   "execution_count": 7,
   "metadata": {},
   "outputs": [
    {
     "name": "stdout",
     "output_type": "stream",
     "text": [
      "No common contexts were found\n"
     ]
    }
   ],
   "source": [
    "crp.common_contexts(['love', 'laugh'])"
   ]
  },
  {
   "cell_type": "markdown",
   "metadata": {},
   "source": [
    "#### Finally, we show the dispersion plot of the words \"love\" and \"laugh\", to analyze in which parts of the text they appear."
   ]
  },
  {
   "cell_type": "code",
   "execution_count": 8,
   "metadata": {},
   "outputs": [
    {
     "data": {
      "image/png": "[encoded data removed]",
      "text/plain": [
       "<Figure size 432x288 with 1 Axes>"
      ]
     },
     "metadata": {
      "needs_background": "light"
     },
     "output_type": "display_data"
    }
   ],
   "source": [
    "crp.dispersion_plot(['love', 'laugh'])"
   ]
  },
  {
   "cell_type": "markdown",
   "metadata": {},
   "source": [
    "### Before comparing these results with the ones of the example in the slide, we make an additional check to see how much the word \"love\" represents the total words of the two text."
   ]
  },
  {
   "cell_type": "markdown",
   "metadata": {},
   "source": [
    "#### Checking how much the word \"love\" represents the words of the austen-sense.txt corpus"
   ]
  },
  {
   "cell_type": "code",
   "execution_count": 9,
   "metadata": {},
   "outputs": [
    {
     "data": {
      "text/plain": [
       "0.05"
      ]
     },
     "execution_count": 9,
     "metadata": {},
     "output_type": "execute_result"
    }
   ],
   "source": [
    "round((crp.count('love')+crp.count('Love'))/len(crp)*100, 2)"
   ]
  },
  {
   "cell_type": "markdown",
   "metadata": {},
   "source": [
    "#### Checking how much the word \"love\" represents the words of the blake-poems.txt corpus"
   ]
  },
  {
   "cell_type": "code",
   "execution_count": 10,
   "metadata": {},
   "outputs": [
    {
     "data": {
      "text/plain": [
       "0.34"
      ]
     },
     "execution_count": 10,
     "metadata": {},
     "output_type": "execute_result"
    }
   ],
   "source": [
    "crp_blake = Text(gutenberg.words('blake-poems.txt'))\n",
    "round((crp_blake.count('love')+crp_blake.count('Love'))/len(crp_blake)*100, 2)"
   ]
  },
  {
   "cell_type": "markdown",
   "metadata": {},
   "source": [
    "### The differences that we can see between these results and the ones from the given example are the following:\n",
    "1. The word *\"love\"* (both \"Love\" and \"love\") appears more often in blake-poems.txt that in austen-sense.txt.\n",
    "2. If we make futher analysis, though, we can see that in Austen the word *\"love\"* represents only 0.05% of the all corpus, weather in Blake it represents 0.34% of the corpus, which is almost 7 times more than in Austen!\n",
    "3. Looking at the words in the same context, it seems like in Austen the word *\"love\"* is more related to the family (some of the words in the same context of \"love\" are sister, mother, family, town), wether in Blake it looks more related to a first love (some of the words in the same context of \"love\" are youth, innocence, compelled, desires).\n",
    "4. If we look at the dispersion plot, we notice that in Blake the word *\"laugh\"* is used very few times and only at the beginning, and in in very distinct moments compared to the word *\"love\"*. In Austen, the word *\"laugh\"* is more present, and there are even some moments in which it is used when also the word *\"love\"* is used (for example, you can clearly see it around the 40,000 word offset of the plot).\n",
    "5. The last two points can give us a hint that maybe in Blake, love is seen in a less positive way than in Austen."
   ]
  }
 ],
 "metadata": {
  "kernelspec": {
   "display_name": "Python 3",
   "language": "python",
   "name": "python3"
  },
  "language_info": {
   "codemirror_mode": {
    "name": "ipython",
    "version": 3
   },
   "file_extension": ".py",
   "mimetype": "text/x-python",
   "name": "python",
   "nbconvert_exporter": "python",
   "pygments_lexer": "ipython3",
   "version": "3.6.8"
  }
 },
 "nbformat": 4,
 "nbformat_minor": 2
}
