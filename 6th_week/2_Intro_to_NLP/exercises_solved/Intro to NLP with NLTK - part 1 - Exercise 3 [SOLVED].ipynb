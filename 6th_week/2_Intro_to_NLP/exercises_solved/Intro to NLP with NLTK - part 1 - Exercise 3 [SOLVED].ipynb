{
 "cells": [
  {
   "cell_type": "markdown",
   "metadata": {},
   "source": [
    "# Exercise 3\n",
    "\n",
    "The first approach to perform spelling correction needs a list of words such as the attached file wordsEn.txt\n",
    "(http://www-01.sil.org/linguistics/wordlists/english/)\n",
    "The input of the process should a word to be corrected.\n",
    "The output of the process should be the same word if it is included in the previous word list; or the word in the list with minimum edit distance to the input word if it do not belong to the list.\n",
    "- Read the word list from the attached file\n",
    "- Implement this basic approach\n",
    "- Use the approach to correct the words: something, soemthing and some other of your choose."
   ]
  },
  {
   "cell_type": "code",
   "execution_count": 1,
   "metadata": {},
   "outputs": [],
   "source": [
    "from nltk.metrics.distance import edit_distance"
   ]
  },
  {
   "cell_type": "markdown",
   "metadata": {},
   "source": [
    "First, we create a list with the English words that the spelling corrector will use as a reference to check if the input words are correctly spelled."
   ]
  },
  {
   "cell_type": "code",
   "execution_count": 2,
   "metadata": {},
   "outputs": [],
   "source": [
    "txt = open('./wordsEn.txt', 'r')\n",
    "words_en = [line.strip() for line in txt.readlines()]"
   ]
  },
  {
   "cell_type": "markdown",
   "metadata": {},
   "source": [
    "The spelling corrector will return the input word, in case the word is included in the English words list, otherwise it will return the word with the smallest edit distance. In case of more words with the same edit distance, it will return the first from the list of English words."
   ]
  },
  {
   "cell_type": "code",
   "execution_count": 3,
   "metadata": {},
   "outputs": [],
   "source": [
    "def spelling_corrector(word):\n",
    "    if word in words_en:\n",
    "        return word\n",
    "    else:\n",
    "        dist = edit_distance(word, words_en[0])\n",
    "        correct_word = words_en[0]\n",
    "        for w in words_en[1:]:\n",
    "            next_dist = edit_distance(word, w)\n",
    "            if next_dist < dist:\n",
    "                dist = next_dist\n",
    "                correct_word = w\n",
    "        return correct_word"
   ]
  },
  {
   "cell_type": "code",
   "execution_count": 4,
   "metadata": {},
   "outputs": [
    {
     "name": "stdout",
     "output_type": "stream",
     "text": [
      "something  -->  something\n",
      "soemthing  -->  seething\n"
     ]
    }
   ],
   "source": [
    "words = ['something', 'soemthing']\n",
    "\n",
    "for word in words:\n",
    "    print(word, ' --> ', spelling_corrector(word))"
   ]
  },
  {
   "cell_type": "code",
   "execution_count": 5,
   "metadata": {},
   "outputs": [
    {
     "name": "stdout",
     "output_type": "stream",
     "text": [
      "somthing  -->  something\n",
      "ah  -->  ah\n",
      "att  -->  abt\n",
      "abcde  -->  abide\n",
      "test  -->  test\n"
     ]
    }
   ],
   "source": [
    "other_words = ['somthing', 'ah', 'att', 'abcde', 'test']\n",
    "\n",
    "for word in other_words:\n",
    "    print(word, ' --> ', spelling_corrector(word))"
   ]
  },
  {
   "cell_type": "markdown",
   "metadata": {},
   "source": [
    "As we can notice, returning the first word with the smallest edit distance can result in a wrong correction of the word: there are multiple words with the same edit distance to 'soemthing', so our spelling corrector is not that accurate. This problem may be solved in two ways:\n",
    "1. Return a list of all the words with the same edit distance, in this case we should be able to get the correct word, together with the other words with the same distance\n",
    "2. Using another method to compute the distance between words. If we want our spelling corrector to return only one word, we could improve it by analyzing the context in which the word appears, so that if a word has multiple corrections with the same distance, we can choose the one which can better fit in the context of the text.\n",
    "\n",
    "Another thing that we can notice, as expected, is that our spelling corrector is verly slow, since it loops through the whole list of words. One way to make it less time consuming would be to consider only the words from the English list that have a similar length to the one of the word we are trying to correct."
   ]
  }
 ],
 "metadata": {
  "kernelspec": {
   "display_name": "Python 3",
   "language": "python",
   "name": "python3"
  },
  "language_info": {
   "codemirror_mode": {
    "name": "ipython",
    "version": 3
   },
   "file_extension": ".py",
   "mimetype": "text/x-python",
   "name": "python",
   "nbconvert_exporter": "python",
   "pygments_lexer": "ipython3",
   "version": "3.6.8"
  }
 },
 "nbformat": 4,
 "nbformat_minor": 2
}
