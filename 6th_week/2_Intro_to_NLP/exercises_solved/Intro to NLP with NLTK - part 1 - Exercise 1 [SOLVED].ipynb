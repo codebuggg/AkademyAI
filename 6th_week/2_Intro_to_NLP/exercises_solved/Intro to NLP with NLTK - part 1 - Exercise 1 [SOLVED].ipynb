{
 "cells": [
  {
   "cell_type": "markdown",
   "metadata": {},
   "source": [
    "# Exercise 1\n",
    "_Develop a jupyter notebook that show the 25 non-stopwords with more number of occurrences in the file 'blake-poems.txt' of Gutenberg corpus._"
   ]
  },
  {
   "cell_type": "markdown",
   "metadata": {},
   "source": [
    "#### First of all, we import the corpus that we have to analyze (blake-poems.txt)."
   ]
  },
  {
   "cell_type": "code",
   "execution_count": 1,
   "metadata": {},
   "outputs": [],
   "source": [
    "import nltk\n",
    "\n",
    "from nltk.corpus import gutenberg\n",
    "from nltk.text import Text\n",
    "\n",
    "crp=Text(gutenberg.words('blake-poems.txt'))"
   ]
  },
  {
   "cell_type": "markdown",
   "metadata": {},
   "source": [
    "#### We also import the list of stopwords for the English language."
   ]
  },
  {
   "cell_type": "code",
   "execution_count": 2,
   "metadata": {},
   "outputs": [],
   "source": [
    "from nltk.corpus import stopwords\n",
    "\n",
    "sw=set(stopwords.words('english'))"
   ]
  },
  {
   "cell_type": "markdown",
   "metadata": {},
   "source": [
    "### To find the 25 non-stopwords with more occurrences, we follow these steps:"
   ]
  },
  {
   "cell_type": "markdown",
   "metadata": {},
   "source": [
    "#### 1. First, we eliminate words with less than 2 characters of length and the not alphabetic words. This is important to erase, for instance, punctuation signs, numbers and other not significant words with one or two characters. Also, we make sure to lowercase the remaining words, so that words like \"love\" and \"Love\" are both considered as the same word and not two different words."
   ]
  },
  {
   "cell_type": "code",
   "execution_count": 3,
   "metadata": {},
   "outputs": [],
   "source": [
    "crp_2 = [w.lower() for w in crp if len(w)> 2 and w.isalpha()]"
   ]
  },
  {
   "cell_type": "markdown",
   "metadata": {},
   "source": [
    "#### 2. From all the words in the original corpus, we select only the ones that are not stopwords."
   ]
  },
  {
   "cell_type": "code",
   "execution_count": 4,
   "metadata": {},
   "outputs": [],
   "source": [
    "filtered=[w for w in crp_2 if w not in sw]"
   ]
  },
  {
   "cell_type": "markdown",
   "metadata": {},
   "source": [
    "#### 4. We create a dictionary which contains the previously filtered words as keys, and the frequency with which they appear as value."
   ]
  },
  {
   "cell_type": "code",
   "execution_count": 5,
   "metadata": {},
   "outputs": [],
   "source": [
    "freqs={w:filtered.count(w) for w in filtered}"
   ]
  },
  {
   "cell_type": "markdown",
   "metadata": {},
   "source": [
    "#### 5. Finally, we sort the items in the dictionary based on the value of frequency, and store only the top 25 tuples."
   ]
  },
  {
   "cell_type": "code",
   "execution_count": 6,
   "metadata": {},
   "outputs": [],
   "source": [
    "top25=sorted(freqs.items(), key=lambda x: x[1], reverse=True)[:25]"
   ]
  },
  {
   "cell_type": "markdown",
   "metadata": {},
   "source": [
    "#### The final result is a list of 25 tuples, where the tuples contain the word and its occurences in the blake-poems.txt corpus."
   ]
  },
  {
   "cell_type": "code",
   "execution_count": 7,
   "metadata": {},
   "outputs": [
    {
     "data": {
      "text/plain": [
       "[('little', 45),\n",
       " ('thee', 42),\n",
       " ('like', 35),\n",
       " ('thou', 35),\n",
       " ('thy', 31),\n",
       " ('love', 29),\n",
       " ('sweet', 28),\n",
       " ('night', 28),\n",
       " ('joy', 25),\n",
       " ('away', 24),\n",
       " ('weep', 24),\n",
       " ('father', 22),\n",
       " ('sleep', 21),\n",
       " ('happy', 19),\n",
       " ('shall', 19),\n",
       " ('day', 19),\n",
       " ('mother', 19),\n",
       " ('child', 18),\n",
       " ('every', 17),\n",
       " ('never', 17),\n",
       " ('thel', 16),\n",
       " ('hear', 16),\n",
       " ('green', 16),\n",
       " ('voice', 16),\n",
       " ('infant', 16)]"
      ]
     },
     "execution_count": 7,
     "metadata": {},
     "output_type": "execute_result"
    }
   ],
   "source": [
    "top25"
   ]
  }
 ],
 "metadata": {
  "kernelspec": {
   "display_name": "Python 3",
   "language": "python",
   "name": "python3"
  },
  "language_info": {
   "codemirror_mode": {
    "name": "ipython",
    "version": 3
   },
   "file_extension": ".py",
   "mimetype": "text/x-python",
   "name": "python",
   "nbconvert_exporter": "python",
   "pygments_lexer": "ipython3",
   "version": "3.7.3"
  }
 },
 "nbformat": 4,
 "nbformat_minor": 2
}
