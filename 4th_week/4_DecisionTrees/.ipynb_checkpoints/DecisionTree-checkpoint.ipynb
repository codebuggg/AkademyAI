{
 "cells": [
  {
   "cell_type": "markdown",
   "metadata": {},
   "source": [
    "Decision Tree"
   ]
  },
  {
   "cell_type": "code",
   "execution_count": 62,
   "metadata": {},
   "outputs": [],
   "source": [
    "from sklearn import tree\n",
    "import numpy as np \n",
    "import pandas as pd\n",
    "from sklearn.datasets import load_iris\n",
    "from sklearn.ensemble import RandomForestClassifier\n",
    "from sklearn.ensemble import BaggingClassifier\n",
    "from sklearn.tree import DecisionTreeClassifier\n",
    "from sklearn.model_selection import train_test_split"
   ]
  },
  {
   "cell_type": "code",
   "execution_count": 22,
   "metadata": {},
   "outputs": [],
   "source": [
    "x = [[0,0], [1,1]]\n",
    "y = [0,1]"
   ]
  },
  {
   "cell_type": "code",
   "execution_count": 61,
   "metadata": {},
   "outputs": [],
   "source": [
    "classifier = tree.DecisionTreeClassifier()\n",
    "classifer = classifier.fit(x, y)"
   ]
  },
  {
   "cell_type": "code",
   "execution_count": 4,
   "metadata": {},
   "outputs": [
    {
     "data": {
      "text/plain": [
       "array([1])"
      ]
     },
     "execution_count": 4,
     "metadata": {},
     "output_type": "execute_result"
    }
   ],
   "source": [
    "classifier.predict([[2.,2.]])"
   ]
  },
  {
   "cell_type": "code",
   "execution_count": 19,
   "metadata": {},
   "outputs": [
    {
     "name": "stdout",
     "output_type": "stream",
     "text": [
      "data\n",
      "target\n",
      "target_names\n",
      "DESCR\n",
      "feature_names\n",
      "filename\n",
      "DecisionTreeClassifier(class_weight=None, criterion='entropy', max_depth=None,\n",
      "                       max_features=None, max_leaf_nodes=None,\n",
      "                       min_impurity_decrease=0.0, min_impurity_split=None,\n",
      "                       min_samples_leaf=1, min_samples_split=2,\n",
      "                       min_weight_fraction_leaf=0.0, presort=False,\n",
      "                       random_state=None, splitter='best')\n"
     ]
    }
   ],
   "source": [
    "dataset = load_iris()\n",
    "#iris = pd.DataFrame(dataset.data, columns=dataset.feature_names)\n",
    "for keys in dataset.keys() :\n",
    "    print(keys)\n",
    "\n",
    "x = dataset.data\n",
    "y = dataset.target\n",
    "x_train, x_test, y_train, y_test = train_test_split(x, y, test_size=0.20, random_state=42)\n",
    "classifier = tree.DecisionTreeClassifier(criterion = \"entropy\")\n",
    "classifier = classifier.fit(x, y )\n",
    "print(classifier)"
   ]
  },
  {
   "cell_type": "code",
   "execution_count": null,
   "metadata": {},
   "outputs": [],
   "source": []
  },
  {
   "cell_type": "code",
   "execution_count": 28,
   "metadata": {},
   "outputs": [
    {
     "data": {
      "text/plain": [
       "[Text(167.4, 199.32, 'X[2] <= 2.45\\nentropy = 0.667\\nsamples = 150\\nvalue = [50, 50, 50]'),\n",
       " Text(141.64615384615385, 163.07999999999998, 'entropy = 0.0\\nsamples = 50\\nvalue = [50, 0, 0]'),\n",
       " Text(193.15384615384616, 163.07999999999998, 'X[3] <= 1.75\\nentropy = 0.5\\nsamples = 100\\nvalue = [0, 50, 50]'),\n",
       " Text(103.01538461538462, 126.83999999999999, 'X[2] <= 4.95\\nentropy = 0.168\\nsamples = 54\\nvalue = [0, 49, 5]'),\n",
       " Text(51.50769230769231, 90.6, 'X[3] <= 1.65\\nentropy = 0.041\\nsamples = 48\\nvalue = [0, 47, 1]'),\n",
       " Text(25.753846153846155, 54.359999999999985, 'entropy = 0.0\\nsamples = 47\\nvalue = [0, 47, 0]'),\n",
       " Text(77.26153846153846, 54.359999999999985, 'entropy = 0.0\\nsamples = 1\\nvalue = [0, 0, 1]'),\n",
       " Text(154.52307692307693, 90.6, 'X[3] <= 1.55\\nentropy = 0.444\\nsamples = 6\\nvalue = [0, 2, 4]'),\n",
       " Text(128.76923076923077, 54.359999999999985, 'entropy = 0.0\\nsamples = 3\\nvalue = [0, 0, 3]'),\n",
       " Text(180.27692307692308, 54.359999999999985, 'X[0] <= 6.95\\nentropy = 0.444\\nsamples = 3\\nvalue = [0, 2, 1]'),\n",
       " Text(154.52307692307693, 18.119999999999976, 'entropy = 0.0\\nsamples = 2\\nvalue = [0, 2, 0]'),\n",
       " Text(206.03076923076924, 18.119999999999976, 'entropy = 0.0\\nsamples = 1\\nvalue = [0, 0, 1]'),\n",
       " Text(283.2923076923077, 126.83999999999999, 'X[2] <= 4.85\\nentropy = 0.043\\nsamples = 46\\nvalue = [0, 1, 45]'),\n",
       " Text(257.53846153846155, 90.6, 'X[0] <= 5.95\\nentropy = 0.444\\nsamples = 3\\nvalue = [0, 1, 2]'),\n",
       " Text(231.7846153846154, 54.359999999999985, 'entropy = 0.0\\nsamples = 1\\nvalue = [0, 1, 0]'),\n",
       " Text(283.2923076923077, 54.359999999999985, 'entropy = 0.0\\nsamples = 2\\nvalue = [0, 0, 2]'),\n",
       " Text(309.04615384615386, 90.6, 'entropy = 0.0\\nsamples = 43\\nvalue = [0, 0, 43]')]"
      ]
     },
     "execution_count": 28,
     "metadata": {},
     "output_type": "execute_result"
    },
    {
     "data": {
      "image/png": "[encoded data removed]",
      "text/plain": [
       "<Figure size 432x288 with 1 Axes>"
      ]
     },
     "metadata": {
      "needs_background": "light"
     },
     "output_type": "display_data"
    }
   ],
   "source": [
    " tree.plot_tree(classifier.fit(dataset.data , dataset.target)) \n"
   ]
  },
  {
   "cell_type": "code",
   "execution_count": 29,
   "metadata": {},
   "outputs": [
    {
     "data": {
      "text/plain": [
       "array([1, 0, 2, 1, 1, 0, 1, 2, 1, 1, 2, 0, 0, 0, 0, 1, 2, 1, 1, 2, 0, 2,\n",
       "       0, 2, 2, 2, 2, 2, 0, 0])"
      ]
     },
     "execution_count": 29,
     "metadata": {},
     "output_type": "execute_result"
    }
   ],
   "source": [
    "classifier.predict(x_test )"
   ]
  },
  {
   "cell_type": "code",
   "execution_count": 15,
   "metadata": {},
   "outputs": [
    {
     "data": {
      "text/plain": [
       "array([1])"
      ]
     },
     "execution_count": 15,
     "metadata": {},
     "output_type": "execute_result"
    }
   ],
   "source": [
    "classifier.predict([[2,2,1,2]])"
   ]
  },
  {
   "cell_type": "code",
   "execution_count": 25,
   "metadata": {},
   "outputs": [
    {
     "name": "stdout",
     "output_type": "stream",
     "text": [
      "animal\n",
      "hair\n",
      "feathers\n",
      "eggs\n",
      "milk\n",
      "airborne\n",
      "aquatic\n",
      "predator\n",
      "toothed\n",
      "backbone\n",
      "breathes\n",
      "venomous\n",
      "fins\n",
      "legs\n",
      "tail\n",
      "domestic\n",
      "catsize\n",
      "type\n"
     ]
    },
    {
     "data": {
      "text/html": [
       "<div>\n",
       "<style scoped>\n",
       "    .dataframe tbody tr th:only-of-type {\n",
       "        vertical-align: middle;\n",
       "    }\n",
       "\n",
       "    .dataframe tbody tr th {\n",
       "        vertical-align: top;\n",
       "    }\n",
       "\n",
       "    .dataframe thead th {\n",
       "        text-align: right;\n",
       "    }\n",
       "</style>\n",
       "<table border=\"1\" class=\"dataframe\">\n",
       "  <thead>\n",
       "    <tr style=\"text-align: right;\">\n",
       "      <th></th>\n",
       "      <th>animal</th>\n",
       "      <th>hair</th>\n",
       "      <th>feathers</th>\n",
       "      <th>eggs</th>\n",
       "      <th>milk</th>\n",
       "      <th>airborne</th>\n",
       "      <th>aquatic</th>\n",
       "      <th>predator</th>\n",
       "      <th>toothed</th>\n",
       "      <th>backbone</th>\n",
       "      <th>breathes</th>\n",
       "      <th>venomous</th>\n",
       "      <th>fins</th>\n",
       "      <th>legs</th>\n",
       "      <th>tail</th>\n",
       "      <th>domestic</th>\n",
       "      <th>catsize</th>\n",
       "      <th>type</th>\n",
       "    </tr>\n",
       "  </thead>\n",
       "  <tbody>\n",
       "    <tr>\n",
       "      <th>0</th>\n",
       "      <td>aardvark</td>\n",
       "      <td>True</td>\n",
       "      <td>False</td>\n",
       "      <td>False</td>\n",
       "      <td>True</td>\n",
       "      <td>False</td>\n",
       "      <td>False</td>\n",
       "      <td>True</td>\n",
       "      <td>True</td>\n",
       "      <td>True</td>\n",
       "      <td>True</td>\n",
       "      <td>False</td>\n",
       "      <td>False</td>\n",
       "      <td>4.0</td>\n",
       "      <td>False</td>\n",
       "      <td>False</td>\n",
       "      <td>True</td>\n",
       "      <td>mammal</td>\n",
       "    </tr>\n",
       "    <tr>\n",
       "      <th>1</th>\n",
       "      <td>antelope</td>\n",
       "      <td>True</td>\n",
       "      <td>False</td>\n",
       "      <td>False</td>\n",
       "      <td>True</td>\n",
       "      <td>False</td>\n",
       "      <td>False</td>\n",
       "      <td>False</td>\n",
       "      <td>True</td>\n",
       "      <td>True</td>\n",
       "      <td>True</td>\n",
       "      <td>False</td>\n",
       "      <td>False</td>\n",
       "      <td>4.0</td>\n",
       "      <td>True</td>\n",
       "      <td>False</td>\n",
       "      <td>True</td>\n",
       "      <td>mammal</td>\n",
       "    </tr>\n",
       "    <tr>\n",
       "      <th>2</th>\n",
       "      <td>bass</td>\n",
       "      <td>False</td>\n",
       "      <td>False</td>\n",
       "      <td>True</td>\n",
       "      <td>False</td>\n",
       "      <td>False</td>\n",
       "      <td>True</td>\n",
       "      <td>True</td>\n",
       "      <td>True</td>\n",
       "      <td>True</td>\n",
       "      <td>False</td>\n",
       "      <td>False</td>\n",
       "      <td>True</td>\n",
       "      <td>0.0</td>\n",
       "      <td>True</td>\n",
       "      <td>False</td>\n",
       "      <td>False</td>\n",
       "      <td>fish</td>\n",
       "    </tr>\n",
       "    <tr>\n",
       "      <th>3</th>\n",
       "      <td>bear</td>\n",
       "      <td>True</td>\n",
       "      <td>False</td>\n",
       "      <td>False</td>\n",
       "      <td>True</td>\n",
       "      <td>False</td>\n",
       "      <td>False</td>\n",
       "      <td>True</td>\n",
       "      <td>True</td>\n",
       "      <td>True</td>\n",
       "      <td>True</td>\n",
       "      <td>False</td>\n",
       "      <td>False</td>\n",
       "      <td>4.0</td>\n",
       "      <td>False</td>\n",
       "      <td>False</td>\n",
       "      <td>True</td>\n",
       "      <td>mammal</td>\n",
       "    </tr>\n",
       "    <tr>\n",
       "      <th>4</th>\n",
       "      <td>boar</td>\n",
       "      <td>True</td>\n",
       "      <td>False</td>\n",
       "      <td>False</td>\n",
       "      <td>True</td>\n",
       "      <td>False</td>\n",
       "      <td>False</td>\n",
       "      <td>True</td>\n",
       "      <td>True</td>\n",
       "      <td>True</td>\n",
       "      <td>True</td>\n",
       "      <td>False</td>\n",
       "      <td>False</td>\n",
       "      <td>4.0</td>\n",
       "      <td>True</td>\n",
       "      <td>False</td>\n",
       "      <td>True</td>\n",
       "      <td>mammal</td>\n",
       "    </tr>\n",
       "  </tbody>\n",
       "</table>\n",
       "</div>"
      ],
      "text/plain": [
       "     animal   hair  feathers   eggs   milk  airborne  aquatic  predator  \\\n",
       "0  aardvark   True     False  False   True     False    False      True   \n",
       "1  antelope   True     False  False   True     False    False     False   \n",
       "2      bass  False     False   True  False     False     True      True   \n",
       "3      bear   True     False  False   True     False    False      True   \n",
       "4      boar   True     False  False   True     False    False      True   \n",
       "\n",
       "   toothed  backbone  breathes  venomous   fins  legs   tail  domestic  \\\n",
       "0     True      True      True     False  False   4.0  False     False   \n",
       "1     True      True      True     False  False   4.0   True     False   \n",
       "2     True      True     False     False   True   0.0   True     False   \n",
       "3     True      True      True     False  False   4.0  False     False   \n",
       "4     True      True      True     False  False   4.0   True     False   \n",
       "\n",
       "   catsize    type  \n",
       "0     True  mammal  \n",
       "1     True  mammal  \n",
       "2    False    fish  \n",
       "3     True  mammal  \n",
       "4     True  mammal  "
      ]
     },
     "execution_count": 25,
     "metadata": {},
     "output_type": "execute_result"
    }
   ],
   "source": [
    "zoo = pd.read_csv('../4_DecisionTrees/zoo.csv')\n",
    "for keys in zoo.keys() :\n",
    "    print(keys)\n",
    "zoo.head()"
   ]
  },
  {
   "cell_type": "code",
   "execution_count": 41,
   "metadata": {},
   "outputs": [
    {
     "data": {
      "text/plain": [
       "array(['mammal', 'mammal', 'fish', 'mammal', 'mammal', 'mammal', 'mammal',\n",
       "       'fish', 'fish', 'mammal', 'mammal', 'bird', 'fish', 'invertebrate',\n",
       "       'invertebrate', 'invertebrate', 'bird', 'mammal', 'fish', 'mammal',\n",
       "       'bird', 'bird', 'mammal', 'bird', 'insect', 'amphibian',\n",
       "       'amphibian', 'mammal', 'mammal', 'mammal', 'insect', 'mammal',\n",
       "       'mammal', 'bird', 'fish', 'mammal', 'mammal', 'bird', 'fish',\n",
       "       'insect', 'insect', 'bird', 'insect', 'bird', 'mammal', 'mammal',\n",
       "       'invertebrate', 'mammal', 'mammal', 'mammal', 'mammal', 'insect',\n",
       "       'amphibian', 'invertebrate', 'mammal', 'mammal', 'bird', 'bird',\n",
       "       'bird', 'bird', 'fish', 'fish', 'reptile', 'mammal', 'mammal',\n",
       "       'mammal', 'mammal', 'mammal', 'mammal', 'mammal', 'mammal', 'bird',\n",
       "       'invertebrate', 'fish', 'mammal', 'mammal', 'reptile',\n",
       "       'invertebrate', 'bird', 'bird', 'reptile', 'invertebrate', 'fish',\n",
       "       'bird', 'mammal', 'invertebrate', 'fish', 'bird', 'insect',\n",
       "       'amphibian', 'reptile', 'reptile', 'fish', 'mammal', 'mammal',\n",
       "       'bird', 'mammal', 'insect', 'mammal', 'invertebrate', 'bird'],\n",
       "      dtype=object)"
      ]
     },
     "execution_count": 41,
     "metadata": {},
     "output_type": "execute_result"
    },
    {
     "data": {
      "image/png": "[encoded data removed]",
      "text/plain": [
       "<Figure size 432x288 with 1 Axes>"
      ]
     },
     "metadata": {
      "needs_background": "light"
     },
     "output_type": "display_data"
    }
   ],
   "source": [
    "x = zoo.drop([\"animal\" , \"type\"], axis = 1)\n",
    "y = zoo.type\n",
    "x_train, x_test, y_train, y_test = train_test_split(x, y, test_size=0.20, random_state=42)\n",
    "classifier = tree.DecisionTreeClassifier(criterion = \"entropy\")\n",
    "classifier = classifier.fit(x, y )\n",
    "tree.plot_tree(classifier.fit(x,y) )\n",
    "classifier.predict(x)"
   ]
  },
  {
   "cell_type": "code",
   "execution_count": 44,
   "metadata": {},
   "outputs": [
    {
     "data": {
      "text/plain": [
       "array(['mammal', 'mammal', 'fish', 'mammal', 'mammal', 'mammal', 'mammal',\n",
       "       'fish', 'fish', 'mammal', 'mammal', 'bird', 'fish', 'invertebrate',\n",
       "       'invertebrate', 'invertebrate', 'bird', 'mammal', 'fish', 'mammal',\n",
       "       'bird', 'bird', 'mammal', 'bird', 'insect', 'amphibian',\n",
       "       'amphibian', 'mammal', 'mammal', 'mammal', 'insect', 'mammal',\n",
       "       'mammal', 'bird', 'fish', 'mammal', 'mammal', 'bird', 'fish',\n",
       "       'insect', 'insect', 'bird', 'insect', 'bird', 'mammal', 'mammal',\n",
       "       'invertebrate', 'mammal', 'mammal', 'mammal', 'mammal', 'insect',\n",
       "       'amphibian', 'invertebrate', 'mammal', 'mammal', 'bird', 'bird',\n",
       "       'bird', 'bird', 'fish', 'fish', 'reptile', 'mammal', 'mammal',\n",
       "       'mammal', 'mammal', 'mammal', 'mammal', 'mammal', 'mammal', 'bird',\n",
       "       'invertebrate', 'fish', 'mammal', 'mammal', 'reptile',\n",
       "       'invertebrate', 'bird', 'bird', 'reptile', 'invertebrate', 'fish',\n",
       "       'bird', 'mammal', 'invertebrate', 'fish', 'bird', 'insect',\n",
       "       'amphibian', 'reptile', 'reptile', 'fish', 'mammal', 'mammal',\n",
       "       'bird', 'mammal', 'insect', 'mammal', 'invertebrate', 'bird'],\n",
       "      dtype=object)"
      ]
     },
     "execution_count": 44,
     "metadata": {},
     "output_type": "execute_result"
    },
    {
     "data": {
      "image/png": "[encoded data removed]",
      "text/plain": [
       "<Figure size 432x288 with 1 Axes>"
      ]
     },
     "metadata": {
      "needs_background": "light"
     },
     "output_type": "display_data"
    }
   ],
   "source": [
    "x = zoo.drop([\"animal\" , \"type\"], axis = 1)\n",
    "y = zoo.type\n",
    "x_train, x_test, y_train, y_test = train_test_split(x, y, test_size=0.20, random_state=42)\n",
    "classifier = tree.DecisionTreeClassifier(random_state = 2)\n",
    "classifier = classifier.fit(x, y )\n",
    "tree.plot_tree(classifier.fit(x,y) )\n",
    "classifier.predict(x)"
   ]
  },
  {
   "cell_type": "code",
   "execution_count": 45,
   "metadata": {},
   "outputs": [
    {
     "data": {
      "text/plain": [
       "array(['mammal', 'mammal', 'fish', 'mammal', 'mammal', 'mammal', 'mammal',\n",
       "       'fish', 'fish', 'mammal', 'mammal', 'bird', 'fish', 'invertebrate',\n",
       "       'invertebrate', 'invertebrate', 'bird', 'mammal', 'fish', 'mammal',\n",
       "       'bird', 'bird', 'mammal', 'bird', 'invertebrate', 'invertebrate',\n",
       "       'invertebrate', 'mammal', 'mammal', 'mammal', 'invertebrate',\n",
       "       'mammal', 'mammal', 'bird', 'fish', 'mammal', 'mammal', 'bird',\n",
       "       'fish', 'invertebrate', 'invertebrate', 'bird', 'invertebrate',\n",
       "       'bird', 'mammal', 'mammal', 'invertebrate', 'mammal', 'mammal',\n",
       "       'mammal', 'mammal', 'invertebrate', 'invertebrate', 'invertebrate',\n",
       "       'mammal', 'mammal', 'bird', 'bird', 'bird', 'bird', 'fish', 'fish',\n",
       "       'invertebrate', 'mammal', 'mammal', 'mammal', 'mammal', 'mammal',\n",
       "       'mammal', 'mammal', 'mammal', 'bird', 'invertebrate', 'fish',\n",
       "       'mammal', 'mammal', 'invertebrate', 'invertebrate', 'bird', 'bird',\n",
       "       'invertebrate', 'invertebrate', 'fish', 'bird', 'mammal',\n",
       "       'invertebrate', 'fish', 'bird', 'invertebrate', 'invertebrate',\n",
       "       'invertebrate', 'invertebrate', 'fish', 'mammal', 'mammal', 'bird',\n",
       "       'mammal', 'invertebrate', 'mammal', 'invertebrate', 'bird'],\n",
       "      dtype=object)"
      ]
     },
     "execution_count": 45,
     "metadata": {},
     "output_type": "execute_result"
    },
    {
     "data": {
      "image/png": "[encoded data removed]",
      "text/plain": [
       "<Figure size 432x288 with 1 Axes>"
      ]
     },
     "metadata": {
      "needs_background": "light"
     },
     "output_type": "display_data"
    }
   ],
   "source": [
    "x = zoo.drop([\"animal\" , \"type\"], axis = 1)\n",
    "y = zoo.type\n",
    "x_train, x_test, y_train, y_test = train_test_split(x, y, test_size=0.20, random_state=42)\n",
    "classifier = tree.DecisionTreeClassifier(random_state = 2 , max_leaf_nodes = 4)\n",
    "classifier = classifier.fit(x, y )\n",
    "tree.plot_tree(classifier.fit(x,y) )\n",
    "classifier.predict(x)"
   ]
  },
  {
   "cell_type": "code",
   "execution_count": 70,
   "metadata": {},
   "outputs": [
    {
     "data": {
      "text/plain": [
       "array(['mammal', 'mammal', 'fish', 'mammal', 'mammal', 'mammal', 'mammal',\n",
       "       'fish', 'fish', 'mammal', 'mammal', 'bird', 'fish', 'invertebrate',\n",
       "       'invertebrate', 'invertebrate', 'bird', 'mammal', 'fish', 'mammal',\n",
       "       'bird', 'bird', 'mammal', 'bird', 'insect', 'amphibian',\n",
       "       'amphibian', 'mammal', 'mammal', 'mammal', 'insect', 'mammal',\n",
       "       'mammal', 'bird', 'fish', 'mammal', 'mammal', 'bird', 'fish',\n",
       "       'insect', 'insect', 'bird', 'insect', 'bird', 'mammal', 'mammal',\n",
       "       'invertebrate', 'mammal', 'mammal', 'mammal', 'mammal', 'insect',\n",
       "       'amphibian', 'invertebrate', 'mammal', 'mammal', 'bird', 'bird',\n",
       "       'bird', 'bird', 'fish', 'fish', 'reptile', 'mammal', 'mammal',\n",
       "       'mammal', 'mammal', 'mammal', 'mammal', 'mammal', 'mammal', 'bird',\n",
       "       'invertebrate', 'fish', 'mammal', 'mammal', 'reptile',\n",
       "       'invertebrate', 'bird', 'bird', 'reptile', 'invertebrate', 'fish',\n",
       "       'bird', 'mammal', 'invertebrate', 'fish', 'bird', 'insect',\n",
       "       'amphibian', 'reptile', 'reptile', 'fish', 'mammal', 'mammal',\n",
       "       'bird', 'mammal', 'insect', 'mammal', 'invertebrate', 'bird'],\n",
       "      dtype=object)"
      ]
     },
     "execution_count": 70,
     "metadata": {},
     "output_type": "execute_result"
    }
   ],
   "source": [
    "x = zoo.drop([\"animal\" , \"type\"], axis = 1)\n",
    "y = zoo.type\n",
    "x_train, x_test, y_train, y_test = train_test_split(x, y, test_size=0.20, random_state=42)\n",
    "tree = DecisionTreeClassifier()\n",
    "model = RandomForestClassifier( n_estimators =100)\n",
    "model = classifier.fit(x, y )\n",
    "#visualize_classifier(model, x, y);\n",
    "#model.plot_tree(classifier.fit(x,y) )\n",
    "model.predict(x)\n"
   ]
  }
 ],
 "metadata": {
  "kernelspec": {
   "display_name": "Python 3",
   "language": "python",
   "name": "python3"
  },
  "language_info": {
   "codemirror_mode": {
    "name": "ipython",
    "version": 3
   },
   "file_extension": ".py",
   "mimetype": "text/x-python",
   "name": "python",
   "nbconvert_exporter": "python",
   "pygments_lexer": "ipython3",
   "version": "3.7.3"
  }
 },
 "nbformat": 4,
 "nbformat_minor": 2
}
