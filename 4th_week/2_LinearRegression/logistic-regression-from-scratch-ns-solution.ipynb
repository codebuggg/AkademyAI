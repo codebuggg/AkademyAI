{
 "cells": [
  {
   "cell_type": "code",
   "execution_count": 1,
   "metadata": {},
   "outputs": [],
   "source": [
    "import pandas as pd\n",
    "import numpy as np\n",
    "import matplotlib.pyplot as plt"
   ]
  },
  {
   "cell_type": "code",
   "execution_count": 66,
   "metadata": {},
   "outputs": [],
   "source": [
    "data = pd.read_csv('titanic_train.csv')"
   ]
  },
  {
   "cell_type": "code",
   "execution_count": 67,
   "metadata": {},
   "outputs": [
    {
     "data": {
      "text/html": [
       "<div>\n",
       "<style scoped>\n",
       "    .dataframe tbody tr th:only-of-type {\n",
       "        vertical-align: middle;\n",
       "    }\n",
       "\n",
       "    .dataframe tbody tr th {\n",
       "        vertical-align: top;\n",
       "    }\n",
       "\n",
       "    .dataframe thead th {\n",
       "        text-align: right;\n",
       "    }\n",
       "</style>\n",
       "<table border=\"1\" class=\"dataframe\">\n",
       "  <thead>\n",
       "    <tr style=\"text-align: right;\">\n",
       "      <th></th>\n",
       "      <th>PassengerId</th>\n",
       "      <th>Survived</th>\n",
       "      <th>Pclass</th>\n",
       "      <th>Name</th>\n",
       "      <th>Sex</th>\n",
       "      <th>Age</th>\n",
       "      <th>SibSp</th>\n",
       "      <th>Parch</th>\n",
       "      <th>Ticket</th>\n",
       "      <th>Fare</th>\n",
       "      <th>Cabin</th>\n",
       "      <th>Embarked</th>\n",
       "    </tr>\n",
       "  </thead>\n",
       "  <tbody>\n",
       "    <tr>\n",
       "      <th>0</th>\n",
       "      <td>1</td>\n",
       "      <td>0</td>\n",
       "      <td>3</td>\n",
       "      <td>Braund, Mr. Owen Harris</td>\n",
       "      <td>male</td>\n",
       "      <td>22.0</td>\n",
       "      <td>1</td>\n",
       "      <td>0</td>\n",
       "      <td>A/5 21171</td>\n",
       "      <td>7.2500</td>\n",
       "      <td>NaN</td>\n",
       "      <td>S</td>\n",
       "    </tr>\n",
       "    <tr>\n",
       "      <th>1</th>\n",
       "      <td>2</td>\n",
       "      <td>1</td>\n",
       "      <td>1</td>\n",
       "      <td>Cumings, Mrs. John Bradley (Florence Briggs Th...</td>\n",
       "      <td>female</td>\n",
       "      <td>38.0</td>\n",
       "      <td>1</td>\n",
       "      <td>0</td>\n",
       "      <td>PC 17599</td>\n",
       "      <td>71.2833</td>\n",
       "      <td>C85</td>\n",
       "      <td>C</td>\n",
       "    </tr>\n",
       "    <tr>\n",
       "      <th>2</th>\n",
       "      <td>3</td>\n",
       "      <td>1</td>\n",
       "      <td>3</td>\n",
       "      <td>Heikkinen, Miss. Laina</td>\n",
       "      <td>female</td>\n",
       "      <td>26.0</td>\n",
       "      <td>0</td>\n",
       "      <td>0</td>\n",
       "      <td>STON/O2. 3101282</td>\n",
       "      <td>7.9250</td>\n",
       "      <td>NaN</td>\n",
       "      <td>S</td>\n",
       "    </tr>\n",
       "    <tr>\n",
       "      <th>3</th>\n",
       "      <td>4</td>\n",
       "      <td>1</td>\n",
       "      <td>1</td>\n",
       "      <td>Futrelle, Mrs. Jacques Heath (Lily May Peel)</td>\n",
       "      <td>female</td>\n",
       "      <td>35.0</td>\n",
       "      <td>1</td>\n",
       "      <td>0</td>\n",
       "      <td>113803</td>\n",
       "      <td>53.1000</td>\n",
       "      <td>C123</td>\n",
       "      <td>S</td>\n",
       "    </tr>\n",
       "    <tr>\n",
       "      <th>4</th>\n",
       "      <td>5</td>\n",
       "      <td>0</td>\n",
       "      <td>3</td>\n",
       "      <td>Allen, Mr. William Henry</td>\n",
       "      <td>male</td>\n",
       "      <td>35.0</td>\n",
       "      <td>0</td>\n",
       "      <td>0</td>\n",
       "      <td>373450</td>\n",
       "      <td>8.0500</td>\n",
       "      <td>NaN</td>\n",
       "      <td>S</td>\n",
       "    </tr>\n",
       "  </tbody>\n",
       "</table>\n",
       "</div>"
      ],
      "text/plain": [
       "   PassengerId  Survived  Pclass  \\\n",
       "0            1         0       3   \n",
       "1            2         1       1   \n",
       "2            3         1       3   \n",
       "3            4         1       1   \n",
       "4            5         0       3   \n",
       "\n",
       "                                                Name     Sex   Age  SibSp  \\\n",
       "0                            Braund, Mr. Owen Harris    male  22.0      1   \n",
       "1  Cumings, Mrs. John Bradley (Florence Briggs Th...  female  38.0      1   \n",
       "2                             Heikkinen, Miss. Laina  female  26.0      0   \n",
       "3       Futrelle, Mrs. Jacques Heath (Lily May Peel)  female  35.0      1   \n",
       "4                           Allen, Mr. William Henry    male  35.0      0   \n",
       "\n",
       "   Parch            Ticket     Fare Cabin Embarked  \n",
       "0      0         A/5 21171   7.2500   NaN        S  \n",
       "1      0          PC 17599  71.2833   C85        C  \n",
       "2      0  STON/O2. 3101282   7.9250   NaN        S  \n",
       "3      0            113803  53.1000  C123        S  \n",
       "4      0            373450   8.0500   NaN        S  "
      ]
     },
     "execution_count": 67,
     "metadata": {},
     "output_type": "execute_result"
    }
   ],
   "source": [
    "data.head()"
   ]
  },
  {
   "cell_type": "code",
   "execution_count": 68,
   "metadata": {},
   "outputs": [],
   "source": [
    "data = data.drop(columns=['PassengerId', 'Name', 'Parch', 'SibSp', 'Cabin', 'Embarked', 'Ticket'])"
   ]
  },
  {
   "cell_type": "code",
   "execution_count": 69,
   "metadata": {},
   "outputs": [
    {
     "data": {
      "text/plain": [
       "Survived      0\n",
       "Pclass        0\n",
       "Sex           0\n",
       "Age         177\n",
       "Fare          0\n",
       "dtype: int64"
      ]
     },
     "execution_count": 69,
     "metadata": {},
     "output_type": "execute_result"
    }
   ],
   "source": [
    "#some very quick cleaning\n",
    "data.isnull().sum()"
   ]
  },
  {
   "cell_type": "code",
   "execution_count": 70,
   "metadata": {},
   "outputs": [
    {
     "data": {
      "text/plain": [
       "29.69911764705882"
      ]
     },
     "execution_count": 70,
     "metadata": {},
     "output_type": "execute_result"
    }
   ],
   "source": [
    "data['Age'].mean()"
   ]
  },
  {
   "cell_type": "code",
   "execution_count": 71,
   "metadata": {},
   "outputs": [],
   "source": [
    "#fill with the agerage age\n",
    "data['Age'] = data['Age'].fillna(data['Age'].mean())"
   ]
  },
  {
   "cell_type": "code",
   "execution_count": 72,
   "metadata": {},
   "outputs": [],
   "source": [
    "class_dummies = pd.get_dummies(data['Pclass'])\n",
    "sex_dummies = pd.get_dummies(data['Sex'])"
   ]
  },
  {
   "cell_type": "code",
   "execution_count": 73,
   "metadata": {},
   "outputs": [],
   "source": [
    "data = pd.concat([data, class_dummies, sex_dummies], axis=1)\n",
    "data = data.drop(columns = ['Pclass', 'Sex'])"
   ]
  },
  {
   "cell_type": "code",
   "execution_count": 76,
   "metadata": {},
   "outputs": [
    {
     "name": "stdout",
     "output_type": "stream",
     "text": [
      "<class 'pandas.core.frame.DataFrame'>\n",
      "RangeIndex: 891 entries, 0 to 890\n",
      "Data columns (total 8 columns):\n",
      "Survived    891 non-null int64\n",
      "Age         891 non-null float64\n",
      "Fare        891 non-null float64\n",
      "1           891 non-null uint8\n",
      "2           891 non-null uint8\n",
      "3           891 non-null uint8\n",
      "female      891 non-null uint8\n",
      "male        891 non-null uint8\n",
      "dtypes: float64(2), int64(1), uint8(5)\n",
      "memory usage: 25.3 KB\n"
     ]
    }
   ],
   "source": [
    "data.info()"
   ]
  },
  {
   "cell_type": "code",
   "execution_count": 208,
   "metadata": {},
   "outputs": [],
   "source": [
    "#normalize the data to make life easier when using a sigmoid (if values are too big everything will go to -1 or 1)\n",
    "from sklearn.preprocessing import StandardScaler\n",
    "scaler = StandardScaler()\n",
    "data.iloc[:, 1:] = scaler.fit_transform(data.iloc[:, 1:])"
   ]
  },
  {
   "cell_type": "markdown",
   "metadata": {},
   "source": [
    "### Attempt Logistic regression with numpy"
   ]
  },
  {
   "cell_type": "code",
   "execution_count": 361,
   "metadata": {},
   "outputs": [
    {
     "name": "stdout",
     "output_type": "stream",
     "text": [
      "X: (891, 9)  Y: (891, 1)\n"
     ]
    },
    {
     "data": {
      "text/html": [
       "<div>\n",
       "<style scoped>\n",
       "    .dataframe tbody tr th:only-of-type {\n",
       "        vertical-align: middle;\n",
       "    }\n",
       "\n",
       "    .dataframe tbody tr th {\n",
       "        vertical-align: top;\n",
       "    }\n",
       "\n",
       "    .dataframe thead th {\n",
       "        text-align: right;\n",
       "    }\n",
       "</style>\n",
       "<table border=\"1\" class=\"dataframe\">\n",
       "  <thead>\n",
       "    <tr style=\"text-align: right;\">\n",
       "      <th></th>\n",
       "      <th>Age</th>\n",
       "      <th>Fare</th>\n",
       "      <th>1</th>\n",
       "      <th>2</th>\n",
       "      <th>3</th>\n",
       "      <th>female</th>\n",
       "      <th>male</th>\n",
       "    </tr>\n",
       "  </thead>\n",
       "  <tbody>\n",
       "    <tr>\n",
       "      <th>0</th>\n",
       "      <td>-0.592481</td>\n",
       "      <td>-0.502445</td>\n",
       "      <td>-0.565685</td>\n",
       "      <td>-0.510152</td>\n",
       "      <td>0.902587</td>\n",
       "      <td>-0.737695</td>\n",
       "      <td>0.737695</td>\n",
       "    </tr>\n",
       "    <tr>\n",
       "      <th>1</th>\n",
       "      <td>0.638789</td>\n",
       "      <td>0.786845</td>\n",
       "      <td>1.767767</td>\n",
       "      <td>-0.510152</td>\n",
       "      <td>-1.107926</td>\n",
       "      <td>1.355574</td>\n",
       "      <td>-1.355574</td>\n",
       "    </tr>\n",
       "    <tr>\n",
       "      <th>2</th>\n",
       "      <td>-0.284663</td>\n",
       "      <td>-0.488854</td>\n",
       "      <td>-0.565685</td>\n",
       "      <td>-0.510152</td>\n",
       "      <td>0.902587</td>\n",
       "      <td>1.355574</td>\n",
       "      <td>-1.355574</td>\n",
       "    </tr>\n",
       "    <tr>\n",
       "      <th>3</th>\n",
       "      <td>0.407926</td>\n",
       "      <td>0.420730</td>\n",
       "      <td>1.767767</td>\n",
       "      <td>-0.510152</td>\n",
       "      <td>-1.107926</td>\n",
       "      <td>1.355574</td>\n",
       "      <td>-1.355574</td>\n",
       "    </tr>\n",
       "    <tr>\n",
       "      <th>4</th>\n",
       "      <td>0.407926</td>\n",
       "      <td>-0.486337</td>\n",
       "      <td>-0.565685</td>\n",
       "      <td>-0.510152</td>\n",
       "      <td>0.902587</td>\n",
       "      <td>-0.737695</td>\n",
       "      <td>0.737695</td>\n",
       "    </tr>\n",
       "  </tbody>\n",
       "</table>\n",
       "</div>"
      ],
      "text/plain": [
       "        Age      Fare         1         2         3    female      male\n",
       "0 -0.592481 -0.502445 -0.565685 -0.510152  0.902587 -0.737695  0.737695\n",
       "1  0.638789  0.786845  1.767767 -0.510152 -1.107926  1.355574 -1.355574\n",
       "2 -0.284663 -0.488854 -0.565685 -0.510152  0.902587  1.355574 -1.355574\n",
       "3  0.407926  0.420730  1.767767 -0.510152 -1.107926  1.355574 -1.355574\n",
       "4  0.407926 -0.486337 -0.565685 -0.510152  0.902587 -0.737695  0.737695"
      ]
     },
     "execution_count": 361,
     "metadata": {},
     "output_type": "execute_result"
    }
   ],
   "source": [
    "#allocate data to small x and y\n",
    "x = data.iloc[:, 1:]\n",
    "y = data.iloc[:,0]\n",
    "print('X: {}  Y: {}'.format(X.shape, Y.shape))\n",
    "x.head()"
   ]
  },
  {
   "cell_type": "code",
   "execution_count": 275,
   "metadata": {},
   "outputs": [
    {
     "data": {
      "image/png": "[encoded data removed]",
      "text/plain": [
       "<Figure size 720x360 with 2 Axes>"
      ]
     },
     "metadata": {
      "needs_background": "light"
     },
     "output_type": "display_data"
    }
   ],
   "source": [
    "#plot Y vs X variables age and fare.\n",
    "#not able to plot the dummy variables\n",
    "fig, axs = plt.subplots(1, 2, figsize=(10,5))\n",
    "\n",
    "cols = ['Age', 'Fare']\n",
    "\n",
    "for ax, col in zip(axs,cols):\n",
    "    x_chart = x[col].values\n",
    "    y_chart = y.values\n",
    "    ax.scatter(x_chart, y_chart)\n",
    "    ax.set_title(col)\n",
    "    \n",
    "#note that 1 is survived, 0 is did not."
   ]
  },
  {
   "cell_type": "code",
   "execution_count": 413,
   "metadata": {},
   "outputs": [],
   "source": [
    "#set the starting values for X, a vector of features, and Y, the vector of survived or not.\n",
    "X = x.values\n",
    "Y = np.resize(y.values, (y.values.shape[0], 1))"
   ]
  },
  {
   "cell_type": "code",
   "execution_count": 277,
   "metadata": {},
   "outputs": [],
   "source": [
    "#define a sigmoid function\n",
    "def sigmoid(X):\n",
    "    num = np.exp(X)\n",
    "    denom = np.exp(X)+ 1\n",
    "    return num / denom"
   ]
  },
  {
   "cell_type": "code",
   "execution_count": 278,
   "metadata": {},
   "outputs": [
    {
     "data": {
      "text/plain": [
       "0.9999546021312976"
      ]
     },
     "execution_count": 278,
     "metadata": {},
     "output_type": "execute_result"
    }
   ],
   "source": [
    "sigmoid(10)"
   ]
  },
  {
   "cell_type": "markdown",
   "metadata": {},
   "source": [
    "### Short explanation of what I'm trying to do\n",
    "\n",
    "Let b be a vector [b0, b1, b2, ...bn] of weights for each of the feature vectors in X\n",
    "\n",
    "Where b = [b0, b1, b2] X = [x0, x1, x2] such that it produces a set of linear equations of the form b0 + b1x1 + b2x2 and x0 = 1 by default\n",
    "\n",
    "Y = b * X.T\n",
    "\n",
    "The probability of the set is described as: \n",
    "P(Y) = sigmoid(Y) / (sigmoid(Y) - 1)\n",
    "\n",
    "Where Y is a vector [y1, y2...]\n",
    "\n",
    "In this example X is shape (m, 7) and Y is (m, 1)\n",
    "\n",
    "\n",
    "This allows us to predict a single fit (i.e. one line) with arbitrary values of b. In order to update b we need to use a function such that taking its derivative allows us to update b to minimize the function.\n",
    "\n",
    "#### Cost function:\n",
    "For the whole of the set of predictions (Y_hat) for a any value of b we can evaluate how wrong we are with a cost function.\n",
    "\n",
    "cost = 1/m * sum( y * log(y_hat) + (1 - y) * log (1 - y_hat)  )\n",
    "\n",
    "Note that if y = 1 we only consider the term y * log(y_hat). And if y= 0 we only consider (1 - y) * log (1 - y_hat)\n",
    "\n",
    "This has the following effect:\n",
    "If y = y_hat the element value will be small \n",
    "(i.e. y, y_hat = 1 * log 1, cost = 0 OR  y, y_hat = 0 (1-0) * log(1), cost = 0 )\n",
    "\n",
    "If y != y_hat the element value will be very large \n",
    "(i.e. y= 1 y_hat = 0 then 1 * log (0), cost = -inf OR  y = 0, y_hat = 1 then (1-0) * log(0), cost = -inf\n",
    "\n",
    "\n",
    "The derivative of the cost function is:\n",
    "dcost = 1/m * X(Y_hat - Y).T\n",
    "\n",
    "Where X is the feature vector, and Y_hat and Y are vectors of the result set. m is the number of samples. "
   ]
  },
  {
   "cell_type": "code",
   "execution_count": 414,
   "metadata": {},
   "outputs": [],
   "source": [
    "#function to add x0 to the feature matrix\n",
    "\n",
    "def add_x0(X):\n",
    "    \n",
    "    m, n_feat = X.shape[0], X.shape[1]\n",
    "    \n",
    "    one_vector = np.ones((m,1))\n",
    "    \n",
    "    X = np.concatenate([one_vector, X], axis=1)\n",
    "    \n",
    "    return X\n",
    "    "
   ]
  },
  {
   "cell_type": "code",
   "execution_count": 415,
   "metadata": {},
   "outputs": [
    {
     "data": {
      "text/plain": [
       "(891, 8)"
      ]
     },
     "execution_count": 415,
     "metadata": {},
     "output_type": "execute_result"
    }
   ],
   "source": [
    "#initalize X with the x0 term\n",
    "X = add_x0(X)\n",
    "X.shape"
   ]
  },
  {
   "cell_type": "code",
   "execution_count": 412,
   "metadata": {},
   "outputs": [],
   "source": [
    "#generate random starting coefficents. if we initalize to zero all Y_hats will be zero.\n",
    "def initalize_b(X):\n",
    "    \"\"\"\n",
    "    Creates our best guess for the values of b\n",
    "    \n",
    "    \"\"\"\n",
    "    \n",
    "    m, n_feat = X.shape[0], X.shape[1]\n",
    "    \n",
    "    #np.random.seed(42)\n",
    "    \n",
    "    b = np.random.randn((n_feat))\n",
    "    \n",
    "    b = np.resize(b, (b.shape[0], 1))\n",
    "    \n",
    "    return b"
   ]
  },
  {
   "cell_type": "code",
   "execution_count": 418,
   "metadata": {},
   "outputs": [
    {
     "data": {
      "text/plain": [
       "array([[ 0.34361829],\n",
       "       [-1.76304016],\n",
       "       [ 0.32408397],\n",
       "       [-0.38508228],\n",
       "       [-0.676922  ],\n",
       "       [ 0.61167629],\n",
       "       [ 1.03099952],\n",
       "       [ 0.93128012]])"
      ]
     },
     "execution_count": 418,
     "metadata": {},
     "output_type": "execute_result"
    }
   ],
   "source": [
    "b_test = initalize_b(X)\n",
    "b_test"
   ]
  },
  {
   "cell_type": "code",
   "execution_count": 419,
   "metadata": {},
   "outputs": [],
   "source": [
    "#calculate first forward pass on our prior\n",
    "def forward_probs(X, b, test = False):\n",
    "    \n",
    "#     print('X: {}'.format(X.shape))\n",
    "#     print('b: {}'.format(b.shape))\n",
    "    \n",
    "    if test == True:\n",
    "        b = initalize_b(X).copy()\n",
    "    \n",
    "    \n",
    "    Y_hat = np.dot(X,b)\n",
    "    Y_hat = sigmoid(Y_hat)\n",
    "    \n",
    "    return X, b, Y_hat"
   ]
  },
  {
   "cell_type": "code",
   "execution_count": 423,
   "metadata": {},
   "outputs": [
    {
     "data": {
      "text/plain": [
       "((891, 8), (8, 1), (891, 1), (891, 1))"
      ]
     },
     "execution_count": 423,
     "metadata": {},
     "output_type": "execute_result"
    }
   ],
   "source": [
    "X_test, b_test, Y_hat_test = forward_probs(X, b_test, test=True)\n",
    "X_test.shape, b_test.shape, Y.shape, Y_hat.shape"
   ]
  },
  {
   "cell_type": "code",
   "execution_count": 424,
   "metadata": {},
   "outputs": [
    {
     "data": {
      "text/plain": [
       "44.55667789001122"
      ]
     },
     "execution_count": 424,
     "metadata": {},
     "output_type": "execute_result"
    }
   ],
   "source": [
    "# now have enough information to evaluate our first fit of the data. \n",
    "# We initalized the data to a uniform random distribtuions so\n",
    "# when we return Y_hat from forward_probs and use the evaluate function to determine our accuracy \n",
    "# expect 50%\n",
    "\n",
    "evaluate(Y, Y_hat_test)"
   ]
  },
  {
   "cell_type": "code",
   "execution_count": 425,
   "metadata": {},
   "outputs": [],
   "source": [
    "#calcualte logistic loss function. return the cost and the derivative of cost\n",
    "def cost(X, Y, Y_hat):\n",
    "    \n",
    "    m = Y.shape[0]\n",
    "    \n",
    "    cost = (-1/m) * np.sum(np.multiply(Y,np.log(Y_hat)) + np.multiply((1-Y),np.log(1-Y_hat)))# compute cost\n",
    "#     print(Y.shape)\n",
    "#     print(Y_hat.shape)\n",
    "#     print(X.shape)\n",
    "    dcost = (1/m) * np.dot(X.T, (Y_hat-Y))\n",
    "    \n",
    "    return cost, dcost"
   ]
  },
  {
   "cell_type": "code",
   "execution_count": 426,
   "metadata": {},
   "outputs": [
    {
     "data": {
      "text/plain": [
       "(0.45183337908078075, array([[ 1.54874384e-10],\n",
       "        [ 1.08012912e-09],\n",
       "        [ 1.66353524e-09],\n",
       "        [-1.32679704e-09],\n",
       "        [ 3.50291234e-10],\n",
       "        [ 8.58087619e-10],\n",
       "        [-2.34689511e-10],\n",
       "        [ 2.34689511e-10]]))"
      ]
     },
     "execution_count": 426,
     "metadata": {},
     "output_type": "execute_result"
    }
   ],
   "source": [
    "cost(X, Y, Y_hat)"
   ]
  },
  {
   "cell_type": "code",
   "execution_count": 427,
   "metadata": {},
   "outputs": [],
   "source": [
    "#function for gradient descent\n",
    "def grad_descent(X, b, Y, num_iterations = 10, learning_rate = 0.01):\n",
    "    \"\"\"\n",
    "    Steps:\n",
    "    1. Calculate the probabilites of survival\n",
    "    2. Caclculate the cost\n",
    "    3. Update the cost gradients\n",
    "    \n",
    "    \"\"\"\n",
    "    \n",
    "    b = initalize_b(X)\n",
    "    \n",
    "    print(X.shape)\n",
    "    print(b.shape)\n",
    "    \n",
    "    for i in range(num_iterations):\n",
    "        \n",
    "        X, b, Y_hat = forward_probs(X, b)\n",
    "        \n",
    "        c, dcost = cost(X, Y, Y_hat)\n",
    "        \n",
    "        b = b - learning_rate * dcost\n",
    "        \n",
    "    return X, b, Y_hat\n",
    "    \n",
    "    "
   ]
  },
  {
   "cell_type": "code",
   "execution_count": 428,
   "metadata": {},
   "outputs": [
    {
     "name": "stdout",
     "output_type": "stream",
     "text": [
      "(891, 8)\n",
      "(8, 1)\n"
     ]
    }
   ],
   "source": [
    "X, b, Y_hat = grad_descent(X, b, Y, num_iterations=500, learning_rate = 0.5)"
   ]
  },
  {
   "cell_type": "code",
   "execution_count": 317,
   "metadata": {},
   "outputs": [],
   "source": [
    "def evaluate(Y, Y_hat):\n",
    "    \n",
    "    m = Y.shape[0]\n",
    "    \n",
    "    Y_prediction = np.where(Y_hat > 0.5, 1, 0)\n",
    "    \n",
    "    performance = np.sum(Y_prediction == Y)/m\n",
    "    \n",
    "    return performance * 100\n",
    "    "
   ]
  },
  {
   "cell_type": "code",
   "execution_count": 429,
   "metadata": {},
   "outputs": [
    {
     "data": {
      "text/plain": [
       "80.02244668911335"
      ]
     },
     "execution_count": 429,
     "metadata": {},
     "output_type": "execute_result"
    }
   ],
   "source": [
    "#evaluate again after fitting b\n",
    "evaluate(Y, Y_hat)"
   ]
  },
  {
   "cell_type": "code",
   "execution_count": 430,
   "metadata": {},
   "outputs": [
    {
     "data": {
      "text/plain": [
       "array([[-0.64888116],\n",
       "       [-0.42910829],\n",
       "       [ 0.03574747],\n",
       "       [ 0.70574605],\n",
       "       [ 0.22963332],\n",
       "       [-0.31497117],\n",
       "       [-0.32570521],\n",
       "       [-1.57010293]])"
      ]
     },
     "execution_count": 430,
     "metadata": {},
     "output_type": "execute_result"
    }
   ],
   "source": [
    "#print the final coefficents\n",
    "b"
   ]
  }
 ],
 "metadata": {
  "kernelspec": {
   "display_name": "Python 3",
   "language": "python",
   "name": "python3"
  },
  "language_info": {
   "codemirror_mode": {
    "name": "ipython",
    "version": 3
   },
   "file_extension": ".py",
   "mimetype": "text/x-python",
   "name": "python",
   "nbconvert_exporter": "python",
   "pygments_lexer": "ipython3",
   "version": "3.6.8"
  }
 },
 "nbformat": 4,
 "nbformat_minor": 2
}
