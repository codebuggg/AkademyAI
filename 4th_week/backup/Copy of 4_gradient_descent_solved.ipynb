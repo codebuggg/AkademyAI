{
 "cells": [
  {
   "cell_type": "code",
   "execution_count": 1,
   "metadata": {},
   "outputs": [
    {
     "name": "stdout",
     "output_type": "stream",
     "text": [
      "Populating the interactive namespace from numpy and matplotlib\n"
     ]
    }
   ],
   "source": [
    "%pylab inline --no-import-all"
   ]
  },
  {
   "cell_type": "markdown",
   "metadata": {},
   "source": [
    "# 4 Function minimization\n",
    "\n",
    "At this week's lecture we discussed how learning a set of parameters can be treated as the task of minimizing an error function. Scipy privides a number of ways of finding minima of functions. We'll test one of them."
   ]
  },
  {
   "cell_type": "code",
   "execution_count": 2,
   "metadata": {},
   "outputs": [],
   "source": [
    "import numpy\n",
    "from scipy.optimize import fmin_bfgs, fmin"
   ]
  },
  {
   "cell_type": "markdown",
   "metadata": {},
   "source": [
    "The function `fmin_bfgs` uses the method called \n",
    "[BFGS](https://en.wikipedia.org/wiki/Broyden%E2%80%93Fletcher%E2%80%93Goldfarb%E2%80%93Shanno_algorithm).\n",
    "We need to give it the following arguments:\n",
    "- f: the function to minimize\n",
    "- x0: the initial guess of the argument with respect to which we're minimizing\n",
    "- fprime: the first derivative of f. If we omit it, `fmin_bfgs` will use a numerical approximatiom\n",
    "\n",
    "For example, consider the following polynomial function: $f(x) = x^4 - 10x^3 + x^2 + x - 4$\n",
    "\n"
   ]
  },
  {
   "cell_type": "code",
   "execution_count": 3,
   "metadata": {},
   "outputs": [],
   "source": [
    "def f(x):\n",
    "    return x**4 - 10*x**3 + x**2 + x -4"
   ]
  },
  {
   "cell_type": "code",
   "execution_count": 4,
   "metadata": {},
   "outputs": [
    {
     "data": {
      "text/plain": [
       "[<matplotlib.lines.Line2D at 0x7f6113c3bba8>]"
      ]
     },
     "execution_count": 4,
     "metadata": {},
     "output_type": "execute_result"
    },
    {
     "data": {
      "image/png": "[encoded data removed]",
      "text/plain": [
       "<matplotlib.figure.Figure at 0x7f6113cc36d8>"
      ]
     },
     "metadata": {},
     "output_type": "display_data"
    }
   ],
   "source": [
    "x = numpy.linspace(-2,10,1000)\n",
    "pylab.plot(x,f(x))"
   ]
  },
  {
   "cell_type": "markdown",
   "metadata": {},
   "source": [
    "Let's find the minimum, using 0 as a starting point:"
   ]
  },
  {
   "cell_type": "code",
   "execution_count": 5,
   "metadata": {},
   "outputs": [
    {
     "name": "stdout",
     "output_type": "stream",
     "text": [
      "Optimization terminated successfully.\n",
      "         Current function value: -4.093250\n",
      "         Iterations: 5\n",
      "         Function evaluations: 24\n",
      "         Gradient evaluations: 8\n",
      "[-0.15101746]\n"
     ]
    }
   ],
   "source": [
    "print(fmin_bfgs(f, x0=0))"
   ]
  },
  {
   "cell_type": "markdown",
   "metadata": {},
   "source": [
    "We can suppress the messages using disp=False:"
   ]
  },
  {
   "cell_type": "code",
   "execution_count": 6,
   "metadata": {},
   "outputs": [
    {
     "name": "stdout",
     "output_type": "stream",
     "text": [
      "[-0.15101746]\n"
     ]
    }
   ],
   "source": [
    "print(fmin_bfgs(f, x0=0, disp=False))"
   ]
  },
  {
   "cell_type": "markdown",
   "metadata": {},
   "source": [
    "### Exercise 4.1\n",
    "Looks like we got stuck in a local miniumum. Print the values of the x where f(x) has a minimum findable from the following starting points: -2, 0, 2, 6, 10"
   ]
  },
  {
   "cell_type": "code",
   "execution_count": 7,
   "metadata": {},
   "outputs": [
    {
     "name": "stdout",
     "output_type": "stream",
     "text": [
      "Starting at -2 found minimum at [-0.15101775]\n",
      "Starting at 0 found minimum at [-0.15101746]\n",
      "Starting at 2 found minimum at [7.42815758]\n",
      "Starting at 6 found minimum at [7.42815774]\n",
      "Starting at 10 found minimum at [7.4281578]\n"
     ]
    }
   ],
   "source": [
    "# .............................\n",
    "for x0 in [-2, 0, 2, 6, 10]:\n",
    "    x_min = fmin_bfgs(f, x0=x0, disp=False)\n",
    "    print(\"Starting at {} found minimum at {}\".format(x0,x_min))"
   ]
  },
  {
   "cell_type": "markdown",
   "metadata": {},
   "source": [
    "\n",
    "We can also use `fmin_bfgs` to minimize functions which take vectors rather than single numbers. For example, let's find the $x_1$ and $x_2$ which minimize the function $g(\\mathbf{x}) = x_1^2 + x_2^2$ ."
   ]
  },
  {
   "cell_type": "code",
   "execution_count": 8,
   "metadata": {},
   "outputs": [
    {
     "name": "stdout",
     "output_type": "stream",
     "text": [
      "Starting at [-1 -1] found minimum at [-7.13245452e-09 -7.13245452e-09]\n",
      "Starting at [-1 -1] found minimum at [-1.07505143e-08 -1.07505143e-08]\n"
     ]
    }
   ],
   "source": [
    "def g(x):\n",
    "    return (x**2).sum()\n",
    "x0 = numpy.array([-1, -1])\n",
    "x1 = numpy.array([1,1])\n",
    "print(\"Starting at {} found minimum at {}\".format(x0, fmin_bfgs(g, x0=x0, disp=False)))\n",
    "print(\"Starting at {} found minimum at {}\".format(x0, fmin_bfgs(g, x0=x1, disp=False)))"
   ]
  },
  {
   "cell_type": "markdown",
   "metadata": {},
   "source": [
    "### Exercise 4.2\n",
    "\n",
    "In this exercise we will regress the fourth feature of the iris dataset agains the first three, using error function minimization. First prepare the data:"
   ]
  },
  {
   "cell_type": "code",
   "execution_count": 9,
   "metadata": {},
   "outputs": [],
   "source": [
    "from sklearn.datasets import load_iris\n",
    "from sklearn.model_selection import train_test_split\n",
    "iris = load_iris()\n",
    "X_train, X_val, y_train, y_val = train_test_split(iris.data[:,:3], \n",
    "                                                  iris.data[:,3], \n",
    "                                                  test_size=1/3, \n",
    "                                                  random_state=666)"
   ]
  },
  {
   "cell_type": "markdown",
   "metadata": {},
   "source": [
    "Now define the error function:"
   ]
  },
  {
   "cell_type": "code",
   "execution_count": 10,
   "metadata": {},
   "outputs": [],
   "source": [
    "def error(wb):\n",
    "    '''Returns the error as a function of intercept and coefficients'''\n",
    "    # We'll get the intercept as the fist element of wb, and the coefficients as the rest\n",
    "    b = wb[0]\n",
    "    w = wb[1:]\n",
    "    # complete the function by returning the sum squared error \n",
    "    # .........................................\n",
    "    return numpy.sum((X_train.dot(w)+b - y_train)**2)"
   ]
  },
  {
   "cell_type": "markdown",
   "metadata": {},
   "source": [
    "Let's define a starting point for the intercept and coefficients"
   ]
  },
  {
   "cell_type": "code",
   "execution_count": 11,
   "metadata": {},
   "outputs": [],
   "source": [
    "# First item is the intercept b, the rest the coefficients w\n",
    "wb0 = numpy.array([0.0, 0.0, 0.0, 0.0])\n",
    "#................................"
   ]
  },
  {
   "cell_type": "markdown",
   "metadata": {},
   "source": [
    "Now we are ready to find the values which minimize the error."
   ]
  },
  {
   "cell_type": "code",
   "execution_count": 13,
   "metadata": {},
   "outputs": [
    {
     "name": "stdout",
     "output_type": "stream",
     "text": [
      "Optimization terminated successfully.\n",
      "         Current function value: 2.860360\n",
      "         Iterations: 5\n",
      "         Function evaluations: 54\n",
      "         Gradient evaluations: 9\n",
      "[-0.27899144 -0.22846333  0.2540934   0.53891498]\n"
     ]
    }
   ],
   "source": [
    "wb_min = fmin_bfgs(error, x0=wb0)\n",
    "print(wb_min)"
   ]
  },
  {
   "cell_type": "markdown",
   "metadata": {},
   "source": [
    "### Exercise 5.3\n",
    "\n",
    "Let's check how well these parameters do on validation data, in terms of mean absolute error and r-squared. "
   ]
  },
  {
   "cell_type": "code",
   "execution_count": 15,
   "metadata": {},
   "outputs": [
    {
     "name": "stdout",
     "output_type": "stream",
     "text": [
      "0.167757997204\n",
      "0.914864382525\n"
     ]
    }
   ],
   "source": [
    "from sklearn.metrics import r2_score, mean_absolute_error\n",
    "# ..........................................\n",
    "\n",
    "y_val_pred = X_val.dot(wb_min[1:])+wb_min[0]\n",
    "print(mean_absolute_error(y_val, y_val_pred))\n",
    "print(r2_score(y_val, y_val_pred))"
   ]
  },
  {
   "cell_type": "markdown",
   "metadata": {},
   "source": [
    "### Exercise 4.4\n",
    "Let us compare these results with the classic implementation of linear regression"
   ]
  },
  {
   "cell_type": "code",
   "execution_count": 16,
   "metadata": {},
   "outputs": [
    {
     "name": "stdout",
     "output_type": "stream",
     "text": [
      "-0.278995856785 [-0.22846195  0.25409292  0.53891441]\n",
      "0.167758010212\n",
      "0.914864399764\n"
     ]
    }
   ],
   "source": [
    "from sklearn.linear_model import LinearRegression\n",
    "#.........................\n",
    "model = LinearRegression()\n",
    "model.fit(X_train, y_train)\n",
    "\n",
    "print(model.intercept_, model.coef_)\n",
    "# \n",
    "print(mean_absolute_error(y_val, model.predict(X_val)))\n",
    "print(r2_score(y_val, model.predict(X_val)))"
   ]
  },
  {
   "cell_type": "markdown",
   "metadata": {},
   "source": [
    "## Stochastic Gradient Descent\n",
    "\n",
    "Scikit learn provides two classes `SGDRegressor` and `SGDClassifier` which use stochastic gradient descent to carry out linear regression and classification respectively.\n",
    "\n",
    "These models are especially useful in these situations:\n",
    "- with very large datasets\n",
    "- with streaming data (they support online learning)\n",
    "- with datasets with sparse features\n",
    "\n",
    "SGD is sensitive to learning rate and the scale of the features. It's advisable to z-score the features, and to tune the learning rate."
   ]
  },
  {
   "cell_type": "code",
   "execution_count": 19,
   "metadata": {},
   "outputs": [],
   "source": [
    "from sklearn.linear_model import SGDRegressor\n",
    "from sklearn.preprocessing import StandardScaler"
   ]
  },
  {
   "cell_type": "markdown",
   "metadata": {},
   "source": [
    "We'll use the dataset of 50,000 songs. The prediction task is to guess the year the song was made based on 90 timbre features extracted from the audio. The year is in the first column."
   ]
  },
  {
   "cell_type": "code",
   "execution_count": 21,
   "metadata": {},
   "outputs": [],
   "source": [
    "songs = numpy.load(\"songs50k.npy\")\n",
    "X_train, X_val, y_train, y_val = train_test_split(songs[:,1:], songs[:,0], test_size=1/3, random_state=666)"
   ]
  },
  {
   "cell_type": "markdown",
   "metadata": {},
   "source": [
    "### Exercise 4.5\n",
    "\n",
    "Train and evaluate the SGD classifier on the songs dataset. Take the following steps:\n",
    "- z-score the training and validation features\n",
    "- find good settings for learning rate type and learning rate initial value.\n",
    "  - r-squared on validation data \n",
    "  - mean absolute error on validation data  "
   ]
  },
  {
   "cell_type": "code",
   "execution_count": 23,
   "metadata": {},
   "outputs": [
    {
     "name": "stdout",
     "output_type": "stream",
     "text": [
      "('constant', 1e-06, 1691.6939047040719, -25740.804940849972)\n",
      "('constant', 1e-05, 377.32239506868206, -1280.4988745664509)\n",
      "('constant', 0.0001, 6.7552439908788076, 0.20507505576959972)\n",
      "('constant', 0.001, 7.0750764405253479, 0.15984736302556612)\n",
      "('constant', 0.01, 90158067960.919235, -1.5148066821158011e+20)\n",
      "('constant', 0.1, 3375831007998.2964, -2.094275424205043e+23)\n",
      "('constant', 1, 36922938309950.508, -2.4835485588743885e+25)\n",
      "('optimal', 1e-06, 2175674618252.7292, -9.1619072805100201e+22)\n",
      "('optimal', 1e-05, 2175674618252.7292, -9.1619072805100201e+22)\n",
      "('optimal', 0.0001, 2175674618252.7292, -9.1619072805100201e+22)\n",
      "('optimal', 0.001, 2175674618252.7292, -9.1619072805100201e+22)\n",
      "('optimal', 0.01, 2175674618252.7292, -9.1619072805100201e+22)\n",
      "('optimal', 0.1, 2175674618252.7292, -9.1619072805100201e+22)\n",
      "('optimal', 1, 2175674618252.7292, -9.1619072805100201e+22)\n",
      "('invscaling', 1e-06, 1976.6342530096438, -35142.481969525528)\n",
      "('invscaling', 1e-05, 1790.3683811622066, -28831.300535871447)\n",
      "('invscaling', 0.0001, 665.28895242770341, -3981.0546188332687)\n",
      "('invscaling', 0.001, 6.9122748681064143, 0.17634949293650815)\n",
      "('invscaling', 0.01, 6.8830944511310097, 0.19277270571818739)\n",
      "('invscaling', 0.1, 9.8895674835951617, -0.70301046371337628)\n",
      "('invscaling', 1, 1500735465192.8347, -4.3048509040977104e+22)\n",
      "Best settings according to MAE ('constant', 0.0001, 6.7552439908788076, 0.20507505576959972)\n",
      "Best settings according to R2 ('constant', 0.0001, 6.7552439908788076, 0.20507505576959972)\n"
     ]
    }
   ],
   "source": [
    "# .........................................\n",
    "scaler = StandardScaler()\n",
    "X_train_z = scaler.fit_transform(X_train)\n",
    "X_val_z  =scaler.fit_transform(X_val)\n",
    "\n",
    "lr = [ 10 ** x for x in range(-6,1)]\n",
    "\n",
    "settings = []\n",
    "\n",
    "for learning_rate in ['constant', 'optimal', 'invscaling']:\n",
    "    for eta0 in lr:\n",
    "        model = SGDRegressor(learning_rate=learning_rate, eta0=eta0, random_state=666)\n",
    "        model.fit(X_train_z, y_train)\n",
    "        mae = mean_absolute_error(y_val, model.predict(X_val_z))\n",
    "        r2 =  r2_score(y_val, model.predict(X_val_z))\n",
    "        settings.append((learning_rate, eta0, mae, r2))\n",
    "        print(settings[-1])\n",
    "best_mae = min(settings, key=lambda x: x[-2])\n",
    "best_r2 =  max(settings, key=lambda x: x[-1])\n",
    "print(\"Best settings according to MAE {}\".format(best_mae))\n",
    "print(\"Best settings according to R2 {}\".format(best_r2))"
   ]
  },
  {
   "cell_type": "markdown",
   "metadata": {},
   "source": [
    "### Exercise 4.6\n",
    "\n",
    "By default SGDRegressor tries to minimize the standard linear regression error function, that is sum of squared error. However this can be changed, via the `loss=` parameter. When `loss='squared_loss'`, sum of squared errors will be used. Other error functions available include [Huber loss](https://en.wikipedia.org/wiki/Huber_loss) (`loss='huber'`). Compared to squared loss, huber focuses less on outliers.\n",
    "![](https://upload.wikimedia.org/wikipedia/commons/thumb/c/cc/Huber_loss.svg/600px-Huber_loss.svg.png)\n",
    "\n",
    "Repeat the steps from the previous exercise, but include the tuning of the loss function."
   ]
  },
  {
   "cell_type": "code",
   "execution_count": 18,
   "metadata": {},
   "outputs": [
    {
     "name": "stderr",
     "output_type": "stream",
     "text": [
      "/usr/lib/python3/dist-packages/sklearn/linear_model/stochastic_gradient.py:128: FutureWarning: max_iter and tol parameters have been added in <class 'sklearn.linear_model.stochastic_gradient.SGDRegressor'> in 0.19. If both are left unset, they default to max_iter=5 and tol=None. If tol is not None, max_iter defaults to max_iter=1000. From 0.21, default max_iter will be 1000, and default tol will be 1e-3.\n",
      "  \"and default tol will be 1e-3.\" % type(self), FutureWarning)\n"
     ]
    },
    {
     "name": "stdout",
     "output_type": "stream",
     "text": [
      "('constant', 1e-06, 'squared_loss', 1691.6939047040719, -25740.804940849972)\n",
      "('constant', 1e-05, 'squared_loss', 377.32239506868206, -1280.498874566451)\n",
      "('constant', 0.0001, 'squared_loss', 6.755243990878808, 0.20507505576959972)\n",
      "('constant', 0.001, 'squared_loss', 7.075076440525348, 0.15984736302556612)\n",
      "('constant', 0.01, 'squared_loss', 90158067960.91924, -1.514806682115801e+20)\n",
      "('constant', 0.1, 'squared_loss', 3375831007998.2964, -2.094275424205043e+23)\n",
      "('constant', 1, 'squared_loss', 36922938309950.51, -2.4835485588743885e+25)\n",
      "('constant', 1e-06, 'huber', 1998.4742436817962, -35923.35821099075)\n",
      "('constant', 1e-05, 'huber', 1998.3242451817932, -35917.96584966415)\n",
      "('constant', 0.0001, 'huber', 1996.8242601817703, -35864.064497347186)\n",
      "('constant', 0.001, 'huber', 1981.824410182078, -35327.27706924383)\n",
      "('constant', 0.01, 'huber', 1831.8259102310358, -30182.01248012661)\n",
      "('constant', 0.1, 'huber', 331.84091416308604, -990.5670872853742)\n",
      "('constant', 1, 'huber', 9.832523470409532, -0.6197692785961364)\n",
      "('optimal', 1e-06, 'squared_loss', 2175674618252.7292, -9.16190728051002e+22)\n",
      "('optimal', 1e-05, 'squared_loss', 2175674618252.7292, -9.16190728051002e+22)\n",
      "('optimal', 0.0001, 'squared_loss', 2175674618252.7292, -9.16190728051002e+22)\n",
      "('optimal', 0.001, 'squared_loss', 2175674618252.7292, -9.16190728051002e+22)\n",
      "('optimal', 0.01, 'squared_loss', 2175674618252.7292, -9.16190728051002e+22)\n",
      "('optimal', 0.1, 'squared_loss', 2175674618252.7292, -9.16190728051002e+22)\n",
      "('optimal', 1, 'squared_loss', 2175674618252.7292, -9.16190728051002e+22)\n",
      "('optimal', 1e-06, 'huber', 6.500724991366285, 0.15009706846473447)\n",
      "('optimal', 1e-05, 'huber', 6.500724991366285, 0.15009706846473447)\n",
      "('optimal', 0.0001, 'huber', 6.500724991366285, 0.15009706846473447)\n",
      "('optimal', 0.001, 'huber', 6.500724991366285, 0.15009706846473447)\n",
      "('optimal', 0.01, 'huber', 6.500724991366285, 0.15009706846473447)\n",
      "('optimal', 0.1, 'huber', 6.500724991366285, 0.15009706846473447)\n",
      "('optimal', 1, 'huber', 6.500724991366285, 0.15009706846473447)\n",
      "('invscaling', 1e-06, 'squared_loss', 1976.6342530096438, -35142.48196952553)\n",
      "('invscaling', 1e-05, 'squared_loss', 1790.3683811622066, -28831.300535871447)\n",
      "('invscaling', 0.0001, 'squared_loss', 665.2889524277034, -3981.0546188332687)\n",
      "('invscaling', 0.001, 'squared_loss', 6.912274868106414, 0.17634949293650815)\n",
      "('invscaling', 0.01, 'squared_loss', 6.88309445113101, 0.1927727057181874)\n",
      "('invscaling', 0.1, 'squared_loss', 9.889567483595162, -0.7030104637133763)\n",
      "('invscaling', 1, 'squared_loss', 1500735465192.8347, -4.30485090409771e+22)\n",
      "('invscaling', 1e-06, 'huber', 1998.4898104395422, -35923.91785062578)\n",
      "('invscaling', 1e-05, 'huber', 1998.4799127592553, -35923.56202213557)\n",
      "('invscaling', 0.0001, 'huber', 1998.3809359563868, -35920.00383417261)\n",
      "('invscaling', 0.001, 'huber', 1997.3911679277207, -35884.43164845599)\n",
      "('invscaling', 0.01, 'huber', 1987.4934876433915, -35529.67917850278)\n",
      "('invscaling', 0.1, 'huber', 1888.5166850203861, -32079.089594824043)\n",
      "('invscaling', 1, 'huber', 898.7486720050475, -7265.526262708986)\n",
      "Best settings according to MAE ('optimal', 1e-06, 'huber', 6.500724991366285, 0.15009706846473447)\n",
      "Best settings according to R2 ('constant', 0.0001, 'squared_loss', 6.755243990878808, 0.20507505576959972)\n"
     ]
    }
   ],
   "source": [
    "#................................................\n",
    "scaler = StandardScaler()\n",
    "X_train_z = scaler.fit_transform(X_train)\n",
    "X_val_z  =scaler.fit_transform(X_val)\n",
    "\n",
    "lr = [ 10 ** x for x in range(-6,1)]\n",
    "\n",
    "settings = []\n",
    "\n",
    "for learning_rate in ['constant', 'optimal', 'invscaling']:\n",
    "  for loss in ['squared_loss', 'huber']:\n",
    "    for eta0 in lr:\n",
    "        model = SGDRegressor(learning_rate=learning_rate, eta0=eta0, loss=loss, random_state=666)\n",
    "        model.fit(X_train_z, y_train)\n",
    "        mae = mean_absolute_error(y_val, model.predict(X_val_z))\n",
    "        r2 =  r2_score(y_val, model.predict(X_val_z))\n",
    "        settings.append((learning_rate, eta0, loss, mae, r2))\n",
    "        print(settings[-1])\n",
    "best_mae = min(settings, key=lambda x: x[-2])\n",
    "best_r2 =  max(settings, key=lambda x: x[-1])\n",
    "print(\"Best settings according to MAE {}\".format(best_mae))\n",
    "print(\"Best settings according to R2 {}\".format(best_r2))"
   ]
  },
  {
   "cell_type": "code",
   "execution_count": null,
   "metadata": {},
   "outputs": [],
   "source": []
  }
 ],
 "metadata": {
  "kernelspec": {
   "display_name": "Python 3",
   "language": "python",
   "name": "python3"
  },
  "language_info": {
   "codemirror_mode": {
    "name": "ipython",
    "version": 3
   },
   "file_extension": ".py",
   "mimetype": "text/x-python",
   "name": "python",
   "nbconvert_exporter": "python",
   "pygments_lexer": "ipython3",
   "version": "3.5.3"
  }
 },
 "nbformat": 4,
 "nbformat_minor": 1
}
